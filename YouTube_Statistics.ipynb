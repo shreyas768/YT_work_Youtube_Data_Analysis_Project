{
 "cells": [
  {
   "cell_type": "code",
   "execution_count": 1,
   "id": "742b3268",
   "metadata": {},
   "outputs": [],
   "source": [
    "import pandas as pd\n",
    "import plotly.graph_objects as go\n",
    "import plotly.express as px\n",
    "import warnings\n",
    "import matplotlib.pyplot as plt\n",
    "import seaborn as sns\n",
    "warnings.filterwarnings('ignore')"
   ]
  },
  {
   "cell_type": "code",
   "execution_count": 2,
   "id": "b1fe2a29",
   "metadata": {},
   "outputs": [],
   "source": [
    "df = pd.read_csv('Global YouTube Statistics.csv',encoding='latin-1')"
   ]
  },
  {
   "cell_type": "code",
   "execution_count": 3,
   "id": "01ed90d6",
   "metadata": {},
   "outputs": [
    {
     "data": {
      "text/html": [
       "<div>\n",
       "<style scoped>\n",
       "    .dataframe tbody tr th:only-of-type {\n",
       "        vertical-align: middle;\n",
       "    }\n",
       "\n",
       "    .dataframe tbody tr th {\n",
       "        vertical-align: top;\n",
       "    }\n",
       "\n",
       "    .dataframe thead th {\n",
       "        text-align: right;\n",
       "    }\n",
       "</style>\n",
       "<table border=\"1\" class=\"dataframe\">\n",
       "  <thead>\n",
       "    <tr style=\"text-align: right;\">\n",
       "      <th></th>\n",
       "      <th>rank</th>\n",
       "      <th>Youtuber</th>\n",
       "      <th>subscribers</th>\n",
       "      <th>video views</th>\n",
       "      <th>category</th>\n",
       "      <th>Title</th>\n",
       "      <th>uploads</th>\n",
       "      <th>Country</th>\n",
       "      <th>Abbreviation</th>\n",
       "      <th>channel_type</th>\n",
       "      <th>...</th>\n",
       "      <th>subscribers_for_last_30_days</th>\n",
       "      <th>created_year</th>\n",
       "      <th>created_month</th>\n",
       "      <th>created_date</th>\n",
       "      <th>Gross tertiary education enrollment (%)</th>\n",
       "      <th>Population</th>\n",
       "      <th>Unemployment rate</th>\n",
       "      <th>Urban_population</th>\n",
       "      <th>Latitude</th>\n",
       "      <th>Longitude</th>\n",
       "    </tr>\n",
       "  </thead>\n",
       "  <tbody>\n",
       "    <tr>\n",
       "      <th>0</th>\n",
       "      <td>1</td>\n",
       "      <td>T-Series</td>\n",
       "      <td>245000000</td>\n",
       "      <td>2.280000e+11</td>\n",
       "      <td>Music</td>\n",
       "      <td>T-Series</td>\n",
       "      <td>20082</td>\n",
       "      <td>India</td>\n",
       "      <td>IN</td>\n",
       "      <td>Music</td>\n",
       "      <td>...</td>\n",
       "      <td>2000000.0</td>\n",
       "      <td>2006.0</td>\n",
       "      <td>Mar</td>\n",
       "      <td>13.0</td>\n",
       "      <td>28.1</td>\n",
       "      <td>1.366418e+09</td>\n",
       "      <td>5.36</td>\n",
       "      <td>471031528.0</td>\n",
       "      <td>20.593684</td>\n",
       "      <td>78.962880</td>\n",
       "    </tr>\n",
       "    <tr>\n",
       "      <th>1</th>\n",
       "      <td>2</td>\n",
       "      <td>YouTube Movies</td>\n",
       "      <td>170000000</td>\n",
       "      <td>0.000000e+00</td>\n",
       "      <td>Film &amp; Animation</td>\n",
       "      <td>youtubemovies</td>\n",
       "      <td>1</td>\n",
       "      <td>United States</td>\n",
       "      <td>US</td>\n",
       "      <td>Games</td>\n",
       "      <td>...</td>\n",
       "      <td>NaN</td>\n",
       "      <td>2006.0</td>\n",
       "      <td>Mar</td>\n",
       "      <td>5.0</td>\n",
       "      <td>88.2</td>\n",
       "      <td>3.282395e+08</td>\n",
       "      <td>14.70</td>\n",
       "      <td>270663028.0</td>\n",
       "      <td>37.090240</td>\n",
       "      <td>-95.712891</td>\n",
       "    </tr>\n",
       "    <tr>\n",
       "      <th>2</th>\n",
       "      <td>3</td>\n",
       "      <td>MrBeast</td>\n",
       "      <td>166000000</td>\n",
       "      <td>2.836884e+10</td>\n",
       "      <td>Entertainment</td>\n",
       "      <td>MrBeast</td>\n",
       "      <td>741</td>\n",
       "      <td>United States</td>\n",
       "      <td>US</td>\n",
       "      <td>Entertainment</td>\n",
       "      <td>...</td>\n",
       "      <td>8000000.0</td>\n",
       "      <td>2012.0</td>\n",
       "      <td>Feb</td>\n",
       "      <td>20.0</td>\n",
       "      <td>88.2</td>\n",
       "      <td>3.282395e+08</td>\n",
       "      <td>14.70</td>\n",
       "      <td>270663028.0</td>\n",
       "      <td>37.090240</td>\n",
       "      <td>-95.712891</td>\n",
       "    </tr>\n",
       "    <tr>\n",
       "      <th>3</th>\n",
       "      <td>4</td>\n",
       "      <td>Cocomelon - Nursery Rhymes</td>\n",
       "      <td>162000000</td>\n",
       "      <td>1.640000e+11</td>\n",
       "      <td>Education</td>\n",
       "      <td>Cocomelon - Nursery Rhymes</td>\n",
       "      <td>966</td>\n",
       "      <td>United States</td>\n",
       "      <td>US</td>\n",
       "      <td>Education</td>\n",
       "      <td>...</td>\n",
       "      <td>1000000.0</td>\n",
       "      <td>2006.0</td>\n",
       "      <td>Sep</td>\n",
       "      <td>1.0</td>\n",
       "      <td>88.2</td>\n",
       "      <td>3.282395e+08</td>\n",
       "      <td>14.70</td>\n",
       "      <td>270663028.0</td>\n",
       "      <td>37.090240</td>\n",
       "      <td>-95.712891</td>\n",
       "    </tr>\n",
       "    <tr>\n",
       "      <th>4</th>\n",
       "      <td>5</td>\n",
       "      <td>SET India</td>\n",
       "      <td>159000000</td>\n",
       "      <td>1.480000e+11</td>\n",
       "      <td>Shows</td>\n",
       "      <td>SET India</td>\n",
       "      <td>116536</td>\n",
       "      <td>India</td>\n",
       "      <td>IN</td>\n",
       "      <td>Entertainment</td>\n",
       "      <td>...</td>\n",
       "      <td>1000000.0</td>\n",
       "      <td>2006.0</td>\n",
       "      <td>Sep</td>\n",
       "      <td>20.0</td>\n",
       "      <td>28.1</td>\n",
       "      <td>1.366418e+09</td>\n",
       "      <td>5.36</td>\n",
       "      <td>471031528.0</td>\n",
       "      <td>20.593684</td>\n",
       "      <td>78.962880</td>\n",
       "    </tr>\n",
       "  </tbody>\n",
       "</table>\n",
       "<p>5 rows × 28 columns</p>\n",
       "</div>"
      ],
      "text/plain": [
       "   rank                    Youtuber  subscribers   video views  \\\n",
       "0     1                    T-Series    245000000  2.280000e+11   \n",
       "1     2              YouTube Movies    170000000  0.000000e+00   \n",
       "2     3                     MrBeast    166000000  2.836884e+10   \n",
       "3     4  Cocomelon - Nursery Rhymes    162000000  1.640000e+11   \n",
       "4     5                   SET India    159000000  1.480000e+11   \n",
       "\n",
       "           category                       Title  uploads        Country  \\\n",
       "0             Music                    T-Series    20082          India   \n",
       "1  Film & Animation               youtubemovies        1  United States   \n",
       "2     Entertainment                     MrBeast      741  United States   \n",
       "3         Education  Cocomelon - Nursery Rhymes      966  United States   \n",
       "4             Shows                   SET India   116536          India   \n",
       "\n",
       "  Abbreviation   channel_type  ...  subscribers_for_last_30_days  \\\n",
       "0           IN          Music  ...                     2000000.0   \n",
       "1           US          Games  ...                           NaN   \n",
       "2           US  Entertainment  ...                     8000000.0   \n",
       "3           US      Education  ...                     1000000.0   \n",
       "4           IN  Entertainment  ...                     1000000.0   \n",
       "\n",
       "   created_year  created_month  created_date  \\\n",
       "0        2006.0            Mar          13.0   \n",
       "1        2006.0            Mar           5.0   \n",
       "2        2012.0            Feb          20.0   \n",
       "3        2006.0            Sep           1.0   \n",
       "4        2006.0            Sep          20.0   \n",
       "\n",
       "   Gross tertiary education enrollment (%)    Population  Unemployment rate  \\\n",
       "0                                     28.1  1.366418e+09               5.36   \n",
       "1                                     88.2  3.282395e+08              14.70   \n",
       "2                                     88.2  3.282395e+08              14.70   \n",
       "3                                     88.2  3.282395e+08              14.70   \n",
       "4                                     28.1  1.366418e+09               5.36   \n",
       "\n",
       "   Urban_population   Latitude  Longitude  \n",
       "0       471031528.0  20.593684  78.962880  \n",
       "1       270663028.0  37.090240 -95.712891  \n",
       "2       270663028.0  37.090240 -95.712891  \n",
       "3       270663028.0  37.090240 -95.712891  \n",
       "4       471031528.0  20.593684  78.962880  \n",
       "\n",
       "[5 rows x 28 columns]"
      ]
     },
     "execution_count": 3,
     "metadata": {},
     "output_type": "execute_result"
    }
   ],
   "source": [
    "df.head()"
   ]
  },
  {
   "cell_type": "code",
   "execution_count": 4,
   "id": "1dc621f7",
   "metadata": {},
   "outputs": [
    {
     "name": "stdout",
     "output_type": "stream",
     "text": [
      "<class 'pandas.core.frame.DataFrame'>\n",
      "RangeIndex: 995 entries, 0 to 994\n",
      "Data columns (total 28 columns):\n",
      " #   Column                                   Non-Null Count  Dtype  \n",
      "---  ------                                   --------------  -----  \n",
      " 0   rank                                     995 non-null    int64  \n",
      " 1   Youtuber                                 995 non-null    object \n",
      " 2   subscribers                              995 non-null    int64  \n",
      " 3   video views                              995 non-null    float64\n",
      " 4   category                                 949 non-null    object \n",
      " 5   Title                                    995 non-null    object \n",
      " 6   uploads                                  995 non-null    int64  \n",
      " 7   Country                                  873 non-null    object \n",
      " 8   Abbreviation                             873 non-null    object \n",
      " 9   channel_type                             965 non-null    object \n",
      " 10  video_views_rank                         994 non-null    float64\n",
      " 11  country_rank                             879 non-null    float64\n",
      " 12  channel_type_rank                        962 non-null    float64\n",
      " 13  video_views_for_the_last_30_days         939 non-null    float64\n",
      " 14  lowest_monthly_earnings                  995 non-null    float64\n",
      " 15  highest_monthly_earnings                 995 non-null    float64\n",
      " 16  lowest_yearly_earnings                   995 non-null    float64\n",
      " 17  highest_yearly_earnings                  995 non-null    float64\n",
      " 18  subscribers_for_last_30_days             658 non-null    float64\n",
      " 19  created_year                             990 non-null    float64\n",
      " 20  created_month                            990 non-null    object \n",
      " 21  created_date                             990 non-null    float64\n",
      " 22  Gross tertiary education enrollment (%)  872 non-null    float64\n",
      " 23  Population                               872 non-null    float64\n",
      " 24  Unemployment rate                        872 non-null    float64\n",
      " 25  Urban_population                         872 non-null    float64\n",
      " 26  Latitude                                 872 non-null    float64\n",
      " 27  Longitude                                872 non-null    float64\n",
      "dtypes: float64(18), int64(3), object(7)\n",
      "memory usage: 217.8+ KB\n"
     ]
    }
   ],
   "source": [
    "df.info()"
   ]
  },
  {
   "cell_type": "markdown",
   "id": "dc0f1e7f",
   "metadata": {},
   "source": [
    "Column Details\n",
    "* rank: Position of the YouTube channel based on the number of subscribers\n",
    "* Youtuber: Name of the YouTube channel\n",
    "* subscribers: Number of subscribers to the channel\n",
    "* video views: Total views across all videos on the channel\n",
    "* category: Category or niche of the channel\n",
    "* Title: Title of the YouTube channel\n",
    "* uploads: Total number of videos uploaded on the channel\n",
    "* Country: Country where the YouTube channel originates\n",
    "* Abbreviation: Abbreviation of the country\n",
    "* channel_type: Type of the YouTube channel (e.g., individual, brand)\n",
    "* video_views_rank: Ranking of the channel based on total video views\n",
    "* country_rank: Ranking of the channel based on the number of subscribers within its country\n",
    "* channel_type_rank: Ranking of the channel based on its type (individual or brand)\n",
    "* video_views_for_the_last_30_days: Total video views in the last 30 days\n",
    "* lowest_monthly_earnings: Lowest estimated monthly earnings from the channel\n",
    "* highest_monthly_earnings: Highest estimated monthly earnings from the channel\n",
    "* lowest_yearly_earnings: Lowest estimated yearly earnings from the channel\n",
    "* highest_yearly_earnings: Highest estimated yearly earnings from the channel\n",
    "* subscribers_for_last_30_days: Number of new subscribers gained in the last 30 days\n",
    "* created_year: Year when the YouTube channel was created\n",
    "* created_month: Month when the YouTube channel was created\n",
    "* created_date: Exact date of the YouTube channel's creation\n",
    "* Gross tertiary education enrollment (%): Percentage of the population enrolled in tertiary education in the country\n",
    "* Population: Total population of the country\n",
    "* Unemployment rate: Unemployment rate in the country\n",
    "* Urban_population: Percentage of the population living in urban areas\n",
    "* Latitude: Latitude coordinate of the country's location\n",
    "* Longitude: Longitude coordinate of the country's location"
   ]
  },
  {
   "cell_type": "code",
   "execution_count": 5,
   "id": "dd9a4a5f",
   "metadata": {},
   "outputs": [],
   "source": [
    "df_cleaned = df.replace('nan',pd.NA)"
   ]
  },
  {
   "cell_type": "code",
   "execution_count": 6,
   "id": "7be77cb0",
   "metadata": {},
   "outputs": [
    {
     "data": {
      "text/plain": [
       "rank                                         0\n",
       "Youtuber                                     0\n",
       "subscribers                                  0\n",
       "video views                                  0\n",
       "category                                    46\n",
       "Title                                        0\n",
       "uploads                                      0\n",
       "Country                                    122\n",
       "Abbreviation                               122\n",
       "channel_type                                30\n",
       "video_views_rank                             1\n",
       "country_rank                               116\n",
       "channel_type_rank                           33\n",
       "video_views_for_the_last_30_days            56\n",
       "lowest_monthly_earnings                      0\n",
       "highest_monthly_earnings                     0\n",
       "lowest_yearly_earnings                       0\n",
       "highest_yearly_earnings                      0\n",
       "subscribers_for_last_30_days               337\n",
       "created_year                                 5\n",
       "created_month                                5\n",
       "created_date                                 5\n",
       "Gross tertiary education enrollment (%)    123\n",
       "Population                                 123\n",
       "Unemployment rate                          123\n",
       "Urban_population                           123\n",
       "Latitude                                   123\n",
       "Longitude                                  123\n",
       "dtype: int64"
      ]
     },
     "execution_count": 6,
     "metadata": {},
     "output_type": "execute_result"
    }
   ],
   "source": [
    "df_cleaned.isna().sum()"
   ]
  },
  {
   "cell_type": "code",
   "execution_count": 7,
   "id": "b156c868",
   "metadata": {},
   "outputs": [
    {
     "name": "stdout",
     "output_type": "stream",
     "text": [
      "<class 'pandas.core.frame.DataFrame'>\n",
      "RangeIndex: 995 entries, 0 to 994\n",
      "Data columns (total 28 columns):\n",
      " #   Column                                   Non-Null Count  Dtype  \n",
      "---  ------                                   --------------  -----  \n",
      " 0   rank                                     995 non-null    int64  \n",
      " 1   Youtuber                                 995 non-null    object \n",
      " 2   subscribers                              995 non-null    int64  \n",
      " 3   video views                              995 non-null    float64\n",
      " 4   category                                 949 non-null    object \n",
      " 5   Title                                    995 non-null    object \n",
      " 6   uploads                                  995 non-null    int64  \n",
      " 7   Country                                  873 non-null    object \n",
      " 8   Abbreviation                             873 non-null    object \n",
      " 9   channel_type                             965 non-null    object \n",
      " 10  video_views_rank                         994 non-null    float64\n",
      " 11  country_rank                             879 non-null    float64\n",
      " 12  channel_type_rank                        962 non-null    float64\n",
      " 13  video_views_for_the_last_30_days         939 non-null    float64\n",
      " 14  lowest_monthly_earnings                  995 non-null    float64\n",
      " 15  highest_monthly_earnings                 995 non-null    float64\n",
      " 16  lowest_yearly_earnings                   995 non-null    float64\n",
      " 17  highest_yearly_earnings                  995 non-null    float64\n",
      " 18  subscribers_for_last_30_days             658 non-null    float64\n",
      " 19  created_year                             990 non-null    float64\n",
      " 20  created_month                            990 non-null    object \n",
      " 21  created_date                             990 non-null    float64\n",
      " 22  Gross tertiary education enrollment (%)  872 non-null    float64\n",
      " 23  Population                               872 non-null    float64\n",
      " 24  Unemployment rate                        872 non-null    float64\n",
      " 25  Urban_population                         872 non-null    float64\n",
      " 26  Latitude                                 872 non-null    float64\n",
      " 27  Longitude                                872 non-null    float64\n",
      "dtypes: float64(18), int64(3), object(7)\n",
      "memory usage: 217.8+ KB\n"
     ]
    }
   ],
   "source": [
    "df_cleaned.info()"
   ]
  },
  {
   "cell_type": "code",
   "execution_count": 8,
   "id": "b1836028",
   "metadata": {},
   "outputs": [
    {
     "data": {
      "text/plain": [
       "Index(['rank', 'Youtuber', 'subscribers', 'video views', 'category', 'Title',\n",
       "       'uploads', 'Country', 'Abbreviation', 'channel_type',\n",
       "       'video_views_rank', 'country_rank', 'channel_type_rank',\n",
       "       'video_views_for_the_last_30_days', 'lowest_monthly_earnings',\n",
       "       'highest_monthly_earnings', 'lowest_yearly_earnings',\n",
       "       'highest_yearly_earnings', 'subscribers_for_last_30_days',\n",
       "       'created_year', 'created_month', 'created_date',\n",
       "       'Gross tertiary education enrollment (%)', 'Population',\n",
       "       'Unemployment rate', 'Urban_population', 'Latitude', 'Longitude'],\n",
       "      dtype='object')"
      ]
     },
     "execution_count": 8,
     "metadata": {},
     "output_type": "execute_result"
    }
   ],
   "source": [
    "df_cleaned.columns"
   ]
  },
  {
   "cell_type": "code",
   "execution_count": 9,
   "id": "056323c7",
   "metadata": {},
   "outputs": [],
   "source": [
    "numeric_columns  = ['rank', 'subscribers', 'video views',\n",
    "                    'video_views_for_the_last_30_days', 'lowest_monthly_earnings',\n",
    "       'highest_monthly_earnings', 'lowest_yearly_earnings',\n",
    "       'highest_yearly_earnings', 'subscribers_for_last_30_days',\n",
    "       'created_year', \n",
    "       \n",
    "       'Unemployment rate']"
   ]
  },
  {
   "cell_type": "code",
   "execution_count": 10,
   "id": "d8396c7c",
   "metadata": {},
   "outputs": [],
   "source": [
    "for col in numeric_columns:\n",
    "    df_cleaned[col] = pd.to_numeric(df_cleaned[col],errors='coerce')"
   ]
  },
  {
   "cell_type": "code",
   "execution_count": 11,
   "id": "a8b17c2d",
   "metadata": {},
   "outputs": [],
   "source": [
    "df_cleaned = df_cleaned.dropna()"
   ]
  },
  {
   "cell_type": "code",
   "execution_count": 12,
   "id": "a74dea3b",
   "metadata": {},
   "outputs": [
    {
     "data": {
      "image/png": "[encoded data removed]",
      "text/plain": [
       "<Figure size 1200x600 with 1 Axes>"
      ]
     },
     "metadata": {},
     "output_type": "display_data"
    }
   ],
   "source": [
    "top_10_subscribers = df_cleaned.nlargest(10,'subscribers')\n",
    "\n",
    "plt.figure(figsize=(12,6))\n",
    "sns.barplot(data=top_10_subscribers,\n",
    "           x = 'subscribers',\n",
    "           y= 'Youtuber',\n",
    "           palette='Set1')\n",
    "\n",
    "plt.title('Top 10 YT channels by subscribers')\n",
    "plt.xlabel('Subscribers')\n",
    "plt.ylabel('YT channel')\n",
    "plt.show()"
   ]
  },
  {
   "cell_type": "code",
   "execution_count": 14,
   "id": "83f2d7e6",
   "metadata": {},
   "outputs": [
    {
     "data": {
      "text/plain": [
       "Index(['rank', 'Youtuber', 'subscribers', 'video views', 'category', 'Title',\n",
       "       'uploads', 'Country', 'Abbreviation', 'channel_type',\n",
       "       'video_views_rank', 'country_rank', 'channel_type_rank',\n",
       "       'video_views_for_the_last_30_days', 'lowest_monthly_earnings',\n",
       "       'highest_monthly_earnings', 'lowest_yearly_earnings',\n",
       "       'highest_yearly_earnings', 'subscribers_for_last_30_days',\n",
       "       'created_year', 'created_month', 'created_date',\n",
       "       'Gross tertiary education enrollment (%)', 'Population',\n",
       "       'Unemployment rate', 'Urban_population', 'Latitude', 'Longitude'],\n",
       "      dtype='object')"
      ]
     },
     "execution_count": 14,
     "metadata": {},
     "output_type": "execute_result"
    }
   ],
   "source": [
    "df_cleaned.columns"
   ]
  },
  {
   "cell_type": "code",
   "execution_count": 19,
   "id": "99a9466a",
   "metadata": {},
   "outputs": [
    {
     "data": {
      "application/vnd.plotly.v1+json": {
       "config": {
        "plotlyServerURL": "https://plot.ly"
       },
       "data": [
        {
         "customdata": [
          [
           "India"
          ],
          [
           "India"
          ],
          [
           "South Korea"
          ],
          [
           "Canada"
          ],
          [
           "South Korea"
          ],
          [
           "India"
          ],
          [
           "India"
          ],
          [
           "Argentina"
          ],
          [
           "India"
          ],
          [
           "India"
          ],
          [
           "United States"
          ],
          [
           "United Kingdom"
          ],
          [
           "United States"
          ],
          [
           "United States"
          ],
          [
           "United States"
          ],
          [
           "United States"
          ],
          [
           "United States"
          ],
          [
           "India"
          ],
          [
           "United States"
          ],
          [
           "Brazil"
          ],
          [
           "India"
          ],
          [
           "United States"
          ],
          [
           "United States"
          ],
          [
           "United States"
          ],
          [
           "Argentina"
          ],
          [
           "India"
          ],
          [
           "India"
          ],
          [
           "Colombia"
          ],
          [
           "India"
          ],
          [
           "United States"
          ],
          [
           "Canada"
          ],
          [
           "Colombia"
          ],
          [
           "India"
          ],
          [
           "United States"
          ],
          [
           "United Kingdom"
          ],
          [
           "Netherlands"
          ],
          [
           "United States"
          ],
          [
           "Colombia"
          ],
          [
           "United States"
          ],
          [
           "South Korea"
          ],
          [
           "Indonesia"
          ],
          [
           "United States"
          ],
          [
           "United States"
          ],
          [
           "United States"
          ],
          [
           "United States"
          ],
          [
           "United Kingdom"
          ],
          [
           "Colombia"
          ],
          [
           "United States"
          ],
          [
           "United States"
          ],
          [
           "Turkey"
          ],
          [
           "United States"
          ],
          [
           "India"
          ],
          [
           "India"
          ],
          [
           "Jordan"
          ],
          [
           "United States"
          ],
          [
           "United States"
          ],
          [
           "United Kingdom"
          ],
          [
           "India"
          ],
          [
           "United States"
          ],
          [
           "India"
          ],
          [
           "United States"
          ],
          [
           "Brazil"
          ],
          [
           "United Kingdom"
          ],
          [
           "United States"
          ],
          [
           "Thailand"
          ],
          [
           "Brazil"
          ],
          [
           "Thailand"
          ],
          [
           "United States"
          ],
          [
           "United States"
          ],
          [
           "United Kingdom"
          ],
          [
           "India"
          ],
          [
           "India"
          ],
          [
           "United States"
          ],
          [
           "Vietnam"
          ],
          [
           "France"
          ],
          [
           "Brazil"
          ],
          [
           "Colombia"
          ],
          [
           "India"
          ],
          [
           "India"
          ],
          [
           "Saudi Arabia"
          ],
          [
           "Thailand"
          ],
          [
           "United States"
          ],
          [
           "India"
          ],
          [
           "United Kingdom"
          ],
          [
           "India"
          ],
          [
           "United States"
          ],
          [
           "United States"
          ],
          [
           "Brazil"
          ],
          [
           "Brazil"
          ],
          [
           "India"
          ],
          [
           "United States"
          ],
          [
           "India"
          ],
          [
           "Australia"
          ],
          [
           "United States"
          ],
          [
           "Spain"
          ],
          [
           "United States"
          ],
          [
           "India"
          ],
          [
           "United States"
          ],
          [
           "United Kingdom"
          ],
          [
           "Colombia"
          ],
          [
           "India"
          ],
          [
           "Samoa"
          ],
          [
           "France"
          ],
          [
           "United States"
          ],
          [
           "United States"
          ],
          [
           "Spain"
          ],
          [
           "United States"
          ],
          [
           "Mexico"
          ],
          [
           "Brazil"
          ],
          [
           "United States"
          ]
         ],
         "hovertemplate": "<b>%{hovertext}</b><br><br>category=Music<br>subscribers=%{x}<br>video views=%{y}<br>video_views_for_the_last_30_days=%{marker.size}<br>Country=%{customdata[0]}<extra></extra>",
         "hovertext": [
          "T-Series",
          "Zee Music Company",
          "BANGTANTV",
          "Justin Bieber",
          "HYBE LABELS",
          "Shemaroo Filmi Gaane",
          "Tips Official",
          "El Reino Infantil",
          "Wave Music",
          "Sony Music India",
          "EminemMusic",
          "Ed Sheeran",
          "Taylor Swift",
          "Ariana Grande",
          "Billie Eilish",
          "SonyMusicIndiaVEVO",
          "Katy Perry",
          "Speed Records",
          "XXXTENTACION",
          "GR6 EXPLODE",
          "Goldmines Gaane Sune Ansune",
          "One Direction",
          "Daddy Yankee",
          "Bruno Mars",
          "La Granja de Zenï¿½",
          "T-Series Bollywood Classics",
          "Geet MP3",
          "J Balvin",
          "Rajshri",
          "DisneyMusicVEVO",
          "The Weeknd",
          "KAROL G",
          "Worldwide Records Bhojpuri",
          "ImagineDragons",
          "Adele",
          "Spinnin' Records",
          "Michael Jackson",
          "toycantando",
          "Wiz Khalifa",
          "JYP Entertainment",
          "Indosiar",
          "David Guetta",
          "Nicki Minaj",
          "TaylorSwiftVEVO",
          "Post Malone",
          "Coldplay",
          "Anuel AA",
          "EminemVEVO",
          "KatyPerryVEVO",
          "netd mï¿½ï¿",
          "Enrique Iglesias",
          "Wave Music Bhojpuri",
          "unknown boy varun",
          "toyorbabytv",
          "The Chainsmokers",
          "Charlie Puth",
          "Dua Lipa",
          "Sidhu Moose Wala",
          "Becky G",
          "Emiway Bantai",
          "7clouds",
          "Gusttavo Lima Oficial",
          "Calvin Harris",
          "Farruko",
          "GRAMMY GOLD OFFICIAL",
          "Dan-Sa / Daniel Saboya",
          "RsiamMusic : ï¿½ï¿½ï¿½ï¿½ï¿½ï¿½ï¿½ï¿½",
          "SonyMusicSouthVEVO",
          "Jason Derulo",
          "Queen Official",
          "Pop Chartbusters",
          "Lahari Music - TSeries",
          "Camila Cabello",
          "POPS Kids",
          "FitDance",
          "MK MUSIC",
          "Camilo",
          "DM - Desi Melodies",
          "Zee Music Classic",
          "Katakit Baby TV",
          "Genierock",
          "zayn",
          "SRK MUSIC",
          "AdeleVEVO",
          "Sony Music South",
          "50 Cent",
          "melanie martinez",
          "Camila Loures",
          "O Reino Infantil",
          "Aadishakti Films",
          "Coke Studio",
          "Neha Kakkar",
          "Trap City",
          "Lana Del Rey",
          "Luli Pampï¿½",
          "Atlantic Records",
          "Think Music India",
          "Lindsey Stirling",
          "Awakening Music",
          "Codiscos",
          "Lokdhun Punjabi",
          "DJ Khaled",
          "Lofi Girl",
          "Akon",
          "EnriqueIglesiasVEVO",
          "Duo Tiempo De Sol",
          "Future",
          "elcarteldesantatv",
          "Mundo Bita",
          "Migos ATL"
         ],
         "legendgroup": "Music",
         "marker": {
          "color": "rgb(102,194,165)",
          "size": [
           2258000000,
           803613000,
           168290000,
           176326000,
           598173000,
           254961000,
           422634000,
           611828000,
           232025000,
           259310000,
           260193000,
           202720000,
           528392000,
           160216000,
           146862000,
           314505000,
           134242000,
           159757000,
           58362000,
           1635000000,
           814756000,
           6348,
           205594000,
           175243000,
           302071000,
           331474000,
           101357000,
           128696000,
           272255000,
           329861000,
           373828000,
           465647000,
           112648000,
           188837000,
           137099000,
           100040000,
           158591000,
           173836000,
           90450000,
           307631000,
           230183000,
           164215000,
           103631000,
           318593000,
           195499000,
           198875000,
           284144000,
           139443000,
           88940000,
           424815000,
           122914000,
           52678000,
           304021000,
           169056000,
           81660000,
           111500000,
           128047000,
           160690000,
           103171000,
           41289000,
           276751000,
           214803000,
           102410000,
           97758000,
           168597000,
           6148000000,
           54133000,
           257597000,
           447891000,
           93768000,
           72911000,
           89012000,
           42704000,
           256733000,
           780,
           136388000,
           59890000,
           141842000,
           86450000,
           90914000,
           82798000,
           36790000,
           57809000,
           84750000,
           242185000,
           119812000,
           56358000,
           40975000,
           109865000,
           48447000,
           3557000,
           25605000,
           147,
           135563000,
           201659000,
           97284000,
           217106000,
           15277000,
           35309000,
           228902000,
           34438000,
           379,
           30471000,
           91240000,
           75773000,
           53988000,
           472367,
           115881000,
           213700000,
           49412000
          ],
          "sizemode": "area",
          "sizeref": 4118125,
          "symbol": "circle"
         },
         "mode": "markers",
         "name": "Music",
         "orientation": "v",
         "showlegend": true,
         "type": "scatter",
         "x": [
          245000000,
          96700000,
          75600000,
          71600000,
          71300000,
          65600000,
          59300000,
          58400000,
          58000000,
          57200000,
          56900000,
          53500000,
          52900000,
          52700000,
          47900000,
          46600000,
          44200000,
          42500000,
          39200000,
          38900000,
          38300000,
          38200000,
          38000000,
          36700000,
          35700000,
          35400000,
          34300000,
          34100000,
          33500000,
          32700000,
          32600000,
          32100000,
          31700000,
          30700000,
          30200000,
          30100000,
          28200000,
          27700000,
          27500000,
          27400000,
          25900000,
          25700000,
          25700000,
          25600000,
          25500000,
          25300000,
          25000000,
          24700000,
          24600000,
          24100000,
          23800000,
          23100000,
          23100000,
          22900000,
          22600000,
          22000000,
          21800000,
          21400000,
          21300000,
          20400000,
          20100000,
          19900000,
          19000000,
          18800000,
          18600000,
          18500000,
          18400000,
          18000000,
          17900000,
          17000000,
          16900000,
          16600000,
          16300000,
          16200000,
          16100000,
          15900000,
          15900000,
          15700000,
          15700000,
          15500000,
          15400000,
          15400000,
          15200000,
          15100000,
          15000000,
          14900000,
          14900000,
          14700000,
          14600000,
          14500000,
          14400000,
          14100000,
          14100000,
          14100000,
          14000000,
          13900000,
          13800000,
          13600000,
          13500000,
          13400000,
          13100000,
          13100000,
          13000000,
          12900000,
          12900000,
          12800000,
          12700000,
          12500000,
          12500000,
          12400000
         ],
         "xaxis": "x",
         "y": [
          228000000000,
          57856289381,
          20826993957,
          30608119724,
          28634566938,
          28648024439,
          33431802698,
          57271630846,
          40602020243,
          28837144516,
          27073872856,
          30367676736,
          29884657286,
          24004842608,
          13626331061,
          27286058807,
          25458952022,
          26820902622,
          10507474316,
          25154232306,
          16718192386,
          13598903820,
          22731415608,
          19378155425,
          27118354077,
          22637783517,
          12746535822,
          23005313609,
          14864294792,
          28516250629,
          23379969006,
          18699145555,
          16476978876,
          16793072362,
          14199108016,
          19607009165,
          14412474625,
          15777682516,
          13379395501,
          19883150017,
          11372071889,
          17793809548,
          10242981063,
          25592378292,
          14401218086,
          17331663193,
          14827085149,
          20531704527,
          23755792542,
          56106087508,
          17688774915,
          12889240875,
          9299371231,
          16298342829,
          14231943358,
          9924807127,
          11288359365,
          6264261757,
          10644857969,
          3579555124,
          14816075927,
          13917423958,
          16014044618,
          9573641299,
          20196704276,
          2908120896,
          11544297793,
          17921124985,
          9887116267,
          10847948832,
          8684010451,
          11946217860,
          6613422635,
          9763592867,
          7126210721,
          9198986881,
          6802382479,
          5914071870,
          5558051295,
          6386271870,
          14564170905,
          4909687948,
          6391679636,
          12413869881,
          9978734160,
          10069000444,
          4395184343,
          4684983333,
          11182302317,
          6290721701,
          4035738731,
          2131548711,
          5129529846,
          6884215292,
          8623705301,
          12513842343,
          11039343563,
          3764608356,
          5545936485,
          11789678655,
          4712624489,
          6637820731,
          1698279553,
          6300933122,
          15446707595,
          6662288136,
          9927699419,
          7489455451,
          16690788752,
          6993406259
         ],
         "yaxis": "y"
        },
        {
         "customdata": [
          [
           "United States"
          ],
          [
           "United States"
          ],
          [
           "India"
          ],
          [
           "United States"
          ],
          [
           "Russia"
          ],
          [
           "India"
          ],
          [
           "India"
          ],
          [
           "Brazil"
          ],
          [
           "Brazil"
          ],
          [
           "Pakistan"
          ],
          [
           "Pakistan"
          ],
          [
           "Barbados"
          ],
          [
           "Thailand"
          ],
          [
           "United States"
          ],
          [
           "Thailand"
          ],
          [
           "India"
          ],
          [
           "United States"
          ],
          [
           "Indonesia"
          ],
          [
           "Thailand"
          ],
          [
           "India"
          ],
          [
           "India"
          ],
          [
           "Philippines"
          ],
          [
           "United States"
          ],
          [
           "United States"
          ],
          [
           "Argentina"
          ],
          [
           "Jordan"
          ],
          [
           "United States"
          ],
          [
           "Pakistan"
          ],
          [
           "India"
          ],
          [
           "India"
          ],
          [
           "India"
          ],
          [
           "Brazil"
          ],
          [
           "United States"
          ],
          [
           "Italy"
          ],
          [
           "Japan"
          ],
          [
           "Indonesia"
          ],
          [
           "United Kingdom"
          ],
          [
           "United States"
          ],
          [
           "United States"
          ],
          [
           "Mexico"
          ],
          [
           "United States"
          ],
          [
           "Mexico"
          ],
          [
           "United States"
          ],
          [
           "United States"
          ],
          [
           "Germany"
          ],
          [
           "Argentina"
          ],
          [
           "India"
          ],
          [
           "United States"
          ],
          [
           "Japan"
          ],
          [
           "United States"
          ],
          [
           "India"
          ],
          [
           "India"
          ],
          [
           "Philippines"
          ],
          [
           "Brazil"
          ],
          [
           "United States"
          ],
          [
           "Brazil"
          ],
          [
           "United States"
          ],
          [
           "Indonesia"
          ],
          [
           "South Korea"
          ],
          [
           "United States"
          ],
          [
           "India"
          ],
          [
           "United Kingdom"
          ],
          [
           "Colombia"
          ],
          [
           "United States"
          ],
          [
           "United States"
          ],
          [
           "United Kingdom"
          ],
          [
           "United Kingdom"
          ],
          [
           "Turkey"
          ],
          [
           "India"
          ],
          [
           "India"
          ],
          [
           "India"
          ],
          [
           "United Kingdom"
          ],
          [
           "Ukraine"
          ],
          [
           "Spain"
          ],
          [
           "India"
          ],
          [
           "United States"
          ],
          [
           "United States"
          ],
          [
           "Argentina"
          ],
          [
           "Vietnam"
          ],
          [
           "India"
          ],
          [
           "Thailand"
          ],
          [
           "India"
          ],
          [
           "Indonesia"
          ],
          [
           "United States"
          ],
          [
           "Indonesia"
          ],
          [
           "United States"
          ],
          [
           "India"
          ],
          [
           "Germany"
          ],
          [
           "United States"
          ],
          [
           "United States"
          ],
          [
           "Thailand"
          ],
          [
           "Thailand"
          ],
          [
           "India"
          ],
          [
           "Singapore"
          ],
          [
           "United States"
          ],
          [
           "United States"
          ],
          [
           "United States"
          ],
          [
           "Brazil"
          ],
          [
           "India"
          ],
          [
           "India"
          ],
          [
           "India"
          ],
          [
           "India"
          ],
          [
           "Russia"
          ],
          [
           "Mexico"
          ],
          [
           "India"
          ],
          [
           "United States"
          ],
          [
           "India"
          ],
          [
           "Indonesia"
          ],
          [
           "Spain"
          ],
          [
           "Thailand"
          ],
          [
           "Japan"
          ],
          [
           "Spain"
          ],
          [
           "India"
          ],
          [
           "Ecuador"
          ],
          [
           "Thailand"
          ],
          [
           "South Korea"
          ],
          [
           "India"
          ],
          [
           "India"
          ],
          [
           "Ukraine"
          ],
          [
           "India"
          ],
          [
           "Indonesia"
          ],
          [
           "Thailand"
          ],
          [
           "Brazil"
          ],
          [
           "Jordan"
          ],
          [
           "India"
          ],
          [
           "United States"
          ],
          [
           "India"
          ],
          [
           "United Kingdom"
          ],
          [
           "Ukraine"
          ],
          [
           "India"
          ],
          [
           "India"
          ],
          [
           "United States"
          ],
          [
           "United States"
          ],
          [
           "Russia"
          ],
          [
           "Brazil"
          ],
          [
           "United States"
          ],
          [
           "Italy"
          ],
          [
           "Indonesia"
          ],
          [
           "Mexico"
          ],
          [
           "United States"
          ],
          [
           "United States"
          ],
          [
           "India"
          ],
          [
           "India"
          ],
          [
           "India"
          ],
          [
           "India"
          ]
         ],
         "hovertemplate": "<b>%{hovertext}</b><br><br>category=Entertainment<br>subscribers=%{x}<br>video views=%{y}<br>video_views_for_the_last_30_days=%{marker.size}<br>Country=%{customdata[0]}<extra></extra>",
         "hovertext": [
          "MrBeast",
          "Vlad and Niki",
          "Zee TV",
          "Marshmello",
          "Get Movies",
          "Shemaroo",
          "Voot Kids",
          "Felipe Neto",
          "Vocï¿½ï¿½ï¿½",
          "HAR PAL GEO",
          "ARY Digital HD",
          "Rihanna",
          "WorkpointOfficial",
          "Like Nastya ESP",
          "ýýýýýýýýýýýý one31",
          "Saregama Music",
          "Ryan's World",
          "Jess No Limit",
          "Ch3Thailand",
          "Eros Now Music",
          "StarPlus",
          "GMA  Network",
          "DONA ï¿½ï¿½",
          "Lucas and Marcus",
          "TheDonato",
          "ýýýýýýýý ýýýýýýýý ýýýýýýýýýý | toyoraljanahtv",
          "Zhong",
          "HUM TV",
          "Shemaroo Movies",
          "Crazy XYZ",
          "Dushyant kukreja",
          "Renato Garcia YT",
          "Netflix",
          "PANDA BOI",
          "Junya.ï¿½ï¿½ï¿½ï¿½",
          "TRANS7 OFFICIAL",
          "Dan Rhodes",
          "America's Got Talent",
          "Like Nastya AE",
          "MrBeast en Espaï¿½ï",
          "James Charles",
          "Juan De Dios Pantoja",
          "Maya and Mary",
          "Sesame Street",
          "Tsuriki Show",
          "DrossRotzank",
          "White Hill Music",
          "Kinder Spielzeug Kanal (Kidibli)",
          "Sagawa /ï¿½ï¿½ï¿½",
          "Infinite",
          "Azhan5star",
          "Dangal TV Channel",
          "GMA Public  Affairs",
          "Rafa & Luiz",
          "Lyrical Lemonade",
          "Fatos Desconhecidos",
          "Yoeslan",
          "Deddy Corbuzier",
          "Mnet K-POP",
          "Ninja Kidz TV",
          "Vijay Television",
          "Got Talent Global",
          "Ami Rodriguez",
          "CookieSwirlC",
          "Marvel Entertainment",
          "Gordon Ramsay",
          "Britain's Got Talent",
          "tabii Urdu",
          "RKD Studios",
          "etvteluguindia",
          "Sonotek",
          "Sidemen",
          "ýýýýýýýýýýýýýýýýýýýýýý",
          "CKN",
          "Shemaroo Comedy",
          "Miley Cyrus",
          "Jake Fellman",
          "RobleisIUTU",
          "Like Nastya VNM",
          "Fun For Kids TV - Hindi Rhymes",
          "AMARINTV : ï¿½ï¿½ï¿½ï¿½ï¿½ï¿½ï¿½ï¿½ï¿½ï¿½ï¿½ï¿½",
          "Taarak Mehta Ka Ooltah Chashmah",
          "TRANS TV Official",
          "VICE",
          "Like Nastya IDN",
          "With Kids[ï¿½ï¿½ï¿½ï¿½ï",
          "SriBalajiMovies",
          "Younes Zarou",
          "Jordan Matter",
          "ýýýýýýýý ýýýýýýýýýýýýýýýýýýýýýý",
          "Ch7HD",
          "GMMTV OFFICIALï¿½ï¿½",
          "Bollywood Classics",
          "LEGO",
          "Daily Dose Of Internet",
          "Disney Junior",
          "Prime Video India",
          "Juliana Baltar",
          "Kashvi Adlakha",
          "Mazhavil Manorama",
          "Sony LIV",
          "T-Series Hamaar Bhojpuri",
          "Chapitosiki",
          "XpressTV",
          "THE BROWN SIBLINGS",
          "Ray William Johnson",
          "A2 Motivation by Arvind Arora",
          "MNCTV OFFICIAL",
          "iTownGamePlay *Terror&Diversiï¿½ï",
          "ýýýýýýýýýýýý8 : Thai Ch8",
          "Bayashi TV",
          "Canal Nostalgia",
          "Colors Rishtey",
          "Doc Tops",
          "GMM25Thailand",
          "ýýýýýýýýýýýýýýýýýýýýý",
          "RS 1313 SHORTS",
          "ZEE5",
          "SIS vs BRO",
          "Zee Bangla",
          "Yudist Ardhana",
          "Bie The Ska",
          "Crescendo com Luluca",
          "karameeshchannel",
          "T-Series Regional",
          "Airrack",
          "Goldmines Premiere",
          "JULIA GISELLA",
          "Lady Diana",
          "Sanjoy Das Official",
          "Vijay Kumar Viner Vlogs",
          "Vogue",
          "HUBAï¿½ï¿½",
          "BIBO ï¿½ï¿½ï¿½ï¿½ï¿½ï¿",
          "MC Divertida",
          "Ryan Trahan",
          "Davie504",
          "Calon Sarjana",
          "Susy Mouriz",
          "Top Viral Talent",
          "YoungBoy Never Broke Again",
          "NDTV",
          "Family Fitness",
          "Zee Tamil",
          "Flowers Comedy"
         ],
         "legendgroup": "Entertainment",
         "marker": {
          "color": "rgb(252,141,98)",
          "size": [
           1348000000,
           580574000,
           1707000000,
           112100000,
           306540000,
           232744000,
           233988000,
           130359000,
           48032000,
           1337000000,
           1149000000,
           182926000,
           130461000,
           321026000,
           140754000,
           533793000,
           238613000,
           547141000,
           61307000,
           20263000,
           1667000000,
           798510000,
           153280000,
           312099000,
           190679000,
           116434000,
           180519000,
           684860000,
           184966000,
           102235000,
           429692000,
           82912000,
           118226000,
           1225000000,
           721848000,
           123189000,
           331889000,
           134412000,
           169865000,
           33590000,
           58126000,
           46862000,
           44542000,
           124187000,
           756717000,
           35539000,
           93183000,
           139333000,
           711254000,
           68350000,
           236293000,
           561020000,
           142317000,
           118410000,
           80062000,
           52330000,
           874796000,
           85,
           158540000,
           195203000,
           907534000,
           86457000,
           263864000,
           221702000,
           63,
           39228000,
           54192000,
           110806000,
           59841000,
           272917000,
           28678000,
           78158000,
           68006000,
           102,
           102431000,
           127982000,
           497044000,
           27545000,
           84467000,
           109847000,
           235993000,
           331944000,
           45811000,
           36357000,
           42836000,
           45698000,
           154049000,
           617257000,
           199033000,
           21953000,
           87757000,
           181382000,
           151477000,
           117209000,
           399807000,
           267131000,
           335111000,
           56218000,
           139123000,
           361483000,
           210909000,
           105978000,
           713509000,
           33880000,
           102357000,
           312858000,
           130731000,
           43581000,
           13857000,
           49556000,
           2477,
           226420,
           347603000,
           16409000,
           45622000,
           1370000,
           212639000,
           149799000,
           105,
           59927000,
           176062000,
           12502000,
           68058000,
           87639000,
           33484000,
           99654000,
           37648000,
           1615,
           75162000,
           179232000,
           109813000,
           45095000,
           319647000,
           8769000,
           64517000,
           248,
           29870000,
           2292000000,
           368437000,
           29379000,
           169968000,
           58527000,
           235715000,
           349940000,
           180021000
          ],
          "sizemode": "area",
          "sizeref": 4118125,
          "symbol": "circle"
         },
         "mode": "markers",
         "name": "Entertainment",
         "orientation": "v",
         "showlegend": true,
         "type": "scatter",
         "x": [
          166000000,
          98900000,
          70500000,
          56400000,
          47500000,
          47400000,
          45500000,
          45200000,
          44700000,
          44600000,
          43200000,
          41900000,
          39000000,
          37600000,
          37500000,
          35500000,
          35200000,
          34000000,
          33500000,
          32700000,
          32000000,
          31900000,
          31700000,
          31600000,
          31200000,
          30200000,
          29200000,
          28300000,
          28200000,
          27300000,
          27100000,
          26900000,
          26700000,
          26400000,
          26200000,
          25000000,
          24800000,
          24800000,
          24400000,
          24200000,
          23900000,
          23600000,
          23600000,
          23300000,
          23000000,
          23000000,
          23000000,
          22200000,
          22000000,
          21300000,
          21300000,
          21300000,
          21200000,
          21000000,
          21000000,
          20900000,
          20700000,
          20600000,
          20500000,
          20500000,
          20400000,
          20300000,
          20200000,
          20100000,
          20100000,
          20000000,
          19700000,
          19600000,
          19500000,
          19400000,
          19200000,
          18800000,
          18800000,
          18700000,
          18600000,
          18300000,
          18100000,
          17900000,
          17900000,
          17500000,
          17400000,
          17300000,
          17100000,
          16900000,
          16800000,
          16700000,
          16600000,
          16600000,
          16600000,
          16500000,
          16400000,
          16400000,
          16300000,
          16200000,
          16100000,
          16100000,
          15700000,
          15600000,
          15500000,
          15300000,
          15200000,
          15200000,
          15100000,
          15000000,
          15000000,
          15000000,
          15000000,
          14900000,
          14900000,
          14900000,
          14900000,
          14700000,
          14700000,
          14600000,
          14500000,
          14400000,
          14400000,
          14400000,
          14200000,
          14200000,
          14100000,
          14100000,
          14000000,
          13900000,
          13900000,
          13800000,
          13700000,
          13500000,
          13500000,
          13500000,
          13500000,
          13300000,
          13200000,
          13200000,
          13200000,
          13100000,
          13000000,
          13000000,
          13000000,
          12900000,
          12700000,
          12500000,
          12500000,
          12500000,
          12500000
         ],
         "xaxis": "x",
         "y": [
          28368841870,
          77180169894,
          73139054467,
          14696003229,
          30788679536,
          22519705183,
          21388725229,
          16602198273,
          7828610828,
          41139050371,
          37939780685,
          22477745835,
          36131228583,
          18208196857,
          27262462114,
          15657673422,
          55299840198,
          3963007415,
          29611914495,
          17853798780,
          26800674545,
          19428308461,
          21031745531,
          11615848291,
          6187804950,
          27684955537,
          14727238483,
          23844936965,
          7600740993,
          7705492350,
          17318452893,
          7938616641,
          7173668905,
          17211600007,
          16097531087,
          14169516119,
          17387583720,
          3699352704,
          12385924995,
          2700914170,
          4067878931,
          2135644776,
          6766461070,
          22471357411,
          31494513067,
          6041264489,
          10939966484,
          11136266461,
          18347969186,
          5141834668,
          10047736580,
          12895427184,
          11364908616,
          7762905663,
          10631638628,
          3828000587,
          17963202261,
          4956090094,
          15038593883,
          11009148579,
          29406206620,
          2441288701,
          2951914200,
          23353115850,
          5634695322,
          3875172235,
          11323617496,
          8779729549,
          5234251168,
          23038014291,
          7590582024,
          5257834105,
          9594188708,
          12295637162,
          6047584292,
          7760819588,
          13378360425,
          5168721499,
          9867515979,
          7612385622,
          13043561912,
          11371738047,
          9710962528,
          4609753237,
          7195314800,
          8826138204,
          9439857193,
          15278668857,
          5819508534,
          2440934034,
          9463244435,
          12844432341,
          7141825267,
          20522339099,
          6872702790,
          15812009296,
          8696631898,
          3869457097,
          12714141740,
          16545966132,
          7151683497,
          7564652648,
          13897932103,
          4008801873,
          8658553456,
          10239836582,
          8932038210,
          8074260978,
          4977284539,
          5549770244,
          8615618825,
          1506796393,
          12362331529,
          2613197447,
          9383692066,
          600154268,
          8011977288,
          18515587421,
          6973932553,
          11428794827,
          6036496916,
          4627069704,
          5094050461,
          9106781518,
          5217553897,
          2224911030,
          1973638757,
          5380132790,
          8265920659,
          3912334359,
          7958771872,
          4177184071,
          9884886099,
          1148422000,
          5224764969,
          2182651464,
          2683297849,
          10664585,
          6270909026,
          3643698504,
          13174393401,
          4935793409,
          10384848759,
          11552190002,
          11691081301
         ],
         "yaxis": "y"
        },
        {
         "customdata": [
          [
           "United States"
          ],
          [
           "United States"
          ],
          [
           "India"
          ],
          [
           "India"
          ],
          [
           "United States"
          ],
          [
           "United States"
          ],
          [
           "Canada"
          ],
          [
           "United States"
          ],
          [
           "India"
          ],
          [
           "United States"
          ],
          [
           "India"
          ],
          [
           "India"
          ],
          [
           "Mexico"
          ],
          [
           "India"
          ],
          [
           "Germany"
          ],
          [
           "Indonesia"
          ],
          [
           "India"
          ],
          [
           "United States"
          ],
          [
           "United States"
          ],
          [
           "United States"
          ],
          [
           "Argentina"
          ],
          [
           "India"
          ],
          [
           "India"
          ],
          [
           "Indonesia"
          ],
          [
           "India"
          ],
          [
           "United States"
          ],
          [
           "India"
          ],
          [
           "United States"
          ],
          [
           "India"
          ],
          [
           "India"
          ],
          [
           "United States"
          ],
          [
           "India"
          ],
          [
           "United States"
          ]
         ],
         "hovertemplate": "<b>%{hovertext}</b><br><br>category=Education<br>subscribers=%{x}<br>video views=%{y}<br>video_views_for_the_last_30_days=%{marker.size}<br>Country=%{customdata[0]}<extra></extra>",
         "hovertext": [
          "Cocomelon - Nursery Rhymes",
          "Pinkfong Baby Shark - Kids' Songs & Stories",
          "ChuChu TV Nursery Rhymes & Kids Songs",
          "Infobells - Hindi",
          "BillionSurpriseToys  - Nursery Rhymes & Cartoons",
          "Little Baby Bum - Nursery Rhymes & Kids Songs",
          "Super Simple Songs - Kids Songs",
          "Genevieve's Playhouse - Learning Videos for Kids",
          "CVS 3D Rhymes & Kids Songs",
          "BabyBus - Kids Songs and Cartoons",
          "infobells - Tamil",
          "infobells - Telugu",
          "BabyBus - Canciones Infantiles & Videos para Niï¿½ï",
          "Dr. Vivek Bindra: Motivational Speaker",
          "Kurzgesagt ï¿½ï¿½ï¿½ï¿½ï¿½ï¿",
          "BabyBus - Cerita & Lagu Anak-anak",
          "Kiddiestv Hindi - Nursery Rhymes & Kids Songs",
          "ýýýýýýýýýýýýýý ýýýý",
          "TED-Ed",
          "Blippi - Educational Videos for Kids",
          "El Reino a Jugar",
          "Dear Sir",
          "Infobells Bangla",
          "Daftar Populer",
          "StudyIQ IAS",
          "Netflix Jr.",
          "infobells - Kannada",
          "Veritasium",
          "infobells",
          "JOJO TV - Hindi Stories",
          "The Infographics Show",
          "Right to Shiksha",
          "Caylus"
         ],
         "legendgroup": "Education",
         "marker": {
          "color": "rgb(141,160,203)",
          "size": [
           1975000000,
           473387000,
           420292000,
           815949000,
           266747000,
           98775000,
           560756000,
           335307000,
           136084000,
           127498000,
           109828000,
           288110000,
           136821000,
           28588000,
           29269000,
           112768000,
           113420000,
           21587000,
           29874000,
           180412000,
           83709000,
           24056000,
           167888000,
           17231000,
           74483000,
           79402000,
           141688000,
           44149000,
           23893000,
           10764000,
           51820000,
           213738000,
           177600000
          ],
          "sizemode": "area",
          "sizeref": 4118125,
          "symbol": "circle"
         },
         "mode": "markers",
         "name": "Education",
         "orientation": "v",
         "showlegend": true,
         "type": "scatter",
         "x": [
          162000000,
          68200000,
          65900000,
          53300000,
          52200000,
          40900000,
          39200000,
          34900000,
          33400000,
          32800000,
          28900000,
          28300000,
          22900000,
          20900000,
          20800000,
          20300000,
          20200000,
          19000000,
          18800000,
          18100000,
          17200000,
          15800000,
          15500000,
          15100000,
          14700000,
          14700000,
          14200000,
          13900000,
          13700000,
          13600000,
          13200000,
          12800000,
          12400000
         ],
         "xaxis": "x",
         "y": [
          164000000000,
          38843229963,
          45757850229,
          30516172739,
          9877365274,
          39450824833,
          44900897958,
          25607397308,
          20269857567,
          26355088167,
          17930570614,
          14814192034,
          13206471140,
          1693149479,
          2378448129,
          11819051552,
          7274150246,
          4924054368,
          3654621568,
          14857290259,
          11445492404,
          1349288771,
          7776706184,
          2143140898,
          4029253667,
          8882319696,
          6554000320,
          2165885634,
          5178142148,
          5141201173,
          5263540904,
          7876740921,
          4779139505
         ],
         "yaxis": "y"
        },
        {
         "customdata": [
          [
           "India"
          ],
          [
           "India"
          ],
          [
           "India"
          ],
          [
           "United States"
          ],
          [
           "India"
          ],
          [
           "United Kingdom"
          ],
          [
           "United States"
          ],
          [
           "United States"
          ],
          [
           "United States"
          ],
          [
           "Saudi Arabia"
          ],
          [
           "India"
          ],
          [
           "Ukraine"
          ]
         ],
         "hovertemplate": "<b>%{hovertext}</b><br><br>category=Shows<br>subscribers=%{x}<br>video views=%{y}<br>video_views_for_the_last_30_days=%{marker.size}<br>Country=%{customdata[0]}<extra></extra>",
         "hovertext": [
          "SET India",
          "Sony SAB",
          "Colors TV",
          "Masha and The Bear",
          "Sony PAL",
          "Mr Bean",
          "Kids TV - Nursery Rhymes And Baby Songs",
          "Sony AATH",
          "MGC Playhouse",
          "ýýýýýýýý ýý ýýýýýýýý",
          "Kids TV India Hindi Nursery Rhymes",
          "ýýýýýýýý ýýýý ýýýýýýýýýýýýýý"
         ],
         "legendgroup": "Shows",
         "marker": {
          "color": "rgb(231,138,195)",
          "size": [
           1824000000,
           1657000000,
           1188000000,
           670459000,
           415914000,
           56534000,
           128448000,
           274212000,
           102621000,
           135036000,
           78651000,
           71118000
          ],
          "sizemode": "area",
          "sizeref": 4118125,
          "symbol": "circle"
         },
         "mode": "markers",
         "name": "Shows",
         "orientation": "v",
         "showlegend": true,
         "type": "scatter",
         "x": [
          159000000,
          83000000,
          64600000,
          42400000,
          38200000,
          32100000,
          23100000,
          19600000,
          17900000,
          15500000,
          13800000,
          12900000
         ],
         "xaxis": "x",
         "y": [
          148000000000,
          101000000000,
          61510906457,
          24519022988,
          28519339489,
          10602236110,
          13151870846,
          13930021471,
          16174530046,
          8265129639,
          6646953396,
          5585085130
         ],
         "yaxis": "y"
        },
        {
         "customdata": [
          [
           "Russia"
          ],
          [
           "South Korea"
          ],
          [
           "Philippines"
          ],
          [
           "Colombia"
          ],
          [
           "Mexico"
          ],
          [
           "United Arab Emirates"
          ],
          [
           "Saudi Arabia"
          ],
          [
           "India"
          ],
          [
           "Brazil"
          ],
          [
           "Indonesia"
          ],
          [
           "Venezuela"
          ],
          [
           "United States"
          ],
          [
           "United States"
          ],
          [
           "Indonesia"
          ],
          [
           "United States"
          ],
          [
           "United States"
          ],
          [
           "United States"
          ],
          [
           "United States"
          ],
          [
           "United States"
          ],
          [
           "India"
          ],
          [
           "Saudi Arabia"
          ],
          [
           "United States"
          ],
          [
           "France"
          ],
          [
           "United States"
          ],
          [
           "United States"
          ],
          [
           "United States"
          ],
          [
           "United States"
          ],
          [
           "India"
          ],
          [
           "Indonesia"
          ],
          [
           "United States"
          ],
          [
           "Russia"
          ],
          [
           "United States"
          ],
          [
           "United States"
          ],
          [
           "Mexico"
          ],
          [
           "Russia"
          ],
          [
           "Indonesia"
          ],
          [
           "United States"
          ],
          [
           "United States"
          ],
          [
           "India"
          ],
          [
           "India"
          ],
          [
           "Indonesia"
          ],
          [
           "United States"
          ],
          [
           "United States"
          ],
          [
           "Indonesia"
          ],
          [
           "Mexico"
          ],
          [
           "Russia"
          ],
          [
           "India"
          ],
          [
           "United States"
          ],
          [
           "Egypt"
          ],
          [
           "India"
          ],
          [
           "Germany"
          ],
          [
           "India"
          ],
          [
           "India"
          ],
          [
           "United States"
          ],
          [
           "Mexico"
          ],
          [
           "United States"
          ],
          [
           "India"
          ],
          [
           "Mexico"
          ],
          [
           "United States"
          ],
          [
           "United States"
          ],
          [
           "Russia"
          ],
          [
           "United States"
          ],
          [
           "United States"
          ],
          [
           "Brazil"
          ],
          [
           "United States"
          ],
          [
           "Ecuador"
          ],
          [
           "Brazil"
          ],
          [
           "United Arab Emirates"
          ],
          [
           "Colombia"
          ],
          [
           "United States"
          ],
          [
           "South Korea"
          ],
          [
           "India"
          ]
         ],
         "hovertemplate": "<b>%{hovertext}</b><br><br>category=People & Blogs<br>subscribers=%{x}<br>video views=%{y}<br>video_views_for_the_last_30_days=%{marker.size}<br>Country=%{customdata[0]}<extra></extra>",
         "hovertext": [
          "Like Nastya",
          "BLACKPINK",
          "ABS-CBN Entertainment",
          "Shakira",
          "Kimberly Loaiza",
          "shfa2 - ï¿½ï¿½",
          "shfa",
          "ABP NEWS",
          "Maria Clara & JP",
          "Ricis Official",
          "YOLO AVENTURAS",
          "ýýý Kids Roma Show",
          "Beast Reacts",
          "Rans Entertainment",
          "WB Kids",
          "Diana and Roma EN",
          "Lady Gaga",
          "TED",
          "Vania Mania Kids",
          "Sun TV",
          "mmoshaya",
          "LeoNata Family",
          "Smile Family",
          "Zach Choi ASMR",
          "Stokes Twins",
          "Tekashi 6ix9ine",
          "The Royalty Family",
          "Ishaan Ali 11",
          "Baim Paula",
          "LIV Crime",
          "tuzelity SHUFFLE",
          "Jake Paul",
          "Crafty Panda",
          "JukiLop",
          "Like Nastya Vlog",
          "Willie Salim",
          "David Dobrik",
          "KatieAngel",
          "Priyal Kukreja",
          "jaanvi patel",
          "tanboy kun",
          "Danny Fitt",
          "XO TEAM",
          "Arif muhammad",
          "Blippi Espaï¿½ï",
          "ILYA BORZOV",
          "Pokï¿½ï¿½ï¿½ï¿½ï¿½ï¿½ï¿½ï¿½ï¿½",
          "PowerfulJRE",
          "Mohamed Ramadan I ï¿½ï¿½ï¿½ï¿½ï¿½ï¿½ï",
          "Chetan Monga Vlogs",
          "Beast Philanthropy",
          "TV9 Bharatvarsh",
          "Indore Physical Academy",
          "Super Polina",
          "TV Ana Emilia",
          "ViralHog",
          "ETV Jabardasth",
          "123 GO! Spanish",
          "Peet Montzingo",
          "The Q",
          "ýýýýýýýýýýýýýýýýýý",
          "Kids Lineï¿½ï¿½ï¿½ï¿½ï¿½ï¿½ï¿½",
          "ýýýýýýTwinsFromRussia",
          "Painzeiro",
          "ýýýýýýýýýýýýýýý Ms Yeah",
          "RaptorGamer",
          "Pastor Antï¿½ï¿½ï¿½ï¿½ï",
          "AlArabiya ï¿½ï¿½ï¿½ï¿½ï¿",
          "Go Ami Go!",
          "CaseyNeistat",
          "ýýýýýýýýýSULGI",
          "Free Fire India Official"
         ],
         "legendgroup": "People & Blogs",
         "marker": {
          "color": "rgb(166,216,84)",
          "size": [
           48947000,
           498930000,
           176629000,
           353412000,
           136745000,
           247731000,
           1589000,
           267060000,
           251449000,
           157101000,
           3589,
           175844000,
           276187000,
           58487000,
           140319000,
           177769000,
           143169000,
           13246000,
           155215000,
           982238000,
           73829000,
           1174000000,
           735,
           234222000,
           197953000,
           113542000,
           160227000,
           729409000,
           26974000,
           383700000,
           552266000,
           14646000,
           6137000,
           2382000,
           48947000,
           197369000,
           8650000,
           51687000,
           431390000,
           346753000,
           48174000,
           275264000,
           37911,
           71870000,
           90012000,
           475565000,
           65380000,
           43409000,
           46060000,
           113572000,
           37883,
           418474000,
           70409000,
           413774,
           26783000,
           1364000000,
           133584000,
           26519000,
           397715000,
           3,
           90241000,
           161889000,
           119389000,
           43990000,
           60661000,
           62909000,
           31796000,
           80219000,
           327600000,
           5952000,
           113132000,
           64735000
          ],
          "sizemode": "area",
          "sizeref": 4118125,
          "symbol": "circle"
         },
         "mode": "markers",
         "name": "People & Blogs",
         "orientation": "v",
         "showlegend": true,
         "type": "scatter",
         "x": [
          106000000,
          89800000,
          44200000,
          43500000,
          41300000,
          39700000,
          38400000,
          37000000,
          37000000,
          33300000,
          31200000,
          27400000,
          26700000,
          25400000,
          25200000,
          23900000,
          23200000,
          23100000,
          22700000,
          22600000,
          22600000,
          22600000,
          22300000,
          21900000,
          21800000,
          21500000,
          21300000,
          21300000,
          21100000,
          20900000,
          20700000,
          20400000,
          19800000,
          19400000,
          18500000,
          18500000,
          17900000,
          17900000,
          17800000,
          17700000,
          17700000,
          16900000,
          16200000,
          15800000,
          15500000,
          15300000,
          15200000,
          15100000,
          15100000,
          15000000,
          14800000,
          14500000,
          14400000,
          14300000,
          14000000,
          14000000,
          14000000,
          13800000,
          13400000,
          13400000,
          13300000,
          13300000,
          13200000,
          13100000,
          13100000,
          13100000,
          12900000,
          12900000,
          12700000,
          12600000,
          12600000,
          12300000
         ],
         "xaxis": "x",
         "y": [
          90479060027,
          32144597566,
          50292540392,
          27568757295,
          5603111948,
          23884824160,
          21528116909,
          13102611515,
          24188861917,
          5994136760,
          9673649438,
          10336420490,
          4388047013,
          6430853035,
          11081602368,
          7213499085,
          15751661213,
          2551113422,
          10115316784,
          20847038152,
          17507060680,
          27084848152,
          8663830163,
          5918314128,
          4469711607,
          5890180734,
          6269945014,
          12761253839,
          4526271677,
          11058049885,
          8658941531,
          7311322368,
          5759442450,
          1577859332,
          8147575884,
          4051072188,
          7176572299,
          3841205465,
          11057945183,
          7912733203,
          3647267655,
          9544277833,
          14784781923,
          4122634467,
          8984089026,
          9938811455,
          857725714,
          3060202847,
          5324913850,
          9924103188,
          272678287,
          10303519926,
          4156427797,
          4776507159,
          4674164601,
          18917687143,
          13542939513,
          5019136690,
          10022557589,
          4306212515,
          6482687220,
          9088562002,
          9378175604,
          2555801802,
          4399833602,
          2879263916,
          2112274210,
          7520379951,
          1714955279,
          3152402405,
          3485373675,
          1674409945
         ],
         "yaxis": "y"
        },
        {
         "customdata": [
          [
           "United States"
          ],
          [
           "United States"
          ],
          [
           "Switzerland"
          ],
          [
           "Australia"
          ],
          [
           "United States"
          ],
          [
           "Spain"
          ],
          [
           "United States"
          ],
          [
           "Spain"
          ],
          [
           "Brazil"
          ]
         ],
         "hovertemplate": "<b>%{hovertext}</b><br><br>category=Sports<br>subscribers=%{x}<br>video views=%{y}<br>video_views_for_the_last_30_days=%{marker.size}<br>Country=%{customdata[0]}<extra></extra>",
         "hovertext": [
          "WWE",
          "Dude Perfect",
          "FIFA",
          "How Ridiculous",
          "UFC - Ultimate Fighting Championship",
          "FC Barcelona",
          "DALLMYD",
          "gymvirtual",
          "Natan por Aï¿"
         ],
         "legendgroup": "Sports",
         "marker": {
          "color": "rgb(255,217,47)",
          "size": [
           714614000,
           141200000,
           58863000,
           391298000,
           133208000,
           84867000,
           30677000,
           11993000,
           552513000
          ],
          "sizemode": "area",
          "sizeref": 4118125,
          "symbol": "circle"
         },
         "mode": "markers",
         "name": "Sports",
         "orientation": "v",
         "showlegend": true,
         "type": "scatter",
         "x": [
          96000000,
          59500000,
          19400000,
          18000000,
          16400000,
          15300000,
          13600000,
          12900000,
          12300000
         ],
         "xaxis": "x",
         "y": [
          77428473662,
          16241549158,
          5529131886,
          9601137077,
          7135820721,
          2656528205,
          1948925559,
          2509752944,
          9029609749
         ],
         "yaxis": "y"
        },
        {
         "customdata": [
          [
           "United States"
          ],
          [
           "India"
          ],
          [
           "Russia"
          ],
          [
           "India"
          ],
          [
           "Brazil"
          ],
          [
           "United States"
          ],
          [
           "United Kingdom"
          ],
          [
           "United States"
          ],
          [
           "India"
          ],
          [
           "India"
          ],
          [
           "United Kingdom"
          ],
          [
           "India"
          ],
          [
           "India"
          ],
          [
           "United States"
          ],
          [
           "Brazil"
          ],
          [
           "United States"
          ],
          [
           "India"
          ],
          [
           "United States"
          ],
          [
           "India"
          ],
          [
           "Brazil"
          ],
          [
           "United States"
          ],
          [
           "Malaysia"
          ],
          [
           "Argentina"
          ],
          [
           "Brazil"
          ],
          [
           "Mexico"
          ],
          [
           "United States"
          ],
          [
           "Brazil"
          ],
          [
           "India"
          ]
         ],
         "hovertemplate": "<b>%{hovertext}</b><br><br>category=Film & Animation<br>subscribers=%{x}<br>video views=%{y}<br>video_views_for_the_last_30_days=%{marker.size}<br>Country=%{customdata[0]}<extra></extra>",
         "hovertext": [
          "Movieclips",
          "YRF",
          "ýýýýýýýý ýý ýýýýýýýýýýýýýý",
          "Jingle Toons",
          "Galinha Pintadinha",
          "Selena Gomez",
          "Peppa Pig - Official Channel",
          "Nick Jr.",
          "Goldmines Bollywood",
          "Pen Movies",
          "Peppa Pig Espaï¿½ï¿½ï¿½ï¿½ï¿½ï¿½ï¿½ï¿½ï¿½",
          "Tilak",
          "Goldmines Cineplex",
          "Ben Azelart",
          "Totoy kids - Portuguï¿½",
          "Pencilmation",
          "Green Gold TV - Official Channel",
          "DaFuq!?Boom!",
          "Wow Kidz Action",
          "Turma da Mï¿½ï¿½",
          "MSA previously My Story Animated",
          "Les' Copaque Production",
          "El Payaso Plim Plim",
          "Gato Galactico | GALï¿½ï¿",
          "Totoy kids - Espaï¿½ï",
          "Rotten Tomatoes Trailers",
          "Peppa Pig em Portuguï¿½ï¿½ï¿½ï¿½ï¿½ï¿½ï¿½ï¿½ï¿",
          "Zee Kids"
         ],
         "legendgroup": "Film & Animation",
         "marker": {
          "color": "rgb(229,196,148)",
          "size": [
           114668000,
           512093000,
           303780000,
           179903000,
           403508000,
           115792000,
           244925000,
           42546000,
           99677000,
           94853000,
           53589000,
           367347000,
           48740000,
           184946000,
           39495000,
           14862000,
           70278000,
           2304000000,
           105706000,
           76903000,
           20708,
           117727000,
           640030000,
           44121000,
           112393000,
           25738000,
           27340000,
           95163000
          ],
          "sizemode": "area",
          "sizeref": 4118125,
          "symbol": "circle"
         },
         "mode": "markers",
         "name": "Film & Animation",
         "orientation": "v",
         "showlegend": true,
         "type": "scatter",
         "x": [
          59500000,
          54600000,
          43200000,
          34000000,
          33800000,
          33600000,
          31400000,
          27300000,
          26400000,
          24300000,
          23600000,
          23400000,
          22500000,
          21900000,
          20400000,
          20100000,
          20000000,
          19600000,
          19000000,
          19000000,
          17800000,
          17700000,
          17700000,
          16800000,
          16000000,
          15800000,
          13100000,
          12400000
         ],
         "xaxis": "x",
         "y": [
          59316472754,
          35302243691,
          36458726976,
          11351015824,
          27274550757,
          13013567335,
          22919271731,
          22440611155,
          8595760553,
          6608773195,
          7920637200,
          9465863821,
          2431154438,
          4454917643,
          1796227417,
          11317309935,
          9715291883,
          7906181776,
          8281724393,
          13824277846,
          8588704539,
          9059696049,
          17247584185,
          3693798804,
          5997599089,
          13116313599,
          4214172991,
          7683670251
         ],
         "yaxis": "y"
        },
        {
         "customdata": [
          [
           "India"
          ],
          [
           "United States"
          ],
          [
           "India"
          ],
          [
           "India"
          ],
          [
           "Philippines"
          ],
          [
           "India"
          ],
          [
           "India"
          ],
          [
           "Ukraine"
          ],
          [
           "India"
          ],
          [
           "India"
          ],
          [
           "India"
          ],
          [
           "Thailand"
          ],
          [
           "India"
          ],
          [
           "United States"
          ],
          [
           "India"
          ],
          [
           "Philippines"
          ],
          [
           "Indonesia"
          ],
          [
           "United States"
          ],
          [
           "United Kingdom"
          ],
          [
           "Pakistan"
          ],
          [
           "Philippines"
          ]
         ],
         "hovertemplate": "<b>%{hovertext}</b><br><br>category=News & Politics<br>subscribers=%{x}<br>video views=%{y}<br>video_views_for_the_last_30_days=%{marker.size}<br>Country=%{customdata[0]}<extra></extra>",
         "hovertext": [
          "Aaj Tak",
          "YouTube",
          "IndiaTV",
          "Zee News",
          "Raffy Tulfo in Action",
          "The Lallantop",
          "DLS News",
          "News 24",
          "News18 India",
          "NMF News",
          "BBC News Hindi",
          "Thairath Online",
          "Narendra Modi",
          "CNN",
          "NDTV India",
          "ABS-CBN News",
          "KOMPASTV",
          "ABC News",
          "BBC News",
          "Geo News",
          "GMA Integrated News"
         ],
         "legendgroup": "News & Politics",
         "marker": {
          "color": "rgb(179,179,179)",
          "size": [
           461148000,
           21103000,
           290847000,
           461472000,
           163130000,
           273920000,
           32111000,
           370779000,
           394106000,
           59201000,
           131202000,
           224756000,
           185969000,
           187006000,
           49662000,
           181644000,
           113064000,
           185709000,
           66273000,
           100053000,
           115459000
          ],
          "sizemode": "area",
          "sizeref": 4118125,
          "symbol": "circle"
         },
         "mode": "markers",
         "name": "News & Politics",
         "orientation": "v",
         "showlegend": true,
         "type": "scatter",
         "x": [
          57600000,
          36300000,
          35500000,
          30500000,
          26500000,
          25200000,
          19400000,
          17700000,
          17500000,
          16600000,
          16500000,
          16200000,
          15800000,
          15200000,
          15200000,
          15100000,
          15000000,
          14700000,
          14500000,
          13800000,
          13400000
         ],
         "xaxis": "x",
         "y": [
          25307753534,
          3010784935,
          16105023749,
          16709857823,
          15065753455,
          10409352249,
          2255542592,
          8396875537,
          7263619576,
          7435180827,
          7043235131,
          14563841315,
          3392918989,
          14198154095,
          6624168155,
          10489367372,
          11827310821,
          12961669452,
          4598387043,
          5727888539,
          9569814790
         ],
         "yaxis": "y"
        },
        {
         "customdata": [
          [
           "Chile"
          ],
          [
           "Cuba"
          ],
          [
           "El Salvador"
          ],
          [
           "Spain"
          ],
          [
           "United States"
          ],
          [
           "United States"
          ],
          [
           "United States"
          ],
          [
           "Kuwait"
          ],
          [
           "United Kingdom"
          ],
          [
           "United States"
          ],
          [
           "United States"
          ],
          [
           "United States"
          ],
          [
           "Chile"
          ],
          [
           "Indonesia"
          ],
          [
           "Saudi Arabia"
          ],
          [
           "Russia"
          ],
          [
           "United States"
          ],
          [
           "France"
          ],
          [
           "Chile"
          ],
          [
           "United States"
          ],
          [
           "United States"
          ],
          [
           "United States"
          ],
          [
           "United Kingdom"
          ],
          [
           "Argentina"
          ],
          [
           "United States"
          ],
          [
           "United Arab Emirates"
          ],
          [
           "United States"
          ],
          [
           "Russia"
          ],
          [
           "United Kingdom"
          ],
          [
           "United States"
          ],
          [
           "United States"
          ],
          [
           "Brazil"
          ],
          [
           "United States"
          ],
          [
           "United States"
          ],
          [
           "India"
          ],
          [
           "United Kingdom"
          ],
          [
           "Mexico"
          ],
          [
           "Russia"
          ],
          [
           "Brazil"
          ],
          [
           "Netherlands"
          ],
          [
           "Spain"
          ],
          [
           "United States"
          ],
          [
           "Saudi Arabia"
          ],
          [
           "Canada"
          ],
          [
           "South Korea"
          ],
          [
           "United Kingdom"
          ],
          [
           "Spain"
          ],
          [
           "Spain"
          ],
          [
           "Sweden"
          ]
         ],
         "hovertemplate": "<b>%{hovertext}</b><br><br>category=Gaming<br>subscribers=%{x}<br>video views=%{y}<br>video_views_for_the_last_30_days=%{marker.size}<br>Country=%{customdata[0]}<extra></extra>",
         "hovertext": [
          "JuegaGerman",
          "A4",
          "Fernanfloo",
          "Mikecrack",
          "Markiplier",
          "SSSniperWolf",
          "Dream",
          "AboFlah",
          "DanTDM",
          "Preston",
          "SSundee",
          "FGTeeV",
          "invictor",
          "MiawAug",
          "ýýýýýýýý ýýýýýýýýýý ýýýýýýýýýý | Arab Games Network",
          "Marmok",
          "IShowSpeed",
          "SQUEEZIE",
          "DeGoBooM",
          "Aphmau",
          "CoryxKenshin",
          "Technoblade",
          "JJ Olatunji",
          "Lyna",
          "Unspeakable",
          "FFUNTV",
          "Mobile Legends: Bang Bang",
          "EdisonPts",
          "MoreAliA",
          "PlayStation",
          "Kwebbelkop",
          "TazerCraft",
          "Jesser",
          "PrestonPlayz",
          "Gyan Gamingï¿½",
          "TommyInnit",
          "E-MasterSensei",
          "ýýýýýýýýýýýý",
          "Jazzghost",
          "ýýýýýýýý/Atro",
          "Acenix",
          "penguinz0",
          "BanderitaX",
          "AzzyLand",
          "GH'S",
          "Morgz",
          "Timba Vk",
          "DaniRep | +6 Vï¿½ï¿½ï¿½ï¿½ï¿½ï¿½ï¿½ï¿½ï¿½ï¿½ï",
          "RobTopGames"
         ],
         "legendgroup": "Gaming",
         "marker": {
          "color": "rgb(102,194,165)",
          "size": [
           66388000,
           94,
           33842000,
           264108000,
           127329000,
           210955000,
           27022000,
           157908000,
           78668000,
           151697000,
           175094000,
           132110000,
           49,
           64489000,
           43007000,
           38282000,
           140261000,
           48099000,
           100215000,
           439870000,
           105114000,
           17944000,
           27808000,
           64085000,
           164895000,
           80172000,
           55369000,
           95603000,
           250995000,
           41789000,
           29724000,
           39775000,
           92594000,
           151697000,
           13891000,
           54291000,
           44575000,
           150570000,
           106718000,
           55122000,
           47436000,
           188948000,
           70712000,
           5387000,
           1081000000,
           58838000,
           24022000,
           82648000,
           3871000
          ],
          "sizemode": "area",
          "sizeref": 4118125,
          "symbol": "circle"
         },
         "mode": "markers",
         "name": "Gaming",
         "orientation": "v",
         "showlegend": true,
         "type": "scatter",
         "x": [
          48100000,
          46300000,
          46100000,
          39100000,
          35200000,
          33700000,
          31700000,
          30500000,
          27400000,
          24000000,
          22500000,
          22300000,
          21500000,
          20200000,
          18600000,
          18500000,
          18300000,
          18100000,
          17600000,
          17400000,
          16700000,
          16300000,
          16200000,
          15900000,
          15900000,
          15400000,
          15400000,
          15100000,
          15000000,
          15000000,
          15000000,
          14900000,
          14600000,
          14600000,
          14400000,
          14200000,
          14200000,
          14000000,
          13900000,
          13800000,
          13600000,
          13300000,
          13300000,
          13300000,
          13000000,
          12600000,
          12400000,
          12400000,
          12300000
         ],
         "xaxis": "x",
         "y": [
          14631710289,
          22936630813,
          10323391593,
          16118181673,
          20297931219,
          23492684419,
          2930015381,
          4521573939,
          19417887510,
          8279004442,
          13835173331,
          24059336857,
          8409641722,
          6098644584,
          8761255550,
          3457618361,
          1556003039,
          9983065083,
          6306204566,
          17763586483,
          7102965621,
          1656452554,
          4076692623,
          6534326412,
          9052367553,
          11513738907,
          1543608082,
          6668507856,
          4352427049,
          4741434420,
          6889304306,
          5956193599,
          3603556207,
          5766647017,
          2224121890,
          2084791147,
          3920559552,
          7719743112,
          5673347763,
          2480957682,
          2122062016,
          7773543609,
          4129249415,
          6412313570,
          8739174649,
          3303595310,
          2840137980,
          6933660906,
          374123483
         ],
         "yaxis": "y"
        },
        {
         "customdata": [
          [
           "India"
          ],
          [
           "India"
          ]
         ],
         "hovertemplate": "<b>%{hovertext}</b><br><br>category=Trailers<br>subscribers=%{x}<br>video views=%{y}<br>video_views_for_the_last_30_days=%{marker.size}<br>Country=%{customdata[0]}<extra></extra>",
         "hovertext": [
          "Ishtar Music",
          "Ultra Bollywood"
         ],
         "legendgroup": "Trailers",
         "marker": {
          "color": "rgb(252,141,98)",
          "size": [
           180942000,
           131462000
          ],
          "sizemode": "area",
          "sizeref": 4118125,
          "symbol": "circle"
         },
         "mode": "markers",
         "name": "Trailers",
         "orientation": "v",
         "showlegend": true,
         "type": "scatter",
         "x": [
          41400000,
          36600000
         ],
         "xaxis": "x",
         "y": [
          17608931161,
          15653786446
         ],
         "yaxis": "y"
        },
        {
         "customdata": [
          [
           "India"
          ],
          [
           "India"
          ],
          [
           "India"
          ],
          [
           "United States"
          ],
          [
           "India"
          ],
          [
           "India"
          ],
          [
           "Brazil"
          ],
          [
           "United States"
          ],
          [
           "United States"
          ],
          [
           "United States"
          ],
          [
           "United States"
          ],
          [
           "Argentina"
          ],
          [
           "Brazil"
          ],
          [
           "India"
          ],
          [
           "United States"
          ],
          [
           "Argentina"
          ],
          [
           "United Arab Emirates"
          ],
          [
           "Latvia"
          ],
          [
           "United States"
          ],
          [
           "India"
          ],
          [
           "Mexico"
          ],
          [
           "Russia"
          ],
          [
           "India"
          ],
          [
           "United States"
          ],
          [
           "Brazil"
          ],
          [
           "India"
          ],
          [
           "India"
          ],
          [
           "Argentina"
          ],
          [
           "Japan"
          ],
          [
           "United States"
          ],
          [
           "India"
          ],
          [
           "India"
          ],
          [
           "Brazil"
          ],
          [
           "India"
          ],
          [
           "United Kingdom"
          ],
          [
           "United States"
          ],
          [
           "United States"
          ],
          [
           "Mexico"
          ],
          [
           "United States"
          ],
          [
           "India"
          ]
         ],
         "hovertemplate": "<b>%{hovertext}</b><br><br>category=Comedy<br>subscribers=%{x}<br>video views=%{y}<br>video_views_for_the_last_30_days=%{marker.size}<br>Country=%{customdata[0]}<extra></extra>",
         "hovertext": [
          "CarryMinati",
          "Jkk Entertainment",
          "KHANDESHI MOVIES",
          "The Tonight Show Starring Jimmy Fallon",
          "Round2hell",
          "ashish chanchlani vines",
          "Enaldinho",
          "Brent Rivera",
          "Alan Chikin Chow",
          "Smosh",
          "LankyBox",
          "Alejo Igoa",
          "Spider Slack",
          "Heroindori",
          "Topper Guild",
          "Bizarrap",
          "Noor Stars",
          "dednahype",
          "Marta and Rustam",
          "Triggered Insaan",
          "MissaSinfonia",
          "TheBrianMaps",
          "Prajapati News",
          "FailArmy",
          "T3ddy",
          "Harsh Beniwal",
          "The MriDul",
          "Rubï¿½ï¿½ï¿½ï¿½ï¿½ï¿½",
          "ISSEI / ï¿½ï¿½ï¿½ï¿½",
          "Chad Wild Clay",
          "Noman Official",
          "SEVENGERS",
          "O Que Nï¿½ï¿½ï¿½ï¿½ï¿½ï¿",
          "The Vishal bhatt",
          "Woody & Kleiny",
          "Just For Laughs Gags",
          "Adam W",
          "Franco Escamilla",
          "_vector_",
          "Make Joke Of"
         ],
         "legendgroup": "Comedy",
         "marker": {
          "color": "rgb(141,160,203)",
          "size": [
           78688000,
           49861000,
           24736000,
           22511000,
           31822000,
           26171000,
           303100000,
           144453000,
           1046000000,
           68156000,
           815341000,
           401512000,
           761451000,
           399152000,
           687028000,
           193176000,
           15556000,
           1245000000,
           452250000,
           109026000,
           27445000,
           37164000,
           7626000,
           112986000,
           33015000,
           27963000,
           98329000,
           512343000,
           282372000,
           36338000,
           139116000,
           367898000,
           87804000,
           379240000,
           495561000,
           17468000,
           228951000,
           77482000,
           903672000,
           24000000
          ],
          "sizemode": "area",
          "sizeref": 4118125,
          "symbol": "circle"
         },
         "mode": "markers",
         "name": "Comedy",
         "orientation": "v",
         "showlegend": true,
         "type": "scatter",
         "x": [
          39200000,
          37200000,
          33500000,
          31200000,
          30700000,
          29800000,
          29200000,
          27000000,
          26400000,
          26100000,
          25400000,
          24100000,
          24000000,
          22600000,
          21900000,
          20600000,
          20200000,
          20200000,
          20200000,
          18800000,
          17600000,
          17100000,
          17000000,
          16500000,
          16200000,
          15400000,
          15200000,
          15100000,
          15000000,
          14700000,
          14600000,
          14200000,
          13700000,
          13700000,
          13500000,
          13300000,
          12800000,
          12700000,
          12400000,
          12300000
         ],
         "xaxis": "x",
         "y": [
          3294013141,
          16402066717,
          11405809704,
          17111726160,
          3145161634,
          4457913639,
          11627437847,
          6570935979,
          27006526665,
          10435474336,
          34300482066,
          10999000479,
          13943030228,
          9223534599,
          15552070846,
          7657171980,
          2764127969,
          20919403720,
          19694265358,
          3276891538,
          2274007523,
          4448334716,
          1001465469,
          3037260680,
          2990185467,
          1781226000,
          4503880875,
          9477021288,
          13562853889,
          6751985988,
          5525773746,
          10238593147,
          1967930734,
          9596430464,
          11717217293,
          7406628736,
          9502983550,
          4266957149,
          7597013023,
          2129773714
         ],
         "yaxis": "y"
        },
        {
         "customdata": [
          [
           "United States"
          ],
          [
           "Brazil"
          ]
         ],
         "hovertemplate": "<b>%{hovertext}</b><br><br>category=Nonprofits & Activism<br>subscribers=%{x}<br>video views=%{y}<br>video_views_for_the_last_30_days=%{marker.size}<br>Country=%{customdata[0]}<extra></extra>",
         "hovertext": [
          "TEDx Talks",
          "Bispo Bruno Leonardo"
         ],
         "legendgroup": "Nonprofits & Activism",
         "marker": {
          "color": "rgb(231,138,195)",
          "size": [
           45638000,
           149543000
          ],
          "sizemode": "area",
          "sizeref": 4118125,
          "symbol": "circle"
         },
         "mode": "markers",
         "name": "Nonprofits & Activism",
         "orientation": "v",
         "showlegend": true,
         "type": "scatter",
         "x": [
          38600000,
          16900000
         ],
         "xaxis": "x",
         "y": [
          7339333120,
          3523578665
         ],
         "yaxis": "y"
        },
        {
         "customdata": [
          [
           "India"
          ],
          [
           "United States"
          ],
          [
           "United States"
          ],
          [
           "United States"
          ],
          [
           "United States"
          ],
          [
           "United States"
          ],
          [
           "Canada"
          ],
          [
           "United Kingdom"
          ],
          [
           "Canada"
          ],
          [
           "India"
          ],
          [
           "India"
          ]
         ],
         "hovertemplate": "<b>%{hovertext}</b><br><br>category=Science & Technology<br>subscribers=%{x}<br>video views=%{y}<br>video_views_for_the_last_30_days=%{marker.size}<br>Country=%{customdata[0]}<extra></extra>",
         "hovertext": [
          "MR. INDIAN HACKER",
          "Mark Rober",
          "Happy Lives",
          "National Geographic",
          "Apple",
          "Marques Brownlee",
          "Linus Tech Tips",
          "Mrwhosetheboss",
          "Hacksmith Industries",
          "Trakin Tech",
          "Technology Gyan"
         ],
         "legendgroup": "Science & Technology",
         "marker": {
          "color": "rgb(166,216,84)",
          "size": [
           109125000,
           88625000,
           6589000000,
           45812000,
           46484000,
           52325000,
           88224000,
           167697000,
           83943000,
           43669000,
           18518000
          ],
          "sizemode": "area",
          "sizeref": 4118125,
          "symbol": "circle"
         },
         "mode": "markers",
         "name": "Science & Technology",
         "orientation": "v",
         "showlegend": true,
         "type": "scatter",
         "x": [
          31700000,
          24600000,
          23200000,
          21800000,
          17300000,
          17200000,
          15600000,
          15400000,
          13800000,
          13300000,
          13200000
         ],
         "xaxis": "x",
         "y": [
          5711208484,
          3647987299,
          2634,
          5614621131,
          1026425106,
          3606912471,
          7172386509,
          3736069980,
          1820559912,
          2262690743,
          1138262456
         ],
         "yaxis": "y"
        },
        {
         "customdata": [
          [
           "India"
          ],
          [
           "India"
          ]
         ],
         "hovertemplate": "<b>%{hovertext}</b><br><br>category=Movies<br>subscribers=%{x}<br>video views=%{y}<br>video_views_for_the_last_30_days=%{marker.size}<br>Country=%{customdata[0]}<extra></extra>",
         "hovertext": [
          "Aditya Movies",
          "Ultra Movie Parlour"
         ],
         "legendgroup": "Movies",
         "marker": {
          "color": "rgb(255,217,47)",
          "size": [
           227355000,
           118846000
          ],
          "sizemode": "area",
          "sizeref": 4118125,
          "symbol": "circle"
         },
         "mode": "markers",
         "name": "Movies",
         "orientation": "v",
         "showlegend": true,
         "type": "scatter",
         "x": [
          28400000,
          22900000
         ],
         "xaxis": "x",
         "y": [
          10062770060,
          5320485069
         ],
         "yaxis": "y"
        },
        {
         "customdata": [
          [
           "United States"
          ],
          [
           "India"
          ],
          [
           "United States"
          ],
          [
           "Mexico"
          ],
          [
           "Brazil"
          ],
          [
           "China"
          ],
          [
           "Egypt"
          ],
          [
           "Mexico"
          ],
          [
           "India"
          ],
          [
           "United States"
          ],
          [
           "United States"
          ],
          [
           "United States"
          ],
          [
           "India"
          ]
         ],
         "hovertemplate": "<b>%{hovertext}</b><br><br>category=Howto & Style<br>subscribers=%{x}<br>video views=%{y}<br>video_views_for_the_last_30_days=%{marker.size}<br>Country=%{customdata[0]}<extra></extra>",
         "hovertext": [
          "Troom Troom",
          "Village Cooking Channel",
          "5-Minute Crafts PLAY",
          "SUPER SLICK SLIME SAM",
          "Manual do Mundo",
          "ýýýýýýýýý Liziqi",
          "ýýýýýýýý ýýýýýýýýýýýýýý ýýýý 5 ýýýýýýýýýý",
          "Mis Pastelitos",
          "NishaMadhulika",
          "Wengie",
          "Blossom",
          "First We Feast",
          "bharatzkitchen HINDI"
         ],
         "legendgroup": "Howto & Style",
         "marker": {
          "color": "rgb(229,196,148)",
          "size": [
           98052000,
           194604000,
           105784000,
           123338000,
           54766000,
           22354000,
           32916000,
           50677000,
           22235000,
           1335000,
           43868000,
           111252000,
           30968000
          ],
          "sizemode": "area",
          "sizeref": 4118125,
          "symbol": "circle"
         },
         "mode": "markers",
         "name": "Howto & Style",
         "orientation": "v",
         "showlegend": true,
         "type": "scatter",
         "x": [
          23800000,
          21600000,
          20100000,
          19000000,
          18000000,
          17600000,
          15500000,
          14600000,
          13700000,
          13500000,
          12700000,
          12500000,
          12400000
         ],
         "xaxis": "x",
         "y": [
          10414479943,
          5863377051,
          6119294270,
          7229175322,
          3980991248,
          2977741577,
          4499826716,
          2750902766,
          2939201386,
          1900272833,
          4733873025,
          2983799729,
          2315226648
         ],
         "yaxis": "y"
        },
        {
         "customdata": [
          [
           "United States"
          ],
          [
           "United States"
          ],
          [
           "United Kingdom"
          ]
         ],
         "hovertemplate": "<b>%{hovertext}</b><br><br>category=Pets & Animals<br>subscribers=%{x}<br>video views=%{y}<br>video_views_for_the_last_30_days=%{marker.size}<br>Country=%{customdata[0]}<extra></extra>",
         "hovertext": [
          "That Little Puff",
          "Brave Wilderness",
          "BBC"
         ],
         "legendgroup": "Pets & Animals",
         "marker": {
          "color": "rgb(179,179,179)",
          "size": [
           755054000,
           2989000,
           44414000
          ],
          "sizemode": "area",
          "sizeref": 4118125,
          "symbol": "circle"
         },
         "mode": "markers",
         "name": "Pets & Animals",
         "orientation": "v",
         "showlegend": true,
         "type": "scatter",
         "x": [
          23700000,
          20900000,
          13600000
         ],
         "xaxis": "x",
         "y": [
          20289689389,
          4927879069,
          9685060624
         ],
         "yaxis": "y"
        },
        {
         "customdata": [
          [
           "Brazil"
          ],
          [
           "United Arab Emirates"
          ]
         ],
         "hovertemplate": "<b>%{hovertext}</b><br><br>category=Autos & Vehicles<br>subscribers=%{x}<br>video views=%{y}<br>video_views_for_the_last_30_days=%{marker.size}<br>Country=%{customdata[0]}<extra></extra>",
         "hovertext": [
          "DUDU e CAROL",
          "Supercar Blondie"
         ],
         "legendgroup": "Autos & Vehicles",
         "marker": {
          "color": "rgb(102,194,165)",
          "size": [
           193174000,
           353259000
          ],
          "sizemode": "area",
          "sizeref": 4118125,
          "symbol": "circle"
         },
         "mode": "markers",
         "name": "Autos & Vehicles",
         "orientation": "v",
         "showlegend": true,
         "type": "scatter",
         "x": [
          21600000,
          14100000
         ],
         "xaxis": "x",
         "y": [
          9597894786,
          5405563355
         ],
         "yaxis": "y"
        }
       ],
       "layout": {
        "legend": {
         "itemsizing": "constant",
         "title": {
          "text": "category"
         },
         "tracegroupgap": 0
        },
        "margin": {
         "t": 60
        },
        "template": {
         "data": {
          "bar": [
           {
            "error_x": {
             "color": "#2a3f5f"
            },
            "error_y": {
             "color": "#2a3f5f"
            },
            "marker": {
             "line": {
              "color": "#E5ECF6",
              "width": 0.5
             },
             "pattern": {
              "fillmode": "overlay",
              "size": 10,
              "solidity": 0.2
             }
            },
            "type": "bar"
           }
          ],
          "barpolar": [
           {
            "marker": {
             "line": {
              "color": "#E5ECF6",
              "width": 0.5
             },
             "pattern": {
              "fillmode": "overlay",
              "size": 10,
              "solidity": 0.2
             }
            },
            "type": "barpolar"
           }
          ],
          "carpet": [
           {
            "aaxis": {
             "endlinecolor": "#2a3f5f",
             "gridcolor": "white",
             "linecolor": "white",
             "minorgridcolor": "white",
             "startlinecolor": "#2a3f5f"
            },
            "baxis": {
             "endlinecolor": "#2a3f5f",
             "gridcolor": "white",
             "linecolor": "white",
             "minorgridcolor": "white",
             "startlinecolor": "#2a3f5f"
            },
            "type": "carpet"
           }
          ],
          "choropleth": [
           {
            "colorbar": {
             "outlinewidth": 0,
             "ticks": ""
            },
            "type": "choropleth"
           }
          ],
          "contour": [
           {
            "colorbar": {
             "outlinewidth": 0,
             "ticks": ""
            },
            "colorscale": [
             [
              0,
              "#0d0887"
             ],
             [
              0.1111111111111111,
              "#46039f"
             ],
             [
              0.2222222222222222,
              "#7201a8"
             ],
             [
              0.3333333333333333,
              "#9c179e"
             ],
             [
              0.4444444444444444,
              "#bd3786"
             ],
             [
              0.5555555555555556,
              "#d8576b"
             ],
             [
              0.6666666666666666,
              "#ed7953"
             ],
             [
              0.7777777777777778,
              "#fb9f3a"
             ],
             [
              0.8888888888888888,
              "#fdca26"
             ],
             [
              1,
              "#f0f921"
             ]
            ],
            "type": "contour"
           }
          ],
          "contourcarpet": [
           {
            "colorbar": {
             "outlinewidth": 0,
             "ticks": ""
            },
            "type": "contourcarpet"
           }
          ],
          "heatmap": [
           {
            "colorbar": {
             "outlinewidth": 0,
             "ticks": ""
            },
            "colorscale": [
             [
              0,
              "#0d0887"
             ],
             [
              0.1111111111111111,
              "#46039f"
             ],
             [
              0.2222222222222222,
              "#7201a8"
             ],
             [
              0.3333333333333333,
              "#9c179e"
             ],
             [
              0.4444444444444444,
              "#bd3786"
             ],
             [
              0.5555555555555556,
              "#d8576b"
             ],
             [
              0.6666666666666666,
              "#ed7953"
             ],
             [
              0.7777777777777778,
              "#fb9f3a"
             ],
             [
              0.8888888888888888,
              "#fdca26"
             ],
             [
              1,
              "#f0f921"
             ]
            ],
            "type": "heatmap"
           }
          ],
          "heatmapgl": [
           {
            "colorbar": {
             "outlinewidth": 0,
             "ticks": ""
            },
            "colorscale": [
             [
              0,
              "#0d0887"
             ],
             [
              0.1111111111111111,
              "#46039f"
             ],
             [
              0.2222222222222222,
              "#7201a8"
             ],
             [
              0.3333333333333333,
              "#9c179e"
             ],
             [
              0.4444444444444444,
              "#bd3786"
             ],
             [
              0.5555555555555556,
              "#d8576b"
             ],
             [
              0.6666666666666666,
              "#ed7953"
             ],
             [
              0.7777777777777778,
              "#fb9f3a"
             ],
             [
              0.8888888888888888,
              "#fdca26"
             ],
             [
              1,
              "#f0f921"
             ]
            ],
            "type": "heatmapgl"
           }
          ],
          "histogram": [
           {
            "marker": {
             "pattern": {
              "fillmode": "overlay",
              "size": 10,
              "solidity": 0.2
             }
            },
            "type": "histogram"
           }
          ],
          "histogram2d": [
           {
            "colorbar": {
             "outlinewidth": 0,
             "ticks": ""
            },
            "colorscale": [
             [
              0,
              "#0d0887"
             ],
             [
              0.1111111111111111,
              "#46039f"
             ],
             [
              0.2222222222222222,
              "#7201a8"
             ],
             [
              0.3333333333333333,
              "#9c179e"
             ],
             [
              0.4444444444444444,
              "#bd3786"
             ],
             [
              0.5555555555555556,
              "#d8576b"
             ],
             [
              0.6666666666666666,
              "#ed7953"
             ],
             [
              0.7777777777777778,
              "#fb9f3a"
             ],
             [
              0.8888888888888888,
              "#fdca26"
             ],
             [
              1,
              "#f0f921"
             ]
            ],
            "type": "histogram2d"
           }
          ],
          "histogram2dcontour": [
           {
            "colorbar": {
             "outlinewidth": 0,
             "ticks": ""
            },
            "colorscale": [
             [
              0,
              "#0d0887"
             ],
             [
              0.1111111111111111,
              "#46039f"
             ],
             [
              0.2222222222222222,
              "#7201a8"
             ],
             [
              0.3333333333333333,
              "#9c179e"
             ],
             [
              0.4444444444444444,
              "#bd3786"
             ],
             [
              0.5555555555555556,
              "#d8576b"
             ],
             [
              0.6666666666666666,
              "#ed7953"
             ],
             [
              0.7777777777777778,
              "#fb9f3a"
             ],
             [
              0.8888888888888888,
              "#fdca26"
             ],
             [
              1,
              "#f0f921"
             ]
            ],
            "type": "histogram2dcontour"
           }
          ],
          "mesh3d": [
           {
            "colorbar": {
             "outlinewidth": 0,
             "ticks": ""
            },
            "type": "mesh3d"
           }
          ],
          "parcoords": [
           {
            "line": {
             "colorbar": {
              "outlinewidth": 0,
              "ticks": ""
             }
            },
            "type": "parcoords"
           }
          ],
          "pie": [
           {
            "automargin": true,
            "type": "pie"
           }
          ],
          "scatter": [
           {
            "fillpattern": {
             "fillmode": "overlay",
             "size": 10,
             "solidity": 0.2
            },
            "type": "scatter"
           }
          ],
          "scatter3d": [
           {
            "line": {
             "colorbar": {
              "outlinewidth": 0,
              "ticks": ""
             }
            },
            "marker": {
             "colorbar": {
              "outlinewidth": 0,
              "ticks": ""
             }
            },
            "type": "scatter3d"
           }
          ],
          "scattercarpet": [
           {
            "marker": {
             "colorbar": {
              "outlinewidth": 0,
              "ticks": ""
             }
            },
            "type": "scattercarpet"
           }
          ],
          "scattergeo": [
           {
            "marker": {
             "colorbar": {
              "outlinewidth": 0,
              "ticks": ""
             }
            },
            "type": "scattergeo"
           }
          ],
          "scattergl": [
           {
            "marker": {
             "colorbar": {
              "outlinewidth": 0,
              "ticks": ""
             }
            },
            "type": "scattergl"
           }
          ],
          "scattermapbox": [
           {
            "marker": {
             "colorbar": {
              "outlinewidth": 0,
              "ticks": ""
             }
            },
            "type": "scattermapbox"
           }
          ],
          "scatterpolar": [
           {
            "marker": {
             "colorbar": {
              "outlinewidth": 0,
              "ticks": ""
             }
            },
            "type": "scatterpolar"
           }
          ],
          "scatterpolargl": [
           {
            "marker": {
             "colorbar": {
              "outlinewidth": 0,
              "ticks": ""
             }
            },
            "type": "scatterpolargl"
           }
          ],
          "scatterternary": [
           {
            "marker": {
             "colorbar": {
              "outlinewidth": 0,
              "ticks": ""
             }
            },
            "type": "scatterternary"
           }
          ],
          "surface": [
           {
            "colorbar": {
             "outlinewidth": 0,
             "ticks": ""
            },
            "colorscale": [
             [
              0,
              "#0d0887"
             ],
             [
              0.1111111111111111,
              "#46039f"
             ],
             [
              0.2222222222222222,
              "#7201a8"
             ],
             [
              0.3333333333333333,
              "#9c179e"
             ],
             [
              0.4444444444444444,
              "#bd3786"
             ],
             [
              0.5555555555555556,
              "#d8576b"
             ],
             [
              0.6666666666666666,
              "#ed7953"
             ],
             [
              0.7777777777777778,
              "#fb9f3a"
             ],
             [
              0.8888888888888888,
              "#fdca26"
             ],
             [
              1,
              "#f0f921"
             ]
            ],
            "type": "surface"
           }
          ],
          "table": [
           {
            "cells": {
             "fill": {
              "color": "#EBF0F8"
             },
             "line": {
              "color": "white"
             }
            },
            "header": {
             "fill": {
              "color": "#C8D4E3"
             },
             "line": {
              "color": "white"
             }
            },
            "type": "table"
           }
          ]
         },
         "layout": {
          "annotationdefaults": {
           "arrowcolor": "#2a3f5f",
           "arrowhead": 0,
           "arrowwidth": 1
          },
          "autotypenumbers": "strict",
          "coloraxis": {
           "colorbar": {
            "outlinewidth": 0,
            "ticks": ""
           }
          },
          "colorscale": {
           "diverging": [
            [
             0,
             "#8e0152"
            ],
            [
             0.1,
             "#c51b7d"
            ],
            [
             0.2,
             "#de77ae"
            ],
            [
             0.3,
             "#f1b6da"
            ],
            [
             0.4,
             "#fde0ef"
            ],
            [
             0.5,
             "#f7f7f7"
            ],
            [
             0.6,
             "#e6f5d0"
            ],
            [
             0.7,
             "#b8e186"
            ],
            [
             0.8,
             "#7fbc41"
            ],
            [
             0.9,
             "#4d9221"
            ],
            [
             1,
             "#276419"
            ]
           ],
           "sequential": [
            [
             0,
             "#0d0887"
            ],
            [
             0.1111111111111111,
             "#46039f"
            ],
            [
             0.2222222222222222,
             "#7201a8"
            ],
            [
             0.3333333333333333,
             "#9c179e"
            ],
            [
             0.4444444444444444,
             "#bd3786"
            ],
            [
             0.5555555555555556,
             "#d8576b"
            ],
            [
             0.6666666666666666,
             "#ed7953"
            ],
            [
             0.7777777777777778,
             "#fb9f3a"
            ],
            [
             0.8888888888888888,
             "#fdca26"
            ],
            [
             1,
             "#f0f921"
            ]
           ],
           "sequentialminus": [
            [
             0,
             "#0d0887"
            ],
            [
             0.1111111111111111,
             "#46039f"
            ],
            [
             0.2222222222222222,
             "#7201a8"
            ],
            [
             0.3333333333333333,
             "#9c179e"
            ],
            [
             0.4444444444444444,
             "#bd3786"
            ],
            [
             0.5555555555555556,
             "#d8576b"
            ],
            [
             0.6666666666666666,
             "#ed7953"
            ],
            [
             0.7777777777777778,
             "#fb9f3a"
            ],
            [
             0.8888888888888888,
             "#fdca26"
            ],
            [
             1,
             "#f0f921"
            ]
           ]
          },
          "colorway": [
           "#636efa",
           "#EF553B",
           "#00cc96",
           "#ab63fa",
           "#FFA15A",
           "#19d3f3",
           "#FF6692",
           "#B6E880",
           "#FF97FF",
           "#FECB52"
          ],
          "font": {
           "color": "#2a3f5f"
          },
          "geo": {
           "bgcolor": "white",
           "lakecolor": "white",
           "landcolor": "#E5ECF6",
           "showlakes": true,
           "showland": true,
           "subunitcolor": "white"
          },
          "hoverlabel": {
           "align": "left"
          },
          "hovermode": "closest",
          "mapbox": {
           "style": "light"
          },
          "paper_bgcolor": "white",
          "plot_bgcolor": "#E5ECF6",
          "polar": {
           "angularaxis": {
            "gridcolor": "white",
            "linecolor": "white",
            "ticks": ""
           },
           "bgcolor": "#E5ECF6",
           "radialaxis": {
            "gridcolor": "white",
            "linecolor": "white",
            "ticks": ""
           }
          },
          "scene": {
           "xaxis": {
            "backgroundcolor": "#E5ECF6",
            "gridcolor": "white",
            "gridwidth": 2,
            "linecolor": "white",
            "showbackground": true,
            "ticks": "",
            "zerolinecolor": "white"
           },
           "yaxis": {
            "backgroundcolor": "#E5ECF6",
            "gridcolor": "white",
            "gridwidth": 2,
            "linecolor": "white",
            "showbackground": true,
            "ticks": "",
            "zerolinecolor": "white"
           },
           "zaxis": {
            "backgroundcolor": "#E5ECF6",
            "gridcolor": "white",
            "gridwidth": 2,
            "linecolor": "white",
            "showbackground": true,
            "ticks": "",
            "zerolinecolor": "white"
           }
          },
          "shapedefaults": {
           "line": {
            "color": "#2a3f5f"
           }
          },
          "ternary": {
           "aaxis": {
            "gridcolor": "white",
            "linecolor": "white",
            "ticks": ""
           },
           "baxis": {
            "gridcolor": "white",
            "linecolor": "white",
            "ticks": ""
           },
           "bgcolor": "#E5ECF6",
           "caxis": {
            "gridcolor": "white",
            "linecolor": "white",
            "ticks": ""
           }
          },
          "title": {
           "x": 0.05
          },
          "xaxis": {
           "automargin": true,
           "gridcolor": "white",
           "linecolor": "white",
           "ticks": "",
           "title": {
            "standoff": 15
           },
           "zerolinecolor": "white",
           "zerolinewidth": 2
          },
          "yaxis": {
           "automargin": true,
           "gridcolor": "white",
           "linecolor": "white",
           "ticks": "",
           "title": {
            "standoff": 15
           },
           "zerolinecolor": "white",
           "zerolinewidth": 2
          }
         }
        },
        "title": {
         "text": "Subscribers vs Video Views by Category"
        },
        "xaxis": {
         "anchor": "y",
         "domain": [
          0,
          1
         ],
         "title": {
          "text": "subscribers"
         },
         "type": "log"
        },
        "yaxis": {
         "anchor": "x",
         "domain": [
          0,
          1
         ],
         "title": {
          "text": "video views"
         },
         "type": "log"
        }
       }
      },
      "text/html": [
       "<div>                            <div id=\"e247af62-4db6-4370-8e7e-1f9d6cc7b4c1\" class=\"plotly-graph-div\" style=\"height:525px; width:100%;\"></div>            <script type=\"text/javascript\">                require([\"plotly\"], function(Plotly) {                    window.PLOTLYENV=window.PLOTLYENV || {};                                    if (document.getElementById(\"e247af62-4db6-4370-8e7e-1f9d6cc7b4c1\")) {                    Plotly.newPlot(                        \"e247af62-4db6-4370-8e7e-1f9d6cc7b4c1\",                        [{\"customdata\":[[\"India\"],[\"India\"],[\"South Korea\"],[\"Canada\"],[\"South Korea\"],[\"India\"],[\"India\"],[\"Argentina\"],[\"India\"],[\"India\"],[\"United States\"],[\"United Kingdom\"],[\"United States\"],[\"United States\"],[\"United States\"],[\"United States\"],[\"United States\"],[\"India\"],[\"United States\"],[\"Brazil\"],[\"India\"],[\"United States\"],[\"United States\"],[\"United States\"],[\"Argentina\"],[\"India\"],[\"India\"],[\"Colombia\"],[\"India\"],[\"United States\"],[\"Canada\"],[\"Colombia\"],[\"India\"],[\"United States\"],[\"United Kingdom\"],[\"Netherlands\"],[\"United States\"],[\"Colombia\"],[\"United States\"],[\"South Korea\"],[\"Indonesia\"],[\"United States\"],[\"United States\"],[\"United States\"],[\"United States\"],[\"United Kingdom\"],[\"Colombia\"],[\"United States\"],[\"United States\"],[\"Turkey\"],[\"United States\"],[\"India\"],[\"India\"],[\"Jordan\"],[\"United States\"],[\"United States\"],[\"United Kingdom\"],[\"India\"],[\"United States\"],[\"India\"],[\"United States\"],[\"Brazil\"],[\"United Kingdom\"],[\"United States\"],[\"Thailand\"],[\"Brazil\"],[\"Thailand\"],[\"United States\"],[\"United States\"],[\"United Kingdom\"],[\"India\"],[\"India\"],[\"United States\"],[\"Vietnam\"],[\"France\"],[\"Brazil\"],[\"Colombia\"],[\"India\"],[\"India\"],[\"Saudi Arabia\"],[\"Thailand\"],[\"United States\"],[\"India\"],[\"United Kingdom\"],[\"India\"],[\"United States\"],[\"United States\"],[\"Brazil\"],[\"Brazil\"],[\"India\"],[\"United States\"],[\"India\"],[\"Australia\"],[\"United States\"],[\"Spain\"],[\"United States\"],[\"India\"],[\"United States\"],[\"United Kingdom\"],[\"Colombia\"],[\"India\"],[\"Samoa\"],[\"France\"],[\"United States\"],[\"United States\"],[\"Spain\"],[\"United States\"],[\"Mexico\"],[\"Brazil\"],[\"United States\"]],\"hovertemplate\":\"\\u003cb\\u003e%{hovertext}\\u003c\\u002fb\\u003e\\u003cbr\\u003e\\u003cbr\\u003ecategory=Music\\u003cbr\\u003esubscribers=%{x}\\u003cbr\\u003evideo views=%{y}\\u003cbr\\u003evideo_views_for_the_last_30_days=%{marker.size}\\u003cbr\\u003eCountry=%{customdata[0]}\\u003cextra\\u003e\\u003c\\u002fextra\\u003e\",\"hovertext\":[\"T-Series\",\"Zee Music Company\",\"BANGTANTV\",\"Justin Bieber\",\"HYBE LABELS\",\"Shemaroo Filmi Gaane\",\"Tips Official\",\"El Reino Infantil\",\"Wave Music\",\"Sony Music India\",\"EminemMusic\",\"Ed Sheeran\",\"Taylor Swift\",\"Ariana Grande\",\"Billie Eilish\",\"SonyMusicIndiaVEVO\",\"Katy Perry\",\"Speed Records\",\"XXXTENTACION\",\"GR6 EXPLODE\",\"Goldmines Gaane Sune Ansune\",\"One Direction\",\"Daddy Yankee\",\"Bruno Mars\",\"La Granja de Zen\\u00ef\\u00bf\\u00bd\",\"T-Series Bollywood Classics\",\"Geet MP3\",\"J Balvin\",\"Rajshri\",\"DisneyMusicVEVO\",\"The Weeknd\",\"KAROL G\",\"Worldwide Records Bhojpuri\",\"ImagineDragons\",\"Adele\",\"Spinnin' Records\",\"Michael Jackson\",\"toycantando\",\"Wiz Khalifa\",\"JYP Entertainment\",\"Indosiar\",\"David Guetta\",\"Nicki Minaj\",\"TaylorSwiftVEVO\",\"Post Malone\",\"Coldplay\",\"Anuel AA\",\"EminemVEVO\",\"KatyPerryVEVO\",\"netd m\\u00ef\\u00bf\\u00bd\\u00ef\\u00bf\",\"Enrique Iglesias\",\"Wave Music Bhojpuri\",\"unknown boy varun\",\"toyorbabytv\",\"The Chainsmokers\",\"Charlie Puth\",\"Dua Lipa\",\"Sidhu Moose Wala\",\"Becky G\",\"Emiway Bantai\",\"7clouds\",\"Gusttavo Lima Oficial\",\"Calvin Harris\",\"Farruko\",\"GRAMMY GOLD OFFICIAL\",\"Dan-Sa \\u002f Daniel Saboya\",\"RsiamMusic : \\u00ef\\u00bf\\u00bd\\u00ef\\u00bf\\u00bd\\u00ef\\u00bf\\u00bd\\u00ef\\u00bf\\u00bd\\u00ef\\u00bf\\u00bd\\u00ef\\u00bf\\u00bd\\u00ef\\u00bf\\u00bd\\u00ef\\u00bf\\u00bd\",\"SonyMusicSouthVEVO\",\"Jason Derulo\",\"Queen Official\",\"Pop Chartbusters\",\"Lahari Music - TSeries\",\"Camila Cabello\",\"POPS Kids\",\"FitDance\",\"MK MUSIC\",\"Camilo\",\"DM - Desi Melodies\",\"Zee Music Classic\",\"Katakit Baby TV\",\"Genierock\",\"zayn\",\"SRK MUSIC\",\"AdeleVEVO\",\"Sony Music South\",\"50 Cent\",\"melanie martinez\",\"Camila Loures\",\"O Reino Infantil\",\"Aadishakti Films\",\"Coke Studio\",\"Neha Kakkar\",\"Trap City\",\"Lana Del Rey\",\"Luli Pamp\\u00ef\\u00bf\\u00bd\",\"Atlantic Records\",\"Think Music India\",\"Lindsey Stirling\",\"Awakening Music\",\"Codiscos\",\"Lokdhun Punjabi\",\"DJ Khaled\",\"Lofi Girl\",\"Akon\",\"EnriqueIglesiasVEVO\",\"Duo Tiempo De Sol\",\"Future\",\"elcarteldesantatv\",\"Mundo Bita\",\"Migos ATL\"],\"legendgroup\":\"Music\",\"marker\":{\"color\":\"rgb(102,194,165)\",\"size\":[2258000000.0,803613000.0,168290000.0,176326000.0,598173000.0,254961000.0,422634000.0,611828000.0,232025000.0,259310000.0,260193000.0,202720000.0,528392000.0,160216000.0,146862000.0,314505000.0,134242000.0,159757000.0,58362000.0,1635000000.0,814756000.0,6348.0,205594000.0,175243000.0,302071000.0,331474000.0,101357000.0,128696000.0,272255000.0,329861000.0,373828000.0,465647000.0,112648000.0,188837000.0,137099000.0,100040000.0,158591000.0,173836000.0,90450000.0,307631000.0,230183000.0,164215000.0,103631000.0,318593000.0,195499000.0,198875000.0,284144000.0,139443000.0,88940000.0,424815000.0,122914000.0,52678000.0,304021000.0,169056000.0,81660000.0,111500000.0,128047000.0,160690000.0,103171000.0,41289000.0,276751000.0,214803000.0,102410000.0,97758000.0,168597000.0,6148000000.0,54133000.0,257597000.0,447891000.0,93768000.0,72911000.0,89012000.0,42704000.0,256733000.0,780.0,136388000.0,59890000.0,141842000.0,86450000.0,90914000.0,82798000.0,36790000.0,57809000.0,84750000.0,242185000.0,119812000.0,56358000.0,40975000.0,109865000.0,48447000.0,3557000.0,25605000.0,147.0,135563000.0,201659000.0,97284000.0,217106000.0,15277000.0,35309000.0,228902000.0,34438000.0,379.0,30471000.0,91240000.0,75773000.0,53988000.0,472367.0,115881000.0,213700000.0,49412000.0],\"sizemode\":\"area\",\"sizeref\":4118125.0,\"symbol\":\"circle\"},\"mode\":\"markers\",\"name\":\"Music\",\"orientation\":\"v\",\"showlegend\":true,\"x\":[245000000,96700000,75600000,71600000,71300000,65600000,59300000,58400000,58000000,57200000,56900000,53500000,52900000,52700000,47900000,46600000,44200000,42500000,39200000,38900000,38300000,38200000,38000000,36700000,35700000,35400000,34300000,34100000,33500000,32700000,32600000,32100000,31700000,30700000,30200000,30100000,28200000,27700000,27500000,27400000,25900000,25700000,25700000,25600000,25500000,25300000,25000000,24700000,24600000,24100000,23800000,23100000,23100000,22900000,22600000,22000000,21800000,21400000,21300000,20400000,20100000,19900000,19000000,18800000,18600000,18500000,18400000,18000000,17900000,17000000,16900000,16600000,16300000,16200000,16100000,15900000,15900000,15700000,15700000,15500000,15400000,15400000,15200000,15100000,15000000,14900000,14900000,14700000,14600000,14500000,14400000,14100000,14100000,14100000,14000000,13900000,13800000,13600000,13500000,13400000,13100000,13100000,13000000,12900000,12900000,12800000,12700000,12500000,12500000,12400000],\"xaxis\":\"x\",\"y\":[228000000000.0,57856289381.0,20826993957.0,30608119724.0,28634566938.0,28648024439.0,33431802698.0,57271630846.0,40602020243.0,28837144516.0,27073872856.0,30367676736.0,29884657286.0,24004842608.0,13626331061.0,27286058807.0,25458952022.0,26820902622.0,10507474316.0,25154232306.0,16718192386.0,13598903820.0,22731415608.0,19378155425.0,27118354077.0,22637783517.0,12746535822.0,23005313609.0,14864294792.0,28516250629.0,23379969006.0,18699145555.0,16476978876.0,16793072362.0,14199108016.0,19607009165.0,14412474625.0,15777682516.0,13379395501.0,19883150017.0,11372071889.0,17793809548.0,10242981063.0,25592378292.0,14401218086.0,17331663193.0,14827085149.0,20531704527.0,23755792542.0,56106087508.0,17688774915.0,12889240875.0,9299371231.0,16298342829.0,14231943358.0,9924807127.0,11288359365.0,6264261757.0,10644857969.0,3579555124.0,14816075927.0,13917423958.0,16014044618.0,9573641299.0,20196704276.0,2908120896.0,11544297793.0,17921124985.0,9887116267.0,10847948832.0,8684010451.0,11946217860.0,6613422635.0,9763592867.0,7126210721.0,9198986881.0,6802382479.0,5914071870.0,5558051295.0,6386271870.0,14564170905.0,4909687948.0,6391679636.0,12413869881.0,9978734160.0,10069000444.0,4395184343.0,4684983333.0,11182302317.0,6290721701.0,4035738731.0,2131548711.0,5129529846.0,6884215292.0,8623705301.0,12513842343.0,11039343563.0,3764608356.0,5545936485.0,11789678655.0,4712624489.0,6637820731.0,1698279553.0,6300933122.0,15446707595.0,6662288136.0,9927699419.0,7489455451.0,16690788752.0,6993406259.0],\"yaxis\":\"y\",\"type\":\"scatter\"},{\"customdata\":[[\"United States\"],[\"United States\"],[\"India\"],[\"United States\"],[\"Russia\"],[\"India\"],[\"India\"],[\"Brazil\"],[\"Brazil\"],[\"Pakistan\"],[\"Pakistan\"],[\"Barbados\"],[\"Thailand\"],[\"United States\"],[\"Thailand\"],[\"India\"],[\"United States\"],[\"Indonesia\"],[\"Thailand\"],[\"India\"],[\"India\"],[\"Philippines\"],[\"United States\"],[\"United States\"],[\"Argentina\"],[\"Jordan\"],[\"United States\"],[\"Pakistan\"],[\"India\"],[\"India\"],[\"India\"],[\"Brazil\"],[\"United States\"],[\"Italy\"],[\"Japan\"],[\"Indonesia\"],[\"United Kingdom\"],[\"United States\"],[\"United States\"],[\"Mexico\"],[\"United States\"],[\"Mexico\"],[\"United States\"],[\"United States\"],[\"Germany\"],[\"Argentina\"],[\"India\"],[\"United States\"],[\"Japan\"],[\"United States\"],[\"India\"],[\"India\"],[\"Philippines\"],[\"Brazil\"],[\"United States\"],[\"Brazil\"],[\"United States\"],[\"Indonesia\"],[\"South Korea\"],[\"United States\"],[\"India\"],[\"United Kingdom\"],[\"Colombia\"],[\"United States\"],[\"United States\"],[\"United Kingdom\"],[\"United Kingdom\"],[\"Turkey\"],[\"India\"],[\"India\"],[\"India\"],[\"United Kingdom\"],[\"Ukraine\"],[\"Spain\"],[\"India\"],[\"United States\"],[\"United States\"],[\"Argentina\"],[\"Vietnam\"],[\"India\"],[\"Thailand\"],[\"India\"],[\"Indonesia\"],[\"United States\"],[\"Indonesia\"],[\"United States\"],[\"India\"],[\"Germany\"],[\"United States\"],[\"United States\"],[\"Thailand\"],[\"Thailand\"],[\"India\"],[\"Singapore\"],[\"United States\"],[\"United States\"],[\"United States\"],[\"Brazil\"],[\"India\"],[\"India\"],[\"India\"],[\"India\"],[\"Russia\"],[\"Mexico\"],[\"India\"],[\"United States\"],[\"India\"],[\"Indonesia\"],[\"Spain\"],[\"Thailand\"],[\"Japan\"],[\"Spain\"],[\"India\"],[\"Ecuador\"],[\"Thailand\"],[\"South Korea\"],[\"India\"],[\"India\"],[\"Ukraine\"],[\"India\"],[\"Indonesia\"],[\"Thailand\"],[\"Brazil\"],[\"Jordan\"],[\"India\"],[\"United States\"],[\"India\"],[\"United Kingdom\"],[\"Ukraine\"],[\"India\"],[\"India\"],[\"United States\"],[\"United States\"],[\"Russia\"],[\"Brazil\"],[\"United States\"],[\"Italy\"],[\"Indonesia\"],[\"Mexico\"],[\"United States\"],[\"United States\"],[\"India\"],[\"India\"],[\"India\"],[\"India\"]],\"hovertemplate\":\"\\u003cb\\u003e%{hovertext}\\u003c\\u002fb\\u003e\\u003cbr\\u003e\\u003cbr\\u003ecategory=Entertainment\\u003cbr\\u003esubscribers=%{x}\\u003cbr\\u003evideo views=%{y}\\u003cbr\\u003evideo_views_for_the_last_30_days=%{marker.size}\\u003cbr\\u003eCountry=%{customdata[0]}\\u003cextra\\u003e\\u003c\\u002fextra\\u003e\",\"hovertext\":[\"MrBeast\",\"Vlad and Niki\",\"Zee TV\",\"Marshmello\",\"Get Movies\",\"Shemaroo\",\"Voot Kids\",\"Felipe Neto\",\"Voc\\u00ef\\u00bf\\u00bd\\u00ef\\u00bf\\u00bd\\u00ef\\u00bf\\u00bd\",\"HAR PAL GEO\",\"ARY Digital HD\",\"Rihanna\",\"WorkpointOfficial\",\"Like Nastya ESP\",\"\\u00fd\\u00fd\\u00fd\\u00fd\\u00fd\\u00fd\\u00fd\\u00fd\\u00fd\\u00fd\\u00fd\\u00fd one31\",\"Saregama Music\",\"Ryan's World\",\"Jess No Limit\",\"Ch3Thailand\",\"Eros Now Music\",\"StarPlus\",\"GMA  Network\",\"DONA \\u00ef\\u00bf\\u00bd\\u00ef\\u00bf\\u00bd\",\"Lucas and Marcus\",\"TheDonato\",\"\\u00fd\\u00fd\\u00fd\\u00fd\\u00fd\\u00fd\\u00fd\\u00fd \\u00fd\\u00fd\\u00fd\\u00fd\\u00fd\\u00fd\\u00fd\\u00fd \\u00fd\\u00fd\\u00fd\\u00fd\\u00fd\\u00fd\\u00fd\\u00fd\\u00fd\\u00fd | toyoraljanahtv\",\"Zhong\",\"HUM TV\",\"Shemaroo Movies\",\"Crazy XYZ\",\"Dushyant kukreja\",\"Renato Garcia YT\",\"Netflix\",\"PANDA BOI\",\"Junya.\\u00ef\\u00bf\\u00bd\\u00ef\\u00bf\\u00bd\\u00ef\\u00bf\\u00bd\\u00ef\\u00bf\\u00bd\",\"TRANS7 OFFICIAL\",\"Dan Rhodes\",\"America's Got Talent\",\"Like Nastya AE\",\"MrBeast en Espa\\u00ef\\u00bf\\u00bd\\u00ef\",\"James Charles\",\"Juan De Dios Pantoja\",\"Maya and Mary\",\"Sesame Street\",\"Tsuriki Show\",\"DrossRotzank\",\"White Hill Music\",\"Kinder Spielzeug Kanal (Kidibli)\",\"Sagawa \\u002f\\u00ef\\u00bf\\u00bd\\u00ef\\u00bf\\u00bd\\u00ef\\u00bf\\u00bd\",\"Infinite\",\"Azhan5star\",\"Dangal TV Channel\",\"GMA Public  Affairs\",\"Rafa & Luiz\",\"Lyrical Lemonade\",\"Fatos Desconhecidos\",\"Yoeslan\",\"Deddy Corbuzier\",\"Mnet K-POP\",\"Ninja Kidz TV\",\"Vijay Television\",\"Got Talent Global\",\"Ami Rodriguez\",\"CookieSwirlC\",\"Marvel Entertainment\",\"Gordon Ramsay\",\"Britain's Got Talent\",\"tabii Urdu\",\"RKD Studios\",\"etvteluguindia\",\"Sonotek\",\"Sidemen\",\"\\u00fd\\u00fd\\u00fd\\u00fd\\u00fd\\u00fd\\u00fd\\u00fd\\u00fd\\u00fd\\u00fd\\u00fd\\u00fd\\u00fd\\u00fd\\u00fd\\u00fd\\u00fd\\u00fd\\u00fd\\u00fd\\u00fd\",\"CKN\",\"Shemaroo Comedy\",\"Miley Cyrus\",\"Jake Fellman\",\"RobleisIUTU\",\"Like Nastya VNM\",\"Fun For Kids TV - Hindi Rhymes\",\"AMARINTV : \\u00ef\\u00bf\\u00bd\\u00ef\\u00bf\\u00bd\\u00ef\\u00bf\\u00bd\\u00ef\\u00bf\\u00bd\\u00ef\\u00bf\\u00bd\\u00ef\\u00bf\\u00bd\\u00ef\\u00bf\\u00bd\\u00ef\\u00bf\\u00bd\\u00ef\\u00bf\\u00bd\\u00ef\\u00bf\\u00bd\\u00ef\\u00bf\\u00bd\\u00ef\\u00bf\\u00bd\",\"Taarak Mehta Ka Ooltah Chashmah\",\"TRANS TV Official\",\"VICE\",\"Like Nastya IDN\",\"With Kids[\\u00ef\\u00bf\\u00bd\\u00ef\\u00bf\\u00bd\\u00ef\\u00bf\\u00bd\\u00ef\\u00bf\\u00bd\\u00ef\",\"SriBalajiMovies\",\"Younes Zarou\",\"Jordan Matter\",\"\\u00fd\\u00fd\\u00fd\\u00fd\\u00fd\\u00fd\\u00fd\\u00fd \\u00fd\\u00fd\\u00fd\\u00fd\\u00fd\\u00fd\\u00fd\\u00fd\\u00fd\\u00fd\\u00fd\\u00fd\\u00fd\\u00fd\\u00fd\\u00fd\\u00fd\\u00fd\\u00fd\\u00fd\\u00fd\\u00fd\",\"Ch7HD\",\"GMMTV OFFICIAL\\u00ef\\u00bf\\u00bd\\u00ef\\u00bf\\u00bd\",\"Bollywood Classics\",\"LEGO\",\"Daily Dose Of Internet\",\"Disney Junior\",\"Prime Video India\",\"Juliana Baltar\",\"Kashvi Adlakha\",\"Mazhavil Manorama\",\"Sony LIV\",\"T-Series Hamaar Bhojpuri\",\"Chapitosiki\",\"XpressTV\",\"THE BROWN SIBLINGS\",\"Ray William Johnson\",\"A2 Motivation by Arvind Arora\",\"MNCTV OFFICIAL\",\"iTownGamePlay *Terror&Diversi\\u00ef\\u00bf\\u00bd\\u00ef\",\"\\u00fd\\u00fd\\u00fd\\u00fd\\u00fd\\u00fd\\u00fd\\u00fd\\u00fd\\u00fd\\u00fd\\u00fd8 : Thai Ch8\",\"Bayashi TV\",\"Canal Nostalgia\",\"Colors Rishtey\",\"Doc Tops\",\"GMM25Thailand\",\"\\u00fd\\u00fd\\u00fd\\u00fd\\u00fd\\u00fd\\u00fd\\u00fd\\u00fd\\u00fd\\u00fd\\u00fd\\u00fd\\u00fd\\u00fd\\u00fd\\u00fd\\u00fd\\u00fd\\u00fd\\u00fd\",\"RS 1313 SHORTS\",\"ZEE5\",\"SIS vs BRO\",\"Zee Bangla\",\"Yudist Ardhana\",\"Bie The Ska\",\"Crescendo com Luluca\",\"karameeshchannel\",\"T-Series Regional\",\"Airrack\",\"Goldmines Premiere\",\"JULIA GISELLA\",\"Lady Diana\",\"Sanjoy Das Official\",\"Vijay Kumar Viner Vlogs\",\"Vogue\",\"HUBA\\u00ef\\u00bf\\u00bd\\u00ef\\u00bf\\u00bd\",\"BIBO \\u00ef\\u00bf\\u00bd\\u00ef\\u00bf\\u00bd\\u00ef\\u00bf\\u00bd\\u00ef\\u00bf\\u00bd\\u00ef\\u00bf\\u00bd\\u00ef\\u00bf\",\"MC Divertida\",\"Ryan Trahan\",\"Davie504\",\"Calon Sarjana\",\"Susy Mouriz\",\"Top Viral Talent\",\"YoungBoy Never Broke Again\",\"NDTV\",\"Family Fitness\",\"Zee Tamil\",\"Flowers Comedy\"],\"legendgroup\":\"Entertainment\",\"marker\":{\"color\":\"rgb(252,141,98)\",\"size\":[1348000000.0,580574000.0,1707000000.0,112100000.0,306540000.0,232744000.0,233988000.0,130359000.0,48032000.0,1337000000.0,1149000000.0,182926000.0,130461000.0,321026000.0,140754000.0,533793000.0,238613000.0,547141000.0,61307000.0,20263000.0,1667000000.0,798510000.0,153280000.0,312099000.0,190679000.0,116434000.0,180519000.0,684860000.0,184966000.0,102235000.0,429692000.0,82912000.0,118226000.0,1225000000.0,721848000.0,123189000.0,331889000.0,134412000.0,169865000.0,33590000.0,58126000.0,46862000.0,44542000.0,124187000.0,756717000.0,35539000.0,93183000.0,139333000.0,711254000.0,68350000.0,236293000.0,561020000.0,142317000.0,118410000.0,80062000.0,52330000.0,874796000.0,85.0,158540000.0,195203000.0,907534000.0,86457000.0,263864000.0,221702000.0,63.0,39228000.0,54192000.0,110806000.0,59841000.0,272917000.0,28678000.0,78158000.0,68006000.0,102.0,102431000.0,127982000.0,497044000.0,27545000.0,84467000.0,109847000.0,235993000.0,331944000.0,45811000.0,36357000.0,42836000.0,45698000.0,154049000.0,617257000.0,199033000.0,21953000.0,87757000.0,181382000.0,151477000.0,117209000.0,399807000.0,267131000.0,335111000.0,56218000.0,139123000.0,361483000.0,210909000.0,105978000.0,713509000.0,33880000.0,102357000.0,312858000.0,130731000.0,43581000.0,13857000.0,49556000.0,2477.0,226420.0,347603000.0,16409000.0,45622000.0,1370000.0,212639000.0,149799000.0,105.0,59927000.0,176062000.0,12502000.0,68058000.0,87639000.0,33484000.0,99654000.0,37648000.0,1615.0,75162000.0,179232000.0,109813000.0,45095000.0,319647000.0,8769000.0,64517000.0,248.0,29870000.0,2292000000.0,368437000.0,29379000.0,169968000.0,58527000.0,235715000.0,349940000.0,180021000.0],\"sizemode\":\"area\",\"sizeref\":4118125.0,\"symbol\":\"circle\"},\"mode\":\"markers\",\"name\":\"Entertainment\",\"orientation\":\"v\",\"showlegend\":true,\"x\":[166000000,98900000,70500000,56400000,47500000,47400000,45500000,45200000,44700000,44600000,43200000,41900000,39000000,37600000,37500000,35500000,35200000,34000000,33500000,32700000,32000000,31900000,31700000,31600000,31200000,30200000,29200000,28300000,28200000,27300000,27100000,26900000,26700000,26400000,26200000,25000000,24800000,24800000,24400000,24200000,23900000,23600000,23600000,23300000,23000000,23000000,23000000,22200000,22000000,21300000,21300000,21300000,21200000,21000000,21000000,20900000,20700000,20600000,20500000,20500000,20400000,20300000,20200000,20100000,20100000,20000000,19700000,19600000,19500000,19400000,19200000,18800000,18800000,18700000,18600000,18300000,18100000,17900000,17900000,17500000,17400000,17300000,17100000,16900000,16800000,16700000,16600000,16600000,16600000,16500000,16400000,16400000,16300000,16200000,16100000,16100000,15700000,15600000,15500000,15300000,15200000,15200000,15100000,15000000,15000000,15000000,15000000,14900000,14900000,14900000,14900000,14700000,14700000,14600000,14500000,14400000,14400000,14400000,14200000,14200000,14100000,14100000,14000000,13900000,13900000,13800000,13700000,13500000,13500000,13500000,13500000,13300000,13200000,13200000,13200000,13100000,13000000,13000000,13000000,12900000,12700000,12500000,12500000,12500000,12500000],\"xaxis\":\"x\",\"y\":[28368841870.0,77180169894.0,73139054467.0,14696003229.0,30788679536.0,22519705183.0,21388725229.0,16602198273.0,7828610828.0,41139050371.0,37939780685.0,22477745835.0,36131228583.0,18208196857.0,27262462114.0,15657673422.0,55299840198.0,3963007415.0,29611914495.0,17853798780.0,26800674545.0,19428308461.0,21031745531.0,11615848291.0,6187804950.0,27684955537.0,14727238483.0,23844936965.0,7600740993.0,7705492350.0,17318452893.0,7938616641.0,7173668905.0,17211600007.0,16097531087.0,14169516119.0,17387583720.0,3699352704.0,12385924995.0,2700914170.0,4067878931.0,2135644776.0,6766461070.0,22471357411.0,31494513067.0,6041264489.0,10939966484.0,11136266461.0,18347969186.0,5141834668.0,10047736580.0,12895427184.0,11364908616.0,7762905663.0,10631638628.0,3828000587.0,17963202261.0,4956090094.0,15038593883.0,11009148579.0,29406206620.0,2441288701.0,2951914200.0,23353115850.0,5634695322.0,3875172235.0,11323617496.0,8779729549.0,5234251168.0,23038014291.0,7590582024.0,5257834105.0,9594188708.0,12295637162.0,6047584292.0,7760819588.0,13378360425.0,5168721499.0,9867515979.0,7612385622.0,13043561912.0,11371738047.0,9710962528.0,4609753237.0,7195314800.0,8826138204.0,9439857193.0,15278668857.0,5819508534.0,2440934034.0,9463244435.0,12844432341.0,7141825267.0,20522339099.0,6872702790.0,15812009296.0,8696631898.0,3869457097.0,12714141740.0,16545966132.0,7151683497.0,7564652648.0,13897932103.0,4008801873.0,8658553456.0,10239836582.0,8932038210.0,8074260978.0,4977284539.0,5549770244.0,8615618825.0,1506796393.0,12362331529.0,2613197447.0,9383692066.0,600154268.0,8011977288.0,18515587421.0,6973932553.0,11428794827.0,6036496916.0,4627069704.0,5094050461.0,9106781518.0,5217553897.0,2224911030.0,1973638757.0,5380132790.0,8265920659.0,3912334359.0,7958771872.0,4177184071.0,9884886099.0,1148422000.0,5224764969.0,2182651464.0,2683297849.0,10664585.0,6270909026.0,3643698504.0,13174393401.0,4935793409.0,10384848759.0,11552190002.0,11691081301.0],\"yaxis\":\"y\",\"type\":\"scatter\"},{\"customdata\":[[\"United States\"],[\"United States\"],[\"India\"],[\"India\"],[\"United States\"],[\"United States\"],[\"Canada\"],[\"United States\"],[\"India\"],[\"United States\"],[\"India\"],[\"India\"],[\"Mexico\"],[\"India\"],[\"Germany\"],[\"Indonesia\"],[\"India\"],[\"United States\"],[\"United States\"],[\"United States\"],[\"Argentina\"],[\"India\"],[\"India\"],[\"Indonesia\"],[\"India\"],[\"United States\"],[\"India\"],[\"United States\"],[\"India\"],[\"India\"],[\"United States\"],[\"India\"],[\"United States\"]],\"hovertemplate\":\"\\u003cb\\u003e%{hovertext}\\u003c\\u002fb\\u003e\\u003cbr\\u003e\\u003cbr\\u003ecategory=Education\\u003cbr\\u003esubscribers=%{x}\\u003cbr\\u003evideo views=%{y}\\u003cbr\\u003evideo_views_for_the_last_30_days=%{marker.size}\\u003cbr\\u003eCountry=%{customdata[0]}\\u003cextra\\u003e\\u003c\\u002fextra\\u003e\",\"hovertext\":[\"Cocomelon - Nursery Rhymes\",\"Pinkfong Baby Shark - Kids' Songs & Stories\",\"ChuChu TV Nursery Rhymes & Kids Songs\",\"Infobells - Hindi\",\"BillionSurpriseToys  - Nursery Rhymes & Cartoons\",\"Little Baby Bum - Nursery Rhymes & Kids Songs\",\"Super Simple Songs - Kids Songs\",\"Genevieve's Playhouse - Learning Videos for Kids\",\"CVS 3D Rhymes & Kids Songs\",\"BabyBus - Kids Songs and Cartoons\",\"infobells - Tamil\",\"infobells - Telugu\",\"BabyBus - Canciones Infantiles & Videos para Ni\\u00ef\\u00bf\\u00bd\\u00ef\",\"Dr. Vivek Bindra: Motivational Speaker\",\"Kurzgesagt \\u00ef\\u00bf\\u00bd\\u00ef\\u00bf\\u00bd\\u00ef\\u00bf\\u00bd\\u00ef\\u00bf\\u00bd\\u00ef\\u00bf\\u00bd\\u00ef\\u00bf\",\"BabyBus - Cerita & Lagu Anak-anak\",\"Kiddiestv Hindi - Nursery Rhymes & Kids Songs\",\"\\u00fd\\u00fd\\u00fd\\u00fd\\u00fd\\u00fd\\u00fd\\u00fd\\u00fd\\u00fd\\u00fd\\u00fd\\u00fd\\u00fd \\u00fd\\u00fd\\u00fd\\u00fd\",\"TED-Ed\",\"Blippi - Educational Videos for Kids\",\"El Reino a Jugar\",\"Dear Sir\",\"Infobells Bangla\",\"Daftar Populer\",\"StudyIQ IAS\",\"Netflix Jr.\",\"infobells - Kannada\",\"Veritasium\",\"infobells\",\"JOJO TV - Hindi Stories\",\"The Infographics Show\",\"Right to Shiksha\",\"Caylus\"],\"legendgroup\":\"Education\",\"marker\":{\"color\":\"rgb(141,160,203)\",\"size\":[1975000000.0,473387000.0,420292000.0,815949000.0,266747000.0,98775000.0,560756000.0,335307000.0,136084000.0,127498000.0,109828000.0,288110000.0,136821000.0,28588000.0,29269000.0,112768000.0,113420000.0,21587000.0,29874000.0,180412000.0,83709000.0,24056000.0,167888000.0,17231000.0,74483000.0,79402000.0,141688000.0,44149000.0,23893000.0,10764000.0,51820000.0,213738000.0,177600000.0],\"sizemode\":\"area\",\"sizeref\":4118125.0,\"symbol\":\"circle\"},\"mode\":\"markers\",\"name\":\"Education\",\"orientation\":\"v\",\"showlegend\":true,\"x\":[162000000,68200000,65900000,53300000,52200000,40900000,39200000,34900000,33400000,32800000,28900000,28300000,22900000,20900000,20800000,20300000,20200000,19000000,18800000,18100000,17200000,15800000,15500000,15100000,14700000,14700000,14200000,13900000,13700000,13600000,13200000,12800000,12400000],\"xaxis\":\"x\",\"y\":[164000000000.0,38843229963.0,45757850229.0,30516172739.0,9877365274.0,39450824833.0,44900897958.0,25607397308.0,20269857567.0,26355088167.0,17930570614.0,14814192034.0,13206471140.0,1693149479.0,2378448129.0,11819051552.0,7274150246.0,4924054368.0,3654621568.0,14857290259.0,11445492404.0,1349288771.0,7776706184.0,2143140898.0,4029253667.0,8882319696.0,6554000320.0,2165885634.0,5178142148.0,5141201173.0,5263540904.0,7876740921.0,4779139505.0],\"yaxis\":\"y\",\"type\":\"scatter\"},{\"customdata\":[[\"India\"],[\"India\"],[\"India\"],[\"United States\"],[\"India\"],[\"United Kingdom\"],[\"United States\"],[\"United States\"],[\"United States\"],[\"Saudi Arabia\"],[\"India\"],[\"Ukraine\"]],\"hovertemplate\":\"\\u003cb\\u003e%{hovertext}\\u003c\\u002fb\\u003e\\u003cbr\\u003e\\u003cbr\\u003ecategory=Shows\\u003cbr\\u003esubscribers=%{x}\\u003cbr\\u003evideo views=%{y}\\u003cbr\\u003evideo_views_for_the_last_30_days=%{marker.size}\\u003cbr\\u003eCountry=%{customdata[0]}\\u003cextra\\u003e\\u003c\\u002fextra\\u003e\",\"hovertext\":[\"SET India\",\"Sony SAB\",\"Colors TV\",\"Masha and The Bear\",\"Sony PAL\",\"Mr Bean\",\"Kids TV - Nursery Rhymes And Baby Songs\",\"Sony AATH\",\"MGC Playhouse\",\"\\u00fd\\u00fd\\u00fd\\u00fd\\u00fd\\u00fd\\u00fd\\u00fd \\u00fd\\u00fd \\u00fd\\u00fd\\u00fd\\u00fd\\u00fd\\u00fd\\u00fd\\u00fd\",\"Kids TV India Hindi Nursery Rhymes\",\"\\u00fd\\u00fd\\u00fd\\u00fd\\u00fd\\u00fd\\u00fd\\u00fd \\u00fd\\u00fd\\u00fd\\u00fd \\u00fd\\u00fd\\u00fd\\u00fd\\u00fd\\u00fd\\u00fd\\u00fd\\u00fd\\u00fd\\u00fd\\u00fd\\u00fd\\u00fd\"],\"legendgroup\":\"Shows\",\"marker\":{\"color\":\"rgb(231,138,195)\",\"size\":[1824000000.0,1657000000.0,1188000000.0,670459000.0,415914000.0,56534000.0,128448000.0,274212000.0,102621000.0,135036000.0,78651000.0,71118000.0],\"sizemode\":\"area\",\"sizeref\":4118125.0,\"symbol\":\"circle\"},\"mode\":\"markers\",\"name\":\"Shows\",\"orientation\":\"v\",\"showlegend\":true,\"x\":[159000000,83000000,64600000,42400000,38200000,32100000,23100000,19600000,17900000,15500000,13800000,12900000],\"xaxis\":\"x\",\"y\":[148000000000.0,101000000000.0,61510906457.0,24519022988.0,28519339489.0,10602236110.0,13151870846.0,13930021471.0,16174530046.0,8265129639.0,6646953396.0,5585085130.0],\"yaxis\":\"y\",\"type\":\"scatter\"},{\"customdata\":[[\"Russia\"],[\"South Korea\"],[\"Philippines\"],[\"Colombia\"],[\"Mexico\"],[\"United Arab Emirates\"],[\"Saudi Arabia\"],[\"India\"],[\"Brazil\"],[\"Indonesia\"],[\"Venezuela\"],[\"United States\"],[\"United States\"],[\"Indonesia\"],[\"United States\"],[\"United States\"],[\"United States\"],[\"United States\"],[\"United States\"],[\"India\"],[\"Saudi Arabia\"],[\"United States\"],[\"France\"],[\"United States\"],[\"United States\"],[\"United States\"],[\"United States\"],[\"India\"],[\"Indonesia\"],[\"United States\"],[\"Russia\"],[\"United States\"],[\"United States\"],[\"Mexico\"],[\"Russia\"],[\"Indonesia\"],[\"United States\"],[\"United States\"],[\"India\"],[\"India\"],[\"Indonesia\"],[\"United States\"],[\"United States\"],[\"Indonesia\"],[\"Mexico\"],[\"Russia\"],[\"India\"],[\"United States\"],[\"Egypt\"],[\"India\"],[\"Germany\"],[\"India\"],[\"India\"],[\"United States\"],[\"Mexico\"],[\"United States\"],[\"India\"],[\"Mexico\"],[\"United States\"],[\"United States\"],[\"Russia\"],[\"United States\"],[\"United States\"],[\"Brazil\"],[\"United States\"],[\"Ecuador\"],[\"Brazil\"],[\"United Arab Emirates\"],[\"Colombia\"],[\"United States\"],[\"South Korea\"],[\"India\"]],\"hovertemplate\":\"\\u003cb\\u003e%{hovertext}\\u003c\\u002fb\\u003e\\u003cbr\\u003e\\u003cbr\\u003ecategory=People & Blogs\\u003cbr\\u003esubscribers=%{x}\\u003cbr\\u003evideo views=%{y}\\u003cbr\\u003evideo_views_for_the_last_30_days=%{marker.size}\\u003cbr\\u003eCountry=%{customdata[0]}\\u003cextra\\u003e\\u003c\\u002fextra\\u003e\",\"hovertext\":[\"Like Nastya\",\"BLACKPINK\",\"ABS-CBN Entertainment\",\"Shakira\",\"Kimberly Loaiza\",\"shfa2 - \\u00ef\\u00bf\\u00bd\\u00ef\\u00bf\\u00bd\",\"shfa\",\"ABP NEWS\",\"Maria Clara & JP\",\"Ricis Official\",\"YOLO AVENTURAS\",\"\\u00fd\\u00fd\\u00fd Kids Roma Show\",\"Beast Reacts\",\"Rans Entertainment\",\"WB Kids\",\"Diana and Roma EN\",\"Lady Gaga\",\"TED\",\"Vania Mania Kids\",\"Sun TV\",\"mmoshaya\",\"LeoNata Family\",\"Smile Family\",\"Zach Choi ASMR\",\"Stokes Twins\",\"Tekashi 6ix9ine\",\"The Royalty Family\",\"Ishaan Ali 11\",\"Baim Paula\",\"LIV Crime\",\"tuzelity SHUFFLE\",\"Jake Paul\",\"Crafty Panda\",\"JukiLop\",\"Like Nastya Vlog\",\"Willie Salim\",\"David Dobrik\",\"KatieAngel\",\"Priyal Kukreja\",\"jaanvi patel\",\"tanboy kun\",\"Danny Fitt\",\"XO TEAM\",\"Arif muhammad\",\"Blippi Espa\\u00ef\\u00bf\\u00bd\\u00ef\",\"ILYA BORZOV\",\"Pok\\u00ef\\u00bf\\u00bd\\u00ef\\u00bf\\u00bd\\u00ef\\u00bf\\u00bd\\u00ef\\u00bf\\u00bd\\u00ef\\u00bf\\u00bd\\u00ef\\u00bf\\u00bd\\u00ef\\u00bf\\u00bd\\u00ef\\u00bf\\u00bd\\u00ef\\u00bf\\u00bd\",\"PowerfulJRE\",\"Mohamed Ramadan I \\u00ef\\u00bf\\u00bd\\u00ef\\u00bf\\u00bd\\u00ef\\u00bf\\u00bd\\u00ef\\u00bf\\u00bd\\u00ef\\u00bf\\u00bd\\u00ef\\u00bf\\u00bd\\u00ef\",\"Chetan Monga Vlogs\",\"Beast Philanthropy\",\"TV9 Bharatvarsh\",\"Indore Physical Academy\",\"Super Polina\",\"TV Ana Emilia\",\"ViralHog\",\"ETV Jabardasth\",\"123 GO! Spanish\",\"Peet Montzingo\",\"The Q\",\"\\u00fd\\u00fd\\u00fd\\u00fd\\u00fd\\u00fd\\u00fd\\u00fd\\u00fd\\u00fd\\u00fd\\u00fd\\u00fd\\u00fd\\u00fd\\u00fd\\u00fd\\u00fd\",\"Kids Line\\u00ef\\u00bf\\u00bd\\u00ef\\u00bf\\u00bd\\u00ef\\u00bf\\u00bd\\u00ef\\u00bf\\u00bd\\u00ef\\u00bf\\u00bd\\u00ef\\u00bf\\u00bd\\u00ef\\u00bf\\u00bd\",\"\\u00fd\\u00fd\\u00fd\\u00fd\\u00fd\\u00fdTwinsFromRussia\",\"Painzeiro\",\"\\u00fd\\u00fd\\u00fd\\u00fd\\u00fd\\u00fd\\u00fd\\u00fd\\u00fd\\u00fd\\u00fd\\u00fd\\u00fd\\u00fd\\u00fd Ms Yeah\",\"RaptorGamer\",\"Pastor Ant\\u00ef\\u00bf\\u00bd\\u00ef\\u00bf\\u00bd\\u00ef\\u00bf\\u00bd\\u00ef\\u00bf\\u00bd\\u00ef\",\"AlArabiya \\u00ef\\u00bf\\u00bd\\u00ef\\u00bf\\u00bd\\u00ef\\u00bf\\u00bd\\u00ef\\u00bf\\u00bd\\u00ef\\u00bf\",\"Go Ami Go!\",\"CaseyNeistat\",\"\\u00fd\\u00fd\\u00fd\\u00fd\\u00fd\\u00fd\\u00fd\\u00fd\\u00fdSULGI\",\"Free Fire India Official\"],\"legendgroup\":\"People & Blogs\",\"marker\":{\"color\":\"rgb(166,216,84)\",\"size\":[48947000.0,498930000.0,176629000.0,353412000.0,136745000.0,247731000.0,1589000.0,267060000.0,251449000.0,157101000.0,3589.0,175844000.0,276187000.0,58487000.0,140319000.0,177769000.0,143169000.0,13246000.0,155215000.0,982238000.0,73829000.0,1174000000.0,735.0,234222000.0,197953000.0,113542000.0,160227000.0,729409000.0,26974000.0,383700000.0,552266000.0,14646000.0,6137000.0,2382000.0,48947000.0,197369000.0,8650000.0,51687000.0,431390000.0,346753000.0,48174000.0,275264000.0,37911.0,71870000.0,90012000.0,475565000.0,65380000.0,43409000.0,46060000.0,113572000.0,37883.0,418474000.0,70409000.0,413774.0,26783000.0,1364000000.0,133584000.0,26519000.0,397715000.0,3.0,90241000.0,161889000.0,119389000.0,43990000.0,60661000.0,62909000.0,31796000.0,80219000.0,327600000.0,5952000.0,113132000.0,64735000.0],\"sizemode\":\"area\",\"sizeref\":4118125.0,\"symbol\":\"circle\"},\"mode\":\"markers\",\"name\":\"People & Blogs\",\"orientation\":\"v\",\"showlegend\":true,\"x\":[106000000,89800000,44200000,43500000,41300000,39700000,38400000,37000000,37000000,33300000,31200000,27400000,26700000,25400000,25200000,23900000,23200000,23100000,22700000,22600000,22600000,22600000,22300000,21900000,21800000,21500000,21300000,21300000,21100000,20900000,20700000,20400000,19800000,19400000,18500000,18500000,17900000,17900000,17800000,17700000,17700000,16900000,16200000,15800000,15500000,15300000,15200000,15100000,15100000,15000000,14800000,14500000,14400000,14300000,14000000,14000000,14000000,13800000,13400000,13400000,13300000,13300000,13200000,13100000,13100000,13100000,12900000,12900000,12700000,12600000,12600000,12300000],\"xaxis\":\"x\",\"y\":[90479060027.0,32144597566.0,50292540392.0,27568757295.0,5603111948.0,23884824160.0,21528116909.0,13102611515.0,24188861917.0,5994136760.0,9673649438.0,10336420490.0,4388047013.0,6430853035.0,11081602368.0,7213499085.0,15751661213.0,2551113422.0,10115316784.0,20847038152.0,17507060680.0,27084848152.0,8663830163.0,5918314128.0,4469711607.0,5890180734.0,6269945014.0,12761253839.0,4526271677.0,11058049885.0,8658941531.0,7311322368.0,5759442450.0,1577859332.0,8147575884.0,4051072188.0,7176572299.0,3841205465.0,11057945183.0,7912733203.0,3647267655.0,9544277833.0,14784781923.0,4122634467.0,8984089026.0,9938811455.0,857725714.0,3060202847.0,5324913850.0,9924103188.0,272678287.0,10303519926.0,4156427797.0,4776507159.0,4674164601.0,18917687143.0,13542939513.0,5019136690.0,10022557589.0,4306212515.0,6482687220.0,9088562002.0,9378175604.0,2555801802.0,4399833602.0,2879263916.0,2112274210.0,7520379951.0,1714955279.0,3152402405.0,3485373675.0,1674409945.0],\"yaxis\":\"y\",\"type\":\"scatter\"},{\"customdata\":[[\"United States\"],[\"United States\"],[\"Switzerland\"],[\"Australia\"],[\"United States\"],[\"Spain\"],[\"United States\"],[\"Spain\"],[\"Brazil\"]],\"hovertemplate\":\"\\u003cb\\u003e%{hovertext}\\u003c\\u002fb\\u003e\\u003cbr\\u003e\\u003cbr\\u003ecategory=Sports\\u003cbr\\u003esubscribers=%{x}\\u003cbr\\u003evideo views=%{y}\\u003cbr\\u003evideo_views_for_the_last_30_days=%{marker.size}\\u003cbr\\u003eCountry=%{customdata[0]}\\u003cextra\\u003e\\u003c\\u002fextra\\u003e\",\"hovertext\":[\"WWE\",\"Dude Perfect\",\"FIFA\",\"How Ridiculous\",\"UFC - Ultimate Fighting Championship\",\"FC Barcelona\",\"DALLMYD\",\"gymvirtual\",\"Natan por A\\u00ef\\u00bf\"],\"legendgroup\":\"Sports\",\"marker\":{\"color\":\"rgb(255,217,47)\",\"size\":[714614000.0,141200000.0,58863000.0,391298000.0,133208000.0,84867000.0,30677000.0,11993000.0,552513000.0],\"sizemode\":\"area\",\"sizeref\":4118125.0,\"symbol\":\"circle\"},\"mode\":\"markers\",\"name\":\"Sports\",\"orientation\":\"v\",\"showlegend\":true,\"x\":[96000000,59500000,19400000,18000000,16400000,15300000,13600000,12900000,12300000],\"xaxis\":\"x\",\"y\":[77428473662.0,16241549158.0,5529131886.0,9601137077.0,7135820721.0,2656528205.0,1948925559.0,2509752944.0,9029609749.0],\"yaxis\":\"y\",\"type\":\"scatter\"},{\"customdata\":[[\"United States\"],[\"India\"],[\"Russia\"],[\"India\"],[\"Brazil\"],[\"United States\"],[\"United Kingdom\"],[\"United States\"],[\"India\"],[\"India\"],[\"United Kingdom\"],[\"India\"],[\"India\"],[\"United States\"],[\"Brazil\"],[\"United States\"],[\"India\"],[\"United States\"],[\"India\"],[\"Brazil\"],[\"United States\"],[\"Malaysia\"],[\"Argentina\"],[\"Brazil\"],[\"Mexico\"],[\"United States\"],[\"Brazil\"],[\"India\"]],\"hovertemplate\":\"\\u003cb\\u003e%{hovertext}\\u003c\\u002fb\\u003e\\u003cbr\\u003e\\u003cbr\\u003ecategory=Film & Animation\\u003cbr\\u003esubscribers=%{x}\\u003cbr\\u003evideo views=%{y}\\u003cbr\\u003evideo_views_for_the_last_30_days=%{marker.size}\\u003cbr\\u003eCountry=%{customdata[0]}\\u003cextra\\u003e\\u003c\\u002fextra\\u003e\",\"hovertext\":[\"Movieclips\",\"YRF\",\"\\u00fd\\u00fd\\u00fd\\u00fd\\u00fd\\u00fd\\u00fd\\u00fd \\u00fd\\u00fd \\u00fd\\u00fd\\u00fd\\u00fd\\u00fd\\u00fd\\u00fd\\u00fd\\u00fd\\u00fd\\u00fd\\u00fd\\u00fd\\u00fd\",\"Jingle Toons\",\"Galinha Pintadinha\",\"Selena Gomez\",\"Peppa Pig - Official Channel\",\"Nick Jr.\",\"Goldmines Bollywood\",\"Pen Movies\",\"Peppa Pig Espa\\u00ef\\u00bf\\u00bd\\u00ef\\u00bf\\u00bd\\u00ef\\u00bf\\u00bd\\u00ef\\u00bf\\u00bd\\u00ef\\u00bf\\u00bd\\u00ef\\u00bf\\u00bd\\u00ef\\u00bf\\u00bd\\u00ef\\u00bf\\u00bd\\u00ef\\u00bf\\u00bd\",\"Tilak\",\"Goldmines Cineplex\",\"Ben Azelart\",\"Totoy kids - Portugu\\u00ef\\u00bf\\u00bd\",\"Pencilmation\",\"Green Gold TV - Official Channel\",\"DaFuq!?Boom!\",\"Wow Kidz Action\",\"Turma da M\\u00ef\\u00bf\\u00bd\\u00ef\\u00bf\\u00bd\",\"MSA previously My Story Animated\",\"Les' Copaque Production\",\"El Payaso Plim Plim\",\"Gato Galactico | GAL\\u00ef\\u00bf\\u00bd\\u00ef\\u00bf\",\"Totoy kids - Espa\\u00ef\\u00bf\\u00bd\\u00ef\",\"Rotten Tomatoes Trailers\",\"Peppa Pig em Portugu\\u00ef\\u00bf\\u00bd\\u00ef\\u00bf\\u00bd\\u00ef\\u00bf\\u00bd\\u00ef\\u00bf\\u00bd\\u00ef\\u00bf\\u00bd\\u00ef\\u00bf\\u00bd\\u00ef\\u00bf\\u00bd\\u00ef\\u00bf\\u00bd\\u00ef\\u00bf\",\"Zee Kids\"],\"legendgroup\":\"Film & Animation\",\"marker\":{\"color\":\"rgb(229,196,148)\",\"size\":[114668000.0,512093000.0,303780000.0,179903000.0,403508000.0,115792000.0,244925000.0,42546000.0,99677000.0,94853000.0,53589000.0,367347000.0,48740000.0,184946000.0,39495000.0,14862000.0,70278000.0,2304000000.0,105706000.0,76903000.0,20708.0,117727000.0,640030000.0,44121000.0,112393000.0,25738000.0,27340000.0,95163000.0],\"sizemode\":\"area\",\"sizeref\":4118125.0,\"symbol\":\"circle\"},\"mode\":\"markers\",\"name\":\"Film & Animation\",\"orientation\":\"v\",\"showlegend\":true,\"x\":[59500000,54600000,43200000,34000000,33800000,33600000,31400000,27300000,26400000,24300000,23600000,23400000,22500000,21900000,20400000,20100000,20000000,19600000,19000000,19000000,17800000,17700000,17700000,16800000,16000000,15800000,13100000,12400000],\"xaxis\":\"x\",\"y\":[59316472754.0,35302243691.0,36458726976.0,11351015824.0,27274550757.0,13013567335.0,22919271731.0,22440611155.0,8595760553.0,6608773195.0,7920637200.0,9465863821.0,2431154438.0,4454917643.0,1796227417.0,11317309935.0,9715291883.0,7906181776.0,8281724393.0,13824277846.0,8588704539.0,9059696049.0,17247584185.0,3693798804.0,5997599089.0,13116313599.0,4214172991.0,7683670251.0],\"yaxis\":\"y\",\"type\":\"scatter\"},{\"customdata\":[[\"India\"],[\"United States\"],[\"India\"],[\"India\"],[\"Philippines\"],[\"India\"],[\"India\"],[\"Ukraine\"],[\"India\"],[\"India\"],[\"India\"],[\"Thailand\"],[\"India\"],[\"United States\"],[\"India\"],[\"Philippines\"],[\"Indonesia\"],[\"United States\"],[\"United Kingdom\"],[\"Pakistan\"],[\"Philippines\"]],\"hovertemplate\":\"\\u003cb\\u003e%{hovertext}\\u003c\\u002fb\\u003e\\u003cbr\\u003e\\u003cbr\\u003ecategory=News & Politics\\u003cbr\\u003esubscribers=%{x}\\u003cbr\\u003evideo views=%{y}\\u003cbr\\u003evideo_views_for_the_last_30_days=%{marker.size}\\u003cbr\\u003eCountry=%{customdata[0]}\\u003cextra\\u003e\\u003c\\u002fextra\\u003e\",\"hovertext\":[\"Aaj Tak\",\"YouTube\",\"IndiaTV\",\"Zee News\",\"Raffy Tulfo in Action\",\"The Lallantop\",\"DLS News\",\"News 24\",\"News18 India\",\"NMF News\",\"BBC News Hindi\",\"Thairath Online\",\"Narendra Modi\",\"CNN\",\"NDTV India\",\"ABS-CBN News\",\"KOMPASTV\",\"ABC News\",\"BBC News\",\"Geo News\",\"GMA Integrated News\"],\"legendgroup\":\"News & Politics\",\"marker\":{\"color\":\"rgb(179,179,179)\",\"size\":[461148000.0,21103000.0,290847000.0,461472000.0,163130000.0,273920000.0,32111000.0,370779000.0,394106000.0,59201000.0,131202000.0,224756000.0,185969000.0,187006000.0,49662000.0,181644000.0,113064000.0,185709000.0,66273000.0,100053000.0,115459000.0],\"sizemode\":\"area\",\"sizeref\":4118125.0,\"symbol\":\"circle\"},\"mode\":\"markers\",\"name\":\"News & Politics\",\"orientation\":\"v\",\"showlegend\":true,\"x\":[57600000,36300000,35500000,30500000,26500000,25200000,19400000,17700000,17500000,16600000,16500000,16200000,15800000,15200000,15200000,15100000,15000000,14700000,14500000,13800000,13400000],\"xaxis\":\"x\",\"y\":[25307753534.0,3010784935.0,16105023749.0,16709857823.0,15065753455.0,10409352249.0,2255542592.0,8396875537.0,7263619576.0,7435180827.0,7043235131.0,14563841315.0,3392918989.0,14198154095.0,6624168155.0,10489367372.0,11827310821.0,12961669452.0,4598387043.0,5727888539.0,9569814790.0],\"yaxis\":\"y\",\"type\":\"scatter\"},{\"customdata\":[[\"Chile\"],[\"Cuba\"],[\"El Salvador\"],[\"Spain\"],[\"United States\"],[\"United States\"],[\"United States\"],[\"Kuwait\"],[\"United Kingdom\"],[\"United States\"],[\"United States\"],[\"United States\"],[\"Chile\"],[\"Indonesia\"],[\"Saudi Arabia\"],[\"Russia\"],[\"United States\"],[\"France\"],[\"Chile\"],[\"United States\"],[\"United States\"],[\"United States\"],[\"United Kingdom\"],[\"Argentina\"],[\"United States\"],[\"United Arab Emirates\"],[\"United States\"],[\"Russia\"],[\"United Kingdom\"],[\"United States\"],[\"United States\"],[\"Brazil\"],[\"United States\"],[\"United States\"],[\"India\"],[\"United Kingdom\"],[\"Mexico\"],[\"Russia\"],[\"Brazil\"],[\"Netherlands\"],[\"Spain\"],[\"United States\"],[\"Saudi Arabia\"],[\"Canada\"],[\"South Korea\"],[\"United Kingdom\"],[\"Spain\"],[\"Spain\"],[\"Sweden\"]],\"hovertemplate\":\"\\u003cb\\u003e%{hovertext}\\u003c\\u002fb\\u003e\\u003cbr\\u003e\\u003cbr\\u003ecategory=Gaming\\u003cbr\\u003esubscribers=%{x}\\u003cbr\\u003evideo views=%{y}\\u003cbr\\u003evideo_views_for_the_last_30_days=%{marker.size}\\u003cbr\\u003eCountry=%{customdata[0]}\\u003cextra\\u003e\\u003c\\u002fextra\\u003e\",\"hovertext\":[\"JuegaGerman\",\"A4\",\"Fernanfloo\",\"Mikecrack\",\"Markiplier\",\"SSSniperWolf\",\"Dream\",\"AboFlah\",\"DanTDM\",\"Preston\",\"SSundee\",\"FGTeeV\",\"invictor\",\"MiawAug\",\"\\u00fd\\u00fd\\u00fd\\u00fd\\u00fd\\u00fd\\u00fd\\u00fd \\u00fd\\u00fd\\u00fd\\u00fd\\u00fd\\u00fd\\u00fd\\u00fd\\u00fd\\u00fd \\u00fd\\u00fd\\u00fd\\u00fd\\u00fd\\u00fd\\u00fd\\u00fd\\u00fd\\u00fd | Arab Games Network\",\"Marmok\",\"IShowSpeed\",\"SQUEEZIE\",\"DeGoBooM\",\"Aphmau\",\"CoryxKenshin\",\"Technoblade\",\"JJ Olatunji\",\"Lyna\",\"Unspeakable\",\"FFUNTV\",\"Mobile Legends: Bang Bang\",\"EdisonPts\",\"MoreAliA\",\"PlayStation\",\"Kwebbelkop\",\"TazerCraft\",\"Jesser\",\"PrestonPlayz\",\"Gyan Gaming\\u00ef\\u00bf\\u00bd\",\"TommyInnit\",\"E-MasterSensei\",\"\\u00fd\\u00fd\\u00fd\\u00fd\\u00fd\\u00fd\\u00fd\\u00fd\\u00fd\\u00fd\\u00fd\\u00fd\",\"Jazzghost\",\"\\u00fd\\u00fd\\u00fd\\u00fd\\u00fd\\u00fd\\u00fd\\u00fd\\u002fAtro\",\"Acenix\",\"penguinz0\",\"BanderitaX\",\"AzzyLand\",\"GH'S\",\"Morgz\",\"Timba Vk\",\"DaniRep | +6 V\\u00ef\\u00bf\\u00bd\\u00ef\\u00bf\\u00bd\\u00ef\\u00bf\\u00bd\\u00ef\\u00bf\\u00bd\\u00ef\\u00bf\\u00bd\\u00ef\\u00bf\\u00bd\\u00ef\\u00bf\\u00bd\\u00ef\\u00bf\\u00bd\\u00ef\\u00bf\\u00bd\\u00ef\\u00bf\\u00bd\\u00ef\",\"RobTopGames\"],\"legendgroup\":\"Gaming\",\"marker\":{\"color\":\"rgb(102,194,165)\",\"size\":[66388000.0,94.0,33842000.0,264108000.0,127329000.0,210955000.0,27022000.0,157908000.0,78668000.0,151697000.0,175094000.0,132110000.0,49.0,64489000.0,43007000.0,38282000.0,140261000.0,48099000.0,100215000.0,439870000.0,105114000.0,17944000.0,27808000.0,64085000.0,164895000.0,80172000.0,55369000.0,95603000.0,250995000.0,41789000.0,29724000.0,39775000.0,92594000.0,151697000.0,13891000.0,54291000.0,44575000.0,150570000.0,106718000.0,55122000.0,47436000.0,188948000.0,70712000.0,5387000.0,1081000000.0,58838000.0,24022000.0,82648000.0,3871000.0],\"sizemode\":\"area\",\"sizeref\":4118125.0,\"symbol\":\"circle\"},\"mode\":\"markers\",\"name\":\"Gaming\",\"orientation\":\"v\",\"showlegend\":true,\"x\":[48100000,46300000,46100000,39100000,35200000,33700000,31700000,30500000,27400000,24000000,22500000,22300000,21500000,20200000,18600000,18500000,18300000,18100000,17600000,17400000,16700000,16300000,16200000,15900000,15900000,15400000,15400000,15100000,15000000,15000000,15000000,14900000,14600000,14600000,14400000,14200000,14200000,14000000,13900000,13800000,13600000,13300000,13300000,13300000,13000000,12600000,12400000,12400000,12300000],\"xaxis\":\"x\",\"y\":[14631710289.0,22936630813.0,10323391593.0,16118181673.0,20297931219.0,23492684419.0,2930015381.0,4521573939.0,19417887510.0,8279004442.0,13835173331.0,24059336857.0,8409641722.0,6098644584.0,8761255550.0,3457618361.0,1556003039.0,9983065083.0,6306204566.0,17763586483.0,7102965621.0,1656452554.0,4076692623.0,6534326412.0,9052367553.0,11513738907.0,1543608082.0,6668507856.0,4352427049.0,4741434420.0,6889304306.0,5956193599.0,3603556207.0,5766647017.0,2224121890.0,2084791147.0,3920559552.0,7719743112.0,5673347763.0,2480957682.0,2122062016.0,7773543609.0,4129249415.0,6412313570.0,8739174649.0,3303595310.0,2840137980.0,6933660906.0,374123483.0],\"yaxis\":\"y\",\"type\":\"scatter\"},{\"customdata\":[[\"India\"],[\"India\"]],\"hovertemplate\":\"\\u003cb\\u003e%{hovertext}\\u003c\\u002fb\\u003e\\u003cbr\\u003e\\u003cbr\\u003ecategory=Trailers\\u003cbr\\u003esubscribers=%{x}\\u003cbr\\u003evideo views=%{y}\\u003cbr\\u003evideo_views_for_the_last_30_days=%{marker.size}\\u003cbr\\u003eCountry=%{customdata[0]}\\u003cextra\\u003e\\u003c\\u002fextra\\u003e\",\"hovertext\":[\"Ishtar Music\",\"Ultra Bollywood\"],\"legendgroup\":\"Trailers\",\"marker\":{\"color\":\"rgb(252,141,98)\",\"size\":[180942000.0,131462000.0],\"sizemode\":\"area\",\"sizeref\":4118125.0,\"symbol\":\"circle\"},\"mode\":\"markers\",\"name\":\"Trailers\",\"orientation\":\"v\",\"showlegend\":true,\"x\":[41400000,36600000],\"xaxis\":\"x\",\"y\":[17608931161.0,15653786446.0],\"yaxis\":\"y\",\"type\":\"scatter\"},{\"customdata\":[[\"India\"],[\"India\"],[\"India\"],[\"United States\"],[\"India\"],[\"India\"],[\"Brazil\"],[\"United States\"],[\"United States\"],[\"United States\"],[\"United States\"],[\"Argentina\"],[\"Brazil\"],[\"India\"],[\"United States\"],[\"Argentina\"],[\"United Arab Emirates\"],[\"Latvia\"],[\"United States\"],[\"India\"],[\"Mexico\"],[\"Russia\"],[\"India\"],[\"United States\"],[\"Brazil\"],[\"India\"],[\"India\"],[\"Argentina\"],[\"Japan\"],[\"United States\"],[\"India\"],[\"India\"],[\"Brazil\"],[\"India\"],[\"United Kingdom\"],[\"United States\"],[\"United States\"],[\"Mexico\"],[\"United States\"],[\"India\"]],\"hovertemplate\":\"\\u003cb\\u003e%{hovertext}\\u003c\\u002fb\\u003e\\u003cbr\\u003e\\u003cbr\\u003ecategory=Comedy\\u003cbr\\u003esubscribers=%{x}\\u003cbr\\u003evideo views=%{y}\\u003cbr\\u003evideo_views_for_the_last_30_days=%{marker.size}\\u003cbr\\u003eCountry=%{customdata[0]}\\u003cextra\\u003e\\u003c\\u002fextra\\u003e\",\"hovertext\":[\"CarryMinati\",\"Jkk Entertainment\",\"KHANDESHI MOVIES\",\"The Tonight Show Starring Jimmy Fallon\",\"Round2hell\",\"ashish chanchlani vines\",\"Enaldinho\",\"Brent Rivera\",\"Alan Chikin Chow\",\"Smosh\",\"LankyBox\",\"Alejo Igoa\",\"Spider Slack\",\"Heroindori\",\"Topper Guild\",\"Bizarrap\",\"Noor Stars\",\"dednahype\",\"Marta and Rustam\",\"Triggered Insaan\",\"MissaSinfonia\",\"TheBrianMaps\",\"Prajapati News\",\"FailArmy\",\"T3ddy\",\"Harsh Beniwal\",\"The MriDul\",\"Rub\\u00ef\\u00bf\\u00bd\\u00ef\\u00bf\\u00bd\\u00ef\\u00bf\\u00bd\\u00ef\\u00bf\\u00bd\\u00ef\\u00bf\\u00bd\\u00ef\\u00bf\\u00bd\",\"ISSEI \\u002f \\u00ef\\u00bf\\u00bd\\u00ef\\u00bf\\u00bd\\u00ef\\u00bf\\u00bd\\u00ef\\u00bf\\u00bd\",\"Chad Wild Clay\",\"Noman Official\",\"SEVENGERS\",\"O Que N\\u00ef\\u00bf\\u00bd\\u00ef\\u00bf\\u00bd\\u00ef\\u00bf\\u00bd\\u00ef\\u00bf\\u00bd\\u00ef\\u00bf\\u00bd\\u00ef\\u00bf\",\"The Vishal bhatt\",\"Woody & Kleiny\",\"Just For Laughs Gags\",\"Adam W\",\"Franco Escamilla\",\"_vector_\",\"Make Joke Of\"],\"legendgroup\":\"Comedy\",\"marker\":{\"color\":\"rgb(141,160,203)\",\"size\":[78688000.0,49861000.0,24736000.0,22511000.0,31822000.0,26171000.0,303100000.0,144453000.0,1046000000.0,68156000.0,815341000.0,401512000.0,761451000.0,399152000.0,687028000.0,193176000.0,15556000.0,1245000000.0,452250000.0,109026000.0,27445000.0,37164000.0,7626000.0,112986000.0,33015000.0,27963000.0,98329000.0,512343000.0,282372000.0,36338000.0,139116000.0,367898000.0,87804000.0,379240000.0,495561000.0,17468000.0,228951000.0,77482000.0,903672000.0,24000000.0],\"sizemode\":\"area\",\"sizeref\":4118125.0,\"symbol\":\"circle\"},\"mode\":\"markers\",\"name\":\"Comedy\",\"orientation\":\"v\",\"showlegend\":true,\"x\":[39200000,37200000,33500000,31200000,30700000,29800000,29200000,27000000,26400000,26100000,25400000,24100000,24000000,22600000,21900000,20600000,20200000,20200000,20200000,18800000,17600000,17100000,17000000,16500000,16200000,15400000,15200000,15100000,15000000,14700000,14600000,14200000,13700000,13700000,13500000,13300000,12800000,12700000,12400000,12300000],\"xaxis\":\"x\",\"y\":[3294013141.0,16402066717.0,11405809704.0,17111726160.0,3145161634.0,4457913639.0,11627437847.0,6570935979.0,27006526665.0,10435474336.0,34300482066.0,10999000479.0,13943030228.0,9223534599.0,15552070846.0,7657171980.0,2764127969.0,20919403720.0,19694265358.0,3276891538.0,2274007523.0,4448334716.0,1001465469.0,3037260680.0,2990185467.0,1781226000.0,4503880875.0,9477021288.0,13562853889.0,6751985988.0,5525773746.0,10238593147.0,1967930734.0,9596430464.0,11717217293.0,7406628736.0,9502983550.0,4266957149.0,7597013023.0,2129773714.0],\"yaxis\":\"y\",\"type\":\"scatter\"},{\"customdata\":[[\"United States\"],[\"Brazil\"]],\"hovertemplate\":\"\\u003cb\\u003e%{hovertext}\\u003c\\u002fb\\u003e\\u003cbr\\u003e\\u003cbr\\u003ecategory=Nonprofits & Activism\\u003cbr\\u003esubscribers=%{x}\\u003cbr\\u003evideo views=%{y}\\u003cbr\\u003evideo_views_for_the_last_30_days=%{marker.size}\\u003cbr\\u003eCountry=%{customdata[0]}\\u003cextra\\u003e\\u003c\\u002fextra\\u003e\",\"hovertext\":[\"TEDx Talks\",\"Bispo Bruno Leonardo\"],\"legendgroup\":\"Nonprofits & Activism\",\"marker\":{\"color\":\"rgb(231,138,195)\",\"size\":[45638000.0,149543000.0],\"sizemode\":\"area\",\"sizeref\":4118125.0,\"symbol\":\"circle\"},\"mode\":\"markers\",\"name\":\"Nonprofits & Activism\",\"orientation\":\"v\",\"showlegend\":true,\"x\":[38600000,16900000],\"xaxis\":\"x\",\"y\":[7339333120.0,3523578665.0],\"yaxis\":\"y\",\"type\":\"scatter\"},{\"customdata\":[[\"India\"],[\"United States\"],[\"United States\"],[\"United States\"],[\"United States\"],[\"United States\"],[\"Canada\"],[\"United Kingdom\"],[\"Canada\"],[\"India\"],[\"India\"]],\"hovertemplate\":\"\\u003cb\\u003e%{hovertext}\\u003c\\u002fb\\u003e\\u003cbr\\u003e\\u003cbr\\u003ecategory=Science & Technology\\u003cbr\\u003esubscribers=%{x}\\u003cbr\\u003evideo views=%{y}\\u003cbr\\u003evideo_views_for_the_last_30_days=%{marker.size}\\u003cbr\\u003eCountry=%{customdata[0]}\\u003cextra\\u003e\\u003c\\u002fextra\\u003e\",\"hovertext\":[\"MR. INDIAN HACKER\",\"Mark Rober\",\"Happy Lives\",\"National Geographic\",\"Apple\",\"Marques Brownlee\",\"Linus Tech Tips\",\"Mrwhosetheboss\",\"Hacksmith Industries\",\"Trakin Tech\",\"Technology Gyan\"],\"legendgroup\":\"Science & Technology\",\"marker\":{\"color\":\"rgb(166,216,84)\",\"size\":[109125000.0,88625000.0,6589000000.0,45812000.0,46484000.0,52325000.0,88224000.0,167697000.0,83943000.0,43669000.0,18518000.0],\"sizemode\":\"area\",\"sizeref\":4118125.0,\"symbol\":\"circle\"},\"mode\":\"markers\",\"name\":\"Science & Technology\",\"orientation\":\"v\",\"showlegend\":true,\"x\":[31700000,24600000,23200000,21800000,17300000,17200000,15600000,15400000,13800000,13300000,13200000],\"xaxis\":\"x\",\"y\":[5711208484.0,3647987299.0,2634.0,5614621131.0,1026425106.0,3606912471.0,7172386509.0,3736069980.0,1820559912.0,2262690743.0,1138262456.0],\"yaxis\":\"y\",\"type\":\"scatter\"},{\"customdata\":[[\"India\"],[\"India\"]],\"hovertemplate\":\"\\u003cb\\u003e%{hovertext}\\u003c\\u002fb\\u003e\\u003cbr\\u003e\\u003cbr\\u003ecategory=Movies\\u003cbr\\u003esubscribers=%{x}\\u003cbr\\u003evideo views=%{y}\\u003cbr\\u003evideo_views_for_the_last_30_days=%{marker.size}\\u003cbr\\u003eCountry=%{customdata[0]}\\u003cextra\\u003e\\u003c\\u002fextra\\u003e\",\"hovertext\":[\"Aditya Movies\",\"Ultra Movie Parlour\"],\"legendgroup\":\"Movies\",\"marker\":{\"color\":\"rgb(255,217,47)\",\"size\":[227355000.0,118846000.0],\"sizemode\":\"area\",\"sizeref\":4118125.0,\"symbol\":\"circle\"},\"mode\":\"markers\",\"name\":\"Movies\",\"orientation\":\"v\",\"showlegend\":true,\"x\":[28400000,22900000],\"xaxis\":\"x\",\"y\":[10062770060.0,5320485069.0],\"yaxis\":\"y\",\"type\":\"scatter\"},{\"customdata\":[[\"United States\"],[\"India\"],[\"United States\"],[\"Mexico\"],[\"Brazil\"],[\"China\"],[\"Egypt\"],[\"Mexico\"],[\"India\"],[\"United States\"],[\"United States\"],[\"United States\"],[\"India\"]],\"hovertemplate\":\"\\u003cb\\u003e%{hovertext}\\u003c\\u002fb\\u003e\\u003cbr\\u003e\\u003cbr\\u003ecategory=Howto & Style\\u003cbr\\u003esubscribers=%{x}\\u003cbr\\u003evideo views=%{y}\\u003cbr\\u003evideo_views_for_the_last_30_days=%{marker.size}\\u003cbr\\u003eCountry=%{customdata[0]}\\u003cextra\\u003e\\u003c\\u002fextra\\u003e\",\"hovertext\":[\"Troom Troom\",\"Village Cooking Channel\",\"5-Minute Crafts PLAY\",\"SUPER SLICK SLIME SAM\",\"Manual do Mundo\",\"\\u00fd\\u00fd\\u00fd\\u00fd\\u00fd\\u00fd\\u00fd\\u00fd\\u00fd Liziqi\",\"\\u00fd\\u00fd\\u00fd\\u00fd\\u00fd\\u00fd\\u00fd\\u00fd \\u00fd\\u00fd\\u00fd\\u00fd\\u00fd\\u00fd\\u00fd\\u00fd\\u00fd\\u00fd\\u00fd\\u00fd\\u00fd\\u00fd \\u00fd\\u00fd\\u00fd\\u00fd 5 \\u00fd\\u00fd\\u00fd\\u00fd\\u00fd\\u00fd\\u00fd\\u00fd\\u00fd\\u00fd\",\"Mis Pastelitos\",\"NishaMadhulika\",\"Wengie\",\"Blossom\",\"First We Feast\",\"bharatzkitchen HINDI\"],\"legendgroup\":\"Howto & Style\",\"marker\":{\"color\":\"rgb(229,196,148)\",\"size\":[98052000.0,194604000.0,105784000.0,123338000.0,54766000.0,22354000.0,32916000.0,50677000.0,22235000.0,1335000.0,43868000.0,111252000.0,30968000.0],\"sizemode\":\"area\",\"sizeref\":4118125.0,\"symbol\":\"circle\"},\"mode\":\"markers\",\"name\":\"Howto & Style\",\"orientation\":\"v\",\"showlegend\":true,\"x\":[23800000,21600000,20100000,19000000,18000000,17600000,15500000,14600000,13700000,13500000,12700000,12500000,12400000],\"xaxis\":\"x\",\"y\":[10414479943.0,5863377051.0,6119294270.0,7229175322.0,3980991248.0,2977741577.0,4499826716.0,2750902766.0,2939201386.0,1900272833.0,4733873025.0,2983799729.0,2315226648.0],\"yaxis\":\"y\",\"type\":\"scatter\"},{\"customdata\":[[\"United States\"],[\"United States\"],[\"United Kingdom\"]],\"hovertemplate\":\"\\u003cb\\u003e%{hovertext}\\u003c\\u002fb\\u003e\\u003cbr\\u003e\\u003cbr\\u003ecategory=Pets & Animals\\u003cbr\\u003esubscribers=%{x}\\u003cbr\\u003evideo views=%{y}\\u003cbr\\u003evideo_views_for_the_last_30_days=%{marker.size}\\u003cbr\\u003eCountry=%{customdata[0]}\\u003cextra\\u003e\\u003c\\u002fextra\\u003e\",\"hovertext\":[\"That Little Puff\",\"Brave Wilderness\",\"BBC\"],\"legendgroup\":\"Pets & Animals\",\"marker\":{\"color\":\"rgb(179,179,179)\",\"size\":[755054000.0,2989000.0,44414000.0],\"sizemode\":\"area\",\"sizeref\":4118125.0,\"symbol\":\"circle\"},\"mode\":\"markers\",\"name\":\"Pets & Animals\",\"orientation\":\"v\",\"showlegend\":true,\"x\":[23700000,20900000,13600000],\"xaxis\":\"x\",\"y\":[20289689389.0,4927879069.0,9685060624.0],\"yaxis\":\"y\",\"type\":\"scatter\"},{\"customdata\":[[\"Brazil\"],[\"United Arab Emirates\"]],\"hovertemplate\":\"\\u003cb\\u003e%{hovertext}\\u003c\\u002fb\\u003e\\u003cbr\\u003e\\u003cbr\\u003ecategory=Autos & Vehicles\\u003cbr\\u003esubscribers=%{x}\\u003cbr\\u003evideo views=%{y}\\u003cbr\\u003evideo_views_for_the_last_30_days=%{marker.size}\\u003cbr\\u003eCountry=%{customdata[0]}\\u003cextra\\u003e\\u003c\\u002fextra\\u003e\",\"hovertext\":[\"DUDU e CAROL\",\"Supercar Blondie\"],\"legendgroup\":\"Autos & Vehicles\",\"marker\":{\"color\":\"rgb(102,194,165)\",\"size\":[193174000.0,353259000.0],\"sizemode\":\"area\",\"sizeref\":4118125.0,\"symbol\":\"circle\"},\"mode\":\"markers\",\"name\":\"Autos & Vehicles\",\"orientation\":\"v\",\"showlegend\":true,\"x\":[21600000,14100000],\"xaxis\":\"x\",\"y\":[9597894786.0,5405563355.0],\"yaxis\":\"y\",\"type\":\"scatter\"}],                        {\"template\":{\"data\":{\"histogram2dcontour\":[{\"type\":\"histogram2dcontour\",\"colorbar\":{\"outlinewidth\":0,\"ticks\":\"\"},\"colorscale\":[[0.0,\"#0d0887\"],[0.1111111111111111,\"#46039f\"],[0.2222222222222222,\"#7201a8\"],[0.3333333333333333,\"#9c179e\"],[0.4444444444444444,\"#bd3786\"],[0.5555555555555556,\"#d8576b\"],[0.6666666666666666,\"#ed7953\"],[0.7777777777777778,\"#fb9f3a\"],[0.8888888888888888,\"#fdca26\"],[1.0,\"#f0f921\"]]}],\"choropleth\":[{\"type\":\"choropleth\",\"colorbar\":{\"outlinewidth\":0,\"ticks\":\"\"}}],\"histogram2d\":[{\"type\":\"histogram2d\",\"colorbar\":{\"outlinewidth\":0,\"ticks\":\"\"},\"colorscale\":[[0.0,\"#0d0887\"],[0.1111111111111111,\"#46039f\"],[0.2222222222222222,\"#7201a8\"],[0.3333333333333333,\"#9c179e\"],[0.4444444444444444,\"#bd3786\"],[0.5555555555555556,\"#d8576b\"],[0.6666666666666666,\"#ed7953\"],[0.7777777777777778,\"#fb9f3a\"],[0.8888888888888888,\"#fdca26\"],[1.0,\"#f0f921\"]]}],\"heatmap\":[{\"type\":\"heatmap\",\"colorbar\":{\"outlinewidth\":0,\"ticks\":\"\"},\"colorscale\":[[0.0,\"#0d0887\"],[0.1111111111111111,\"#46039f\"],[0.2222222222222222,\"#7201a8\"],[0.3333333333333333,\"#9c179e\"],[0.4444444444444444,\"#bd3786\"],[0.5555555555555556,\"#d8576b\"],[0.6666666666666666,\"#ed7953\"],[0.7777777777777778,\"#fb9f3a\"],[0.8888888888888888,\"#fdca26\"],[1.0,\"#f0f921\"]]}],\"heatmapgl\":[{\"type\":\"heatmapgl\",\"colorbar\":{\"outlinewidth\":0,\"ticks\":\"\"},\"colorscale\":[[0.0,\"#0d0887\"],[0.1111111111111111,\"#46039f\"],[0.2222222222222222,\"#7201a8\"],[0.3333333333333333,\"#9c179e\"],[0.4444444444444444,\"#bd3786\"],[0.5555555555555556,\"#d8576b\"],[0.6666666666666666,\"#ed7953\"],[0.7777777777777778,\"#fb9f3a\"],[0.8888888888888888,\"#fdca26\"],[1.0,\"#f0f921\"]]}],\"contourcarpet\":[{\"type\":\"contourcarpet\",\"colorbar\":{\"outlinewidth\":0,\"ticks\":\"\"}}],\"contour\":[{\"type\":\"contour\",\"colorbar\":{\"outlinewidth\":0,\"ticks\":\"\"},\"colorscale\":[[0.0,\"#0d0887\"],[0.1111111111111111,\"#46039f\"],[0.2222222222222222,\"#7201a8\"],[0.3333333333333333,\"#9c179e\"],[0.4444444444444444,\"#bd3786\"],[0.5555555555555556,\"#d8576b\"],[0.6666666666666666,\"#ed7953\"],[0.7777777777777778,\"#fb9f3a\"],[0.8888888888888888,\"#fdca26\"],[1.0,\"#f0f921\"]]}],\"surface\":[{\"type\":\"surface\",\"colorbar\":{\"outlinewidth\":0,\"ticks\":\"\"},\"colorscale\":[[0.0,\"#0d0887\"],[0.1111111111111111,\"#46039f\"],[0.2222222222222222,\"#7201a8\"],[0.3333333333333333,\"#9c179e\"],[0.4444444444444444,\"#bd3786\"],[0.5555555555555556,\"#d8576b\"],[0.6666666666666666,\"#ed7953\"],[0.7777777777777778,\"#fb9f3a\"],[0.8888888888888888,\"#fdca26\"],[1.0,\"#f0f921\"]]}],\"mesh3d\":[{\"type\":\"mesh3d\",\"colorbar\":{\"outlinewidth\":0,\"ticks\":\"\"}}],\"scatter\":[{\"fillpattern\":{\"fillmode\":\"overlay\",\"size\":10,\"solidity\":0.2},\"type\":\"scatter\"}],\"parcoords\":[{\"type\":\"parcoords\",\"line\":{\"colorbar\":{\"outlinewidth\":0,\"ticks\":\"\"}}}],\"scatterpolargl\":[{\"type\":\"scatterpolargl\",\"marker\":{\"colorbar\":{\"outlinewidth\":0,\"ticks\":\"\"}}}],\"bar\":[{\"error_x\":{\"color\":\"#2a3f5f\"},\"error_y\":{\"color\":\"#2a3f5f\"},\"marker\":{\"line\":{\"color\":\"#E5ECF6\",\"width\":0.5},\"pattern\":{\"fillmode\":\"overlay\",\"size\":10,\"solidity\":0.2}},\"type\":\"bar\"}],\"scattergeo\":[{\"type\":\"scattergeo\",\"marker\":{\"colorbar\":{\"outlinewidth\":0,\"ticks\":\"\"}}}],\"scatterpolar\":[{\"type\":\"scatterpolar\",\"marker\":{\"colorbar\":{\"outlinewidth\":0,\"ticks\":\"\"}}}],\"histogram\":[{\"marker\":{\"pattern\":{\"fillmode\":\"overlay\",\"size\":10,\"solidity\":0.2}},\"type\":\"histogram\"}],\"scattergl\":[{\"type\":\"scattergl\",\"marker\":{\"colorbar\":{\"outlinewidth\":0,\"ticks\":\"\"}}}],\"scatter3d\":[{\"type\":\"scatter3d\",\"line\":{\"colorbar\":{\"outlinewidth\":0,\"ticks\":\"\"}},\"marker\":{\"colorbar\":{\"outlinewidth\":0,\"ticks\":\"\"}}}],\"scattermapbox\":[{\"type\":\"scattermapbox\",\"marker\":{\"colorbar\":{\"outlinewidth\":0,\"ticks\":\"\"}}}],\"scatterternary\":[{\"type\":\"scatterternary\",\"marker\":{\"colorbar\":{\"outlinewidth\":0,\"ticks\":\"\"}}}],\"scattercarpet\":[{\"type\":\"scattercarpet\",\"marker\":{\"colorbar\":{\"outlinewidth\":0,\"ticks\":\"\"}}}],\"carpet\":[{\"aaxis\":{\"endlinecolor\":\"#2a3f5f\",\"gridcolor\":\"white\",\"linecolor\":\"white\",\"minorgridcolor\":\"white\",\"startlinecolor\":\"#2a3f5f\"},\"baxis\":{\"endlinecolor\":\"#2a3f5f\",\"gridcolor\":\"white\",\"linecolor\":\"white\",\"minorgridcolor\":\"white\",\"startlinecolor\":\"#2a3f5f\"},\"type\":\"carpet\"}],\"table\":[{\"cells\":{\"fill\":{\"color\":\"#EBF0F8\"},\"line\":{\"color\":\"white\"}},\"header\":{\"fill\":{\"color\":\"#C8D4E3\"},\"line\":{\"color\":\"white\"}},\"type\":\"table\"}],\"barpolar\":[{\"marker\":{\"line\":{\"color\":\"#E5ECF6\",\"width\":0.5},\"pattern\":{\"fillmode\":\"overlay\",\"size\":10,\"solidity\":0.2}},\"type\":\"barpolar\"}],\"pie\":[{\"automargin\":true,\"type\":\"pie\"}]},\"layout\":{\"autotypenumbers\":\"strict\",\"colorway\":[\"#636efa\",\"#EF553B\",\"#00cc96\",\"#ab63fa\",\"#FFA15A\",\"#19d3f3\",\"#FF6692\",\"#B6E880\",\"#FF97FF\",\"#FECB52\"],\"font\":{\"color\":\"#2a3f5f\"},\"hovermode\":\"closest\",\"hoverlabel\":{\"align\":\"left\"},\"paper_bgcolor\":\"white\",\"plot_bgcolor\":\"#E5ECF6\",\"polar\":{\"bgcolor\":\"#E5ECF6\",\"angularaxis\":{\"gridcolor\":\"white\",\"linecolor\":\"white\",\"ticks\":\"\"},\"radialaxis\":{\"gridcolor\":\"white\",\"linecolor\":\"white\",\"ticks\":\"\"}},\"ternary\":{\"bgcolor\":\"#E5ECF6\",\"aaxis\":{\"gridcolor\":\"white\",\"linecolor\":\"white\",\"ticks\":\"\"},\"baxis\":{\"gridcolor\":\"white\",\"linecolor\":\"white\",\"ticks\":\"\"},\"caxis\":{\"gridcolor\":\"white\",\"linecolor\":\"white\",\"ticks\":\"\"}},\"coloraxis\":{\"colorbar\":{\"outlinewidth\":0,\"ticks\":\"\"}},\"colorscale\":{\"sequential\":[[0.0,\"#0d0887\"],[0.1111111111111111,\"#46039f\"],[0.2222222222222222,\"#7201a8\"],[0.3333333333333333,\"#9c179e\"],[0.4444444444444444,\"#bd3786\"],[0.5555555555555556,\"#d8576b\"],[0.6666666666666666,\"#ed7953\"],[0.7777777777777778,\"#fb9f3a\"],[0.8888888888888888,\"#fdca26\"],[1.0,\"#f0f921\"]],\"sequentialminus\":[[0.0,\"#0d0887\"],[0.1111111111111111,\"#46039f\"],[0.2222222222222222,\"#7201a8\"],[0.3333333333333333,\"#9c179e\"],[0.4444444444444444,\"#bd3786\"],[0.5555555555555556,\"#d8576b\"],[0.6666666666666666,\"#ed7953\"],[0.7777777777777778,\"#fb9f3a\"],[0.8888888888888888,\"#fdca26\"],[1.0,\"#f0f921\"]],\"diverging\":[[0,\"#8e0152\"],[0.1,\"#c51b7d\"],[0.2,\"#de77ae\"],[0.3,\"#f1b6da\"],[0.4,\"#fde0ef\"],[0.5,\"#f7f7f7\"],[0.6,\"#e6f5d0\"],[0.7,\"#b8e186\"],[0.8,\"#7fbc41\"],[0.9,\"#4d9221\"],[1,\"#276419\"]]},\"xaxis\":{\"gridcolor\":\"white\",\"linecolor\":\"white\",\"ticks\":\"\",\"title\":{\"standoff\":15},\"zerolinecolor\":\"white\",\"automargin\":true,\"zerolinewidth\":2},\"yaxis\":{\"gridcolor\":\"white\",\"linecolor\":\"white\",\"ticks\":\"\",\"title\":{\"standoff\":15},\"zerolinecolor\":\"white\",\"automargin\":true,\"zerolinewidth\":2},\"scene\":{\"xaxis\":{\"backgroundcolor\":\"#E5ECF6\",\"gridcolor\":\"white\",\"linecolor\":\"white\",\"showbackground\":true,\"ticks\":\"\",\"zerolinecolor\":\"white\",\"gridwidth\":2},\"yaxis\":{\"backgroundcolor\":\"#E5ECF6\",\"gridcolor\":\"white\",\"linecolor\":\"white\",\"showbackground\":true,\"ticks\":\"\",\"zerolinecolor\":\"white\",\"gridwidth\":2},\"zaxis\":{\"backgroundcolor\":\"#E5ECF6\",\"gridcolor\":\"white\",\"linecolor\":\"white\",\"showbackground\":true,\"ticks\":\"\",\"zerolinecolor\":\"white\",\"gridwidth\":2}},\"shapedefaults\":{\"line\":{\"color\":\"#2a3f5f\"}},\"annotationdefaults\":{\"arrowcolor\":\"#2a3f5f\",\"arrowhead\":0,\"arrowwidth\":1},\"geo\":{\"bgcolor\":\"white\",\"landcolor\":\"#E5ECF6\",\"subunitcolor\":\"white\",\"showland\":true,\"showlakes\":true,\"lakecolor\":\"white\"},\"title\":{\"x\":0.05},\"mapbox\":{\"style\":\"light\"}}},\"xaxis\":{\"anchor\":\"y\",\"domain\":[0.0,1.0],\"title\":{\"text\":\"subscribers\"},\"type\":\"log\"},\"yaxis\":{\"anchor\":\"x\",\"domain\":[0.0,1.0],\"title\":{\"text\":\"video views\"},\"type\":\"log\"},\"legend\":{\"title\":{\"text\":\"category\"},\"tracegroupgap\":0,\"itemsizing\":\"constant\"},\"margin\":{\"t\":60},\"title\":{\"text\":\"Subscribers vs Video Views by Category\"}},                        {\"responsive\": true}                    ).then(function(){\n",
       "                            \n",
       "var gd = document.getElementById('e247af62-4db6-4370-8e7e-1f9d6cc7b4c1');\n",
       "var x = new MutationObserver(function (mutations, observer) {{\n",
       "        var display = window.getComputedStyle(gd).display;\n",
       "        if (!display || display === 'none') {{\n",
       "            console.log([gd, 'removed!']);\n",
       "            Plotly.purge(gd);\n",
       "            observer.disconnect();\n",
       "        }}\n",
       "}});\n",
       "\n",
       "// Listen for the removal of the full notebook cells\n",
       "var notebookContainer = gd.closest('#notebook-container');\n",
       "if (notebookContainer) {{\n",
       "    x.observe(notebookContainer, {childList: true});\n",
       "}}\n",
       "\n",
       "// Listen for the clearing of the current output cell\n",
       "var outputEl = gd.closest('.output');\n",
       "if (outputEl) {{\n",
       "    x.observe(outputEl, {childList: true});\n",
       "}}\n",
       "\n",
       "                        })                };                });            </script>        </div>"
      ]
     },
     "metadata": {},
     "output_type": "display_data"
    }
   ],
   "source": [
    "fig = px.scatter(df_cleaned,\n",
    "                x = 'subscribers',\n",
    "                y = 'video views',\n",
    "                size= 'video_views_for_the_last_30_days',\n",
    "                color = 'category',\n",
    "                hover_name='Youtuber', hover_data=['Country'], size_max=40,\n",
    "                color_discrete_sequence=px.colors.qualitative.Set2)\n",
    "\n",
    "fig.update_layout(title_text = 'Subscribers vs Video Views by Category',xaxis_type= 'log',yaxis_type = 'log')\n",
    "\n",
    "fig.show()"
   ]
  },
  {
   "cell_type": "code",
   "execution_count": 21,
   "id": "592630fa",
   "metadata": {},
   "outputs": [
    {
     "data": {
      "application/vnd.plotly.v1+json": {
       "config": {
        "plotlyServerURL": "https://plot.ly"
       },
       "data": [
        {
         "branchvalues": "total",
         "domain": {
          "x": [
           0,
           1
          ],
          "y": [
           0,
           1
          ]
         },
         "hovertemplate": "labels=%{label}<br>count=%{value}<br>parent=%{parent}<br>id=%{id}<extra></extra>",
         "ids": [
          "Animals",
          "Autos",
          "Comedy",
          "Education",
          "Entertainment",
          "Film",
          "Games",
          "Howto",
          "Music",
          "News",
          "Nonprofit",
          "People",
          "Sports",
          "Tech"
         ],
         "labels": [
          "Animals",
          "Autos",
          "Comedy",
          "Education",
          "Entertainment",
          "Film",
          "Games",
          "Howto",
          "Music",
          "News",
          "Nonprofit",
          "People",
          "Sports",
          "Tech"
         ],
         "name": "",
         "parents": [
          "",
          "",
          "",
          "",
          "",
          "",
          "",
          "",
          "",
          "",
          "",
          "",
          "",
          ""
         ],
         "type": "sunburst",
         "values": [
          3,
          2,
          30,
          36,
          181,
          29,
          46,
          13,
          124,
          26,
          2,
          41,
          9,
          12
         ]
        }
       ],
       "layout": {
        "height": 500,
        "legend": {
         "tracegroupgap": 0
        },
        "margin": {
         "t": 60
        },
        "sunburstcolorway": [
         "rgb(141,211,199)",
         "rgb(255,255,179)",
         "rgb(190,186,218)",
         "rgb(251,128,114)",
         "rgb(128,177,211)",
         "rgb(253,180,98)",
         "rgb(179,222,105)",
         "rgb(252,205,229)",
         "rgb(217,217,217)",
         "rgb(188,128,189)",
         "rgb(204,235,197)",
         "rgb(255,237,111)"
        ],
        "template": {
         "data": {
          "bar": [
           {
            "error_x": {
             "color": "#2a3f5f"
            },
            "error_y": {
             "color": "#2a3f5f"
            },
            "marker": {
             "line": {
              "color": "#E5ECF6",
              "width": 0.5
             },
             "pattern": {
              "fillmode": "overlay",
              "size": 10,
              "solidity": 0.2
             }
            },
            "type": "bar"
           }
          ],
          "barpolar": [
           {
            "marker": {
             "line": {
              "color": "#E5ECF6",
              "width": 0.5
             },
             "pattern": {
              "fillmode": "overlay",
              "size": 10,
              "solidity": 0.2
             }
            },
            "type": "barpolar"
           }
          ],
          "carpet": [
           {
            "aaxis": {
             "endlinecolor": "#2a3f5f",
             "gridcolor": "white",
             "linecolor": "white",
             "minorgridcolor": "white",
             "startlinecolor": "#2a3f5f"
            },
            "baxis": {
             "endlinecolor": "#2a3f5f",
             "gridcolor": "white",
             "linecolor": "white",
             "minorgridcolor": "white",
             "startlinecolor": "#2a3f5f"
            },
            "type": "carpet"
           }
          ],
          "choropleth": [
           {
            "colorbar": {
             "outlinewidth": 0,
             "ticks": ""
            },
            "type": "choropleth"
           }
          ],
          "contour": [
           {
            "colorbar": {
             "outlinewidth": 0,
             "ticks": ""
            },
            "colorscale": [
             [
              0,
              "#0d0887"
             ],
             [
              0.1111111111111111,
              "#46039f"
             ],
             [
              0.2222222222222222,
              "#7201a8"
             ],
             [
              0.3333333333333333,
              "#9c179e"
             ],
             [
              0.4444444444444444,
              "#bd3786"
             ],
             [
              0.5555555555555556,
              "#d8576b"
             ],
             [
              0.6666666666666666,
              "#ed7953"
             ],
             [
              0.7777777777777778,
              "#fb9f3a"
             ],
             [
              0.8888888888888888,
              "#fdca26"
             ],
             [
              1,
              "#f0f921"
             ]
            ],
            "type": "contour"
           }
          ],
          "contourcarpet": [
           {
            "colorbar": {
             "outlinewidth": 0,
             "ticks": ""
            },
            "type": "contourcarpet"
           }
          ],
          "heatmap": [
           {
            "colorbar": {
             "outlinewidth": 0,
             "ticks": ""
            },
            "colorscale": [
             [
              0,
              "#0d0887"
             ],
             [
              0.1111111111111111,
              "#46039f"
             ],
             [
              0.2222222222222222,
              "#7201a8"
             ],
             [
              0.3333333333333333,
              "#9c179e"
             ],
             [
              0.4444444444444444,
              "#bd3786"
             ],
             [
              0.5555555555555556,
              "#d8576b"
             ],
             [
              0.6666666666666666,
              "#ed7953"
             ],
             [
              0.7777777777777778,
              "#fb9f3a"
             ],
             [
              0.8888888888888888,
              "#fdca26"
             ],
             [
              1,
              "#f0f921"
             ]
            ],
            "type": "heatmap"
           }
          ],
          "heatmapgl": [
           {
            "colorbar": {
             "outlinewidth": 0,
             "ticks": ""
            },
            "colorscale": [
             [
              0,
              "#0d0887"
             ],
             [
              0.1111111111111111,
              "#46039f"
             ],
             [
              0.2222222222222222,
              "#7201a8"
             ],
             [
              0.3333333333333333,
              "#9c179e"
             ],
             [
              0.4444444444444444,
              "#bd3786"
             ],
             [
              0.5555555555555556,
              "#d8576b"
             ],
             [
              0.6666666666666666,
              "#ed7953"
             ],
             [
              0.7777777777777778,
              "#fb9f3a"
             ],
             [
              0.8888888888888888,
              "#fdca26"
             ],
             [
              1,
              "#f0f921"
             ]
            ],
            "type": "heatmapgl"
           }
          ],
          "histogram": [
           {
            "marker": {
             "pattern": {
              "fillmode": "overlay",
              "size": 10,
              "solidity": 0.2
             }
            },
            "type": "histogram"
           }
          ],
          "histogram2d": [
           {
            "colorbar": {
             "outlinewidth": 0,
             "ticks": ""
            },
            "colorscale": [
             [
              0,
              "#0d0887"
             ],
             [
              0.1111111111111111,
              "#46039f"
             ],
             [
              0.2222222222222222,
              "#7201a8"
             ],
             [
              0.3333333333333333,
              "#9c179e"
             ],
             [
              0.4444444444444444,
              "#bd3786"
             ],
             [
              0.5555555555555556,
              "#d8576b"
             ],
             [
              0.6666666666666666,
              "#ed7953"
             ],
             [
              0.7777777777777778,
              "#fb9f3a"
             ],
             [
              0.8888888888888888,
              "#fdca26"
             ],
             [
              1,
              "#f0f921"
             ]
            ],
            "type": "histogram2d"
           }
          ],
          "histogram2dcontour": [
           {
            "colorbar": {
             "outlinewidth": 0,
             "ticks": ""
            },
            "colorscale": [
             [
              0,
              "#0d0887"
             ],
             [
              0.1111111111111111,
              "#46039f"
             ],
             [
              0.2222222222222222,
              "#7201a8"
             ],
             [
              0.3333333333333333,
              "#9c179e"
             ],
             [
              0.4444444444444444,
              "#bd3786"
             ],
             [
              0.5555555555555556,
              "#d8576b"
             ],
             [
              0.6666666666666666,
              "#ed7953"
             ],
             [
              0.7777777777777778,
              "#fb9f3a"
             ],
             [
              0.8888888888888888,
              "#fdca26"
             ],
             [
              1,
              "#f0f921"
             ]
            ],
            "type": "histogram2dcontour"
           }
          ],
          "mesh3d": [
           {
            "colorbar": {
             "outlinewidth": 0,
             "ticks": ""
            },
            "type": "mesh3d"
           }
          ],
          "parcoords": [
           {
            "line": {
             "colorbar": {
              "outlinewidth": 0,
              "ticks": ""
             }
            },
            "type": "parcoords"
           }
          ],
          "pie": [
           {
            "automargin": true,
            "type": "pie"
           }
          ],
          "scatter": [
           {
            "fillpattern": {
             "fillmode": "overlay",
             "size": 10,
             "solidity": 0.2
            },
            "type": "scatter"
           }
          ],
          "scatter3d": [
           {
            "line": {
             "colorbar": {
              "outlinewidth": 0,
              "ticks": ""
             }
            },
            "marker": {
             "colorbar": {
              "outlinewidth": 0,
              "ticks": ""
             }
            },
            "type": "scatter3d"
           }
          ],
          "scattercarpet": [
           {
            "marker": {
             "colorbar": {
              "outlinewidth": 0,
              "ticks": ""
             }
            },
            "type": "scattercarpet"
           }
          ],
          "scattergeo": [
           {
            "marker": {
             "colorbar": {
              "outlinewidth": 0,
              "ticks": ""
             }
            },
            "type": "scattergeo"
           }
          ],
          "scattergl": [
           {
            "marker": {
             "colorbar": {
              "outlinewidth": 0,
              "ticks": ""
             }
            },
            "type": "scattergl"
           }
          ],
          "scattermapbox": [
           {
            "marker": {
             "colorbar": {
              "outlinewidth": 0,
              "ticks": ""
             }
            },
            "type": "scattermapbox"
           }
          ],
          "scatterpolar": [
           {
            "marker": {
             "colorbar": {
              "outlinewidth": 0,
              "ticks": ""
             }
            },
            "type": "scatterpolar"
           }
          ],
          "scatterpolargl": [
           {
            "marker": {
             "colorbar": {
              "outlinewidth": 0,
              "ticks": ""
             }
            },
            "type": "scatterpolargl"
           }
          ],
          "scatterternary": [
           {
            "marker": {
             "colorbar": {
              "outlinewidth": 0,
              "ticks": ""
             }
            },
            "type": "scatterternary"
           }
          ],
          "surface": [
           {
            "colorbar": {
             "outlinewidth": 0,
             "ticks": ""
            },
            "colorscale": [
             [
              0,
              "#0d0887"
             ],
             [
              0.1111111111111111,
              "#46039f"
             ],
             [
              0.2222222222222222,
              "#7201a8"
             ],
             [
              0.3333333333333333,
              "#9c179e"
             ],
             [
              0.4444444444444444,
              "#bd3786"
             ],
             [
              0.5555555555555556,
              "#d8576b"
             ],
             [
              0.6666666666666666,
              "#ed7953"
             ],
             [
              0.7777777777777778,
              "#fb9f3a"
             ],
             [
              0.8888888888888888,
              "#fdca26"
             ],
             [
              1,
              "#f0f921"
             ]
            ],
            "type": "surface"
           }
          ],
          "table": [
           {
            "cells": {
             "fill": {
              "color": "#EBF0F8"
             },
             "line": {
              "color": "white"
             }
            },
            "header": {
             "fill": {
              "color": "#C8D4E3"
             },
             "line": {
              "color": "white"
             }
            },
            "type": "table"
           }
          ]
         },
         "layout": {
          "annotationdefaults": {
           "arrowcolor": "#2a3f5f",
           "arrowhead": 0,
           "arrowwidth": 1
          },
          "autotypenumbers": "strict",
          "coloraxis": {
           "colorbar": {
            "outlinewidth": 0,
            "ticks": ""
           }
          },
          "colorscale": {
           "diverging": [
            [
             0,
             "#8e0152"
            ],
            [
             0.1,
             "#c51b7d"
            ],
            [
             0.2,
             "#de77ae"
            ],
            [
             0.3,
             "#f1b6da"
            ],
            [
             0.4,
             "#fde0ef"
            ],
            [
             0.5,
             "#f7f7f7"
            ],
            [
             0.6,
             "#e6f5d0"
            ],
            [
             0.7,
             "#b8e186"
            ],
            [
             0.8,
             "#7fbc41"
            ],
            [
             0.9,
             "#4d9221"
            ],
            [
             1,
             "#276419"
            ]
           ],
           "sequential": [
            [
             0,
             "#0d0887"
            ],
            [
             0.1111111111111111,
             "#46039f"
            ],
            [
             0.2222222222222222,
             "#7201a8"
            ],
            [
             0.3333333333333333,
             "#9c179e"
            ],
            [
             0.4444444444444444,
             "#bd3786"
            ],
            [
             0.5555555555555556,
             "#d8576b"
            ],
            [
             0.6666666666666666,
             "#ed7953"
            ],
            [
             0.7777777777777778,
             "#fb9f3a"
            ],
            [
             0.8888888888888888,
             "#fdca26"
            ],
            [
             1,
             "#f0f921"
            ]
           ],
           "sequentialminus": [
            [
             0,
             "#0d0887"
            ],
            [
             0.1111111111111111,
             "#46039f"
            ],
            [
             0.2222222222222222,
             "#7201a8"
            ],
            [
             0.3333333333333333,
             "#9c179e"
            ],
            [
             0.4444444444444444,
             "#bd3786"
            ],
            [
             0.5555555555555556,
             "#d8576b"
            ],
            [
             0.6666666666666666,
             "#ed7953"
            ],
            [
             0.7777777777777778,
             "#fb9f3a"
            ],
            [
             0.8888888888888888,
             "#fdca26"
            ],
            [
             1,
             "#f0f921"
            ]
           ]
          },
          "colorway": [
           "#636efa",
           "#EF553B",
           "#00cc96",
           "#ab63fa",
           "#FFA15A",
           "#19d3f3",
           "#FF6692",
           "#B6E880",
           "#FF97FF",
           "#FECB52"
          ],
          "font": {
           "color": "#2a3f5f"
          },
          "geo": {
           "bgcolor": "white",
           "lakecolor": "white",
           "landcolor": "#E5ECF6",
           "showlakes": true,
           "showland": true,
           "subunitcolor": "white"
          },
          "hoverlabel": {
           "align": "left"
          },
          "hovermode": "closest",
          "mapbox": {
           "style": "light"
          },
          "paper_bgcolor": "white",
          "plot_bgcolor": "#E5ECF6",
          "polar": {
           "angularaxis": {
            "gridcolor": "white",
            "linecolor": "white",
            "ticks": ""
           },
           "bgcolor": "#E5ECF6",
           "radialaxis": {
            "gridcolor": "white",
            "linecolor": "white",
            "ticks": ""
           }
          },
          "scene": {
           "xaxis": {
            "backgroundcolor": "#E5ECF6",
            "gridcolor": "white",
            "gridwidth": 2,
            "linecolor": "white",
            "showbackground": true,
            "ticks": "",
            "zerolinecolor": "white"
           },
           "yaxis": {
            "backgroundcolor": "#E5ECF6",
            "gridcolor": "white",
            "gridwidth": 2,
            "linecolor": "white",
            "showbackground": true,
            "ticks": "",
            "zerolinecolor": "white"
           },
           "zaxis": {
            "backgroundcolor": "#E5ECF6",
            "gridcolor": "white",
            "gridwidth": 2,
            "linecolor": "white",
            "showbackground": true,
            "ticks": "",
            "zerolinecolor": "white"
           }
          },
          "shapedefaults": {
           "line": {
            "color": "#2a3f5f"
           }
          },
          "ternary": {
           "aaxis": {
            "gridcolor": "white",
            "linecolor": "white",
            "ticks": ""
           },
           "baxis": {
            "gridcolor": "white",
            "linecolor": "white",
            "ticks": ""
           },
           "bgcolor": "#E5ECF6",
           "caxis": {
            "gridcolor": "white",
            "linecolor": "white",
            "ticks": ""
           }
          },
          "title": {
           "x": 0.05
          },
          "xaxis": {
           "automargin": true,
           "gridcolor": "white",
           "linecolor": "white",
           "ticks": "",
           "title": {
            "standoff": 15
           },
           "zerolinecolor": "white",
           "zerolinewidth": 2
          },
          "yaxis": {
           "automargin": true,
           "gridcolor": "white",
           "linecolor": "white",
           "ticks": "",
           "title": {
            "standoff": 15
           },
           "zerolinecolor": "white",
           "zerolinewidth": 2
          }
         }
        },
        "title": {
         "text": "Distribution of YT channel types"
        }
       }
      },
      "text/html": [
       "<div>                            <div id=\"2ec22aba-6458-4ab3-be68-df0637734d84\" class=\"plotly-graph-div\" style=\"height:500px; width:100%;\"></div>            <script type=\"text/javascript\">                require([\"plotly\"], function(Plotly) {                    window.PLOTLYENV=window.PLOTLYENV || {};                                    if (document.getElementById(\"2ec22aba-6458-4ab3-be68-df0637734d84\")) {                    Plotly.newPlot(                        \"2ec22aba-6458-4ab3-be68-df0637734d84\",                        [{\"branchvalues\":\"total\",\"domain\":{\"x\":[0.0,1.0],\"y\":[0.0,1.0]},\"hovertemplate\":\"labels=%{label}\\u003cbr\\u003ecount=%{value}\\u003cbr\\u003eparent=%{parent}\\u003cbr\\u003eid=%{id}\\u003cextra\\u003e\\u003c\\u002fextra\\u003e\",\"ids\":[\"Animals\",\"Autos\",\"Comedy\",\"Education\",\"Entertainment\",\"Film\",\"Games\",\"Howto\",\"Music\",\"News\",\"Nonprofit\",\"People\",\"Sports\",\"Tech\"],\"labels\":[\"Animals\",\"Autos\",\"Comedy\",\"Education\",\"Entertainment\",\"Film\",\"Games\",\"Howto\",\"Music\",\"News\",\"Nonprofit\",\"People\",\"Sports\",\"Tech\"],\"name\":\"\",\"parents\":[\"\",\"\",\"\",\"\",\"\",\"\",\"\",\"\",\"\",\"\",\"\",\"\",\"\",\"\"],\"values\":[3,2,30,36,181,29,46,13,124,26,2,41,9,12],\"type\":\"sunburst\"}],                        {\"template\":{\"data\":{\"histogram2dcontour\":[{\"type\":\"histogram2dcontour\",\"colorbar\":{\"outlinewidth\":0,\"ticks\":\"\"},\"colorscale\":[[0.0,\"#0d0887\"],[0.1111111111111111,\"#46039f\"],[0.2222222222222222,\"#7201a8\"],[0.3333333333333333,\"#9c179e\"],[0.4444444444444444,\"#bd3786\"],[0.5555555555555556,\"#d8576b\"],[0.6666666666666666,\"#ed7953\"],[0.7777777777777778,\"#fb9f3a\"],[0.8888888888888888,\"#fdca26\"],[1.0,\"#f0f921\"]]}],\"choropleth\":[{\"type\":\"choropleth\",\"colorbar\":{\"outlinewidth\":0,\"ticks\":\"\"}}],\"histogram2d\":[{\"type\":\"histogram2d\",\"colorbar\":{\"outlinewidth\":0,\"ticks\":\"\"},\"colorscale\":[[0.0,\"#0d0887\"],[0.1111111111111111,\"#46039f\"],[0.2222222222222222,\"#7201a8\"],[0.3333333333333333,\"#9c179e\"],[0.4444444444444444,\"#bd3786\"],[0.5555555555555556,\"#d8576b\"],[0.6666666666666666,\"#ed7953\"],[0.7777777777777778,\"#fb9f3a\"],[0.8888888888888888,\"#fdca26\"],[1.0,\"#f0f921\"]]}],\"heatmap\":[{\"type\":\"heatmap\",\"colorbar\":{\"outlinewidth\":0,\"ticks\":\"\"},\"colorscale\":[[0.0,\"#0d0887\"],[0.1111111111111111,\"#46039f\"],[0.2222222222222222,\"#7201a8\"],[0.3333333333333333,\"#9c179e\"],[0.4444444444444444,\"#bd3786\"],[0.5555555555555556,\"#d8576b\"],[0.6666666666666666,\"#ed7953\"],[0.7777777777777778,\"#fb9f3a\"],[0.8888888888888888,\"#fdca26\"],[1.0,\"#f0f921\"]]}],\"heatmapgl\":[{\"type\":\"heatmapgl\",\"colorbar\":{\"outlinewidth\":0,\"ticks\":\"\"},\"colorscale\":[[0.0,\"#0d0887\"],[0.1111111111111111,\"#46039f\"],[0.2222222222222222,\"#7201a8\"],[0.3333333333333333,\"#9c179e\"],[0.4444444444444444,\"#bd3786\"],[0.5555555555555556,\"#d8576b\"],[0.6666666666666666,\"#ed7953\"],[0.7777777777777778,\"#fb9f3a\"],[0.8888888888888888,\"#fdca26\"],[1.0,\"#f0f921\"]]}],\"contourcarpet\":[{\"type\":\"contourcarpet\",\"colorbar\":{\"outlinewidth\":0,\"ticks\":\"\"}}],\"contour\":[{\"type\":\"contour\",\"colorbar\":{\"outlinewidth\":0,\"ticks\":\"\"},\"colorscale\":[[0.0,\"#0d0887\"],[0.1111111111111111,\"#46039f\"],[0.2222222222222222,\"#7201a8\"],[0.3333333333333333,\"#9c179e\"],[0.4444444444444444,\"#bd3786\"],[0.5555555555555556,\"#d8576b\"],[0.6666666666666666,\"#ed7953\"],[0.7777777777777778,\"#fb9f3a\"],[0.8888888888888888,\"#fdca26\"],[1.0,\"#f0f921\"]]}],\"surface\":[{\"type\":\"surface\",\"colorbar\":{\"outlinewidth\":0,\"ticks\":\"\"},\"colorscale\":[[0.0,\"#0d0887\"],[0.1111111111111111,\"#46039f\"],[0.2222222222222222,\"#7201a8\"],[0.3333333333333333,\"#9c179e\"],[0.4444444444444444,\"#bd3786\"],[0.5555555555555556,\"#d8576b\"],[0.6666666666666666,\"#ed7953\"],[0.7777777777777778,\"#fb9f3a\"],[0.8888888888888888,\"#fdca26\"],[1.0,\"#f0f921\"]]}],\"mesh3d\":[{\"type\":\"mesh3d\",\"colorbar\":{\"outlinewidth\":0,\"ticks\":\"\"}}],\"scatter\":[{\"fillpattern\":{\"fillmode\":\"overlay\",\"size\":10,\"solidity\":0.2},\"type\":\"scatter\"}],\"parcoords\":[{\"type\":\"parcoords\",\"line\":{\"colorbar\":{\"outlinewidth\":0,\"ticks\":\"\"}}}],\"scatterpolargl\":[{\"type\":\"scatterpolargl\",\"marker\":{\"colorbar\":{\"outlinewidth\":0,\"ticks\":\"\"}}}],\"bar\":[{\"error_x\":{\"color\":\"#2a3f5f\"},\"error_y\":{\"color\":\"#2a3f5f\"},\"marker\":{\"line\":{\"color\":\"#E5ECF6\",\"width\":0.5},\"pattern\":{\"fillmode\":\"overlay\",\"size\":10,\"solidity\":0.2}},\"type\":\"bar\"}],\"scattergeo\":[{\"type\":\"scattergeo\",\"marker\":{\"colorbar\":{\"outlinewidth\":0,\"ticks\":\"\"}}}],\"scatterpolar\":[{\"type\":\"scatterpolar\",\"marker\":{\"colorbar\":{\"outlinewidth\":0,\"ticks\":\"\"}}}],\"histogram\":[{\"marker\":{\"pattern\":{\"fillmode\":\"overlay\",\"size\":10,\"solidity\":0.2}},\"type\":\"histogram\"}],\"scattergl\":[{\"type\":\"scattergl\",\"marker\":{\"colorbar\":{\"outlinewidth\":0,\"ticks\":\"\"}}}],\"scatter3d\":[{\"type\":\"scatter3d\",\"line\":{\"colorbar\":{\"outlinewidth\":0,\"ticks\":\"\"}},\"marker\":{\"colorbar\":{\"outlinewidth\":0,\"ticks\":\"\"}}}],\"scattermapbox\":[{\"type\":\"scattermapbox\",\"marker\":{\"colorbar\":{\"outlinewidth\":0,\"ticks\":\"\"}}}],\"scatterternary\":[{\"type\":\"scatterternary\",\"marker\":{\"colorbar\":{\"outlinewidth\":0,\"ticks\":\"\"}}}],\"scattercarpet\":[{\"type\":\"scattercarpet\",\"marker\":{\"colorbar\":{\"outlinewidth\":0,\"ticks\":\"\"}}}],\"carpet\":[{\"aaxis\":{\"endlinecolor\":\"#2a3f5f\",\"gridcolor\":\"white\",\"linecolor\":\"white\",\"minorgridcolor\":\"white\",\"startlinecolor\":\"#2a3f5f\"},\"baxis\":{\"endlinecolor\":\"#2a3f5f\",\"gridcolor\":\"white\",\"linecolor\":\"white\",\"minorgridcolor\":\"white\",\"startlinecolor\":\"#2a3f5f\"},\"type\":\"carpet\"}],\"table\":[{\"cells\":{\"fill\":{\"color\":\"#EBF0F8\"},\"line\":{\"color\":\"white\"}},\"header\":{\"fill\":{\"color\":\"#C8D4E3\"},\"line\":{\"color\":\"white\"}},\"type\":\"table\"}],\"barpolar\":[{\"marker\":{\"line\":{\"color\":\"#E5ECF6\",\"width\":0.5},\"pattern\":{\"fillmode\":\"overlay\",\"size\":10,\"solidity\":0.2}},\"type\":\"barpolar\"}],\"pie\":[{\"automargin\":true,\"type\":\"pie\"}]},\"layout\":{\"autotypenumbers\":\"strict\",\"colorway\":[\"#636efa\",\"#EF553B\",\"#00cc96\",\"#ab63fa\",\"#FFA15A\",\"#19d3f3\",\"#FF6692\",\"#B6E880\",\"#FF97FF\",\"#FECB52\"],\"font\":{\"color\":\"#2a3f5f\"},\"hovermode\":\"closest\",\"hoverlabel\":{\"align\":\"left\"},\"paper_bgcolor\":\"white\",\"plot_bgcolor\":\"#E5ECF6\",\"polar\":{\"bgcolor\":\"#E5ECF6\",\"angularaxis\":{\"gridcolor\":\"white\",\"linecolor\":\"white\",\"ticks\":\"\"},\"radialaxis\":{\"gridcolor\":\"white\",\"linecolor\":\"white\",\"ticks\":\"\"}},\"ternary\":{\"bgcolor\":\"#E5ECF6\",\"aaxis\":{\"gridcolor\":\"white\",\"linecolor\":\"white\",\"ticks\":\"\"},\"baxis\":{\"gridcolor\":\"white\",\"linecolor\":\"white\",\"ticks\":\"\"},\"caxis\":{\"gridcolor\":\"white\",\"linecolor\":\"white\",\"ticks\":\"\"}},\"coloraxis\":{\"colorbar\":{\"outlinewidth\":0,\"ticks\":\"\"}},\"colorscale\":{\"sequential\":[[0.0,\"#0d0887\"],[0.1111111111111111,\"#46039f\"],[0.2222222222222222,\"#7201a8\"],[0.3333333333333333,\"#9c179e\"],[0.4444444444444444,\"#bd3786\"],[0.5555555555555556,\"#d8576b\"],[0.6666666666666666,\"#ed7953\"],[0.7777777777777778,\"#fb9f3a\"],[0.8888888888888888,\"#fdca26\"],[1.0,\"#f0f921\"]],\"sequentialminus\":[[0.0,\"#0d0887\"],[0.1111111111111111,\"#46039f\"],[0.2222222222222222,\"#7201a8\"],[0.3333333333333333,\"#9c179e\"],[0.4444444444444444,\"#bd3786\"],[0.5555555555555556,\"#d8576b\"],[0.6666666666666666,\"#ed7953\"],[0.7777777777777778,\"#fb9f3a\"],[0.8888888888888888,\"#fdca26\"],[1.0,\"#f0f921\"]],\"diverging\":[[0,\"#8e0152\"],[0.1,\"#c51b7d\"],[0.2,\"#de77ae\"],[0.3,\"#f1b6da\"],[0.4,\"#fde0ef\"],[0.5,\"#f7f7f7\"],[0.6,\"#e6f5d0\"],[0.7,\"#b8e186\"],[0.8,\"#7fbc41\"],[0.9,\"#4d9221\"],[1,\"#276419\"]]},\"xaxis\":{\"gridcolor\":\"white\",\"linecolor\":\"white\",\"ticks\":\"\",\"title\":{\"standoff\":15},\"zerolinecolor\":\"white\",\"automargin\":true,\"zerolinewidth\":2},\"yaxis\":{\"gridcolor\":\"white\",\"linecolor\":\"white\",\"ticks\":\"\",\"title\":{\"standoff\":15},\"zerolinecolor\":\"white\",\"automargin\":true,\"zerolinewidth\":2},\"scene\":{\"xaxis\":{\"backgroundcolor\":\"#E5ECF6\",\"gridcolor\":\"white\",\"linecolor\":\"white\",\"showbackground\":true,\"ticks\":\"\",\"zerolinecolor\":\"white\",\"gridwidth\":2},\"yaxis\":{\"backgroundcolor\":\"#E5ECF6\",\"gridcolor\":\"white\",\"linecolor\":\"white\",\"showbackground\":true,\"ticks\":\"\",\"zerolinecolor\":\"white\",\"gridwidth\":2},\"zaxis\":{\"backgroundcolor\":\"#E5ECF6\",\"gridcolor\":\"white\",\"linecolor\":\"white\",\"showbackground\":true,\"ticks\":\"\",\"zerolinecolor\":\"white\",\"gridwidth\":2}},\"shapedefaults\":{\"line\":{\"color\":\"#2a3f5f\"}},\"annotationdefaults\":{\"arrowcolor\":\"#2a3f5f\",\"arrowhead\":0,\"arrowwidth\":1},\"geo\":{\"bgcolor\":\"white\",\"landcolor\":\"#E5ECF6\",\"subunitcolor\":\"white\",\"showland\":true,\"showlakes\":true,\"lakecolor\":\"white\"},\"title\":{\"x\":0.05},\"mapbox\":{\"style\":\"light\"}}},\"legend\":{\"tracegroupgap\":0},\"margin\":{\"t\":60},\"sunburstcolorway\":[\"rgb(141,211,199)\",\"rgb(255,255,179)\",\"rgb(190,186,218)\",\"rgb(251,128,114)\",\"rgb(128,177,211)\",\"rgb(253,180,98)\",\"rgb(179,222,105)\",\"rgb(252,205,229)\",\"rgb(217,217,217)\",\"rgb(188,128,189)\",\"rgb(204,235,197)\",\"rgb(255,237,111)\"],\"title\":{\"text\":\"Distribution of YT channel types\"},\"height\":500},                        {\"responsive\": true}                    ).then(function(){\n",
       "                            \n",
       "var gd = document.getElementById('2ec22aba-6458-4ab3-be68-df0637734d84');\n",
       "var x = new MutationObserver(function (mutations, observer) {{\n",
       "        var display = window.getComputedStyle(gd).display;\n",
       "        if (!display || display === 'none') {{\n",
       "            console.log([gd, 'removed!']);\n",
       "            Plotly.purge(gd);\n",
       "            observer.disconnect();\n",
       "        }}\n",
       "}});\n",
       "\n",
       "// Listen for the removal of the full notebook cells\n",
       "var notebookContainer = gd.closest('#notebook-container');\n",
       "if (notebookContainer) {{\n",
       "    x.observe(notebookContainer, {childList: true});\n",
       "}}\n",
       "\n",
       "// Listen for the clearing of the current output cell\n",
       "var outputEl = gd.closest('.output');\n",
       "if (outputEl) {{\n",
       "    x.observe(outputEl, {childList: true});\n",
       "}}\n",
       "\n",
       "                        })                };                });            </script>        </div>"
      ]
     },
     "metadata": {},
     "output_type": "display_data"
    }
   ],
   "source": [
    "fig2 = px.sunburst(df_cleaned,path=['channel_type'], color_discrete_sequence=px.colors.qualitative.Set3)\n",
    "fig2.update_layout(title_text = 'Distribution of YT channel types', height = 500)\n",
    "fig2.show()"
   ]
  },
  {
   "cell_type": "code",
   "execution_count": 22,
   "id": "783f2222",
   "metadata": {},
   "outputs": [],
   "source": [
    "earning_columns = ['lowest_monthly_earnings',\n",
    "       'highest_monthly_earnings', 'lowest_yearly_earnings',\n",
    "       'highest_yearly_earnings',]"
   ]
  },
  {
   "cell_type": "code",
   "execution_count": 23,
   "id": "f1215cf6",
   "metadata": {},
   "outputs": [],
   "source": [
    "earning_df = df_cleaned[earning_columns]"
   ]
  },
  {
   "cell_type": "code",
   "execution_count": 24,
   "id": "12151c6a",
   "metadata": {},
   "outputs": [
    {
     "data": {
      "application/vnd.plotly.v1+json": {
       "config": {
        "plotlyServerURL": "https://plot.ly"
       },
       "data": [
        {
         "alignmentgroup": "True",
         "hovertemplate": "variable=%{x}<br>value=%{y}<extra></extra>",
         "legendgroup": "",
         "marker": {
          "color": "#636efa"
         },
         "name": "",
         "notched": false,
         "offsetgroup": "",
         "orientation": "v",
         "showlegend": false,
         "type": "box",
         "x": [
          "lowest_monthly_earnings",
          "lowest_monthly_earnings",
          "lowest_monthly_earnings",
          "lowest_monthly_earnings",
          "lowest_monthly_earnings",
          "lowest_monthly_earnings",
          "lowest_monthly_earnings",
          "lowest_monthly_earnings",
          "lowest_monthly_earnings",
          "lowest_monthly_earnings",
          "lowest_monthly_earnings",
          "lowest_monthly_earnings",
          "lowest_monthly_earnings",
          "lowest_monthly_earnings",
          "lowest_monthly_earnings",
          "lowest_monthly_earnings",
          "lowest_monthly_earnings",
          "lowest_monthly_earnings",
          "lowest_monthly_earnings",
          "lowest_monthly_earnings",
          "lowest_monthly_earnings",
          "lowest_monthly_earnings",
          "lowest_monthly_earnings",
          "lowest_monthly_earnings",
          "lowest_monthly_earnings",
          "lowest_monthly_earnings",
          "lowest_monthly_earnings",
          "lowest_monthly_earnings",
          "lowest_monthly_earnings",
          "lowest_monthly_earnings",
          "lowest_monthly_earnings",
          "lowest_monthly_earnings",
          "lowest_monthly_earnings",
          "lowest_monthly_earnings",
          "lowest_monthly_earnings",
          "lowest_monthly_earnings",
          "lowest_monthly_earnings",
          "lowest_monthly_earnings",
          "lowest_monthly_earnings",
          "lowest_monthly_earnings",
          "lowest_monthly_earnings",
          "lowest_monthly_earnings",
          "lowest_monthly_earnings",
          "lowest_monthly_earnings",
          "lowest_monthly_earnings",
          "lowest_monthly_earnings",
          "lowest_monthly_earnings",
          "lowest_monthly_earnings",
          "lowest_monthly_earnings",
          "lowest_monthly_earnings",
          "lowest_monthly_earnings",
          "lowest_monthly_earnings",
          "lowest_monthly_earnings",
          "lowest_monthly_earnings",
          "lowest_monthly_earnings",
          "lowest_monthly_earnings",
          "lowest_monthly_earnings",
          "lowest_monthly_earnings",
          "lowest_monthly_earnings",
          "lowest_monthly_earnings",
          "lowest_monthly_earnings",
          "lowest_monthly_earnings",
          "lowest_monthly_earnings",
          "lowest_monthly_earnings",
          "lowest_monthly_earnings",
          "lowest_monthly_earnings",
          "lowest_monthly_earnings",
          "lowest_monthly_earnings",
          "lowest_monthly_earnings",
          "lowest_monthly_earnings",
          "lowest_monthly_earnings",
          "lowest_monthly_earnings",
          "lowest_monthly_earnings",
          "lowest_monthly_earnings",
          "lowest_monthly_earnings",
          "lowest_monthly_earnings",
          "lowest_monthly_earnings",
          "lowest_monthly_earnings",
          "lowest_monthly_earnings",
          "lowest_monthly_earnings",
          "lowest_monthly_earnings",
          "lowest_monthly_earnings",
          "lowest_monthly_earnings",
          "lowest_monthly_earnings",
          "lowest_monthly_earnings",
          "lowest_monthly_earnings",
          "lowest_monthly_earnings",
          "lowest_monthly_earnings",
          "lowest_monthly_earnings",
          "lowest_monthly_earnings",
          "lowest_monthly_earnings",
          "lowest_monthly_earnings",
          "lowest_monthly_earnings",
          "lowest_monthly_earnings",
          "lowest_monthly_earnings",
          "lowest_monthly_earnings",
          "lowest_monthly_earnings",
          "lowest_monthly_earnings",
          "lowest_monthly_earnings",
          "lowest_monthly_earnings",
          "lowest_monthly_earnings",
          "lowest_monthly_earnings",
          "lowest_monthly_earnings",
          "lowest_monthly_earnings",
          "lowest_monthly_earnings",
          "lowest_monthly_earnings",
          "lowest_monthly_earnings",
          "lowest_monthly_earnings",
          "lowest_monthly_earnings",
          "lowest_monthly_earnings",
          "lowest_monthly_earnings",
          "lowest_monthly_earnings",
          "lowest_monthly_earnings",
          "lowest_monthly_earnings",
          "lowest_monthly_earnings",
          "lowest_monthly_earnings",
          "lowest_monthly_earnings",
          "lowest_monthly_earnings",
          "lowest_monthly_earnings",
          "lowest_monthly_earnings",
          "lowest_monthly_earnings",
          "lowest_monthly_earnings",
          "lowest_monthly_earnings",
          "lowest_monthly_earnings",
          "lowest_monthly_earnings",
          "lowest_monthly_earnings",
          "lowest_monthly_earnings",
          "lowest_monthly_earnings",
          "lowest_monthly_earnings",
          "lowest_monthly_earnings",
          "lowest_monthly_earnings",
          "lowest_monthly_earnings",
          "lowest_monthly_earnings",
          "lowest_monthly_earnings",
          "lowest_monthly_earnings",
          "lowest_monthly_earnings",
          "lowest_monthly_earnings",
          "lowest_monthly_earnings",
          "lowest_monthly_earnings",
          "lowest_monthly_earnings",
          "lowest_monthly_earnings",
          "lowest_monthly_earnings",
          "lowest_monthly_earnings",
          "lowest_monthly_earnings",
          "lowest_monthly_earnings",
          "lowest_monthly_earnings",
          "lowest_monthly_earnings",
          "lowest_monthly_earnings",
          "lowest_monthly_earnings",
          "lowest_monthly_earnings",
          "lowest_monthly_earnings",
          "lowest_monthly_earnings",
          "lowest_monthly_earnings",
          "lowest_monthly_earnings",
          "lowest_monthly_earnings",
          "lowest_monthly_earnings",
          "lowest_monthly_earnings",
          "lowest_monthly_earnings",
          "lowest_monthly_earnings",
          "lowest_monthly_earnings",
          "lowest_monthly_earnings",
          "lowest_monthly_earnings",
          "lowest_monthly_earnings",
          "lowest_monthly_earnings",
          "lowest_monthly_earnings",
          "lowest_monthly_earnings",
          "lowest_monthly_earnings",
          "lowest_monthly_earnings",
          "lowest_monthly_earnings",
          "lowest_monthly_earnings",
          "lowest_monthly_earnings",
          "lowest_monthly_earnings",
          "lowest_monthly_earnings",
          "lowest_monthly_earnings",
          "lowest_monthly_earnings",
          "lowest_monthly_earnings",
          "lowest_monthly_earnings",
          "lowest_monthly_earnings",
          "lowest_monthly_earnings",
          "lowest_monthly_earnings",
          "lowest_monthly_earnings",
          "lowest_monthly_earnings",
          "lowest_monthly_earnings",
          "lowest_monthly_earnings",
          "lowest_monthly_earnings",
          "lowest_monthly_earnings",
          "lowest_monthly_earnings",
          "lowest_monthly_earnings",
          "lowest_monthly_earnings",
          "lowest_monthly_earnings",
          "lowest_monthly_earnings",
          "lowest_monthly_earnings",
          "lowest_monthly_earnings",
          "lowest_monthly_earnings",
          "lowest_monthly_earnings",
          "lowest_monthly_earnings",
          "lowest_monthly_earnings",
          "lowest_monthly_earnings",
          "lowest_monthly_earnings",
          "lowest_monthly_earnings",
          "lowest_monthly_earnings",
          "lowest_monthly_earnings",
          "lowest_monthly_earnings",
          "lowest_monthly_earnings",
          "lowest_monthly_earnings",
          "lowest_monthly_earnings",
          "lowest_monthly_earnings",
          "lowest_monthly_earnings",
          "lowest_monthly_earnings",
          "lowest_monthly_earnings",
          "lowest_monthly_earnings",
          "lowest_monthly_earnings",
          "lowest_monthly_earnings",
          "lowest_monthly_earnings",
          "lowest_monthly_earnings",
          "lowest_monthly_earnings",
          "lowest_monthly_earnings",
          "lowest_monthly_earnings",
          "lowest_monthly_earnings",
          "lowest_monthly_earnings",
          "lowest_monthly_earnings",
          "lowest_monthly_earnings",
          "lowest_monthly_earnings",
          "lowest_monthly_earnings",
          "lowest_monthly_earnings",
          "lowest_monthly_earnings",
          "lowest_monthly_earnings",
          "lowest_monthly_earnings",
          "lowest_monthly_earnings",
          "lowest_monthly_earnings",
          "lowest_monthly_earnings",
          "lowest_monthly_earnings",
          "lowest_monthly_earnings",
          "lowest_monthly_earnings",
          "lowest_monthly_earnings",
          "lowest_monthly_earnings",
          "lowest_monthly_earnings",
          "lowest_monthly_earnings",
          "lowest_monthly_earnings",
          "lowest_monthly_earnings",
          "lowest_monthly_earnings",
          "lowest_monthly_earnings",
          "lowest_monthly_earnings",
          "lowest_monthly_earnings",
          "lowest_monthly_earnings",
          "lowest_monthly_earnings",
          "lowest_monthly_earnings",
          "lowest_monthly_earnings",
          "lowest_monthly_earnings",
          "lowest_monthly_earnings",
          "lowest_monthly_earnings",
          "lowest_monthly_earnings",
          "lowest_monthly_earnings",
          "lowest_monthly_earnings",
          "lowest_monthly_earnings",
          "lowest_monthly_earnings",
          "lowest_monthly_earnings",
          "lowest_monthly_earnings",
          "lowest_monthly_earnings",
          "lowest_monthly_earnings",
          "lowest_monthly_earnings",
          "lowest_monthly_earnings",
          "lowest_monthly_earnings",
          "lowest_monthly_earnings",
          "lowest_monthly_earnings",
          "lowest_monthly_earnings",
          "lowest_monthly_earnings",
          "lowest_monthly_earnings",
          "lowest_monthly_earnings",
          "lowest_monthly_earnings",
          "lowest_monthly_earnings",
          "lowest_monthly_earnings",
          "lowest_monthly_earnings",
          "lowest_monthly_earnings",
          "lowest_monthly_earnings",
          "lowest_monthly_earnings",
          "lowest_monthly_earnings",
          "lowest_monthly_earnings",
          "lowest_monthly_earnings",
          "lowest_monthly_earnings",
          "lowest_monthly_earnings",
          "lowest_monthly_earnings",
          "lowest_monthly_earnings",
          "lowest_monthly_earnings",
          "lowest_monthly_earnings",
          "lowest_monthly_earnings",
          "lowest_monthly_earnings",
          "lowest_monthly_earnings",
          "lowest_monthly_earnings",
          "lowest_monthly_earnings",
          "lowest_monthly_earnings",
          "lowest_monthly_earnings",
          "lowest_monthly_earnings",
          "lowest_monthly_earnings",
          "lowest_monthly_earnings",
          "lowest_monthly_earnings",
          "lowest_monthly_earnings",
          "lowest_monthly_earnings",
          "lowest_monthly_earnings",
          "lowest_monthly_earnings",
          "lowest_monthly_earnings",
          "lowest_monthly_earnings",
          "lowest_monthly_earnings",
          "lowest_monthly_earnings",
          "lowest_monthly_earnings",
          "lowest_monthly_earnings",
          "lowest_monthly_earnings",
          "lowest_monthly_earnings",
          "lowest_monthly_earnings",
          "lowest_monthly_earnings",
          "lowest_monthly_earnings",
          "lowest_monthly_earnings",
          "lowest_monthly_earnings",
          "lowest_monthly_earnings",
          "lowest_monthly_earnings",
          "lowest_monthly_earnings",
          "lowest_monthly_earnings",
          "lowest_monthly_earnings",
          "lowest_monthly_earnings",
          "lowest_monthly_earnings",
          "lowest_monthly_earnings",
          "lowest_monthly_earnings",
          "lowest_monthly_earnings",
          "lowest_monthly_earnings",
          "lowest_monthly_earnings",
          "lowest_monthly_earnings",
          "lowest_monthly_earnings",
          "lowest_monthly_earnings",
          "lowest_monthly_earnings",
          "lowest_monthly_earnings",
          "lowest_monthly_earnings",
          "lowest_monthly_earnings",
          "lowest_monthly_earnings",
          "lowest_monthly_earnings",
          "lowest_monthly_earnings",
          "lowest_monthly_earnings",
          "lowest_monthly_earnings",
          "lowest_monthly_earnings",
          "lowest_monthly_earnings",
          "lowest_monthly_earnings",
          "lowest_monthly_earnings",
          "lowest_monthly_earnings",
          "lowest_monthly_earnings",
          "lowest_monthly_earnings",
          "lowest_monthly_earnings",
          "lowest_monthly_earnings",
          "lowest_monthly_earnings",
          "lowest_monthly_earnings",
          "lowest_monthly_earnings",
          "lowest_monthly_earnings",
          "lowest_monthly_earnings",
          "lowest_monthly_earnings",
          "lowest_monthly_earnings",
          "lowest_monthly_earnings",
          "lowest_monthly_earnings",
          "lowest_monthly_earnings",
          "lowest_monthly_earnings",
          "lowest_monthly_earnings",
          "lowest_monthly_earnings",
          "lowest_monthly_earnings",
          "lowest_monthly_earnings",
          "lowest_monthly_earnings",
          "lowest_monthly_earnings",
          "lowest_monthly_earnings",
          "lowest_monthly_earnings",
          "lowest_monthly_earnings",
          "lowest_monthly_earnings",
          "lowest_monthly_earnings",
          "lowest_monthly_earnings",
          "lowest_monthly_earnings",
          "lowest_monthly_earnings",
          "lowest_monthly_earnings",
          "lowest_monthly_earnings",
          "lowest_monthly_earnings",
          "lowest_monthly_earnings",
          "lowest_monthly_earnings",
          "lowest_monthly_earnings",
          "lowest_monthly_earnings",
          "lowest_monthly_earnings",
          "lowest_monthly_earnings",
          "lowest_monthly_earnings",
          "lowest_monthly_earnings",
          "lowest_monthly_earnings",
          "lowest_monthly_earnings",
          "lowest_monthly_earnings",
          "lowest_monthly_earnings",
          "lowest_monthly_earnings",
          "lowest_monthly_earnings",
          "lowest_monthly_earnings",
          "lowest_monthly_earnings",
          "lowest_monthly_earnings",
          "lowest_monthly_earnings",
          "lowest_monthly_earnings",
          "lowest_monthly_earnings",
          "lowest_monthly_earnings",
          "lowest_monthly_earnings",
          "lowest_monthly_earnings",
          "lowest_monthly_earnings",
          "lowest_monthly_earnings",
          "lowest_monthly_earnings",
          "lowest_monthly_earnings",
          "lowest_monthly_earnings",
          "lowest_monthly_earnings",
          "lowest_monthly_earnings",
          "lowest_monthly_earnings",
          "lowest_monthly_earnings",
          "lowest_monthly_earnings",
          "lowest_monthly_earnings",
          "lowest_monthly_earnings",
          "lowest_monthly_earnings",
          "lowest_monthly_earnings",
          "lowest_monthly_earnings",
          "lowest_monthly_earnings",
          "lowest_monthly_earnings",
          "lowest_monthly_earnings",
          "lowest_monthly_earnings",
          "lowest_monthly_earnings",
          "lowest_monthly_earnings",
          "lowest_monthly_earnings",
          "lowest_monthly_earnings",
          "lowest_monthly_earnings",
          "lowest_monthly_earnings",
          "lowest_monthly_earnings",
          "lowest_monthly_earnings",
          "lowest_monthly_earnings",
          "lowest_monthly_earnings",
          "lowest_monthly_earnings",
          "lowest_monthly_earnings",
          "lowest_monthly_earnings",
          "lowest_monthly_earnings",
          "lowest_monthly_earnings",
          "lowest_monthly_earnings",
          "lowest_monthly_earnings",
          "lowest_monthly_earnings",
          "lowest_monthly_earnings",
          "lowest_monthly_earnings",
          "lowest_monthly_earnings",
          "lowest_monthly_earnings",
          "lowest_monthly_earnings",
          "lowest_monthly_earnings",
          "lowest_monthly_earnings",
          "lowest_monthly_earnings",
          "lowest_monthly_earnings",
          "lowest_monthly_earnings",
          "lowest_monthly_earnings",
          "lowest_monthly_earnings",
          "lowest_monthly_earnings",
          "lowest_monthly_earnings",
          "lowest_monthly_earnings",
          "lowest_monthly_earnings",
          "lowest_monthly_earnings",
          "lowest_monthly_earnings",
          "lowest_monthly_earnings",
          "lowest_monthly_earnings",
          "lowest_monthly_earnings",
          "lowest_monthly_earnings",
          "lowest_monthly_earnings",
          "lowest_monthly_earnings",
          "lowest_monthly_earnings",
          "lowest_monthly_earnings",
          "lowest_monthly_earnings",
          "lowest_monthly_earnings",
          "lowest_monthly_earnings",
          "lowest_monthly_earnings",
          "lowest_monthly_earnings",
          "lowest_monthly_earnings",
          "lowest_monthly_earnings",
          "lowest_monthly_earnings",
          "lowest_monthly_earnings",
          "lowest_monthly_earnings",
          "lowest_monthly_earnings",
          "lowest_monthly_earnings",
          "lowest_monthly_earnings",
          "lowest_monthly_earnings",
          "lowest_monthly_earnings",
          "lowest_monthly_earnings",
          "lowest_monthly_earnings",
          "lowest_monthly_earnings",
          "lowest_monthly_earnings",
          "lowest_monthly_earnings",
          "lowest_monthly_earnings",
          "lowest_monthly_earnings",
          "lowest_monthly_earnings",
          "lowest_monthly_earnings",
          "lowest_monthly_earnings",
          "lowest_monthly_earnings",
          "lowest_monthly_earnings",
          "lowest_monthly_earnings",
          "lowest_monthly_earnings",
          "lowest_monthly_earnings",
          "lowest_monthly_earnings",
          "lowest_monthly_earnings",
          "lowest_monthly_earnings",
          "lowest_monthly_earnings",
          "lowest_monthly_earnings",
          "lowest_monthly_earnings",
          "lowest_monthly_earnings",
          "lowest_monthly_earnings",
          "lowest_monthly_earnings",
          "lowest_monthly_earnings",
          "lowest_monthly_earnings",
          "lowest_monthly_earnings",
          "lowest_monthly_earnings",
          "lowest_monthly_earnings",
          "lowest_monthly_earnings",
          "lowest_monthly_earnings",
          "lowest_monthly_earnings",
          "lowest_monthly_earnings",
          "lowest_monthly_earnings",
          "lowest_monthly_earnings",
          "lowest_monthly_earnings",
          "lowest_monthly_earnings",
          "lowest_monthly_earnings",
          "lowest_monthly_earnings",
          "lowest_monthly_earnings",
          "lowest_monthly_earnings",
          "lowest_monthly_earnings",
          "lowest_monthly_earnings",
          "lowest_monthly_earnings",
          "lowest_monthly_earnings",
          "lowest_monthly_earnings",
          "lowest_monthly_earnings",
          "lowest_monthly_earnings",
          "lowest_monthly_earnings",
          "lowest_monthly_earnings",
          "lowest_monthly_earnings",
          "lowest_monthly_earnings",
          "lowest_monthly_earnings",
          "lowest_monthly_earnings",
          "lowest_monthly_earnings",
          "lowest_monthly_earnings",
          "lowest_monthly_earnings",
          "lowest_monthly_earnings",
          "lowest_monthly_earnings",
          "lowest_monthly_earnings",
          "lowest_monthly_earnings",
          "lowest_monthly_earnings",
          "lowest_monthly_earnings",
          "lowest_monthly_earnings",
          "lowest_monthly_earnings",
          "lowest_monthly_earnings",
          "lowest_monthly_earnings",
          "lowest_monthly_earnings",
          "lowest_monthly_earnings",
          "lowest_monthly_earnings",
          "lowest_monthly_earnings",
          "lowest_monthly_earnings",
          "lowest_monthly_earnings",
          "lowest_monthly_earnings",
          "lowest_monthly_earnings",
          "lowest_monthly_earnings",
          "lowest_monthly_earnings",
          "lowest_monthly_earnings",
          "lowest_monthly_earnings",
          "highest_monthly_earnings",
          "highest_monthly_earnings",
          "highest_monthly_earnings",
          "highest_monthly_earnings",
          "highest_monthly_earnings",
          "highest_monthly_earnings",
          "highest_monthly_earnings",
          "highest_monthly_earnings",
          "highest_monthly_earnings",
          "highest_monthly_earnings",
          "highest_monthly_earnings",
          "highest_monthly_earnings",
          "highest_monthly_earnings",
          "highest_monthly_earnings",
          "highest_monthly_earnings",
          "highest_monthly_earnings",
          "highest_monthly_earnings",
          "highest_monthly_earnings",
          "highest_monthly_earnings",
          "highest_monthly_earnings",
          "highest_monthly_earnings",
          "highest_monthly_earnings",
          "highest_monthly_earnings",
          "highest_monthly_earnings",
          "highest_monthly_earnings",
          "highest_monthly_earnings",
          "highest_monthly_earnings",
          "highest_monthly_earnings",
          "highest_monthly_earnings",
          "highest_monthly_earnings",
          "highest_monthly_earnings",
          "highest_monthly_earnings",
          "highest_monthly_earnings",
          "highest_monthly_earnings",
          "highest_monthly_earnings",
          "highest_monthly_earnings",
          "highest_monthly_earnings",
          "highest_monthly_earnings",
          "highest_monthly_earnings",
          "highest_monthly_earnings",
          "highest_monthly_earnings",
          "highest_monthly_earnings",
          "highest_monthly_earnings",
          "highest_monthly_earnings",
          "highest_monthly_earnings",
          "highest_monthly_earnings",
          "highest_monthly_earnings",
          "highest_monthly_earnings",
          "highest_monthly_earnings",
          "highest_monthly_earnings",
          "highest_monthly_earnings",
          "highest_monthly_earnings",
          "highest_monthly_earnings",
          "highest_monthly_earnings",
          "highest_monthly_earnings",
          "highest_monthly_earnings",
          "highest_monthly_earnings",
          "highest_monthly_earnings",
          "highest_monthly_earnings",
          "highest_monthly_earnings",
          "highest_monthly_earnings",
          "highest_monthly_earnings",
          "highest_monthly_earnings",
          "highest_monthly_earnings",
          "highest_monthly_earnings",
          "highest_monthly_earnings",
          "highest_monthly_earnings",
          "highest_monthly_earnings",
          "highest_monthly_earnings",
          "highest_monthly_earnings",
          "highest_monthly_earnings",
          "highest_monthly_earnings",
          "highest_monthly_earnings",
          "highest_monthly_earnings",
          "highest_monthly_earnings",
          "highest_monthly_earnings",
          "highest_monthly_earnings",
          "highest_monthly_earnings",
          "highest_monthly_earnings",
          "highest_monthly_earnings",
          "highest_monthly_earnings",
          "highest_monthly_earnings",
          "highest_monthly_earnings",
          "highest_monthly_earnings",
          "highest_monthly_earnings",
          "highest_monthly_earnings",
          "highest_monthly_earnings",
          "highest_monthly_earnings",
          "highest_monthly_earnings",
          "highest_monthly_earnings",
          "highest_monthly_earnings",
          "highest_monthly_earnings",
          "highest_monthly_earnings",
          "highest_monthly_earnings",
          "highest_monthly_earnings",
          "highest_monthly_earnings",
          "highest_monthly_earnings",
          "highest_monthly_earnings",
          "highest_monthly_earnings",
          "highest_monthly_earnings",
          "highest_monthly_earnings",
          "highest_monthly_earnings",
          "highest_monthly_earnings",
          "highest_monthly_earnings",
          "highest_monthly_earnings",
          "highest_monthly_earnings",
          "highest_monthly_earnings",
          "highest_monthly_earnings",
          "highest_monthly_earnings",
          "highest_monthly_earnings",
          "highest_monthly_earnings",
          "highest_monthly_earnings",
          "highest_monthly_earnings",
          "highest_monthly_earnings",
          "highest_monthly_earnings",
          "highest_monthly_earnings",
          "highest_monthly_earnings",
          "highest_monthly_earnings",
          "highest_monthly_earnings",
          "highest_monthly_earnings",
          "highest_monthly_earnings",
          "highest_monthly_earnings",
          "highest_monthly_earnings",
          "highest_monthly_earnings",
          "highest_monthly_earnings",
          "highest_monthly_earnings",
          "highest_monthly_earnings",
          "highest_monthly_earnings",
          "highest_monthly_earnings",
          "highest_monthly_earnings",
          "highest_monthly_earnings",
          "highest_monthly_earnings",
          "highest_monthly_earnings",
          "highest_monthly_earnings",
          "highest_monthly_earnings",
          "highest_monthly_earnings",
          "highest_monthly_earnings",
          "highest_monthly_earnings",
          "highest_monthly_earnings",
          "highest_monthly_earnings",
          "highest_monthly_earnings",
          "highest_monthly_earnings",
          "highest_monthly_earnings",
          "highest_monthly_earnings",
          "highest_monthly_earnings",
          "highest_monthly_earnings",
          "highest_monthly_earnings",
          "highest_monthly_earnings",
          "highest_monthly_earnings",
          "highest_monthly_earnings",
          "highest_monthly_earnings",
          "highest_monthly_earnings",
          "highest_monthly_earnings",
          "highest_monthly_earnings",
          "highest_monthly_earnings",
          "highest_monthly_earnings",
          "highest_monthly_earnings",
          "highest_monthly_earnings",
          "highest_monthly_earnings",
          "highest_monthly_earnings",
          "highest_monthly_earnings",
          "highest_monthly_earnings",
          "highest_monthly_earnings",
          "highest_monthly_earnings",
          "highest_monthly_earnings",
          "highest_monthly_earnings",
          "highest_monthly_earnings",
          "highest_monthly_earnings",
          "highest_monthly_earnings",
          "highest_monthly_earnings",
          "highest_monthly_earnings",
          "highest_monthly_earnings",
          "highest_monthly_earnings",
          "highest_monthly_earnings",
          "highest_monthly_earnings",
          "highest_monthly_earnings",
          "highest_monthly_earnings",
          "highest_monthly_earnings",
          "highest_monthly_earnings",
          "highest_monthly_earnings",
          "highest_monthly_earnings",
          "highest_monthly_earnings",
          "highest_monthly_earnings",
          "highest_monthly_earnings",
          "highest_monthly_earnings",
          "highest_monthly_earnings",
          "highest_monthly_earnings",
          "highest_monthly_earnings",
          "highest_monthly_earnings",
          "highest_monthly_earnings",
          "highest_monthly_earnings",
          "highest_monthly_earnings",
          "highest_monthly_earnings",
          "highest_monthly_earnings",
          "highest_monthly_earnings",
          "highest_monthly_earnings",
          "highest_monthly_earnings",
          "highest_monthly_earnings",
          "highest_monthly_earnings",
          "highest_monthly_earnings",
          "highest_monthly_earnings",
          "highest_monthly_earnings",
          "highest_monthly_earnings",
          "highest_monthly_earnings",
          "highest_monthly_earnings",
          "highest_monthly_earnings",
          "highest_monthly_earnings",
          "highest_monthly_earnings",
          "highest_monthly_earnings",
          "highest_monthly_earnings",
          "highest_monthly_earnings",
          "highest_monthly_earnings",
          "highest_monthly_earnings",
          "highest_monthly_earnings",
          "highest_monthly_earnings",
          "highest_monthly_earnings",
          "highest_monthly_earnings",
          "highest_monthly_earnings",
          "highest_monthly_earnings",
          "highest_monthly_earnings",
          "highest_monthly_earnings",
          "highest_monthly_earnings",
          "highest_monthly_earnings",
          "highest_monthly_earnings",
          "highest_monthly_earnings",
          "highest_monthly_earnings",
          "highest_monthly_earnings",
          "highest_monthly_earnings",
          "highest_monthly_earnings",
          "highest_monthly_earnings",
          "highest_monthly_earnings",
          "highest_monthly_earnings",
          "highest_monthly_earnings",
          "highest_monthly_earnings",
          "highest_monthly_earnings",
          "highest_monthly_earnings",
          "highest_monthly_earnings",
          "highest_monthly_earnings",
          "highest_monthly_earnings",
          "highest_monthly_earnings",
          "highest_monthly_earnings",
          "highest_monthly_earnings",
          "highest_monthly_earnings",
          "highest_monthly_earnings",
          "highest_monthly_earnings",
          "highest_monthly_earnings",
          "highest_monthly_earnings",
          "highest_monthly_earnings",
          "highest_monthly_earnings",
          "highest_monthly_earnings",
          "highest_monthly_earnings",
          "highest_monthly_earnings",
          "highest_monthly_earnings",
          "highest_monthly_earnings",
          "highest_monthly_earnings",
          "highest_monthly_earnings",
          "highest_monthly_earnings",
          "highest_monthly_earnings",
          "highest_monthly_earnings",
          "highest_monthly_earnings",
          "highest_monthly_earnings",
          "highest_monthly_earnings",
          "highest_monthly_earnings",
          "highest_monthly_earnings",
          "highest_monthly_earnings",
          "highest_monthly_earnings",
          "highest_monthly_earnings",
          "highest_monthly_earnings",
          "highest_monthly_earnings",
          "highest_monthly_earnings",
          "highest_monthly_earnings",
          "highest_monthly_earnings",
          "highest_monthly_earnings",
          "highest_monthly_earnings",
          "highest_monthly_earnings",
          "highest_monthly_earnings",
          "highest_monthly_earnings",
          "highest_monthly_earnings",
          "highest_monthly_earnings",
          "highest_monthly_earnings",
          "highest_monthly_earnings",
          "highest_monthly_earnings",
          "highest_monthly_earnings",
          "highest_monthly_earnings",
          "highest_monthly_earnings",
          "highest_monthly_earnings",
          "highest_monthly_earnings",
          "highest_monthly_earnings",
          "highest_monthly_earnings",
          "highest_monthly_earnings",
          "highest_monthly_earnings",
          "highest_monthly_earnings",
          "highest_monthly_earnings",
          "highest_monthly_earnings",
          "highest_monthly_earnings",
          "highest_monthly_earnings",
          "highest_monthly_earnings",
          "highest_monthly_earnings",
          "highest_monthly_earnings",
          "highest_monthly_earnings",
          "highest_monthly_earnings",
          "highest_monthly_earnings",
          "highest_monthly_earnings",
          "highest_monthly_earnings",
          "highest_monthly_earnings",
          "highest_monthly_earnings",
          "highest_monthly_earnings",
          "highest_monthly_earnings",
          "highest_monthly_earnings",
          "highest_monthly_earnings",
          "highest_monthly_earnings",
          "highest_monthly_earnings",
          "highest_monthly_earnings",
          "highest_monthly_earnings",
          "highest_monthly_earnings",
          "highest_monthly_earnings",
          "highest_monthly_earnings",
          "highest_monthly_earnings",
          "highest_monthly_earnings",
          "highest_monthly_earnings",
          "highest_monthly_earnings",
          "highest_monthly_earnings",
          "highest_monthly_earnings",
          "highest_monthly_earnings",
          "highest_monthly_earnings",
          "highest_monthly_earnings",
          "highest_monthly_earnings",
          "highest_monthly_earnings",
          "highest_monthly_earnings",
          "highest_monthly_earnings",
          "highest_monthly_earnings",
          "highest_monthly_earnings",
          "highest_monthly_earnings",
          "highest_monthly_earnings",
          "highest_monthly_earnings",
          "highest_monthly_earnings",
          "highest_monthly_earnings",
          "highest_monthly_earnings",
          "highest_monthly_earnings",
          "highest_monthly_earnings",
          "highest_monthly_earnings",
          "highest_monthly_earnings",
          "highest_monthly_earnings",
          "highest_monthly_earnings",
          "highest_monthly_earnings",
          "highest_monthly_earnings",
          "highest_monthly_earnings",
          "highest_monthly_earnings",
          "highest_monthly_earnings",
          "highest_monthly_earnings",
          "highest_monthly_earnings",
          "highest_monthly_earnings",
          "highest_monthly_earnings",
          "highest_monthly_earnings",
          "highest_monthly_earnings",
          "highest_monthly_earnings",
          "highest_monthly_earnings",
          "highest_monthly_earnings",
          "highest_monthly_earnings",
          "highest_monthly_earnings",
          "highest_monthly_earnings",
          "highest_monthly_earnings",
          "highest_monthly_earnings",
          "highest_monthly_earnings",
          "highest_monthly_earnings",
          "highest_monthly_earnings",
          "highest_monthly_earnings",
          "highest_monthly_earnings",
          "highest_monthly_earnings",
          "highest_monthly_earnings",
          "highest_monthly_earnings",
          "highest_monthly_earnings",
          "highest_monthly_earnings",
          "highest_monthly_earnings",
          "highest_monthly_earnings",
          "highest_monthly_earnings",
          "highest_monthly_earnings",
          "highest_monthly_earnings",
          "highest_monthly_earnings",
          "highest_monthly_earnings",
          "highest_monthly_earnings",
          "highest_monthly_earnings",
          "highest_monthly_earnings",
          "highest_monthly_earnings",
          "highest_monthly_earnings",
          "highest_monthly_earnings",
          "highest_monthly_earnings",
          "highest_monthly_earnings",
          "highest_monthly_earnings",
          "highest_monthly_earnings",
          "highest_monthly_earnings",
          "highest_monthly_earnings",
          "highest_monthly_earnings",
          "highest_monthly_earnings",
          "highest_monthly_earnings",
          "highest_monthly_earnings",
          "highest_monthly_earnings",
          "highest_monthly_earnings",
          "highest_monthly_earnings",
          "highest_monthly_earnings",
          "highest_monthly_earnings",
          "highest_monthly_earnings",
          "highest_monthly_earnings",
          "highest_monthly_earnings",
          "highest_monthly_earnings",
          "highest_monthly_earnings",
          "highest_monthly_earnings",
          "highest_monthly_earnings",
          "highest_monthly_earnings",
          "highest_monthly_earnings",
          "highest_monthly_earnings",
          "highest_monthly_earnings",
          "highest_monthly_earnings",
          "highest_monthly_earnings",
          "highest_monthly_earnings",
          "highest_monthly_earnings",
          "highest_monthly_earnings",
          "highest_monthly_earnings",
          "highest_monthly_earnings",
          "highest_monthly_earnings",
          "highest_monthly_earnings",
          "highest_monthly_earnings",
          "highest_monthly_earnings",
          "highest_monthly_earnings",
          "highest_monthly_earnings",
          "highest_monthly_earnings",
          "highest_monthly_earnings",
          "highest_monthly_earnings",
          "highest_monthly_earnings",
          "highest_monthly_earnings",
          "highest_monthly_earnings",
          "highest_monthly_earnings",
          "highest_monthly_earnings",
          "highest_monthly_earnings",
          "highest_monthly_earnings",
          "highest_monthly_earnings",
          "highest_monthly_earnings",
          "highest_monthly_earnings",
          "highest_monthly_earnings",
          "highest_monthly_earnings",
          "highest_monthly_earnings",
          "highest_monthly_earnings",
          "highest_monthly_earnings",
          "highest_monthly_earnings",
          "highest_monthly_earnings",
          "highest_monthly_earnings",
          "highest_monthly_earnings",
          "highest_monthly_earnings",
          "highest_monthly_earnings",
          "highest_monthly_earnings",
          "highest_monthly_earnings",
          "highest_monthly_earnings",
          "highest_monthly_earnings",
          "highest_monthly_earnings",
          "highest_monthly_earnings",
          "highest_monthly_earnings",
          "highest_monthly_earnings",
          "highest_monthly_earnings",
          "highest_monthly_earnings",
          "highest_monthly_earnings",
          "highest_monthly_earnings",
          "highest_monthly_earnings",
          "highest_monthly_earnings",
          "highest_monthly_earnings",
          "highest_monthly_earnings",
          "highest_monthly_earnings",
          "highest_monthly_earnings",
          "highest_monthly_earnings",
          "highest_monthly_earnings",
          "highest_monthly_earnings",
          "highest_monthly_earnings",
          "highest_monthly_earnings",
          "highest_monthly_earnings",
          "highest_monthly_earnings",
          "highest_monthly_earnings",
          "highest_monthly_earnings",
          "highest_monthly_earnings",
          "highest_monthly_earnings",
          "highest_monthly_earnings",
          "highest_monthly_earnings",
          "highest_monthly_earnings",
          "highest_monthly_earnings",
          "highest_monthly_earnings",
          "highest_monthly_earnings",
          "highest_monthly_earnings",
          "highest_monthly_earnings",
          "highest_monthly_earnings",
          "highest_monthly_earnings",
          "highest_monthly_earnings",
          "highest_monthly_earnings",
          "highest_monthly_earnings",
          "highest_monthly_earnings",
          "highest_monthly_earnings",
          "highest_monthly_earnings",
          "highest_monthly_earnings",
          "highest_monthly_earnings",
          "highest_monthly_earnings",
          "highest_monthly_earnings",
          "highest_monthly_earnings",
          "highest_monthly_earnings",
          "highest_monthly_earnings",
          "highest_monthly_earnings",
          "highest_monthly_earnings",
          "highest_monthly_earnings",
          "highest_monthly_earnings",
          "highest_monthly_earnings",
          "highest_monthly_earnings",
          "highest_monthly_earnings",
          "highest_monthly_earnings",
          "highest_monthly_earnings",
          "highest_monthly_earnings",
          "highest_monthly_earnings",
          "highest_monthly_earnings",
          "highest_monthly_earnings",
          "highest_monthly_earnings",
          "highest_monthly_earnings",
          "highest_monthly_earnings",
          "highest_monthly_earnings",
          "highest_monthly_earnings",
          "highest_monthly_earnings",
          "highest_monthly_earnings",
          "highest_monthly_earnings",
          "highest_monthly_earnings",
          "highest_monthly_earnings",
          "highest_monthly_earnings",
          "highest_monthly_earnings",
          "highest_monthly_earnings",
          "highest_monthly_earnings",
          "highest_monthly_earnings",
          "highest_monthly_earnings",
          "highest_monthly_earnings",
          "highest_monthly_earnings",
          "highest_monthly_earnings",
          "highest_monthly_earnings",
          "highest_monthly_earnings",
          "highest_monthly_earnings",
          "highest_monthly_earnings",
          "highest_monthly_earnings",
          "highest_monthly_earnings",
          "highest_monthly_earnings",
          "highest_monthly_earnings",
          "highest_monthly_earnings",
          "highest_monthly_earnings",
          "highest_monthly_earnings",
          "highest_monthly_earnings",
          "highest_monthly_earnings",
          "highest_monthly_earnings",
          "highest_monthly_earnings",
          "highest_monthly_earnings",
          "highest_monthly_earnings",
          "highest_monthly_earnings",
          "highest_monthly_earnings",
          "highest_monthly_earnings",
          "highest_monthly_earnings",
          "lowest_yearly_earnings",
          "lowest_yearly_earnings",
          "lowest_yearly_earnings",
          "lowest_yearly_earnings",
          "lowest_yearly_earnings",
          "lowest_yearly_earnings",
          "lowest_yearly_earnings",
          "lowest_yearly_earnings",
          "lowest_yearly_earnings",
          "lowest_yearly_earnings",
          "lowest_yearly_earnings",
          "lowest_yearly_earnings",
          "lowest_yearly_earnings",
          "lowest_yearly_earnings",
          "lowest_yearly_earnings",
          "lowest_yearly_earnings",
          "lowest_yearly_earnings",
          "lowest_yearly_earnings",
          "lowest_yearly_earnings",
          "lowest_yearly_earnings",
          "lowest_yearly_earnings",
          "lowest_yearly_earnings",
          "lowest_yearly_earnings",
          "lowest_yearly_earnings",
          "lowest_yearly_earnings",
          "lowest_yearly_earnings",
          "lowest_yearly_earnings",
          "lowest_yearly_earnings",
          "lowest_yearly_earnings",
          "lowest_yearly_earnings",
          "lowest_yearly_earnings",
          "lowest_yearly_earnings",
          "lowest_yearly_earnings",
          "lowest_yearly_earnings",
          "lowest_yearly_earnings",
          "lowest_yearly_earnings",
          "lowest_yearly_earnings",
          "lowest_yearly_earnings",
          "lowest_yearly_earnings",
          "lowest_yearly_earnings",
          "lowest_yearly_earnings",
          "lowest_yearly_earnings",
          "lowest_yearly_earnings",
          "lowest_yearly_earnings",
          "lowest_yearly_earnings",
          "lowest_yearly_earnings",
          "lowest_yearly_earnings",
          "lowest_yearly_earnings",
          "lowest_yearly_earnings",
          "lowest_yearly_earnings",
          "lowest_yearly_earnings",
          "lowest_yearly_earnings",
          "lowest_yearly_earnings",
          "lowest_yearly_earnings",
          "lowest_yearly_earnings",
          "lowest_yearly_earnings",
          "lowest_yearly_earnings",
          "lowest_yearly_earnings",
          "lowest_yearly_earnings",
          "lowest_yearly_earnings",
          "lowest_yearly_earnings",
          "lowest_yearly_earnings",
          "lowest_yearly_earnings",
          "lowest_yearly_earnings",
          "lowest_yearly_earnings",
          "lowest_yearly_earnings",
          "lowest_yearly_earnings",
          "lowest_yearly_earnings",
          "lowest_yearly_earnings",
          "lowest_yearly_earnings",
          "lowest_yearly_earnings",
          "lowest_yearly_earnings",
          "lowest_yearly_earnings",
          "lowest_yearly_earnings",
          "lowest_yearly_earnings",
          "lowest_yearly_earnings",
          "lowest_yearly_earnings",
          "lowest_yearly_earnings",
          "lowest_yearly_earnings",
          "lowest_yearly_earnings",
          "lowest_yearly_earnings",
          "lowest_yearly_earnings",
          "lowest_yearly_earnings",
          "lowest_yearly_earnings",
          "lowest_yearly_earnings",
          "lowest_yearly_earnings",
          "lowest_yearly_earnings",
          "lowest_yearly_earnings",
          "lowest_yearly_earnings",
          "lowest_yearly_earnings",
          "lowest_yearly_earnings",
          "lowest_yearly_earnings",
          "lowest_yearly_earnings",
          "lowest_yearly_earnings",
          "lowest_yearly_earnings",
          "lowest_yearly_earnings",
          "lowest_yearly_earnings",
          "lowest_yearly_earnings",
          "lowest_yearly_earnings",
          "lowest_yearly_earnings",
          "lowest_yearly_earnings",
          "lowest_yearly_earnings",
          "lowest_yearly_earnings",
          "lowest_yearly_earnings",
          "lowest_yearly_earnings",
          "lowest_yearly_earnings",
          "lowest_yearly_earnings",
          "lowest_yearly_earnings",
          "lowest_yearly_earnings",
          "lowest_yearly_earnings",
          "lowest_yearly_earnings",
          "lowest_yearly_earnings",
          "lowest_yearly_earnings",
          "lowest_yearly_earnings",
          "lowest_yearly_earnings",
          "lowest_yearly_earnings",
          "lowest_yearly_earnings",
          "lowest_yearly_earnings",
          "lowest_yearly_earnings",
          "lowest_yearly_earnings",
          "lowest_yearly_earnings",
          "lowest_yearly_earnings",
          "lowest_yearly_earnings",
          "lowest_yearly_earnings",
          "lowest_yearly_earnings",
          "lowest_yearly_earnings",
          "lowest_yearly_earnings",
          "lowest_yearly_earnings",
          "lowest_yearly_earnings",
          "lowest_yearly_earnings",
          "lowest_yearly_earnings",
          "lowest_yearly_earnings",
          "lowest_yearly_earnings",
          "lowest_yearly_earnings",
          "lowest_yearly_earnings",
          "lowest_yearly_earnings",
          "lowest_yearly_earnings",
          "lowest_yearly_earnings",
          "lowest_yearly_earnings",
          "lowest_yearly_earnings",
          "lowest_yearly_earnings",
          "lowest_yearly_earnings",
          "lowest_yearly_earnings",
          "lowest_yearly_earnings",
          "lowest_yearly_earnings",
          "lowest_yearly_earnings",
          "lowest_yearly_earnings",
          "lowest_yearly_earnings",
          "lowest_yearly_earnings",
          "lowest_yearly_earnings",
          "lowest_yearly_earnings",
          "lowest_yearly_earnings",
          "lowest_yearly_earnings",
          "lowest_yearly_earnings",
          "lowest_yearly_earnings",
          "lowest_yearly_earnings",
          "lowest_yearly_earnings",
          "lowest_yearly_earnings",
          "lowest_yearly_earnings",
          "lowest_yearly_earnings",
          "lowest_yearly_earnings",
          "lowest_yearly_earnings",
          "lowest_yearly_earnings",
          "lowest_yearly_earnings",
          "lowest_yearly_earnings",
          "lowest_yearly_earnings",
          "lowest_yearly_earnings",
          "lowest_yearly_earnings",
          "lowest_yearly_earnings",
          "lowest_yearly_earnings",
          "lowest_yearly_earnings",
          "lowest_yearly_earnings",
          "lowest_yearly_earnings",
          "lowest_yearly_earnings",
          "lowest_yearly_earnings",
          "lowest_yearly_earnings",
          "lowest_yearly_earnings",
          "lowest_yearly_earnings",
          "lowest_yearly_earnings",
          "lowest_yearly_earnings",
          "lowest_yearly_earnings",
          "lowest_yearly_earnings",
          "lowest_yearly_earnings",
          "lowest_yearly_earnings",
          "lowest_yearly_earnings",
          "lowest_yearly_earnings",
          "lowest_yearly_earnings",
          "lowest_yearly_earnings",
          "lowest_yearly_earnings",
          "lowest_yearly_earnings",
          "lowest_yearly_earnings",
          "lowest_yearly_earnings",
          "lowest_yearly_earnings",
          "lowest_yearly_earnings",
          "lowest_yearly_earnings",
          "lowest_yearly_earnings",
          "lowest_yearly_earnings",
          "lowest_yearly_earnings",
          "lowest_yearly_earnings",
          "lowest_yearly_earnings",
          "lowest_yearly_earnings",
          "lowest_yearly_earnings",
          "lowest_yearly_earnings",
          "lowest_yearly_earnings",
          "lowest_yearly_earnings",
          "lowest_yearly_earnings",
          "lowest_yearly_earnings",
          "lowest_yearly_earnings",
          "lowest_yearly_earnings",
          "lowest_yearly_earnings",
          "lowest_yearly_earnings",
          "lowest_yearly_earnings",
          "lowest_yearly_earnings",
          "lowest_yearly_earnings",
          "lowest_yearly_earnings",
          "lowest_yearly_earnings",
          "lowest_yearly_earnings",
          "lowest_yearly_earnings",
          "lowest_yearly_earnings",
          "lowest_yearly_earnings",
          "lowest_yearly_earnings",
          "lowest_yearly_earnings",
          "lowest_yearly_earnings",
          "lowest_yearly_earnings",
          "lowest_yearly_earnings",
          "lowest_yearly_earnings",
          "lowest_yearly_earnings",
          "lowest_yearly_earnings",
          "lowest_yearly_earnings",
          "lowest_yearly_earnings",
          "lowest_yearly_earnings",
          "lowest_yearly_earnings",
          "lowest_yearly_earnings",
          "lowest_yearly_earnings",
          "lowest_yearly_earnings",
          "lowest_yearly_earnings",
          "lowest_yearly_earnings",
          "lowest_yearly_earnings",
          "lowest_yearly_earnings",
          "lowest_yearly_earnings",
          "lowest_yearly_earnings",
          "lowest_yearly_earnings",
          "lowest_yearly_earnings",
          "lowest_yearly_earnings",
          "lowest_yearly_earnings",
          "lowest_yearly_earnings",
          "lowest_yearly_earnings",
          "lowest_yearly_earnings",
          "lowest_yearly_earnings",
          "lowest_yearly_earnings",
          "lowest_yearly_earnings",
          "lowest_yearly_earnings",
          "lowest_yearly_earnings",
          "lowest_yearly_earnings",
          "lowest_yearly_earnings",
          "lowest_yearly_earnings",
          "lowest_yearly_earnings",
          "lowest_yearly_earnings",
          "lowest_yearly_earnings",
          "lowest_yearly_earnings",
          "lowest_yearly_earnings",
          "lowest_yearly_earnings",
          "lowest_yearly_earnings",
          "lowest_yearly_earnings",
          "lowest_yearly_earnings",
          "lowest_yearly_earnings",
          "lowest_yearly_earnings",
          "lowest_yearly_earnings",
          "lowest_yearly_earnings",
          "lowest_yearly_earnings",
          "lowest_yearly_earnings",
          "lowest_yearly_earnings",
          "lowest_yearly_earnings",
          "lowest_yearly_earnings",
          "lowest_yearly_earnings",
          "lowest_yearly_earnings",
          "lowest_yearly_earnings",
          "lowest_yearly_earnings",
          "lowest_yearly_earnings",
          "lowest_yearly_earnings",
          "lowest_yearly_earnings",
          "lowest_yearly_earnings",
          "lowest_yearly_earnings",
          "lowest_yearly_earnings",
          "lowest_yearly_earnings",
          "lowest_yearly_earnings",
          "lowest_yearly_earnings",
          "lowest_yearly_earnings",
          "lowest_yearly_earnings",
          "lowest_yearly_earnings",
          "lowest_yearly_earnings",
          "lowest_yearly_earnings",
          "lowest_yearly_earnings",
          "lowest_yearly_earnings",
          "lowest_yearly_earnings",
          "lowest_yearly_earnings",
          "lowest_yearly_earnings",
          "lowest_yearly_earnings",
          "lowest_yearly_earnings",
          "lowest_yearly_earnings",
          "lowest_yearly_earnings",
          "lowest_yearly_earnings",
          "lowest_yearly_earnings",
          "lowest_yearly_earnings",
          "lowest_yearly_earnings",
          "lowest_yearly_earnings",
          "lowest_yearly_earnings",
          "lowest_yearly_earnings",
          "lowest_yearly_earnings",
          "lowest_yearly_earnings",
          "lowest_yearly_earnings",
          "lowest_yearly_earnings",
          "lowest_yearly_earnings",
          "lowest_yearly_earnings",
          "lowest_yearly_earnings",
          "lowest_yearly_earnings",
          "lowest_yearly_earnings",
          "lowest_yearly_earnings",
          "lowest_yearly_earnings",
          "lowest_yearly_earnings",
          "lowest_yearly_earnings",
          "lowest_yearly_earnings",
          "lowest_yearly_earnings",
          "lowest_yearly_earnings",
          "lowest_yearly_earnings",
          "lowest_yearly_earnings",
          "lowest_yearly_earnings",
          "lowest_yearly_earnings",
          "lowest_yearly_earnings",
          "lowest_yearly_earnings",
          "lowest_yearly_earnings",
          "lowest_yearly_earnings",
          "lowest_yearly_earnings",
          "lowest_yearly_earnings",
          "lowest_yearly_earnings",
          "lowest_yearly_earnings",
          "lowest_yearly_earnings",
          "lowest_yearly_earnings",
          "lowest_yearly_earnings",
          "lowest_yearly_earnings",
          "lowest_yearly_earnings",
          "lowest_yearly_earnings",
          "lowest_yearly_earnings",
          "lowest_yearly_earnings",
          "lowest_yearly_earnings",
          "lowest_yearly_earnings",
          "lowest_yearly_earnings",
          "lowest_yearly_earnings",
          "lowest_yearly_earnings",
          "lowest_yearly_earnings",
          "lowest_yearly_earnings",
          "lowest_yearly_earnings",
          "lowest_yearly_earnings",
          "lowest_yearly_earnings",
          "lowest_yearly_earnings",
          "lowest_yearly_earnings",
          "lowest_yearly_earnings",
          "lowest_yearly_earnings",
          "lowest_yearly_earnings",
          "lowest_yearly_earnings",
          "lowest_yearly_earnings",
          "lowest_yearly_earnings",
          "lowest_yearly_earnings",
          "lowest_yearly_earnings",
          "lowest_yearly_earnings",
          "lowest_yearly_earnings",
          "lowest_yearly_earnings",
          "lowest_yearly_earnings",
          "lowest_yearly_earnings",
          "lowest_yearly_earnings",
          "lowest_yearly_earnings",
          "lowest_yearly_earnings",
          "lowest_yearly_earnings",
          "lowest_yearly_earnings",
          "lowest_yearly_earnings",
          "lowest_yearly_earnings",
          "lowest_yearly_earnings",
          "lowest_yearly_earnings",
          "lowest_yearly_earnings",
          "lowest_yearly_earnings",
          "lowest_yearly_earnings",
          "lowest_yearly_earnings",
          "lowest_yearly_earnings",
          "lowest_yearly_earnings",
          "lowest_yearly_earnings",
          "lowest_yearly_earnings",
          "lowest_yearly_earnings",
          "lowest_yearly_earnings",
          "lowest_yearly_earnings",
          "lowest_yearly_earnings",
          "lowest_yearly_earnings",
          "lowest_yearly_earnings",
          "lowest_yearly_earnings",
          "lowest_yearly_earnings",
          "lowest_yearly_earnings",
          "lowest_yearly_earnings",
          "lowest_yearly_earnings",
          "lowest_yearly_earnings",
          "lowest_yearly_earnings",
          "lowest_yearly_earnings",
          "lowest_yearly_earnings",
          "lowest_yearly_earnings",
          "lowest_yearly_earnings",
          "lowest_yearly_earnings",
          "lowest_yearly_earnings",
          "lowest_yearly_earnings",
          "lowest_yearly_earnings",
          "lowest_yearly_earnings",
          "lowest_yearly_earnings",
          "lowest_yearly_earnings",
          "lowest_yearly_earnings",
          "lowest_yearly_earnings",
          "lowest_yearly_earnings",
          "lowest_yearly_earnings",
          "lowest_yearly_earnings",
          "lowest_yearly_earnings",
          "lowest_yearly_earnings",
          "lowest_yearly_earnings",
          "lowest_yearly_earnings",
          "lowest_yearly_earnings",
          "lowest_yearly_earnings",
          "lowest_yearly_earnings",
          "lowest_yearly_earnings",
          "lowest_yearly_earnings",
          "lowest_yearly_earnings",
          "lowest_yearly_earnings",
          "lowest_yearly_earnings",
          "lowest_yearly_earnings",
          "lowest_yearly_earnings",
          "lowest_yearly_earnings",
          "lowest_yearly_earnings",
          "lowest_yearly_earnings",
          "lowest_yearly_earnings",
          "lowest_yearly_earnings",
          "lowest_yearly_earnings",
          "lowest_yearly_earnings",
          "lowest_yearly_earnings",
          "lowest_yearly_earnings",
          "lowest_yearly_earnings",
          "lowest_yearly_earnings",
          "lowest_yearly_earnings",
          "lowest_yearly_earnings",
          "lowest_yearly_earnings",
          "lowest_yearly_earnings",
          "lowest_yearly_earnings",
          "lowest_yearly_earnings",
          "lowest_yearly_earnings",
          "lowest_yearly_earnings",
          "lowest_yearly_earnings",
          "lowest_yearly_earnings",
          "lowest_yearly_earnings",
          "lowest_yearly_earnings",
          "lowest_yearly_earnings",
          "lowest_yearly_earnings",
          "lowest_yearly_earnings",
          "lowest_yearly_earnings",
          "lowest_yearly_earnings",
          "lowest_yearly_earnings",
          "lowest_yearly_earnings",
          "lowest_yearly_earnings",
          "lowest_yearly_earnings",
          "lowest_yearly_earnings",
          "lowest_yearly_earnings",
          "lowest_yearly_earnings",
          "lowest_yearly_earnings",
          "lowest_yearly_earnings",
          "lowest_yearly_earnings",
          "lowest_yearly_earnings",
          "lowest_yearly_earnings",
          "lowest_yearly_earnings",
          "lowest_yearly_earnings",
          "lowest_yearly_earnings",
          "lowest_yearly_earnings",
          "lowest_yearly_earnings",
          "lowest_yearly_earnings",
          "lowest_yearly_earnings",
          "lowest_yearly_earnings",
          "lowest_yearly_earnings",
          "lowest_yearly_earnings",
          "lowest_yearly_earnings",
          "lowest_yearly_earnings",
          "lowest_yearly_earnings",
          "lowest_yearly_earnings",
          "lowest_yearly_earnings",
          "lowest_yearly_earnings",
          "lowest_yearly_earnings",
          "lowest_yearly_earnings",
          "lowest_yearly_earnings",
          "lowest_yearly_earnings",
          "lowest_yearly_earnings",
          "lowest_yearly_earnings",
          "lowest_yearly_earnings",
          "lowest_yearly_earnings",
          "lowest_yearly_earnings",
          "lowest_yearly_earnings",
          "lowest_yearly_earnings",
          "lowest_yearly_earnings",
          "lowest_yearly_earnings",
          "lowest_yearly_earnings",
          "lowest_yearly_earnings",
          "lowest_yearly_earnings",
          "lowest_yearly_earnings",
          "lowest_yearly_earnings",
          "lowest_yearly_earnings",
          "lowest_yearly_earnings",
          "lowest_yearly_earnings",
          "lowest_yearly_earnings",
          "lowest_yearly_earnings",
          "lowest_yearly_earnings",
          "lowest_yearly_earnings",
          "lowest_yearly_earnings",
          "lowest_yearly_earnings",
          "lowest_yearly_earnings",
          "lowest_yearly_earnings",
          "lowest_yearly_earnings",
          "lowest_yearly_earnings",
          "lowest_yearly_earnings",
          "lowest_yearly_earnings",
          "lowest_yearly_earnings",
          "lowest_yearly_earnings",
          "lowest_yearly_earnings",
          "lowest_yearly_earnings",
          "lowest_yearly_earnings",
          "lowest_yearly_earnings",
          "lowest_yearly_earnings",
          "lowest_yearly_earnings",
          "lowest_yearly_earnings",
          "lowest_yearly_earnings",
          "lowest_yearly_earnings",
          "lowest_yearly_earnings",
          "lowest_yearly_earnings",
          "lowest_yearly_earnings",
          "lowest_yearly_earnings",
          "lowest_yearly_earnings",
          "lowest_yearly_earnings",
          "lowest_yearly_earnings",
          "lowest_yearly_earnings",
          "lowest_yearly_earnings",
          "lowest_yearly_earnings",
          "lowest_yearly_earnings",
          "lowest_yearly_earnings",
          "lowest_yearly_earnings",
          "lowest_yearly_earnings",
          "lowest_yearly_earnings",
          "lowest_yearly_earnings",
          "lowest_yearly_earnings",
          "lowest_yearly_earnings",
          "lowest_yearly_earnings",
          "lowest_yearly_earnings",
          "lowest_yearly_earnings",
          "lowest_yearly_earnings",
          "lowest_yearly_earnings",
          "lowest_yearly_earnings",
          "lowest_yearly_earnings",
          "highest_yearly_earnings",
          "highest_yearly_earnings",
          "highest_yearly_earnings",
          "highest_yearly_earnings",
          "highest_yearly_earnings",
          "highest_yearly_earnings",
          "highest_yearly_earnings",
          "highest_yearly_earnings",
          "highest_yearly_earnings",
          "highest_yearly_earnings",
          "highest_yearly_earnings",
          "highest_yearly_earnings",
          "highest_yearly_earnings",
          "highest_yearly_earnings",
          "highest_yearly_earnings",
          "highest_yearly_earnings",
          "highest_yearly_earnings",
          "highest_yearly_earnings",
          "highest_yearly_earnings",
          "highest_yearly_earnings",
          "highest_yearly_earnings",
          "highest_yearly_earnings",
          "highest_yearly_earnings",
          "highest_yearly_earnings",
          "highest_yearly_earnings",
          "highest_yearly_earnings",
          "highest_yearly_earnings",
          "highest_yearly_earnings",
          "highest_yearly_earnings",
          "highest_yearly_earnings",
          "highest_yearly_earnings",
          "highest_yearly_earnings",
          "highest_yearly_earnings",
          "highest_yearly_earnings",
          "highest_yearly_earnings",
          "highest_yearly_earnings",
          "highest_yearly_earnings",
          "highest_yearly_earnings",
          "highest_yearly_earnings",
          "highest_yearly_earnings",
          "highest_yearly_earnings",
          "highest_yearly_earnings",
          "highest_yearly_earnings",
          "highest_yearly_earnings",
          "highest_yearly_earnings",
          "highest_yearly_earnings",
          "highest_yearly_earnings",
          "highest_yearly_earnings",
          "highest_yearly_earnings",
          "highest_yearly_earnings",
          "highest_yearly_earnings",
          "highest_yearly_earnings",
          "highest_yearly_earnings",
          "highest_yearly_earnings",
          "highest_yearly_earnings",
          "highest_yearly_earnings",
          "highest_yearly_earnings",
          "highest_yearly_earnings",
          "highest_yearly_earnings",
          "highest_yearly_earnings",
          "highest_yearly_earnings",
          "highest_yearly_earnings",
          "highest_yearly_earnings",
          "highest_yearly_earnings",
          "highest_yearly_earnings",
          "highest_yearly_earnings",
          "highest_yearly_earnings",
          "highest_yearly_earnings",
          "highest_yearly_earnings",
          "highest_yearly_earnings",
          "highest_yearly_earnings",
          "highest_yearly_earnings",
          "highest_yearly_earnings",
          "highest_yearly_earnings",
          "highest_yearly_earnings",
          "highest_yearly_earnings",
          "highest_yearly_earnings",
          "highest_yearly_earnings",
          "highest_yearly_earnings",
          "highest_yearly_earnings",
          "highest_yearly_earnings",
          "highest_yearly_earnings",
          "highest_yearly_earnings",
          "highest_yearly_earnings",
          "highest_yearly_earnings",
          "highest_yearly_earnings",
          "highest_yearly_earnings",
          "highest_yearly_earnings",
          "highest_yearly_earnings",
          "highest_yearly_earnings",
          "highest_yearly_earnings",
          "highest_yearly_earnings",
          "highest_yearly_earnings",
          "highest_yearly_earnings",
          "highest_yearly_earnings",
          "highest_yearly_earnings",
          "highest_yearly_earnings",
          "highest_yearly_earnings",
          "highest_yearly_earnings",
          "highest_yearly_earnings",
          "highest_yearly_earnings",
          "highest_yearly_earnings",
          "highest_yearly_earnings",
          "highest_yearly_earnings",
          "highest_yearly_earnings",
          "highest_yearly_earnings",
          "highest_yearly_earnings",
          "highest_yearly_earnings",
          "highest_yearly_earnings",
          "highest_yearly_earnings",
          "highest_yearly_earnings",
          "highest_yearly_earnings",
          "highest_yearly_earnings",
          "highest_yearly_earnings",
          "highest_yearly_earnings",
          "highest_yearly_earnings",
          "highest_yearly_earnings",
          "highest_yearly_earnings",
          "highest_yearly_earnings",
          "highest_yearly_earnings",
          "highest_yearly_earnings",
          "highest_yearly_earnings",
          "highest_yearly_earnings",
          "highest_yearly_earnings",
          "highest_yearly_earnings",
          "highest_yearly_earnings",
          "highest_yearly_earnings",
          "highest_yearly_earnings",
          "highest_yearly_earnings",
          "highest_yearly_earnings",
          "highest_yearly_earnings",
          "highest_yearly_earnings",
          "highest_yearly_earnings",
          "highest_yearly_earnings",
          "highest_yearly_earnings",
          "highest_yearly_earnings",
          "highest_yearly_earnings",
          "highest_yearly_earnings",
          "highest_yearly_earnings",
          "highest_yearly_earnings",
          "highest_yearly_earnings",
          "highest_yearly_earnings",
          "highest_yearly_earnings",
          "highest_yearly_earnings",
          "highest_yearly_earnings",
          "highest_yearly_earnings",
          "highest_yearly_earnings",
          "highest_yearly_earnings",
          "highest_yearly_earnings",
          "highest_yearly_earnings",
          "highest_yearly_earnings",
          "highest_yearly_earnings",
          "highest_yearly_earnings",
          "highest_yearly_earnings",
          "highest_yearly_earnings",
          "highest_yearly_earnings",
          "highest_yearly_earnings",
          "highest_yearly_earnings",
          "highest_yearly_earnings",
          "highest_yearly_earnings",
          "highest_yearly_earnings",
          "highest_yearly_earnings",
          "highest_yearly_earnings",
          "highest_yearly_earnings",
          "highest_yearly_earnings",
          "highest_yearly_earnings",
          "highest_yearly_earnings",
          "highest_yearly_earnings",
          "highest_yearly_earnings",
          "highest_yearly_earnings",
          "highest_yearly_earnings",
          "highest_yearly_earnings",
          "highest_yearly_earnings",
          "highest_yearly_earnings",
          "highest_yearly_earnings",
          "highest_yearly_earnings",
          "highest_yearly_earnings",
          "highest_yearly_earnings",
          "highest_yearly_earnings",
          "highest_yearly_earnings",
          "highest_yearly_earnings",
          "highest_yearly_earnings",
          "highest_yearly_earnings",
          "highest_yearly_earnings",
          "highest_yearly_earnings",
          "highest_yearly_earnings",
          "highest_yearly_earnings",
          "highest_yearly_earnings",
          "highest_yearly_earnings",
          "highest_yearly_earnings",
          "highest_yearly_earnings",
          "highest_yearly_earnings",
          "highest_yearly_earnings",
          "highest_yearly_earnings",
          "highest_yearly_earnings",
          "highest_yearly_earnings",
          "highest_yearly_earnings",
          "highest_yearly_earnings",
          "highest_yearly_earnings",
          "highest_yearly_earnings",
          "highest_yearly_earnings",
          "highest_yearly_earnings",
          "highest_yearly_earnings",
          "highest_yearly_earnings",
          "highest_yearly_earnings",
          "highest_yearly_earnings",
          "highest_yearly_earnings",
          "highest_yearly_earnings",
          "highest_yearly_earnings",
          "highest_yearly_earnings",
          "highest_yearly_earnings",
          "highest_yearly_earnings",
          "highest_yearly_earnings",
          "highest_yearly_earnings",
          "highest_yearly_earnings",
          "highest_yearly_earnings",
          "highest_yearly_earnings",
          "highest_yearly_earnings",
          "highest_yearly_earnings",
          "highest_yearly_earnings",
          "highest_yearly_earnings",
          "highest_yearly_earnings",
          "highest_yearly_earnings",
          "highest_yearly_earnings",
          "highest_yearly_earnings",
          "highest_yearly_earnings",
          "highest_yearly_earnings",
          "highest_yearly_earnings",
          "highest_yearly_earnings",
          "highest_yearly_earnings",
          "highest_yearly_earnings",
          "highest_yearly_earnings",
          "highest_yearly_earnings",
          "highest_yearly_earnings",
          "highest_yearly_earnings",
          "highest_yearly_earnings",
          "highest_yearly_earnings",
          "highest_yearly_earnings",
          "highest_yearly_earnings",
          "highest_yearly_earnings",
          "highest_yearly_earnings",
          "highest_yearly_earnings",
          "highest_yearly_earnings",
          "highest_yearly_earnings",
          "highest_yearly_earnings",
          "highest_yearly_earnings",
          "highest_yearly_earnings",
          "highest_yearly_earnings",
          "highest_yearly_earnings",
          "highest_yearly_earnings",
          "highest_yearly_earnings",
          "highest_yearly_earnings",
          "highest_yearly_earnings",
          "highest_yearly_earnings",
          "highest_yearly_earnings",
          "highest_yearly_earnings",
          "highest_yearly_earnings",
          "highest_yearly_earnings",
          "highest_yearly_earnings",
          "highest_yearly_earnings",
          "highest_yearly_earnings",
          "highest_yearly_earnings",
          "highest_yearly_earnings",
          "highest_yearly_earnings",
          "highest_yearly_earnings",
          "highest_yearly_earnings",
          "highest_yearly_earnings",
          "highest_yearly_earnings",
          "highest_yearly_earnings",
          "highest_yearly_earnings",
          "highest_yearly_earnings",
          "highest_yearly_earnings",
          "highest_yearly_earnings",
          "highest_yearly_earnings",
          "highest_yearly_earnings",
          "highest_yearly_earnings",
          "highest_yearly_earnings",
          "highest_yearly_earnings",
          "highest_yearly_earnings",
          "highest_yearly_earnings",
          "highest_yearly_earnings",
          "highest_yearly_earnings",
          "highest_yearly_earnings",
          "highest_yearly_earnings",
          "highest_yearly_earnings",
          "highest_yearly_earnings",
          "highest_yearly_earnings",
          "highest_yearly_earnings",
          "highest_yearly_earnings",
          "highest_yearly_earnings",
          "highest_yearly_earnings",
          "highest_yearly_earnings",
          "highest_yearly_earnings",
          "highest_yearly_earnings",
          "highest_yearly_earnings",
          "highest_yearly_earnings",
          "highest_yearly_earnings",
          "highest_yearly_earnings",
          "highest_yearly_earnings",
          "highest_yearly_earnings",
          "highest_yearly_earnings",
          "highest_yearly_earnings",
          "highest_yearly_earnings",
          "highest_yearly_earnings",
          "highest_yearly_earnings",
          "highest_yearly_earnings",
          "highest_yearly_earnings",
          "highest_yearly_earnings",
          "highest_yearly_earnings",
          "highest_yearly_earnings",
          "highest_yearly_earnings",
          "highest_yearly_earnings",
          "highest_yearly_earnings",
          "highest_yearly_earnings",
          "highest_yearly_earnings",
          "highest_yearly_earnings",
          "highest_yearly_earnings",
          "highest_yearly_earnings",
          "highest_yearly_earnings",
          "highest_yearly_earnings",
          "highest_yearly_earnings",
          "highest_yearly_earnings",
          "highest_yearly_earnings",
          "highest_yearly_earnings",
          "highest_yearly_earnings",
          "highest_yearly_earnings",
          "highest_yearly_earnings",
          "highest_yearly_earnings",
          "highest_yearly_earnings",
          "highest_yearly_earnings",
          "highest_yearly_earnings",
          "highest_yearly_earnings",
          "highest_yearly_earnings",
          "highest_yearly_earnings",
          "highest_yearly_earnings",
          "highest_yearly_earnings",
          "highest_yearly_earnings",
          "highest_yearly_earnings",
          "highest_yearly_earnings",
          "highest_yearly_earnings",
          "highest_yearly_earnings",
          "highest_yearly_earnings",
          "highest_yearly_earnings",
          "highest_yearly_earnings",
          "highest_yearly_earnings",
          "highest_yearly_earnings",
          "highest_yearly_earnings",
          "highest_yearly_earnings",
          "highest_yearly_earnings",
          "highest_yearly_earnings",
          "highest_yearly_earnings",
          "highest_yearly_earnings",
          "highest_yearly_earnings",
          "highest_yearly_earnings",
          "highest_yearly_earnings",
          "highest_yearly_earnings",
          "highest_yearly_earnings",
          "highest_yearly_earnings",
          "highest_yearly_earnings",
          "highest_yearly_earnings",
          "highest_yearly_earnings",
          "highest_yearly_earnings",
          "highest_yearly_earnings",
          "highest_yearly_earnings",
          "highest_yearly_earnings",
          "highest_yearly_earnings",
          "highest_yearly_earnings",
          "highest_yearly_earnings",
          "highest_yearly_earnings",
          "highest_yearly_earnings",
          "highest_yearly_earnings",
          "highest_yearly_earnings",
          "highest_yearly_earnings",
          "highest_yearly_earnings",
          "highest_yearly_earnings",
          "highest_yearly_earnings",
          "highest_yearly_earnings",
          "highest_yearly_earnings",
          "highest_yearly_earnings",
          "highest_yearly_earnings",
          "highest_yearly_earnings",
          "highest_yearly_earnings",
          "highest_yearly_earnings",
          "highest_yearly_earnings",
          "highest_yearly_earnings",
          "highest_yearly_earnings",
          "highest_yearly_earnings",
          "highest_yearly_earnings",
          "highest_yearly_earnings",
          "highest_yearly_earnings",
          "highest_yearly_earnings",
          "highest_yearly_earnings",
          "highest_yearly_earnings",
          "highest_yearly_earnings",
          "highest_yearly_earnings",
          "highest_yearly_earnings",
          "highest_yearly_earnings",
          "highest_yearly_earnings",
          "highest_yearly_earnings",
          "highest_yearly_earnings",
          "highest_yearly_earnings",
          "highest_yearly_earnings",
          "highest_yearly_earnings",
          "highest_yearly_earnings",
          "highest_yearly_earnings",
          "highest_yearly_earnings",
          "highest_yearly_earnings",
          "highest_yearly_earnings",
          "highest_yearly_earnings",
          "highest_yearly_earnings",
          "highest_yearly_earnings",
          "highest_yearly_earnings",
          "highest_yearly_earnings",
          "highest_yearly_earnings",
          "highest_yearly_earnings",
          "highest_yearly_earnings",
          "highest_yearly_earnings",
          "highest_yearly_earnings",
          "highest_yearly_earnings",
          "highest_yearly_earnings",
          "highest_yearly_earnings",
          "highest_yearly_earnings",
          "highest_yearly_earnings",
          "highest_yearly_earnings",
          "highest_yearly_earnings",
          "highest_yearly_earnings",
          "highest_yearly_earnings",
          "highest_yearly_earnings",
          "highest_yearly_earnings",
          "highest_yearly_earnings",
          "highest_yearly_earnings",
          "highest_yearly_earnings",
          "highest_yearly_earnings",
          "highest_yearly_earnings",
          "highest_yearly_earnings",
          "highest_yearly_earnings",
          "highest_yearly_earnings",
          "highest_yearly_earnings",
          "highest_yearly_earnings",
          "highest_yearly_earnings",
          "highest_yearly_earnings",
          "highest_yearly_earnings",
          "highest_yearly_earnings",
          "highest_yearly_earnings",
          "highest_yearly_earnings",
          "highest_yearly_earnings",
          "highest_yearly_earnings",
          "highest_yearly_earnings",
          "highest_yearly_earnings",
          "highest_yearly_earnings",
          "highest_yearly_earnings",
          "highest_yearly_earnings",
          "highest_yearly_earnings",
          "highest_yearly_earnings",
          "highest_yearly_earnings",
          "highest_yearly_earnings",
          "highest_yearly_earnings",
          "highest_yearly_earnings",
          "highest_yearly_earnings",
          "highest_yearly_earnings",
          "highest_yearly_earnings",
          "highest_yearly_earnings",
          "highest_yearly_earnings",
          "highest_yearly_earnings",
          "highest_yearly_earnings",
          "highest_yearly_earnings",
          "highest_yearly_earnings",
          "highest_yearly_earnings",
          "highest_yearly_earnings",
          "highest_yearly_earnings",
          "highest_yearly_earnings",
          "highest_yearly_earnings",
          "highest_yearly_earnings",
          "highest_yearly_earnings",
          "highest_yearly_earnings",
          "highest_yearly_earnings",
          "highest_yearly_earnings",
          "highest_yearly_earnings",
          "highest_yearly_earnings",
          "highest_yearly_earnings",
          "highest_yearly_earnings",
          "highest_yearly_earnings",
          "highest_yearly_earnings",
          "highest_yearly_earnings",
          "highest_yearly_earnings",
          "highest_yearly_earnings",
          "highest_yearly_earnings",
          "highest_yearly_earnings",
          "highest_yearly_earnings",
          "highest_yearly_earnings",
          "highest_yearly_earnings",
          "highest_yearly_earnings",
          "highest_yearly_earnings",
          "highest_yearly_earnings",
          "highest_yearly_earnings",
          "highest_yearly_earnings",
          "highest_yearly_earnings",
          "highest_yearly_earnings",
          "highest_yearly_earnings",
          "highest_yearly_earnings",
          "highest_yearly_earnings",
          "highest_yearly_earnings",
          "highest_yearly_earnings",
          "highest_yearly_earnings",
          "highest_yearly_earnings",
          "highest_yearly_earnings",
          "highest_yearly_earnings",
          "highest_yearly_earnings",
          "highest_yearly_earnings",
          "highest_yearly_earnings",
          "highest_yearly_earnings",
          "highest_yearly_earnings",
          "highest_yearly_earnings",
          "highest_yearly_earnings",
          "highest_yearly_earnings",
          "highest_yearly_earnings",
          "highest_yearly_earnings",
          "highest_yearly_earnings",
          "highest_yearly_earnings",
          "highest_yearly_earnings",
          "highest_yearly_earnings",
          "highest_yearly_earnings",
          "highest_yearly_earnings",
          "highest_yearly_earnings",
          "highest_yearly_earnings",
          "highest_yearly_earnings",
          "highest_yearly_earnings",
          "highest_yearly_earnings",
          "highest_yearly_earnings",
          "highest_yearly_earnings",
          "highest_yearly_earnings",
          "highest_yearly_earnings",
          "highest_yearly_earnings",
          "highest_yearly_earnings",
          "highest_yearly_earnings",
          "highest_yearly_earnings",
          "highest_yearly_earnings",
          "highest_yearly_earnings",
          "highest_yearly_earnings",
          "highest_yearly_earnings",
          "highest_yearly_earnings",
          "highest_yearly_earnings",
          "highest_yearly_earnings",
          "highest_yearly_earnings",
          "highest_yearly_earnings",
          "highest_yearly_earnings",
          "highest_yearly_earnings",
          "highest_yearly_earnings",
          "highest_yearly_earnings",
          "highest_yearly_earnings",
          "highest_yearly_earnings",
          "highest_yearly_earnings",
          "highest_yearly_earnings",
          "highest_yearly_earnings"
         ],
         "x0": " ",
         "xaxis": "x",
         "y": [
          564600,
          337000,
          493800,
          455900,
          12200,
          145100,
          200900,
          178700,
          124700,
          414300,
          42100,
          44100,
          149500,
          426800,
          118300,
          105100,
          63700,
          296900,
          35300,
          28700,
          105700,
          153000,
          58000,
          115300,
          64800,
          65000,
          28000,
          128000,
          50700,
          204000,
          132100,
          40100,
          66700,
          16600,
          36700,
          76600,
          58200,
          78600,
          0.02,
          8500,
          58500,
          32600,
          12000,
          334300,
          33600,
          44200,
          88400,
          75900,
          287300,
          39900,
          167600,
          45700,
          45200,
          34200,
          24700,
          61900,
          19700,
          14600,
          140200,
          66000,
          32600,
          408700,
          11400,
          397,
          203700,
          2,
          104000,
          51400,
          80300,
          35200,
          12500,
          66800,
          62900,
          43800,
          0,
          5300,
          75500,
          133400,
          72700,
          82900,
          31800,
          59700,
          83800,
          25300,
          32200,
          136800,
          45000,
          100900,
          52700,
          28900,
          68100,
          0,
          6200,
          34000,
          39300,
          31900,
          5100,
          82500,
          93500,
          116400,
          14100,
          416800,
          199600,
          27300,
          28200,
          38300,
          6800,
          78000,
          61200,
          0.9,
          0,
          47700,
          47200,
          8000,
          115400,
          39500,
          34300,
          29100,
          25000,
          6500,
          0,
          75800,
          27500,
          56800,
          72000,
          171200,
          46200,
          39600,
          43500,
          22600,
          76900,
          44000,
          19700,
          10600,
          25600,
          107400,
          36100,
          20700,
          69000,
          29600,
          40800,
          24900,
          261500,
          306400,
          180500,
          17000,
          57500,
          41100,
          25900,
          79600,
          48900,
          14600,
          203800,
          49700,
          35100,
          68500,
          30800,
          71000,
          83000,
          33600,
          34900,
          22200,
          22200,
          42500,
          23700,
          8400,
          100400,
          106200,
          190400,
          37900,
          14500,
          44400,
          24500,
          30700,
          188800,
          11700,
          11100,
          13400,
          91800,
          31000,
          0,
          35800,
          13200,
          3300,
          76000,
          32100,
          189200,
          8900,
          23300,
          0,
          42300,
          34200,
          38800,
          245600,
          99800,
          20400,
          18500,
          293500,
          12200,
          43800,
          0.18,
          33000,
          34800,
          27900,
          177800,
          46200,
          58600,
          171800,
          49500,
          11500,
          32000,
          48300,
          48700,
          28400,
          0.01,
          40200,
          40100,
          25800,
          182400,
          17100,
          59100,
          140300,
          35600,
          6700,
          29600,
          20000,
          7100,
          13100,
          0,
          95900,
          7300,
          218700,
          138100,
          0.02,
          48300,
          39600,
          48800,
          9900,
          3700,
          226900,
          10300,
          21600,
          28200,
          66000,
          3900,
          28400,
          311200,
          113100,
          16100,
          55400,
          3700,
          69200,
          26400,
          0.02,
          9800,
          0,
          53700,
          1500,
          13500,
          68600,
          27700,
          576000,
          0,
          8000,
          595,
          68200,
          14700,
          7200,
          5400,
          30800,
          26400,
          19200,
          25600,
          7500,
          19500,
          24400,
          17000,
          27300,
          0.03,
          25600,
          42100,
          10800,
          0,
          9600,
          12200,
          49300,
          13500,
          32000,
          35100,
          124300,
          12000,
          45100,
          13700,
          97800,
          64400,
          2200,
          12900,
          6900,
          21100,
          112000,
          25700,
          107800,
          5,
          86700,
          12000,
          92700,
          29400,
          160000,
          6900,
          5600,
          25100,
          98500,
          27500,
          110000,
          59000,
          11600,
          83000,
          13100,
          20900,
          9300,
          11500,
          23400,
          1900,
          18200,
          9100,
          68800,
          37400,
          10700,
          11000,
          26300,
          11400,
          14800,
          38500,
          22300,
          154300,
          49800,
          5500,
          28200,
          32800,
          33300,
          21900,
          45300,
          10700,
          37900,
          4500,
          8300,
          7000,
          64200,
          56200,
          29300,
          9,
          100000,
          0.2,
          66800,
          28100,
          16000,
          34100,
          41200,
          15000,
          6000,
          46500,
          18000,
          6400,
          35500,
          21600,
          83800,
          22100,
          14100,
          22500,
          22700,
          42000,
          33800,
          34800,
          8200,
          7000,
          20000,
          13800,
          41900,
          20700,
          9200,
          21200,
          118900,
          90400,
          16300,
          24600,
          14500,
          52700,
          26500,
          46800,
          12400,
          4300,
          10900,
          11500,
          23900,
          128100,
          45400,
          178400,
          21200,
          62700,
          28400,
          8500,
          10400,
          7400,
          25600,
          60500,
          78200,
          28300,
          70600,
          32700,
          30000,
          10900,
          14100,
          3500,
          12400,
          9900,
          0.62,
          9,
          57,
          18600,
          9100,
          19900,
          86900,
          46400,
          10200,
          4100,
          23100,
          37900,
          27500,
          12700,
          34800,
          16600,
          12100,
          11400,
          104600,
          342,
          3500,
          889,
          17600,
          53200,
          37400,
          103,
          0.03,
          13600,
          11100,
          35400,
          92000,
          15000,
          6400,
          0.04,
          88300,
          44000,
          33900,
          3100,
          6700,
          37600,
          50400,
          340900,
          33400,
          17000,
          26700,
          21900,
          8400,
          24300,
          11000,
          24900,
          21000,
          13800,
          6600,
          25000,
          19700,
          54300,
          22000,
          9400,
          94800,
          5600,
          6000,
          11900,
          7700,
          3800,
          2700,
          11100,
          0.4,
          8800,
          18800,
          44800,
          123900,
          27500,
          334,
          57200,
          28900,
          99400,
          0,
          10900,
          11300,
          22600,
          40500,
          47200,
          4400,
          17700,
          1300,
          79900,
          2200,
          16100,
          13000,
          29800,
          4600,
          0.06,
          8600,
          11000,
          6800,
          15200,
          15700,
          0.09,
          7500,
          0,
          7600,
          270300,
          92100,
          7900,
          3000,
          7300,
          22800,
          20100,
          18900,
          17800,
          13500,
          57200,
          53400,
          19400,
          118,
          42500,
          11000,
          81900,
          14700,
          1500,
          28300,
          27800,
          14600,
          29000,
          58900,
          87500,
          45000,
          53400,
          225900,
          6000,
          20700,
          23800,
          7700,
          44400,
          12400,
          138100,
          16200,
          968,
          6000,
          9000000,
          5400000,
          7900000,
          7300000,
          195800,
          2300000,
          3200000,
          2900000,
          2000000,
          6600000,
          673200,
          705300,
          2400000,
          6800000,
          1900000,
          1700000,
          1000000,
          4800000,
          564800,
          458700,
          1700000,
          2400000,
          928100,
          1800000,
          1000000,
          1000000,
          448400,
          2000000,
          810900,
          3300000,
          2100000,
          640900,
          1100000,
          265600,
          587400,
          1200000,
          931000,
          1300000,
          0.38,
          135400,
          936000,
          521400,
          192100,
          5300000,
          537000,
          706500,
          1400000,
          1200000,
          4600000,
          639000,
          2700000,
          731700,
          723800,
          547000,
          395100,
          990900,
          314800,
          233400,
          2200000,
          1100000,
          521800,
          6500000,
          182600,
          6400,
          3300000,
          25,
          1700000,
          822400,
          1300000,
          563000,
          199400,
          1100000,
          1000000,
          701000,
          0,
          84400,
          1200000,
          2100000,
          1200000,
          1300000,
          509300,
          954500,
          1300000,
          405400,
          514800,
          2200000,
          719600,
          1600000,
          843800,
          463200,
          1100000,
          0,
          98900,
          544300,
          628400,
          510000,
          81100,
          1300000,
          1500000,
          1900000,
          226100,
          6700000,
          3200000,
          436500,
          450600,
          613100,
          108100,
          1200000,
          979700,
          14,
          0,
          762700,
          755300,
          127300,
          1800000,
          631600,
          548400,
          465700,
          400200,
          104700,
          0,
          1200000,
          439300,
          909400,
          1200000,
          2700000,
          739900,
          634400,
          695300,
          361800,
          1200000,
          703400,
          314700,
          170200,
          408900,
          1700000,
          577800,
          331600,
          1100000,
          472900,
          652500,
          398700,
          4200000,
          4900000,
          2900000,
          272600,
          920700,
          656900,
          414500,
          1300000,
          782000,
          233900,
          3300000,
          795500,
          561300,
          1100000,
          492800,
          1100000,
          1300000,
          537600,
          557800,
          355800,
          354500,
          679500,
          379400,
          134400,
          1600000,
          1700000,
          3000000,
          606800,
          232500,
          711100,
          392200,
          491700,
          3000000,
          187400,
          178200,
          214400,
          1500000,
          496700,
          0,
          572700,
          210700,
          53000,
          1200000,
          513800,
          3000000,
          142200,
          372700,
          0,
          676200,
          547300,
          620900,
          3900000,
          1600000,
          326600,
          295300,
          4700000,
          195000,
          700400,
          3,
          528400,
          557300,
          446000,
          2800000,
          739800,
          936900,
          2700000,
          791800,
          183200,
          512200,
          772700,
          778400,
          454200,
          0.2,
          642800,
          640900,
          412700,
          2900000,
          273400,
          945200,
          2200000,
          569300,
          107900,
          473600,
          320200,
          114400,
          209300,
          0,
          1500000,
          117100,
          3500000,
          2200000,
          0.34,
          772700,
          634200,
          780800,
          158000,
          58600,
          3600000,
          165200,
          345800,
          451100,
          1100000,
          62200,
          453700,
          5000000,
          1800000,
          258000,
          886800,
          59400,
          1100000,
          423100,
          0.25,
          156900,
          0,
          859200,
          24500,
          216800,
          1100000,
          443200,
          9200000,
          0,
          128400,
          9500,
          1100000,
          235500,
          114700,
          86300,
          493400,
          422800,
          307600,
          409600,
          119500,
          312600,
          391000,
          272000,
          436100,
          0.41,
          409700,
          674400,
          172000,
          0,
          153100,
          195800,
          789500,
          216500,
          511900,
          561000,
          2000000,
          192400,
          721600,
          219100,
          1600000,
          1000000,
          34600,
          206700,
          110200,
          337900,
          1800000,
          410500,
          1700000,
          83,
          1400000,
          192700,
          1500000,
          470900,
          2600000,
          109800,
          89400,
          400900,
          1600000,
          439400,
          1800000,
          944000,
          185900,
          1300000,
          209300,
          334800,
          148700,
          183200,
          375100,
          30500,
          291600,
          145400,
          1100000,
          598200,
          171300,
          176500,
          420500,
          182800,
          236800,
          616200,
          356000,
          2500000,
          796100,
          87800,
          451900,
          524800,
          532800,
          351000,
          725500,
          170800,
          605900,
          71800,
          132100,
          111200,
          1000000,
          899000,
          468800,
          152,
          1600000,
          3,
          1100000,
          449600,
          256300,
          545600,
          659600,
          239600,
          96200,
          743900,
          287500,
          103000,
          567400,
          345800,
          1300000,
          352900,
          224900,
          360000,
          363700,
          671600,
          540100,
          556500,
          131700,
          111900,
          320700,
          221500,
          670800,
          331200,
          147200,
          339500,
          1900000,
          1400000,
          261500,
          393300,
          231200,
          843600,
          423900,
          748000,
          198600,
          68900,
          173600,
          184200,
          382400,
          2000000,
          726600,
          2900000,
          339000,
          1000000,
          454300,
          135500,
          167200,
          118900,
          409400,
          968700,
          1300000,
          452300,
          1100000,
          522900,
          479200,
          174300,
          225400,
          55400,
          198200,
          159100,
          10,
          152,
          906,
          297900,
          145400,
          317600,
          1400000,
          742800,
          163900,
          65600,
          370400,
          606800,
          439500,
          202700,
          556500,
          265100,
          193800,
          182500,
          1700000,
          5500,
          55600,
          14200,
          281600,
          850600,
          599200,
          1700,
          0.42,
          217200,
          178300,
          566800,
          1500000,
          239700,
          102400,
          0.59,
          1400000,
          704200,
          542300,
          50000,
          107100,
          602300,
          806600,
          5500000,
          534300,
          272200,
          426900,
          350600,
          133900,
          389100,
          176600,
          398600,
          335800,
          220500,
          106100,
          400200,
          314600,
          868400,
          351200,
          150600,
          1500000,
          88900,
          95600,
          189700,
          122700,
          61100,
          43100,
          177700,
          6,
          141200,
          300600,
          716900,
          2000000,
          439300,
          5300,
          915600,
          461800,
          1600000,
          0.01,
          174700,
          180400,
          361000,
          647600,
          755800,
          69900,
          282800,
          21500,
          1300000,
          35100,
          258100,
          207300,
          477600,
          74100,
          0.99,
          137800,
          176000,
          109400,
          242600,
          251600,
          2,
          119500,
          0,
          121900,
          4300000,
          1500000,
          127200,
          48000,
          117500,
          365000,
          320900,
          303100,
          284500,
          216000,
          915800,
          855000,
          309900,
          1900,
          679900,
          175500,
          1300000,
          235400,
          23800,
          452500,
          445000,
          234100,
          463500,
          942900,
          1400000,
          720100,
          854800,
          3600000,
          96100,
          330600,
          380700,
          123900,
          710400,
          197600,
          2200000,
          258900,
          15500,
          96000,
          6800000,
          4000000,
          5900000,
          5500000,
          146800,
          1700000,
          2400000,
          2100000,
          1500000,
          5000000,
          504900,
          529000,
          1800000,
          5100000,
          1400000,
          1300000,
          764900,
          3600000,
          423600,
          344000,
          1300000,
          1800000,
          696100,
          1400000,
          777900,
          780600,
          336300,
          1500000,
          608200,
          2400000,
          1600000,
          480600,
          800200,
          199200,
          440600,
          919600,
          698200,
          943500,
          0.28,
          101500,
          702000,
          391100,
          144100,
          4000000,
          402700,
          529900,
          1100000,
          911300,
          3400000,
          479300,
          2000000,
          548800,
          542800,
          410200,
          296300,
          743200,
          236100,
          175100,
          1700000,
          792300,
          391400,
          4900000,
          136900,
          4800,
          2400000,
          19,
          1200000,
          616800,
          963100,
          422300,
          149600,
          801200,
          754300,
          525700,
          0,
          63300,
          906200,
          1600000,
          872500,
          994400,
          382000,
          715800,
          1000000,
          304100,
          386100,
          1600000,
          539700,
          1200000,
          632900,
          347400,
          816800,
          0,
          74200,
          408300,
          471300,
          382500,
          60800,
          989600,
          1100000,
          1400000,
          169600,
          5000000,
          2400000,
          327400,
          337900,
          459800,
          81100,
          936300,
          734800,
          11,
          0,
          572000,
          566500,
          95500,
          1400000,
          473700,
          411300,
          349300,
          300100,
          78500,
          0,
          909300,
          329500,
          682100,
          864300,
          2100000,
          554900,
          475800,
          521500,
          271300,
          922900,
          527500,
          236000,
          127600,
          306700,
          1300000,
          433400,
          248700,
          828600,
          354700,
          489400,
          299000,
          3100000,
          3700000,
          2200000,
          204500,
          690500,
          492600,
          310900,
          955800,
          586500,
          175500,
          2400000,
          596600,
          421000,
          821800,
          369600,
          852400,
          995700,
          403200,
          418300,
          266800,
          265900,
          509600,
          284600,
          100800,
          1200000,
          1300000,
          2300000,
          455100,
          174400,
          533300,
          294200,
          368700,
          2300000,
          140600,
          133600,
          160800,
          1100000,
          372600,
          0,
          429500,
          158000,
          39700,
          912100,
          385300,
          2300000,
          106600,
          279500,
          0,
          507200,
          410500,
          465600,
          2900000,
          1200000,
          245000,
          221500,
          3500000,
          146200,
          525300,
          2,
          396300,
          418000,
          334500,
          2100000,
          554800,
          702700,
          2100000,
          593900,
          137400,
          384100,
          579500,
          583800,
          340600,
          0.15,
          482100,
          480700,
          309500,
          2200000,
          205100,
          708900,
          1700000,
          427000,
          80900,
          355200,
          240200,
          85800,
          157000,
          0,
          1200000,
          87800,
          2600000,
          1700000,
          0.26,
          579500,
          475600,
          585600,
          118500,
          43900,
          2700000,
          123900,
          259400,
          338300,
          791600,
          46700,
          340300,
          3700000,
          1400000,
          193500,
          665100,
          44600,
          830300,
          317400,
          0.19,
          117700,
          0,
          644400,
          18400,
          162600,
          822600,
          332400,
          6900000,
          0,
          96300,
          7100,
          818800,
          176600,
          86000,
          64800,
          370000,
          317100,
          230700,
          307200,
          89600,
          234500,
          293300,
          204000,
          327100,
          0.31,
          307300,
          505800,
          129000,
          0,
          114800,
          146800,
          592100,
          162400,
          383900,
          420800,
          1500000,
          144300,
          541200,
          164300,
          1200000,
          772800,
          26000,
          155100,
          82600,
          253400,
          1300000,
          307900,
          1300000,
          62,
          1000000,
          144500,
          1100000,
          353200,
          1900000,
          82300,
          67100,
          300600,
          1200000,
          329500,
          1300000,
          708000,
          139500,
          995800,
          157000,
          251100,
          111500,
          137400,
          281300,
          22900,
          218700,
          109100,
          825800,
          448600,
          128500,
          132400,
          315300,
          137100,
          177600,
          462100,
          267000,
          1900000,
          597100,
          65900,
          339000,
          393600,
          399600,
          263300,
          544100,
          128100,
          454400,
          53800,
          99000,
          83400,
          770200,
          674300,
          351600,
          114,
          1200000,
          2,
          801400,
          337200,
          192300,
          409200,
          494700,
          179700,
          72200,
          557900,
          215600,
          77200,
          425500,
          259300,
          1000000,
          264700,
          168700,
          270000,
          272700,
          503700,
          405100,
          417400,
          98700,
          83900,
          240500,
          166100,
          503100,
          248400,
          110400,
          254600,
          1400000,
          1100000,
          196100,
          295000,
          173400,
          632700,
          317900,
          561000,
          149000,
          51700,
          130200,
          138200,
          286800,
          1500000,
          544900,
          2100000,
          254300,
          753000,
          340700,
          101600,
          125400,
          89200,
          307100,
          726600,
          938600,
          339200,
          847100,
          392200,
          359400,
          130700,
          169100,
          41600,
          148700,
          119300,
          7,
          114,
          679,
          223400,
          109000,
          238200,
          1000000,
          557100,
          122900,
          49200,
          277800,
          455100,
          329600,
          152000,
          417300,
          198800,
          145300,
          136900,
          1300000,
          4100,
          41700,
          10700,
          211200,
          637900,
          449400,
          1200,
          0.32,
          162900,
          133700,
          425100,
          1100000,
          179800,
          76800,
          0.44,
          1100000,
          528200,
          406700,
          37500,
          80300,
          451700,
          605000,
          4100000,
          400800,
          204200,
          320200,
          262900,
          100500,
          291900,
          132400,
          299000,
          251800,
          165400,
          79600,
          300200,
          236000,
          651300,
          263400,
          112900,
          1100000,
          66700,
          71700,
          142300,
          92000,
          45800,
          32300,
          133200,
          5,
          105900,
          225500,
          537700,
          1500000,
          329400,
          4000,
          686700,
          346400,
          1200000,
          0.01,
          131000,
          135300,
          270700,
          485700,
          566800,
          52400,
          212100,
          16200,
          958900,
          26300,
          193600,
          155500,
          358200,
          55600,
          0.74,
          103300,
          132000,
          82000,
          182000,
          188700,
          1,
          89600,
          0,
          91400,
          3200000,
          1100000,
          95400,
          36000,
          88100,
          273700,
          240700,
          227300,
          213400,
          162000,
          686900,
          641200,
          232400,
          1400,
          509900,
          131600,
          982800,
          176500,
          17900,
          339400,
          333800,
          175600,
          347600,
          707100,
          1000000,
          540100,
          641100,
          2700000,
          72100,
          247900,
          285500,
          92900,
          532800,
          148200,
          1700000,
          194200,
          11600,
          72000,
          108400000,
          64700000,
          94800000,
          87500000,
          2300000,
          27900000,
          38600000,
          34300000,
          23900000,
          79600000,
          8100000,
          8500000,
          28700000,
          81900000,
          22700000,
          20200000,
          12200000,
          57000000,
          6800000,
          5500000,
          20300000,
          29400000,
          11100000,
          22100000,
          12400000,
          12500000,
          5400000,
          24600000,
          9700000,
          39200000,
          25400000,
          7700000,
          12800000,
          3200000,
          7000000,
          14700000,
          11200000,
          15100000,
          5,
          1600000,
          11200000,
          6300000,
          2300000,
          64200000,
          6400000,
          8500000,
          17000000,
          14600000,
          55200000,
          7700000,
          32200000,
          8800000,
          8700000,
          6600000,
          4700000,
          11900000,
          3800000,
          2800000,
          26900000,
          12700000,
          6300000,
          78500000,
          2200000,
          76300,
          39100000,
          305,
          20000000,
          9900000,
          15400000,
          6800000,
          2400000,
          12800000,
          12100000,
          8400000,
          0,
          1000000,
          14500000,
          25600000,
          14000000,
          15900000,
          6100000,
          11500000,
          16100000,
          4900000,
          6200000,
          26300000,
          8600000,
          19400000,
          10100000,
          5600000,
          13100000,
          0,
          1200000,
          6500000,
          7500000,
          6100000,
          972600,
          15800000,
          17900000,
          22400000,
          2700000,
          80000000,
          38300000,
          5200000,
          5400000,
          7400000,
          1300000,
          15000000,
          11800000,
          172,
          0,
          9200000,
          9100000,
          1500000,
          22200000,
          7600000,
          6600000,
          5600000,
          4800000,
          1300000,
          0,
          14500000,
          5300000,
          10900000,
          13800000,
          32900000,
          8900000,
          7600000,
          8300000,
          4300000,
          14800000,
          8400000,
          3800000,
          2000000,
          4900000,
          20600000,
          6900000,
          4000000,
          13300000,
          5700000,
          7800000,
          4800000,
          50200000,
          58800000,
          34600000,
          3300000,
          11000000,
          7900000,
          5000000,
          15300000,
          9400000,
          2800000,
          39100000,
          9500000,
          6700000,
          13100000,
          5900000,
          13600000,
          15900000,
          6500000,
          6700000,
          4300000,
          4300000,
          8200000,
          4600000,
          1600000,
          19300000,
          20400000,
          36500000,
          7300000,
          2800000,
          8500000,
          4700000,
          5900000,
          36200000,
          2200000,
          2100000,
          2600000,
          17600000,
          6000000,
          0,
          6900000,
          2500000,
          635800,
          14600000,
          6200000,
          36300000,
          1700000,
          4500000,
          0,
          8100000,
          6600000,
          7500000,
          47100000,
          19200000,
          3900000,
          3500000,
          56300000,
          2300000,
          8400000,
          35,
          6300000,
          6700000,
          5400000,
          34100000,
          8900000,
          11200000,
          33000000,
          9500000,
          2200000,
          6100000,
          9300000,
          9300000,
          5400000,
          2,
          7700000,
          7700000,
          5000000,
          35000000,
          3300000,
          11300000,
          26900000,
          6800000,
          1300000,
          5700000,
          3800000,
          1400000,
          2500000,
          0,
          18400000,
          1400000,
          42000000,
          26500000,
          4,
          9300000,
          7600000,
          9400000,
          1900000,
          703000,
          43600000,
          2000000,
          4100000,
          5400000,
          12700000,
          746700,
          5400000,
          59800000,
          21700000,
          3100000,
          10600000,
          713400,
          13300000,
          5100000,
          3,
          1900000,
          0,
          10300000,
          294600,
          2600000,
          13200000,
          5300000,
          110600000,
          0,
          1500000,
          114300,
          13100000,
          2800000,
          1400000,
          1000000,
          5900000,
          5100000,
          3700000,
          4900000,
          1400000,
          3800000,
          4700000,
          3300000,
          5200000,
          5,
          4900000,
          8100000,
          2100000,
          0,
          1800000,
          2300000,
          9500000,
          2600000,
          6100000,
          6700000,
          23900000,
          2300000,
          8700000,
          2600000,
          18800000,
          12400000,
          415200,
          2500000,
          1300000,
          4100000,
          21500000,
          4900000,
          20700000,
          994,
          16600000,
          2300000,
          17800000,
          5700000,
          30700000,
          1300000,
          1100000,
          4800000,
          18900000,
          5300000,
          21100000,
          11300000,
          2200000,
          15900000,
          2500000,
          4000000,
          1800000,
          2200000,
          4500000,
          366100,
          3500000,
          1700000,
          13200000,
          7200000,
          2100000,
          2100000,
          5000000,
          2200000,
          2800000,
          7400000,
          4300000,
          29600000,
          9600000,
          1100000,
          5400000,
          6300000,
          6400000,
          4200000,
          8700000,
          2000000,
          7300000,
          861300,
          1600000,
          1300000,
          12300000,
          10800000,
          5600000,
          1800,
          19200000,
          37,
          12800000,
          5400000,
          3100000,
          6500000,
          7900000,
          2900000,
          1200000,
          8900000,
          3400000,
          1200000,
          6800000,
          4100000,
          16100000,
          4200000,
          2700000,
          4300000,
          4400000,
          8100000,
          6500000,
          6700000,
          1600000,
          1300000,
          3800000,
          2700000,
          8000000,
          4000000,
          1800000,
          4100000,
          22800000,
          17400000,
          3100000,
          4700000,
          2800000,
          10100000,
          5100000,
          9000000,
          2400000,
          827100,
          2100000,
          2200000,
          4600000,
          24600000,
          8700000,
          34200000,
          4100000,
          12000000,
          5500000,
          1600000,
          2000000,
          1400000,
          4900000,
          11600000,
          15000000,
          5400000,
          13600000,
          6300000,
          5800000,
          2100000,
          2700000,
          665200,
          2400000,
          1900000,
          119,
          1800,
          10900,
          3600000,
          1700000,
          3800000,
          16700000,
          8900000,
          2000000,
          787600,
          4400000,
          7300000,
          5300000,
          2400000,
          6700000,
          3200000,
          2300000,
          2200000,
          20100000,
          65700,
          666800,
          170700,
          3400000,
          10200000,
          7200000,
          19900,
          5,
          2600000,
          2100000,
          6800000,
          17700000,
          2900000,
          1200000,
          7,
          17000000,
          8500000,
          6500000,
          600100,
          1300000,
          7200000,
          9700000,
          65500000,
          6400000,
          3300000,
          5100000,
          4200000,
          1600000,
          4700000,
          2100000,
          4800000,
          4000000,
          2600000,
          1300000,
          4800000,
          3800000,
          10400000,
          4200000,
          1800000,
          18200000,
          1100000,
          1100000,
          2300000,
          1500000,
          733300,
          516700,
          2100000,
          78,
          1700000,
          3600000,
          8600000,
          23800000,
          5300000,
          64100,
          11000000,
          5500000,
          19100000,
          0.14,
          2100000,
          2200000,
          4300000,
          7800000,
          9100000,
          838500,
          3400000,
          258600,
          15300000,
          420900,
          3100000,
          2500000,
          5700000,
          888900,
          12,
          1700000,
          2100000,
          1300000,
          2900000,
          3000000,
          18,
          1400000,
          0,
          1500000,
          51900000,
          17700000,
          1500000,
          575700,
          1400000,
          4400000,
          3900000,
          3600000,
          3400000,
          2600000,
          11000000,
          10300000,
          3700000,
          22700,
          8200000,
          2100000,
          15700000,
          2800000,
          285700,
          5400000,
          5300000,
          2800000,
          5600000,
          11300000,
          16800000,
          8600000,
          10300000,
          43400000,
          1200000,
          4000000,
          4600000,
          1500000,
          8500000,
          2400000,
          26500000,
          3100000,
          185800,
          1200000
         ],
         "y0": " ",
         "yaxis": "y"
        }
       ],
       "layout": {
        "boxmode": "group",
        "legend": {
         "tracegroupgap": 0
        },
        "template": {
         "data": {
          "bar": [
           {
            "error_x": {
             "color": "#2a3f5f"
            },
            "error_y": {
             "color": "#2a3f5f"
            },
            "marker": {
             "line": {
              "color": "#E5ECF6",
              "width": 0.5
             },
             "pattern": {
              "fillmode": "overlay",
              "size": 10,
              "solidity": 0.2
             }
            },
            "type": "bar"
           }
          ],
          "barpolar": [
           {
            "marker": {
             "line": {
              "color": "#E5ECF6",
              "width": 0.5
             },
             "pattern": {
              "fillmode": "overlay",
              "size": 10,
              "solidity": 0.2
             }
            },
            "type": "barpolar"
           }
          ],
          "carpet": [
           {
            "aaxis": {
             "endlinecolor": "#2a3f5f",
             "gridcolor": "white",
             "linecolor": "white",
             "minorgridcolor": "white",
             "startlinecolor": "#2a3f5f"
            },
            "baxis": {
             "endlinecolor": "#2a3f5f",
             "gridcolor": "white",
             "linecolor": "white",
             "minorgridcolor": "white",
             "startlinecolor": "#2a3f5f"
            },
            "type": "carpet"
           }
          ],
          "choropleth": [
           {
            "colorbar": {
             "outlinewidth": 0,
             "ticks": ""
            },
            "type": "choropleth"
           }
          ],
          "contour": [
           {
            "colorbar": {
             "outlinewidth": 0,
             "ticks": ""
            },
            "colorscale": [
             [
              0,
              "#0d0887"
             ],
             [
              0.1111111111111111,
              "#46039f"
             ],
             [
              0.2222222222222222,
              "#7201a8"
             ],
             [
              0.3333333333333333,
              "#9c179e"
             ],
             [
              0.4444444444444444,
              "#bd3786"
             ],
             [
              0.5555555555555556,
              "#d8576b"
             ],
             [
              0.6666666666666666,
              "#ed7953"
             ],
             [
              0.7777777777777778,
              "#fb9f3a"
             ],
             [
              0.8888888888888888,
              "#fdca26"
             ],
             [
              1,
              "#f0f921"
             ]
            ],
            "type": "contour"
           }
          ],
          "contourcarpet": [
           {
            "colorbar": {
             "outlinewidth": 0,
             "ticks": ""
            },
            "type": "contourcarpet"
           }
          ],
          "heatmap": [
           {
            "colorbar": {
             "outlinewidth": 0,
             "ticks": ""
            },
            "colorscale": [
             [
              0,
              "#0d0887"
             ],
             [
              0.1111111111111111,
              "#46039f"
             ],
             [
              0.2222222222222222,
              "#7201a8"
             ],
             [
              0.3333333333333333,
              "#9c179e"
             ],
             [
              0.4444444444444444,
              "#bd3786"
             ],
             [
              0.5555555555555556,
              "#d8576b"
             ],
             [
              0.6666666666666666,
              "#ed7953"
             ],
             [
              0.7777777777777778,
              "#fb9f3a"
             ],
             [
              0.8888888888888888,
              "#fdca26"
             ],
             [
              1,
              "#f0f921"
             ]
            ],
            "type": "heatmap"
           }
          ],
          "heatmapgl": [
           {
            "colorbar": {
             "outlinewidth": 0,
             "ticks": ""
            },
            "colorscale": [
             [
              0,
              "#0d0887"
             ],
             [
              0.1111111111111111,
              "#46039f"
             ],
             [
              0.2222222222222222,
              "#7201a8"
             ],
             [
              0.3333333333333333,
              "#9c179e"
             ],
             [
              0.4444444444444444,
              "#bd3786"
             ],
             [
              0.5555555555555556,
              "#d8576b"
             ],
             [
              0.6666666666666666,
              "#ed7953"
             ],
             [
              0.7777777777777778,
              "#fb9f3a"
             ],
             [
              0.8888888888888888,
              "#fdca26"
             ],
             [
              1,
              "#f0f921"
             ]
            ],
            "type": "heatmapgl"
           }
          ],
          "histogram": [
           {
            "marker": {
             "pattern": {
              "fillmode": "overlay",
              "size": 10,
              "solidity": 0.2
             }
            },
            "type": "histogram"
           }
          ],
          "histogram2d": [
           {
            "colorbar": {
             "outlinewidth": 0,
             "ticks": ""
            },
            "colorscale": [
             [
              0,
              "#0d0887"
             ],
             [
              0.1111111111111111,
              "#46039f"
             ],
             [
              0.2222222222222222,
              "#7201a8"
             ],
             [
              0.3333333333333333,
              "#9c179e"
             ],
             [
              0.4444444444444444,
              "#bd3786"
             ],
             [
              0.5555555555555556,
              "#d8576b"
             ],
             [
              0.6666666666666666,
              "#ed7953"
             ],
             [
              0.7777777777777778,
              "#fb9f3a"
             ],
             [
              0.8888888888888888,
              "#fdca26"
             ],
             [
              1,
              "#f0f921"
             ]
            ],
            "type": "histogram2d"
           }
          ],
          "histogram2dcontour": [
           {
            "colorbar": {
             "outlinewidth": 0,
             "ticks": ""
            },
            "colorscale": [
             [
              0,
              "#0d0887"
             ],
             [
              0.1111111111111111,
              "#46039f"
             ],
             [
              0.2222222222222222,
              "#7201a8"
             ],
             [
              0.3333333333333333,
              "#9c179e"
             ],
             [
              0.4444444444444444,
              "#bd3786"
             ],
             [
              0.5555555555555556,
              "#d8576b"
             ],
             [
              0.6666666666666666,
              "#ed7953"
             ],
             [
              0.7777777777777778,
              "#fb9f3a"
             ],
             [
              0.8888888888888888,
              "#fdca26"
             ],
             [
              1,
              "#f0f921"
             ]
            ],
            "type": "histogram2dcontour"
           }
          ],
          "mesh3d": [
           {
            "colorbar": {
             "outlinewidth": 0,
             "ticks": ""
            },
            "type": "mesh3d"
           }
          ],
          "parcoords": [
           {
            "line": {
             "colorbar": {
              "outlinewidth": 0,
              "ticks": ""
             }
            },
            "type": "parcoords"
           }
          ],
          "pie": [
           {
            "automargin": true,
            "type": "pie"
           }
          ],
          "scatter": [
           {
            "fillpattern": {
             "fillmode": "overlay",
             "size": 10,
             "solidity": 0.2
            },
            "type": "scatter"
           }
          ],
          "scatter3d": [
           {
            "line": {
             "colorbar": {
              "outlinewidth": 0,
              "ticks": ""
             }
            },
            "marker": {
             "colorbar": {
              "outlinewidth": 0,
              "ticks": ""
             }
            },
            "type": "scatter3d"
           }
          ],
          "scattercarpet": [
           {
            "marker": {
             "colorbar": {
              "outlinewidth": 0,
              "ticks": ""
             }
            },
            "type": "scattercarpet"
           }
          ],
          "scattergeo": [
           {
            "marker": {
             "colorbar": {
              "outlinewidth": 0,
              "ticks": ""
             }
            },
            "type": "scattergeo"
           }
          ],
          "scattergl": [
           {
            "marker": {
             "colorbar": {
              "outlinewidth": 0,
              "ticks": ""
             }
            },
            "type": "scattergl"
           }
          ],
          "scattermapbox": [
           {
            "marker": {
             "colorbar": {
              "outlinewidth": 0,
              "ticks": ""
             }
            },
            "type": "scattermapbox"
           }
          ],
          "scatterpolar": [
           {
            "marker": {
             "colorbar": {
              "outlinewidth": 0,
              "ticks": ""
             }
            },
            "type": "scatterpolar"
           }
          ],
          "scatterpolargl": [
           {
            "marker": {
             "colorbar": {
              "outlinewidth": 0,
              "ticks": ""
             }
            },
            "type": "scatterpolargl"
           }
          ],
          "scatterternary": [
           {
            "marker": {
             "colorbar": {
              "outlinewidth": 0,
              "ticks": ""
             }
            },
            "type": "scatterternary"
           }
          ],
          "surface": [
           {
            "colorbar": {
             "outlinewidth": 0,
             "ticks": ""
            },
            "colorscale": [
             [
              0,
              "#0d0887"
             ],
             [
              0.1111111111111111,
              "#46039f"
             ],
             [
              0.2222222222222222,
              "#7201a8"
             ],
             [
              0.3333333333333333,
              "#9c179e"
             ],
             [
              0.4444444444444444,
              "#bd3786"
             ],
             [
              0.5555555555555556,
              "#d8576b"
             ],
             [
              0.6666666666666666,
              "#ed7953"
             ],
             [
              0.7777777777777778,
              "#fb9f3a"
             ],
             [
              0.8888888888888888,
              "#fdca26"
             ],
             [
              1,
              "#f0f921"
             ]
            ],
            "type": "surface"
           }
          ],
          "table": [
           {
            "cells": {
             "fill": {
              "color": "#EBF0F8"
             },
             "line": {
              "color": "white"
             }
            },
            "header": {
             "fill": {
              "color": "#C8D4E3"
             },
             "line": {
              "color": "white"
             }
            },
            "type": "table"
           }
          ]
         },
         "layout": {
          "annotationdefaults": {
           "arrowcolor": "#2a3f5f",
           "arrowhead": 0,
           "arrowwidth": 1
          },
          "autotypenumbers": "strict",
          "coloraxis": {
           "colorbar": {
            "outlinewidth": 0,
            "ticks": ""
           }
          },
          "colorscale": {
           "diverging": [
            [
             0,
             "#8e0152"
            ],
            [
             0.1,
             "#c51b7d"
            ],
            [
             0.2,
             "#de77ae"
            ],
            [
             0.3,
             "#f1b6da"
            ],
            [
             0.4,
             "#fde0ef"
            ],
            [
             0.5,
             "#f7f7f7"
            ],
            [
             0.6,
             "#e6f5d0"
            ],
            [
             0.7,
             "#b8e186"
            ],
            [
             0.8,
             "#7fbc41"
            ],
            [
             0.9,
             "#4d9221"
            ],
            [
             1,
             "#276419"
            ]
           ],
           "sequential": [
            [
             0,
             "#0d0887"
            ],
            [
             0.1111111111111111,
             "#46039f"
            ],
            [
             0.2222222222222222,
             "#7201a8"
            ],
            [
             0.3333333333333333,
             "#9c179e"
            ],
            [
             0.4444444444444444,
             "#bd3786"
            ],
            [
             0.5555555555555556,
             "#d8576b"
            ],
            [
             0.6666666666666666,
             "#ed7953"
            ],
            [
             0.7777777777777778,
             "#fb9f3a"
            ],
            [
             0.8888888888888888,
             "#fdca26"
            ],
            [
             1,
             "#f0f921"
            ]
           ],
           "sequentialminus": [
            [
             0,
             "#0d0887"
            ],
            [
             0.1111111111111111,
             "#46039f"
            ],
            [
             0.2222222222222222,
             "#7201a8"
            ],
            [
             0.3333333333333333,
             "#9c179e"
            ],
            [
             0.4444444444444444,
             "#bd3786"
            ],
            [
             0.5555555555555556,
             "#d8576b"
            ],
            [
             0.6666666666666666,
             "#ed7953"
            ],
            [
             0.7777777777777778,
             "#fb9f3a"
            ],
            [
             0.8888888888888888,
             "#fdca26"
            ],
            [
             1,
             "#f0f921"
            ]
           ]
          },
          "colorway": [
           "#636efa",
           "#EF553B",
           "#00cc96",
           "#ab63fa",
           "#FFA15A",
           "#19d3f3",
           "#FF6692",
           "#B6E880",
           "#FF97FF",
           "#FECB52"
          ],
          "font": {
           "color": "#2a3f5f"
          },
          "geo": {
           "bgcolor": "white",
           "lakecolor": "white",
           "landcolor": "#E5ECF6",
           "showlakes": true,
           "showland": true,
           "subunitcolor": "white"
          },
          "hoverlabel": {
           "align": "left"
          },
          "hovermode": "closest",
          "mapbox": {
           "style": "light"
          },
          "paper_bgcolor": "white",
          "plot_bgcolor": "#E5ECF6",
          "polar": {
           "angularaxis": {
            "gridcolor": "white",
            "linecolor": "white",
            "ticks": ""
           },
           "bgcolor": "#E5ECF6",
           "radialaxis": {
            "gridcolor": "white",
            "linecolor": "white",
            "ticks": ""
           }
          },
          "scene": {
           "xaxis": {
            "backgroundcolor": "#E5ECF6",
            "gridcolor": "white",
            "gridwidth": 2,
            "linecolor": "white",
            "showbackground": true,
            "ticks": "",
            "zerolinecolor": "white"
           },
           "yaxis": {
            "backgroundcolor": "#E5ECF6",
            "gridcolor": "white",
            "gridwidth": 2,
            "linecolor": "white",
            "showbackground": true,
            "ticks": "",
            "zerolinecolor": "white"
           },
           "zaxis": {
            "backgroundcolor": "#E5ECF6",
            "gridcolor": "white",
            "gridwidth": 2,
            "linecolor": "white",
            "showbackground": true,
            "ticks": "",
            "zerolinecolor": "white"
           }
          },
          "shapedefaults": {
           "line": {
            "color": "#2a3f5f"
           }
          },
          "ternary": {
           "aaxis": {
            "gridcolor": "white",
            "linecolor": "white",
            "ticks": ""
           },
           "baxis": {
            "gridcolor": "white",
            "linecolor": "white",
            "ticks": ""
           },
           "bgcolor": "#E5ECF6",
           "caxis": {
            "gridcolor": "white",
            "linecolor": "white",
            "ticks": ""
           }
          },
          "title": {
           "x": 0.05
          },
          "xaxis": {
           "automargin": true,
           "gridcolor": "white",
           "linecolor": "white",
           "ticks": "",
           "title": {
            "standoff": 15
           },
           "zerolinecolor": "white",
           "zerolinewidth": 2
          },
          "yaxis": {
           "automargin": true,
           "gridcolor": "white",
           "linecolor": "white",
           "ticks": "",
           "title": {
            "standoff": 15
           },
           "zerolinecolor": "white",
           "zerolinewidth": 2
          }
         }
        },
        "title": {
         "text": "Distribution of Earnings (in USD)"
        },
        "xaxis": {
         "anchor": "y",
         "domain": [
          0,
          1
         ],
         "title": {
          "text": "variable"
         }
        },
        "yaxis": {
         "anchor": "x",
         "domain": [
          0,
          1
         ],
         "title": {
          "text": "value"
         }
        }
       }
      },
      "text/html": [
       "<div>                            <div id=\"443df8f2-a873-42fa-a73f-bf39978a7bb5\" class=\"plotly-graph-div\" style=\"height:525px; width:100%;\"></div>            <script type=\"text/javascript\">                require([\"plotly\"], function(Plotly) {                    window.PLOTLYENV=window.PLOTLYENV || {};                                    if (document.getElementById(\"443df8f2-a873-42fa-a73f-bf39978a7bb5\")) {                    Plotly.newPlot(                        \"443df8f2-a873-42fa-a73f-bf39978a7bb5\",                        [{\"alignmentgroup\":\"True\",\"hovertemplate\":\"variable=%{x}\\u003cbr\\u003evalue=%{y}\\u003cextra\\u003e\\u003c\\u002fextra\\u003e\",\"legendgroup\":\"\",\"marker\":{\"color\":\"#636efa\"},\"name\":\"\",\"notched\":false,\"offsetgroup\":\"\",\"orientation\":\"v\",\"showlegend\":false,\"x\":[\"lowest_monthly_earnings\",\"lowest_monthly_earnings\",\"lowest_monthly_earnings\",\"lowest_monthly_earnings\",\"lowest_monthly_earnings\",\"lowest_monthly_earnings\",\"lowest_monthly_earnings\",\"lowest_monthly_earnings\",\"lowest_monthly_earnings\",\"lowest_monthly_earnings\",\"lowest_monthly_earnings\",\"lowest_monthly_earnings\",\"lowest_monthly_earnings\",\"lowest_monthly_earnings\",\"lowest_monthly_earnings\",\"lowest_monthly_earnings\",\"lowest_monthly_earnings\",\"lowest_monthly_earnings\",\"lowest_monthly_earnings\",\"lowest_monthly_earnings\",\"lowest_monthly_earnings\",\"lowest_monthly_earnings\",\"lowest_monthly_earnings\",\"lowest_monthly_earnings\",\"lowest_monthly_earnings\",\"lowest_monthly_earnings\",\"lowest_monthly_earnings\",\"lowest_monthly_earnings\",\"lowest_monthly_earnings\",\"lowest_monthly_earnings\",\"lowest_monthly_earnings\",\"lowest_monthly_earnings\",\"lowest_monthly_earnings\",\"lowest_monthly_earnings\",\"lowest_monthly_earnings\",\"lowest_monthly_earnings\",\"lowest_monthly_earnings\",\"lowest_monthly_earnings\",\"lowest_monthly_earnings\",\"lowest_monthly_earnings\",\"lowest_monthly_earnings\",\"lowest_monthly_earnings\",\"lowest_monthly_earnings\",\"lowest_monthly_earnings\",\"lowest_monthly_earnings\",\"lowest_monthly_earnings\",\"lowest_monthly_earnings\",\"lowest_monthly_earnings\",\"lowest_monthly_earnings\",\"lowest_monthly_earnings\",\"lowest_monthly_earnings\",\"lowest_monthly_earnings\",\"lowest_monthly_earnings\",\"lowest_monthly_earnings\",\"lowest_monthly_earnings\",\"lowest_monthly_earnings\",\"lowest_monthly_earnings\",\"lowest_monthly_earnings\",\"lowest_monthly_earnings\",\"lowest_monthly_earnings\",\"lowest_monthly_earnings\",\"lowest_monthly_earnings\",\"lowest_monthly_earnings\",\"lowest_monthly_earnings\",\"lowest_monthly_earnings\",\"lowest_monthly_earnings\",\"lowest_monthly_earnings\",\"lowest_monthly_earnings\",\"lowest_monthly_earnings\",\"lowest_monthly_earnings\",\"lowest_monthly_earnings\",\"lowest_monthly_earnings\",\"lowest_monthly_earnings\",\"lowest_monthly_earnings\",\"lowest_monthly_earnings\",\"lowest_monthly_earnings\",\"lowest_monthly_earnings\",\"lowest_monthly_earnings\",\"lowest_monthly_earnings\",\"lowest_monthly_earnings\",\"lowest_monthly_earnings\",\"lowest_monthly_earnings\",\"lowest_monthly_earnings\",\"lowest_monthly_earnings\",\"lowest_monthly_earnings\",\"lowest_monthly_earnings\",\"lowest_monthly_earnings\",\"lowest_monthly_earnings\",\"lowest_monthly_earnings\",\"lowest_monthly_earnings\",\"lowest_monthly_earnings\",\"lowest_monthly_earnings\",\"lowest_monthly_earnings\",\"lowest_monthly_earnings\",\"lowest_monthly_earnings\",\"lowest_monthly_earnings\",\"lowest_monthly_earnings\",\"lowest_monthly_earnings\",\"lowest_monthly_earnings\",\"lowest_monthly_earnings\",\"lowest_monthly_earnings\",\"lowest_monthly_earnings\",\"lowest_monthly_earnings\",\"lowest_monthly_earnings\",\"lowest_monthly_earnings\",\"lowest_monthly_earnings\",\"lowest_monthly_earnings\",\"lowest_monthly_earnings\",\"lowest_monthly_earnings\",\"lowest_monthly_earnings\",\"lowest_monthly_earnings\",\"lowest_monthly_earnings\",\"lowest_monthly_earnings\",\"lowest_monthly_earnings\",\"lowest_monthly_earnings\",\"lowest_monthly_earnings\",\"lowest_monthly_earnings\",\"lowest_monthly_earnings\",\"lowest_monthly_earnings\",\"lowest_monthly_earnings\",\"lowest_monthly_earnings\",\"lowest_monthly_earnings\",\"lowest_monthly_earnings\",\"lowest_monthly_earnings\",\"lowest_monthly_earnings\",\"lowest_monthly_earnings\",\"lowest_monthly_earnings\",\"lowest_monthly_earnings\",\"lowest_monthly_earnings\",\"lowest_monthly_earnings\",\"lowest_monthly_earnings\",\"lowest_monthly_earnings\",\"lowest_monthly_earnings\",\"lowest_monthly_earnings\",\"lowest_monthly_earnings\",\"lowest_monthly_earnings\",\"lowest_monthly_earnings\",\"lowest_monthly_earnings\",\"lowest_monthly_earnings\",\"lowest_monthly_earnings\",\"lowest_monthly_earnings\",\"lowest_monthly_earnings\",\"lowest_monthly_earnings\",\"lowest_monthly_earnings\",\"lowest_monthly_earnings\",\"lowest_monthly_earnings\",\"lowest_monthly_earnings\",\"lowest_monthly_earnings\",\"lowest_monthly_earnings\",\"lowest_monthly_earnings\",\"lowest_monthly_earnings\",\"lowest_monthly_earnings\",\"lowest_monthly_earnings\",\"lowest_monthly_earnings\",\"lowest_monthly_earnings\",\"lowest_monthly_earnings\",\"lowest_monthly_earnings\",\"lowest_monthly_earnings\",\"lowest_monthly_earnings\",\"lowest_monthly_earnings\",\"lowest_monthly_earnings\",\"lowest_monthly_earnings\",\"lowest_monthly_earnings\",\"lowest_monthly_earnings\",\"lowest_monthly_earnings\",\"lowest_monthly_earnings\",\"lowest_monthly_earnings\",\"lowest_monthly_earnings\",\"lowest_monthly_earnings\",\"lowest_monthly_earnings\",\"lowest_monthly_earnings\",\"lowest_monthly_earnings\",\"lowest_monthly_earnings\",\"lowest_monthly_earnings\",\"lowest_monthly_earnings\",\"lowest_monthly_earnings\",\"lowest_monthly_earnings\",\"lowest_monthly_earnings\",\"lowest_monthly_earnings\",\"lowest_monthly_earnings\",\"lowest_monthly_earnings\",\"lowest_monthly_earnings\",\"lowest_monthly_earnings\",\"lowest_monthly_earnings\",\"lowest_monthly_earnings\",\"lowest_monthly_earnings\",\"lowest_monthly_earnings\",\"lowest_monthly_earnings\",\"lowest_monthly_earnings\",\"lowest_monthly_earnings\",\"lowest_monthly_earnings\",\"lowest_monthly_earnings\",\"lowest_monthly_earnings\",\"lowest_monthly_earnings\",\"lowest_monthly_earnings\",\"lowest_monthly_earnings\",\"lowest_monthly_earnings\",\"lowest_monthly_earnings\",\"lowest_monthly_earnings\",\"lowest_monthly_earnings\",\"lowest_monthly_earnings\",\"lowest_monthly_earnings\",\"lowest_monthly_earnings\",\"lowest_monthly_earnings\",\"lowest_monthly_earnings\",\"lowest_monthly_earnings\",\"lowest_monthly_earnings\",\"lowest_monthly_earnings\",\"lowest_monthly_earnings\",\"lowest_monthly_earnings\",\"lowest_monthly_earnings\",\"lowest_monthly_earnings\",\"lowest_monthly_earnings\",\"lowest_monthly_earnings\",\"lowest_monthly_earnings\",\"lowest_monthly_earnings\",\"lowest_monthly_earnings\",\"lowest_monthly_earnings\",\"lowest_monthly_earnings\",\"lowest_monthly_earnings\",\"lowest_monthly_earnings\",\"lowest_monthly_earnings\",\"lowest_monthly_earnings\",\"lowest_monthly_earnings\",\"lowest_monthly_earnings\",\"lowest_monthly_earnings\",\"lowest_monthly_earnings\",\"lowest_monthly_earnings\",\"lowest_monthly_earnings\",\"lowest_monthly_earnings\",\"lowest_monthly_earnings\",\"lowest_monthly_earnings\",\"lowest_monthly_earnings\",\"lowest_monthly_earnings\",\"lowest_monthly_earnings\",\"lowest_monthly_earnings\",\"lowest_monthly_earnings\",\"lowest_monthly_earnings\",\"lowest_monthly_earnings\",\"lowest_monthly_earnings\",\"lowest_monthly_earnings\",\"lowest_monthly_earnings\",\"lowest_monthly_earnings\",\"lowest_monthly_earnings\",\"lowest_monthly_earnings\",\"lowest_monthly_earnings\",\"lowest_monthly_earnings\",\"lowest_monthly_earnings\",\"lowest_monthly_earnings\",\"lowest_monthly_earnings\",\"lowest_monthly_earnings\",\"lowest_monthly_earnings\",\"lowest_monthly_earnings\",\"lowest_monthly_earnings\",\"lowest_monthly_earnings\",\"lowest_monthly_earnings\",\"lowest_monthly_earnings\",\"lowest_monthly_earnings\",\"lowest_monthly_earnings\",\"lowest_monthly_earnings\",\"lowest_monthly_earnings\",\"lowest_monthly_earnings\",\"lowest_monthly_earnings\",\"lowest_monthly_earnings\",\"lowest_monthly_earnings\",\"lowest_monthly_earnings\",\"lowest_monthly_earnings\",\"lowest_monthly_earnings\",\"lowest_monthly_earnings\",\"lowest_monthly_earnings\",\"lowest_monthly_earnings\",\"lowest_monthly_earnings\",\"lowest_monthly_earnings\",\"lowest_monthly_earnings\",\"lowest_monthly_earnings\",\"lowest_monthly_earnings\",\"lowest_monthly_earnings\",\"lowest_monthly_earnings\",\"lowest_monthly_earnings\",\"lowest_monthly_earnings\",\"lowest_monthly_earnings\",\"lowest_monthly_earnings\",\"lowest_monthly_earnings\",\"lowest_monthly_earnings\",\"lowest_monthly_earnings\",\"lowest_monthly_earnings\",\"lowest_monthly_earnings\",\"lowest_monthly_earnings\",\"lowest_monthly_earnings\",\"lowest_monthly_earnings\",\"lowest_monthly_earnings\",\"lowest_monthly_earnings\",\"lowest_monthly_earnings\",\"lowest_monthly_earnings\",\"lowest_monthly_earnings\",\"lowest_monthly_earnings\",\"lowest_monthly_earnings\",\"lowest_monthly_earnings\",\"lowest_monthly_earnings\",\"lowest_monthly_earnings\",\"lowest_monthly_earnings\",\"lowest_monthly_earnings\",\"lowest_monthly_earnings\",\"lowest_monthly_earnings\",\"lowest_monthly_earnings\",\"lowest_monthly_earnings\",\"lowest_monthly_earnings\",\"lowest_monthly_earnings\",\"lowest_monthly_earnings\",\"lowest_monthly_earnings\",\"lowest_monthly_earnings\",\"lowest_monthly_earnings\",\"lowest_monthly_earnings\",\"lowest_monthly_earnings\",\"lowest_monthly_earnings\",\"lowest_monthly_earnings\",\"lowest_monthly_earnings\",\"lowest_monthly_earnings\",\"lowest_monthly_earnings\",\"lowest_monthly_earnings\",\"lowest_monthly_earnings\",\"lowest_monthly_earnings\",\"lowest_monthly_earnings\",\"lowest_monthly_earnings\",\"lowest_monthly_earnings\",\"lowest_monthly_earnings\",\"lowest_monthly_earnings\",\"lowest_monthly_earnings\",\"lowest_monthly_earnings\",\"lowest_monthly_earnings\",\"lowest_monthly_earnings\",\"lowest_monthly_earnings\",\"lowest_monthly_earnings\",\"lowest_monthly_earnings\",\"lowest_monthly_earnings\",\"lowest_monthly_earnings\",\"lowest_monthly_earnings\",\"lowest_monthly_earnings\",\"lowest_monthly_earnings\",\"lowest_monthly_earnings\",\"lowest_monthly_earnings\",\"lowest_monthly_earnings\",\"lowest_monthly_earnings\",\"lowest_monthly_earnings\",\"lowest_monthly_earnings\",\"lowest_monthly_earnings\",\"lowest_monthly_earnings\",\"lowest_monthly_earnings\",\"lowest_monthly_earnings\",\"lowest_monthly_earnings\",\"lowest_monthly_earnings\",\"lowest_monthly_earnings\",\"lowest_monthly_earnings\",\"lowest_monthly_earnings\",\"lowest_monthly_earnings\",\"lowest_monthly_earnings\",\"lowest_monthly_earnings\",\"lowest_monthly_earnings\",\"lowest_monthly_earnings\",\"lowest_monthly_earnings\",\"lowest_monthly_earnings\",\"lowest_monthly_earnings\",\"lowest_monthly_earnings\",\"lowest_monthly_earnings\",\"lowest_monthly_earnings\",\"lowest_monthly_earnings\",\"lowest_monthly_earnings\",\"lowest_monthly_earnings\",\"lowest_monthly_earnings\",\"lowest_monthly_earnings\",\"lowest_monthly_earnings\",\"lowest_monthly_earnings\",\"lowest_monthly_earnings\",\"lowest_monthly_earnings\",\"lowest_monthly_earnings\",\"lowest_monthly_earnings\",\"lowest_monthly_earnings\",\"lowest_monthly_earnings\",\"lowest_monthly_earnings\",\"lowest_monthly_earnings\",\"lowest_monthly_earnings\",\"lowest_monthly_earnings\",\"lowest_monthly_earnings\",\"lowest_monthly_earnings\",\"lowest_monthly_earnings\",\"lowest_monthly_earnings\",\"lowest_monthly_earnings\",\"lowest_monthly_earnings\",\"lowest_monthly_earnings\",\"lowest_monthly_earnings\",\"lowest_monthly_earnings\",\"lowest_monthly_earnings\",\"lowest_monthly_earnings\",\"lowest_monthly_earnings\",\"lowest_monthly_earnings\",\"lowest_monthly_earnings\",\"lowest_monthly_earnings\",\"lowest_monthly_earnings\",\"lowest_monthly_earnings\",\"lowest_monthly_earnings\",\"lowest_monthly_earnings\",\"lowest_monthly_earnings\",\"lowest_monthly_earnings\",\"lowest_monthly_earnings\",\"lowest_monthly_earnings\",\"lowest_monthly_earnings\",\"lowest_monthly_earnings\",\"lowest_monthly_earnings\",\"lowest_monthly_earnings\",\"lowest_monthly_earnings\",\"lowest_monthly_earnings\",\"lowest_monthly_earnings\",\"lowest_monthly_earnings\",\"lowest_monthly_earnings\",\"lowest_monthly_earnings\",\"lowest_monthly_earnings\",\"lowest_monthly_earnings\",\"lowest_monthly_earnings\",\"lowest_monthly_earnings\",\"lowest_monthly_earnings\",\"lowest_monthly_earnings\",\"lowest_monthly_earnings\",\"lowest_monthly_earnings\",\"lowest_monthly_earnings\",\"lowest_monthly_earnings\",\"lowest_monthly_earnings\",\"lowest_monthly_earnings\",\"lowest_monthly_earnings\",\"lowest_monthly_earnings\",\"lowest_monthly_earnings\",\"lowest_monthly_earnings\",\"lowest_monthly_earnings\",\"lowest_monthly_earnings\",\"lowest_monthly_earnings\",\"lowest_monthly_earnings\",\"lowest_monthly_earnings\",\"lowest_monthly_earnings\",\"lowest_monthly_earnings\",\"lowest_monthly_earnings\",\"lowest_monthly_earnings\",\"lowest_monthly_earnings\",\"lowest_monthly_earnings\",\"lowest_monthly_earnings\",\"lowest_monthly_earnings\",\"lowest_monthly_earnings\",\"lowest_monthly_earnings\",\"lowest_monthly_earnings\",\"lowest_monthly_earnings\",\"lowest_monthly_earnings\",\"lowest_monthly_earnings\",\"lowest_monthly_earnings\",\"lowest_monthly_earnings\",\"lowest_monthly_earnings\",\"lowest_monthly_earnings\",\"lowest_monthly_earnings\",\"lowest_monthly_earnings\",\"lowest_monthly_earnings\",\"lowest_monthly_earnings\",\"lowest_monthly_earnings\",\"lowest_monthly_earnings\",\"lowest_monthly_earnings\",\"lowest_monthly_earnings\",\"lowest_monthly_earnings\",\"lowest_monthly_earnings\",\"lowest_monthly_earnings\",\"lowest_monthly_earnings\",\"lowest_monthly_earnings\",\"lowest_monthly_earnings\",\"lowest_monthly_earnings\",\"lowest_monthly_earnings\",\"lowest_monthly_earnings\",\"lowest_monthly_earnings\",\"lowest_monthly_earnings\",\"lowest_monthly_earnings\",\"lowest_monthly_earnings\",\"lowest_monthly_earnings\",\"lowest_monthly_earnings\",\"lowest_monthly_earnings\",\"lowest_monthly_earnings\",\"lowest_monthly_earnings\",\"lowest_monthly_earnings\",\"lowest_monthly_earnings\",\"lowest_monthly_earnings\",\"lowest_monthly_earnings\",\"lowest_monthly_earnings\",\"lowest_monthly_earnings\",\"lowest_monthly_earnings\",\"lowest_monthly_earnings\",\"lowest_monthly_earnings\",\"lowest_monthly_earnings\",\"lowest_monthly_earnings\",\"lowest_monthly_earnings\",\"lowest_monthly_earnings\",\"lowest_monthly_earnings\",\"lowest_monthly_earnings\",\"lowest_monthly_earnings\",\"lowest_monthly_earnings\",\"lowest_monthly_earnings\",\"lowest_monthly_earnings\",\"lowest_monthly_earnings\",\"lowest_monthly_earnings\",\"lowest_monthly_earnings\",\"lowest_monthly_earnings\",\"lowest_monthly_earnings\",\"lowest_monthly_earnings\",\"lowest_monthly_earnings\",\"lowest_monthly_earnings\",\"lowest_monthly_earnings\",\"lowest_monthly_earnings\",\"lowest_monthly_earnings\",\"lowest_monthly_earnings\",\"lowest_monthly_earnings\",\"lowest_monthly_earnings\",\"lowest_monthly_earnings\",\"lowest_monthly_earnings\",\"lowest_monthly_earnings\",\"lowest_monthly_earnings\",\"lowest_monthly_earnings\",\"lowest_monthly_earnings\",\"lowest_monthly_earnings\",\"lowest_monthly_earnings\",\"lowest_monthly_earnings\",\"lowest_monthly_earnings\",\"lowest_monthly_earnings\",\"lowest_monthly_earnings\",\"lowest_monthly_earnings\",\"lowest_monthly_earnings\",\"lowest_monthly_earnings\",\"lowest_monthly_earnings\",\"lowest_monthly_earnings\",\"lowest_monthly_earnings\",\"lowest_monthly_earnings\",\"lowest_monthly_earnings\",\"lowest_monthly_earnings\",\"lowest_monthly_earnings\",\"lowest_monthly_earnings\",\"lowest_monthly_earnings\",\"lowest_monthly_earnings\",\"lowest_monthly_earnings\",\"lowest_monthly_earnings\",\"lowest_monthly_earnings\",\"lowest_monthly_earnings\",\"lowest_monthly_earnings\",\"lowest_monthly_earnings\",\"lowest_monthly_earnings\",\"lowest_monthly_earnings\",\"lowest_monthly_earnings\",\"lowest_monthly_earnings\",\"lowest_monthly_earnings\",\"lowest_monthly_earnings\",\"lowest_monthly_earnings\",\"lowest_monthly_earnings\",\"lowest_monthly_earnings\",\"lowest_monthly_earnings\",\"highest_monthly_earnings\",\"highest_monthly_earnings\",\"highest_monthly_earnings\",\"highest_monthly_earnings\",\"highest_monthly_earnings\",\"highest_monthly_earnings\",\"highest_monthly_earnings\",\"highest_monthly_earnings\",\"highest_monthly_earnings\",\"highest_monthly_earnings\",\"highest_monthly_earnings\",\"highest_monthly_earnings\",\"highest_monthly_earnings\",\"highest_monthly_earnings\",\"highest_monthly_earnings\",\"highest_monthly_earnings\",\"highest_monthly_earnings\",\"highest_monthly_earnings\",\"highest_monthly_earnings\",\"highest_monthly_earnings\",\"highest_monthly_earnings\",\"highest_monthly_earnings\",\"highest_monthly_earnings\",\"highest_monthly_earnings\",\"highest_monthly_earnings\",\"highest_monthly_earnings\",\"highest_monthly_earnings\",\"highest_monthly_earnings\",\"highest_monthly_earnings\",\"highest_monthly_earnings\",\"highest_monthly_earnings\",\"highest_monthly_earnings\",\"highest_monthly_earnings\",\"highest_monthly_earnings\",\"highest_monthly_earnings\",\"highest_monthly_earnings\",\"highest_monthly_earnings\",\"highest_monthly_earnings\",\"highest_monthly_earnings\",\"highest_monthly_earnings\",\"highest_monthly_earnings\",\"highest_monthly_earnings\",\"highest_monthly_earnings\",\"highest_monthly_earnings\",\"highest_monthly_earnings\",\"highest_monthly_earnings\",\"highest_monthly_earnings\",\"highest_monthly_earnings\",\"highest_monthly_earnings\",\"highest_monthly_earnings\",\"highest_monthly_earnings\",\"highest_monthly_earnings\",\"highest_monthly_earnings\",\"highest_monthly_earnings\",\"highest_monthly_earnings\",\"highest_monthly_earnings\",\"highest_monthly_earnings\",\"highest_monthly_earnings\",\"highest_monthly_earnings\",\"highest_monthly_earnings\",\"highest_monthly_earnings\",\"highest_monthly_earnings\",\"highest_monthly_earnings\",\"highest_monthly_earnings\",\"highest_monthly_earnings\",\"highest_monthly_earnings\",\"highest_monthly_earnings\",\"highest_monthly_earnings\",\"highest_monthly_earnings\",\"highest_monthly_earnings\",\"highest_monthly_earnings\",\"highest_monthly_earnings\",\"highest_monthly_earnings\",\"highest_monthly_earnings\",\"highest_monthly_earnings\",\"highest_monthly_earnings\",\"highest_monthly_earnings\",\"highest_monthly_earnings\",\"highest_monthly_earnings\",\"highest_monthly_earnings\",\"highest_monthly_earnings\",\"highest_monthly_earnings\",\"highest_monthly_earnings\",\"highest_monthly_earnings\",\"highest_monthly_earnings\",\"highest_monthly_earnings\",\"highest_monthly_earnings\",\"highest_monthly_earnings\",\"highest_monthly_earnings\",\"highest_monthly_earnings\",\"highest_monthly_earnings\",\"highest_monthly_earnings\",\"highest_monthly_earnings\",\"highest_monthly_earnings\",\"highest_monthly_earnings\",\"highest_monthly_earnings\",\"highest_monthly_earnings\",\"highest_monthly_earnings\",\"highest_monthly_earnings\",\"highest_monthly_earnings\",\"highest_monthly_earnings\",\"highest_monthly_earnings\",\"highest_monthly_earnings\",\"highest_monthly_earnings\",\"highest_monthly_earnings\",\"highest_monthly_earnings\",\"highest_monthly_earnings\",\"highest_monthly_earnings\",\"highest_monthly_earnings\",\"highest_monthly_earnings\",\"highest_monthly_earnings\",\"highest_monthly_earnings\",\"highest_monthly_earnings\",\"highest_monthly_earnings\",\"highest_monthly_earnings\",\"highest_monthly_earnings\",\"highest_monthly_earnings\",\"highest_monthly_earnings\",\"highest_monthly_earnings\",\"highest_monthly_earnings\",\"highest_monthly_earnings\",\"highest_monthly_earnings\",\"highest_monthly_earnings\",\"highest_monthly_earnings\",\"highest_monthly_earnings\",\"highest_monthly_earnings\",\"highest_monthly_earnings\",\"highest_monthly_earnings\",\"highest_monthly_earnings\",\"highest_monthly_earnings\",\"highest_monthly_earnings\",\"highest_monthly_earnings\",\"highest_monthly_earnings\",\"highest_monthly_earnings\",\"highest_monthly_earnings\",\"highest_monthly_earnings\",\"highest_monthly_earnings\",\"highest_monthly_earnings\",\"highest_monthly_earnings\",\"highest_monthly_earnings\",\"highest_monthly_earnings\",\"highest_monthly_earnings\",\"highest_monthly_earnings\",\"highest_monthly_earnings\",\"highest_monthly_earnings\",\"highest_monthly_earnings\",\"highest_monthly_earnings\",\"highest_monthly_earnings\",\"highest_monthly_earnings\",\"highest_monthly_earnings\",\"highest_monthly_earnings\",\"highest_monthly_earnings\",\"highest_monthly_earnings\",\"highest_monthly_earnings\",\"highest_monthly_earnings\",\"highest_monthly_earnings\",\"highest_monthly_earnings\",\"highest_monthly_earnings\",\"highest_monthly_earnings\",\"highest_monthly_earnings\",\"highest_monthly_earnings\",\"highest_monthly_earnings\",\"highest_monthly_earnings\",\"highest_monthly_earnings\",\"highest_monthly_earnings\",\"highest_monthly_earnings\",\"highest_monthly_earnings\",\"highest_monthly_earnings\",\"highest_monthly_earnings\",\"highest_monthly_earnings\",\"highest_monthly_earnings\",\"highest_monthly_earnings\",\"highest_monthly_earnings\",\"highest_monthly_earnings\",\"highest_monthly_earnings\",\"highest_monthly_earnings\",\"highest_monthly_earnings\",\"highest_monthly_earnings\",\"highest_monthly_earnings\",\"highest_monthly_earnings\",\"highest_monthly_earnings\",\"highest_monthly_earnings\",\"highest_monthly_earnings\",\"highest_monthly_earnings\",\"highest_monthly_earnings\",\"highest_monthly_earnings\",\"highest_monthly_earnings\",\"highest_monthly_earnings\",\"highest_monthly_earnings\",\"highest_monthly_earnings\",\"highest_monthly_earnings\",\"highest_monthly_earnings\",\"highest_monthly_earnings\",\"highest_monthly_earnings\",\"highest_monthly_earnings\",\"highest_monthly_earnings\",\"highest_monthly_earnings\",\"highest_monthly_earnings\",\"highest_monthly_earnings\",\"highest_monthly_earnings\",\"highest_monthly_earnings\",\"highest_monthly_earnings\",\"highest_monthly_earnings\",\"highest_monthly_earnings\",\"highest_monthly_earnings\",\"highest_monthly_earnings\",\"highest_monthly_earnings\",\"highest_monthly_earnings\",\"highest_monthly_earnings\",\"highest_monthly_earnings\",\"highest_monthly_earnings\",\"highest_monthly_earnings\",\"highest_monthly_earnings\",\"highest_monthly_earnings\",\"highest_monthly_earnings\",\"highest_monthly_earnings\",\"highest_monthly_earnings\",\"highest_monthly_earnings\",\"highest_monthly_earnings\",\"highest_monthly_earnings\",\"highest_monthly_earnings\",\"highest_monthly_earnings\",\"highest_monthly_earnings\",\"highest_monthly_earnings\",\"highest_monthly_earnings\",\"highest_monthly_earnings\",\"highest_monthly_earnings\",\"highest_monthly_earnings\",\"highest_monthly_earnings\",\"highest_monthly_earnings\",\"highest_monthly_earnings\",\"highest_monthly_earnings\",\"highest_monthly_earnings\",\"highest_monthly_earnings\",\"highest_monthly_earnings\",\"highest_monthly_earnings\",\"highest_monthly_earnings\",\"highest_monthly_earnings\",\"highest_monthly_earnings\",\"highest_monthly_earnings\",\"highest_monthly_earnings\",\"highest_monthly_earnings\",\"highest_monthly_earnings\",\"highest_monthly_earnings\",\"highest_monthly_earnings\",\"highest_monthly_earnings\",\"highest_monthly_earnings\",\"highest_monthly_earnings\",\"highest_monthly_earnings\",\"highest_monthly_earnings\",\"highest_monthly_earnings\",\"highest_monthly_earnings\",\"highest_monthly_earnings\",\"highest_monthly_earnings\",\"highest_monthly_earnings\",\"highest_monthly_earnings\",\"highest_monthly_earnings\",\"highest_monthly_earnings\",\"highest_monthly_earnings\",\"highest_monthly_earnings\",\"highest_monthly_earnings\",\"highest_monthly_earnings\",\"highest_monthly_earnings\",\"highest_monthly_earnings\",\"highest_monthly_earnings\",\"highest_monthly_earnings\",\"highest_monthly_earnings\",\"highest_monthly_earnings\",\"highest_monthly_earnings\",\"highest_monthly_earnings\",\"highest_monthly_earnings\",\"highest_monthly_earnings\",\"highest_monthly_earnings\",\"highest_monthly_earnings\",\"highest_monthly_earnings\",\"highest_monthly_earnings\",\"highest_monthly_earnings\",\"highest_monthly_earnings\",\"highest_monthly_earnings\",\"highest_monthly_earnings\",\"highest_monthly_earnings\",\"highest_monthly_earnings\",\"highest_monthly_earnings\",\"highest_monthly_earnings\",\"highest_monthly_earnings\",\"highest_monthly_earnings\",\"highest_monthly_earnings\",\"highest_monthly_earnings\",\"highest_monthly_earnings\",\"highest_monthly_earnings\",\"highest_monthly_earnings\",\"highest_monthly_earnings\",\"highest_monthly_earnings\",\"highest_monthly_earnings\",\"highest_monthly_earnings\",\"highest_monthly_earnings\",\"highest_monthly_earnings\",\"highest_monthly_earnings\",\"highest_monthly_earnings\",\"highest_monthly_earnings\",\"highest_monthly_earnings\",\"highest_monthly_earnings\",\"highest_monthly_earnings\",\"highest_monthly_earnings\",\"highest_monthly_earnings\",\"highest_monthly_earnings\",\"highest_monthly_earnings\",\"highest_monthly_earnings\",\"highest_monthly_earnings\",\"highest_monthly_earnings\",\"highest_monthly_earnings\",\"highest_monthly_earnings\",\"highest_monthly_earnings\",\"highest_monthly_earnings\",\"highest_monthly_earnings\",\"highest_monthly_earnings\",\"highest_monthly_earnings\",\"highest_monthly_earnings\",\"highest_monthly_earnings\",\"highest_monthly_earnings\",\"highest_monthly_earnings\",\"highest_monthly_earnings\",\"highest_monthly_earnings\",\"highest_monthly_earnings\",\"highest_monthly_earnings\",\"highest_monthly_earnings\",\"highest_monthly_earnings\",\"highest_monthly_earnings\",\"highest_monthly_earnings\",\"highest_monthly_earnings\",\"highest_monthly_earnings\",\"highest_monthly_earnings\",\"highest_monthly_earnings\",\"highest_monthly_earnings\",\"highest_monthly_earnings\",\"highest_monthly_earnings\",\"highest_monthly_earnings\",\"highest_monthly_earnings\",\"highest_monthly_earnings\",\"highest_monthly_earnings\",\"highest_monthly_earnings\",\"highest_monthly_earnings\",\"highest_monthly_earnings\",\"highest_monthly_earnings\",\"highest_monthly_earnings\",\"highest_monthly_earnings\",\"highest_monthly_earnings\",\"highest_monthly_earnings\",\"highest_monthly_earnings\",\"highest_monthly_earnings\",\"highest_monthly_earnings\",\"highest_monthly_earnings\",\"highest_monthly_earnings\",\"highest_monthly_earnings\",\"highest_monthly_earnings\",\"highest_monthly_earnings\",\"highest_monthly_earnings\",\"highest_monthly_earnings\",\"highest_monthly_earnings\",\"highest_monthly_earnings\",\"highest_monthly_earnings\",\"highest_monthly_earnings\",\"highest_monthly_earnings\",\"highest_monthly_earnings\",\"highest_monthly_earnings\",\"highest_monthly_earnings\",\"highest_monthly_earnings\",\"highest_monthly_earnings\",\"highest_monthly_earnings\",\"highest_monthly_earnings\",\"highest_monthly_earnings\",\"highest_monthly_earnings\",\"highest_monthly_earnings\",\"highest_monthly_earnings\",\"highest_monthly_earnings\",\"highest_monthly_earnings\",\"highest_monthly_earnings\",\"highest_monthly_earnings\",\"highest_monthly_earnings\",\"highest_monthly_earnings\",\"highest_monthly_earnings\",\"highest_monthly_earnings\",\"highest_monthly_earnings\",\"highest_monthly_earnings\",\"highest_monthly_earnings\",\"highest_monthly_earnings\",\"highest_monthly_earnings\",\"highest_monthly_earnings\",\"highest_monthly_earnings\",\"highest_monthly_earnings\",\"highest_monthly_earnings\",\"highest_monthly_earnings\",\"highest_monthly_earnings\",\"highest_monthly_earnings\",\"highest_monthly_earnings\",\"highest_monthly_earnings\",\"highest_monthly_earnings\",\"highest_monthly_earnings\",\"highest_monthly_earnings\",\"highest_monthly_earnings\",\"highest_monthly_earnings\",\"highest_monthly_earnings\",\"highest_monthly_earnings\",\"highest_monthly_earnings\",\"highest_monthly_earnings\",\"highest_monthly_earnings\",\"highest_monthly_earnings\",\"highest_monthly_earnings\",\"highest_monthly_earnings\",\"highest_monthly_earnings\",\"highest_monthly_earnings\",\"highest_monthly_earnings\",\"highest_monthly_earnings\",\"highest_monthly_earnings\",\"highest_monthly_earnings\",\"highest_monthly_earnings\",\"highest_monthly_earnings\",\"highest_monthly_earnings\",\"highest_monthly_earnings\",\"highest_monthly_earnings\",\"highest_monthly_earnings\",\"highest_monthly_earnings\",\"highest_monthly_earnings\",\"highest_monthly_earnings\",\"highest_monthly_earnings\",\"highest_monthly_earnings\",\"highest_monthly_earnings\",\"highest_monthly_earnings\",\"highest_monthly_earnings\",\"highest_monthly_earnings\",\"highest_monthly_earnings\",\"highest_monthly_earnings\",\"highest_monthly_earnings\",\"highest_monthly_earnings\",\"highest_monthly_earnings\",\"highest_monthly_earnings\",\"highest_monthly_earnings\",\"highest_monthly_earnings\",\"highest_monthly_earnings\",\"highest_monthly_earnings\",\"highest_monthly_earnings\",\"highest_monthly_earnings\",\"highest_monthly_earnings\",\"highest_monthly_earnings\",\"highest_monthly_earnings\",\"highest_monthly_earnings\",\"highest_monthly_earnings\",\"highest_monthly_earnings\",\"highest_monthly_earnings\",\"highest_monthly_earnings\",\"highest_monthly_earnings\",\"highest_monthly_earnings\",\"highest_monthly_earnings\",\"highest_monthly_earnings\",\"highest_monthly_earnings\",\"highest_monthly_earnings\",\"highest_monthly_earnings\",\"highest_monthly_earnings\",\"highest_monthly_earnings\",\"highest_monthly_earnings\",\"highest_monthly_earnings\",\"highest_monthly_earnings\",\"highest_monthly_earnings\",\"highest_monthly_earnings\",\"highest_monthly_earnings\",\"highest_monthly_earnings\",\"highest_monthly_earnings\",\"highest_monthly_earnings\",\"highest_monthly_earnings\",\"highest_monthly_earnings\",\"highest_monthly_earnings\",\"highest_monthly_earnings\",\"highest_monthly_earnings\",\"highest_monthly_earnings\",\"highest_monthly_earnings\",\"highest_monthly_earnings\",\"highest_monthly_earnings\",\"highest_monthly_earnings\",\"highest_monthly_earnings\",\"highest_monthly_earnings\",\"highest_monthly_earnings\",\"highest_monthly_earnings\",\"highest_monthly_earnings\",\"highest_monthly_earnings\",\"highest_monthly_earnings\",\"highest_monthly_earnings\",\"highest_monthly_earnings\",\"highest_monthly_earnings\",\"highest_monthly_earnings\",\"highest_monthly_earnings\",\"highest_monthly_earnings\",\"highest_monthly_earnings\",\"highest_monthly_earnings\",\"highest_monthly_earnings\",\"highest_monthly_earnings\",\"highest_monthly_earnings\",\"highest_monthly_earnings\",\"highest_monthly_earnings\",\"highest_monthly_earnings\",\"highest_monthly_earnings\",\"highest_monthly_earnings\",\"highest_monthly_earnings\",\"highest_monthly_earnings\",\"highest_monthly_earnings\",\"highest_monthly_earnings\",\"highest_monthly_earnings\",\"highest_monthly_earnings\",\"highest_monthly_earnings\",\"highest_monthly_earnings\",\"highest_monthly_earnings\",\"highest_monthly_earnings\",\"highest_monthly_earnings\",\"highest_monthly_earnings\",\"highest_monthly_earnings\",\"highest_monthly_earnings\",\"highest_monthly_earnings\",\"highest_monthly_earnings\",\"highest_monthly_earnings\",\"highest_monthly_earnings\",\"highest_monthly_earnings\",\"highest_monthly_earnings\",\"highest_monthly_earnings\",\"highest_monthly_earnings\",\"highest_monthly_earnings\",\"highest_monthly_earnings\",\"highest_monthly_earnings\",\"highest_monthly_earnings\",\"highest_monthly_earnings\",\"highest_monthly_earnings\",\"highest_monthly_earnings\",\"highest_monthly_earnings\",\"highest_monthly_earnings\",\"highest_monthly_earnings\",\"highest_monthly_earnings\",\"highest_monthly_earnings\",\"highest_monthly_earnings\",\"highest_monthly_earnings\",\"highest_monthly_earnings\",\"highest_monthly_earnings\",\"highest_monthly_earnings\",\"highest_monthly_earnings\",\"highest_monthly_earnings\",\"highest_monthly_earnings\",\"highest_monthly_earnings\",\"highest_monthly_earnings\",\"highest_monthly_earnings\",\"highest_monthly_earnings\",\"highest_monthly_earnings\",\"highest_monthly_earnings\",\"highest_monthly_earnings\",\"highest_monthly_earnings\",\"highest_monthly_earnings\",\"highest_monthly_earnings\",\"highest_monthly_earnings\",\"lowest_yearly_earnings\",\"lowest_yearly_earnings\",\"lowest_yearly_earnings\",\"lowest_yearly_earnings\",\"lowest_yearly_earnings\",\"lowest_yearly_earnings\",\"lowest_yearly_earnings\",\"lowest_yearly_earnings\",\"lowest_yearly_earnings\",\"lowest_yearly_earnings\",\"lowest_yearly_earnings\",\"lowest_yearly_earnings\",\"lowest_yearly_earnings\",\"lowest_yearly_earnings\",\"lowest_yearly_earnings\",\"lowest_yearly_earnings\",\"lowest_yearly_earnings\",\"lowest_yearly_earnings\",\"lowest_yearly_earnings\",\"lowest_yearly_earnings\",\"lowest_yearly_earnings\",\"lowest_yearly_earnings\",\"lowest_yearly_earnings\",\"lowest_yearly_earnings\",\"lowest_yearly_earnings\",\"lowest_yearly_earnings\",\"lowest_yearly_earnings\",\"lowest_yearly_earnings\",\"lowest_yearly_earnings\",\"lowest_yearly_earnings\",\"lowest_yearly_earnings\",\"lowest_yearly_earnings\",\"lowest_yearly_earnings\",\"lowest_yearly_earnings\",\"lowest_yearly_earnings\",\"lowest_yearly_earnings\",\"lowest_yearly_earnings\",\"lowest_yearly_earnings\",\"lowest_yearly_earnings\",\"lowest_yearly_earnings\",\"lowest_yearly_earnings\",\"lowest_yearly_earnings\",\"lowest_yearly_earnings\",\"lowest_yearly_earnings\",\"lowest_yearly_earnings\",\"lowest_yearly_earnings\",\"lowest_yearly_earnings\",\"lowest_yearly_earnings\",\"lowest_yearly_earnings\",\"lowest_yearly_earnings\",\"lowest_yearly_earnings\",\"lowest_yearly_earnings\",\"lowest_yearly_earnings\",\"lowest_yearly_earnings\",\"lowest_yearly_earnings\",\"lowest_yearly_earnings\",\"lowest_yearly_earnings\",\"lowest_yearly_earnings\",\"lowest_yearly_earnings\",\"lowest_yearly_earnings\",\"lowest_yearly_earnings\",\"lowest_yearly_earnings\",\"lowest_yearly_earnings\",\"lowest_yearly_earnings\",\"lowest_yearly_earnings\",\"lowest_yearly_earnings\",\"lowest_yearly_earnings\",\"lowest_yearly_earnings\",\"lowest_yearly_earnings\",\"lowest_yearly_earnings\",\"lowest_yearly_earnings\",\"lowest_yearly_earnings\",\"lowest_yearly_earnings\",\"lowest_yearly_earnings\",\"lowest_yearly_earnings\",\"lowest_yearly_earnings\",\"lowest_yearly_earnings\",\"lowest_yearly_earnings\",\"lowest_yearly_earnings\",\"lowest_yearly_earnings\",\"lowest_yearly_earnings\",\"lowest_yearly_earnings\",\"lowest_yearly_earnings\",\"lowest_yearly_earnings\",\"lowest_yearly_earnings\",\"lowest_yearly_earnings\",\"lowest_yearly_earnings\",\"lowest_yearly_earnings\",\"lowest_yearly_earnings\",\"lowest_yearly_earnings\",\"lowest_yearly_earnings\",\"lowest_yearly_earnings\",\"lowest_yearly_earnings\",\"lowest_yearly_earnings\",\"lowest_yearly_earnings\",\"lowest_yearly_earnings\",\"lowest_yearly_earnings\",\"lowest_yearly_earnings\",\"lowest_yearly_earnings\",\"lowest_yearly_earnings\",\"lowest_yearly_earnings\",\"lowest_yearly_earnings\",\"lowest_yearly_earnings\",\"lowest_yearly_earnings\",\"lowest_yearly_earnings\",\"lowest_yearly_earnings\",\"lowest_yearly_earnings\",\"lowest_yearly_earnings\",\"lowest_yearly_earnings\",\"lowest_yearly_earnings\",\"lowest_yearly_earnings\",\"lowest_yearly_earnings\",\"lowest_yearly_earnings\",\"lowest_yearly_earnings\",\"lowest_yearly_earnings\",\"lowest_yearly_earnings\",\"lowest_yearly_earnings\",\"lowest_yearly_earnings\",\"lowest_yearly_earnings\",\"lowest_yearly_earnings\",\"lowest_yearly_earnings\",\"lowest_yearly_earnings\",\"lowest_yearly_earnings\",\"lowest_yearly_earnings\",\"lowest_yearly_earnings\",\"lowest_yearly_earnings\",\"lowest_yearly_earnings\",\"lowest_yearly_earnings\",\"lowest_yearly_earnings\",\"lowest_yearly_earnings\",\"lowest_yearly_earnings\",\"lowest_yearly_earnings\",\"lowest_yearly_earnings\",\"lowest_yearly_earnings\",\"lowest_yearly_earnings\",\"lowest_yearly_earnings\",\"lowest_yearly_earnings\",\"lowest_yearly_earnings\",\"lowest_yearly_earnings\",\"lowest_yearly_earnings\",\"lowest_yearly_earnings\",\"lowest_yearly_earnings\",\"lowest_yearly_earnings\",\"lowest_yearly_earnings\",\"lowest_yearly_earnings\",\"lowest_yearly_earnings\",\"lowest_yearly_earnings\",\"lowest_yearly_earnings\",\"lowest_yearly_earnings\",\"lowest_yearly_earnings\",\"lowest_yearly_earnings\",\"lowest_yearly_earnings\",\"lowest_yearly_earnings\",\"lowest_yearly_earnings\",\"lowest_yearly_earnings\",\"lowest_yearly_earnings\",\"lowest_yearly_earnings\",\"lowest_yearly_earnings\",\"lowest_yearly_earnings\",\"lowest_yearly_earnings\",\"lowest_yearly_earnings\",\"lowest_yearly_earnings\",\"lowest_yearly_earnings\",\"lowest_yearly_earnings\",\"lowest_yearly_earnings\",\"lowest_yearly_earnings\",\"lowest_yearly_earnings\",\"lowest_yearly_earnings\",\"lowest_yearly_earnings\",\"lowest_yearly_earnings\",\"lowest_yearly_earnings\",\"lowest_yearly_earnings\",\"lowest_yearly_earnings\",\"lowest_yearly_earnings\",\"lowest_yearly_earnings\",\"lowest_yearly_earnings\",\"lowest_yearly_earnings\",\"lowest_yearly_earnings\",\"lowest_yearly_earnings\",\"lowest_yearly_earnings\",\"lowest_yearly_earnings\",\"lowest_yearly_earnings\",\"lowest_yearly_earnings\",\"lowest_yearly_earnings\",\"lowest_yearly_earnings\",\"lowest_yearly_earnings\",\"lowest_yearly_earnings\",\"lowest_yearly_earnings\",\"lowest_yearly_earnings\",\"lowest_yearly_earnings\",\"lowest_yearly_earnings\",\"lowest_yearly_earnings\",\"lowest_yearly_earnings\",\"lowest_yearly_earnings\",\"lowest_yearly_earnings\",\"lowest_yearly_earnings\",\"lowest_yearly_earnings\",\"lowest_yearly_earnings\",\"lowest_yearly_earnings\",\"lowest_yearly_earnings\",\"lowest_yearly_earnings\",\"lowest_yearly_earnings\",\"lowest_yearly_earnings\",\"lowest_yearly_earnings\",\"lowest_yearly_earnings\",\"lowest_yearly_earnings\",\"lowest_yearly_earnings\",\"lowest_yearly_earnings\",\"lowest_yearly_earnings\",\"lowest_yearly_earnings\",\"lowest_yearly_earnings\",\"lowest_yearly_earnings\",\"lowest_yearly_earnings\",\"lowest_yearly_earnings\",\"lowest_yearly_earnings\",\"lowest_yearly_earnings\",\"lowest_yearly_earnings\",\"lowest_yearly_earnings\",\"lowest_yearly_earnings\",\"lowest_yearly_earnings\",\"lowest_yearly_earnings\",\"lowest_yearly_earnings\",\"lowest_yearly_earnings\",\"lowest_yearly_earnings\",\"lowest_yearly_earnings\",\"lowest_yearly_earnings\",\"lowest_yearly_earnings\",\"lowest_yearly_earnings\",\"lowest_yearly_earnings\",\"lowest_yearly_earnings\",\"lowest_yearly_earnings\",\"lowest_yearly_earnings\",\"lowest_yearly_earnings\",\"lowest_yearly_earnings\",\"lowest_yearly_earnings\",\"lowest_yearly_earnings\",\"lowest_yearly_earnings\",\"lowest_yearly_earnings\",\"lowest_yearly_earnings\",\"lowest_yearly_earnings\",\"lowest_yearly_earnings\",\"lowest_yearly_earnings\",\"lowest_yearly_earnings\",\"lowest_yearly_earnings\",\"lowest_yearly_earnings\",\"lowest_yearly_earnings\",\"lowest_yearly_earnings\",\"lowest_yearly_earnings\",\"lowest_yearly_earnings\",\"lowest_yearly_earnings\",\"lowest_yearly_earnings\",\"lowest_yearly_earnings\",\"lowest_yearly_earnings\",\"lowest_yearly_earnings\",\"lowest_yearly_earnings\",\"lowest_yearly_earnings\",\"lowest_yearly_earnings\",\"lowest_yearly_earnings\",\"lowest_yearly_earnings\",\"lowest_yearly_earnings\",\"lowest_yearly_earnings\",\"lowest_yearly_earnings\",\"lowest_yearly_earnings\",\"lowest_yearly_earnings\",\"lowest_yearly_earnings\",\"lowest_yearly_earnings\",\"lowest_yearly_earnings\",\"lowest_yearly_earnings\",\"lowest_yearly_earnings\",\"lowest_yearly_earnings\",\"lowest_yearly_earnings\",\"lowest_yearly_earnings\",\"lowest_yearly_earnings\",\"lowest_yearly_earnings\",\"lowest_yearly_earnings\",\"lowest_yearly_earnings\",\"lowest_yearly_earnings\",\"lowest_yearly_earnings\",\"lowest_yearly_earnings\",\"lowest_yearly_earnings\",\"lowest_yearly_earnings\",\"lowest_yearly_earnings\",\"lowest_yearly_earnings\",\"lowest_yearly_earnings\",\"lowest_yearly_earnings\",\"lowest_yearly_earnings\",\"lowest_yearly_earnings\",\"lowest_yearly_earnings\",\"lowest_yearly_earnings\",\"lowest_yearly_earnings\",\"lowest_yearly_earnings\",\"lowest_yearly_earnings\",\"lowest_yearly_earnings\",\"lowest_yearly_earnings\",\"lowest_yearly_earnings\",\"lowest_yearly_earnings\",\"lowest_yearly_earnings\",\"lowest_yearly_earnings\",\"lowest_yearly_earnings\",\"lowest_yearly_earnings\",\"lowest_yearly_earnings\",\"lowest_yearly_earnings\",\"lowest_yearly_earnings\",\"lowest_yearly_earnings\",\"lowest_yearly_earnings\",\"lowest_yearly_earnings\",\"lowest_yearly_earnings\",\"lowest_yearly_earnings\",\"lowest_yearly_earnings\",\"lowest_yearly_earnings\",\"lowest_yearly_earnings\",\"lowest_yearly_earnings\",\"lowest_yearly_earnings\",\"lowest_yearly_earnings\",\"lowest_yearly_earnings\",\"lowest_yearly_earnings\",\"lowest_yearly_earnings\",\"lowest_yearly_earnings\",\"lowest_yearly_earnings\",\"lowest_yearly_earnings\",\"lowest_yearly_earnings\",\"lowest_yearly_earnings\",\"lowest_yearly_earnings\",\"lowest_yearly_earnings\",\"lowest_yearly_earnings\",\"lowest_yearly_earnings\",\"lowest_yearly_earnings\",\"lowest_yearly_earnings\",\"lowest_yearly_earnings\",\"lowest_yearly_earnings\",\"lowest_yearly_earnings\",\"lowest_yearly_earnings\",\"lowest_yearly_earnings\",\"lowest_yearly_earnings\",\"lowest_yearly_earnings\",\"lowest_yearly_earnings\",\"lowest_yearly_earnings\",\"lowest_yearly_earnings\",\"lowest_yearly_earnings\",\"lowest_yearly_earnings\",\"lowest_yearly_earnings\",\"lowest_yearly_earnings\",\"lowest_yearly_earnings\",\"lowest_yearly_earnings\",\"lowest_yearly_earnings\",\"lowest_yearly_earnings\",\"lowest_yearly_earnings\",\"lowest_yearly_earnings\",\"lowest_yearly_earnings\",\"lowest_yearly_earnings\",\"lowest_yearly_earnings\",\"lowest_yearly_earnings\",\"lowest_yearly_earnings\",\"lowest_yearly_earnings\",\"lowest_yearly_earnings\",\"lowest_yearly_earnings\",\"lowest_yearly_earnings\",\"lowest_yearly_earnings\",\"lowest_yearly_earnings\",\"lowest_yearly_earnings\",\"lowest_yearly_earnings\",\"lowest_yearly_earnings\",\"lowest_yearly_earnings\",\"lowest_yearly_earnings\",\"lowest_yearly_earnings\",\"lowest_yearly_earnings\",\"lowest_yearly_earnings\",\"lowest_yearly_earnings\",\"lowest_yearly_earnings\",\"lowest_yearly_earnings\",\"lowest_yearly_earnings\",\"lowest_yearly_earnings\",\"lowest_yearly_earnings\",\"lowest_yearly_earnings\",\"lowest_yearly_earnings\",\"lowest_yearly_earnings\",\"lowest_yearly_earnings\",\"lowest_yearly_earnings\",\"lowest_yearly_earnings\",\"lowest_yearly_earnings\",\"lowest_yearly_earnings\",\"lowest_yearly_earnings\",\"lowest_yearly_earnings\",\"lowest_yearly_earnings\",\"lowest_yearly_earnings\",\"lowest_yearly_earnings\",\"lowest_yearly_earnings\",\"lowest_yearly_earnings\",\"lowest_yearly_earnings\",\"lowest_yearly_earnings\",\"lowest_yearly_earnings\",\"lowest_yearly_earnings\",\"lowest_yearly_earnings\",\"lowest_yearly_earnings\",\"lowest_yearly_earnings\",\"lowest_yearly_earnings\",\"lowest_yearly_earnings\",\"lowest_yearly_earnings\",\"lowest_yearly_earnings\",\"lowest_yearly_earnings\",\"lowest_yearly_earnings\",\"lowest_yearly_earnings\",\"lowest_yearly_earnings\",\"lowest_yearly_earnings\",\"lowest_yearly_earnings\",\"lowest_yearly_earnings\",\"lowest_yearly_earnings\",\"lowest_yearly_earnings\",\"lowest_yearly_earnings\",\"lowest_yearly_earnings\",\"lowest_yearly_earnings\",\"lowest_yearly_earnings\",\"lowest_yearly_earnings\",\"lowest_yearly_earnings\",\"lowest_yearly_earnings\",\"lowest_yearly_earnings\",\"lowest_yearly_earnings\",\"lowest_yearly_earnings\",\"lowest_yearly_earnings\",\"lowest_yearly_earnings\",\"lowest_yearly_earnings\",\"lowest_yearly_earnings\",\"lowest_yearly_earnings\",\"lowest_yearly_earnings\",\"lowest_yearly_earnings\",\"lowest_yearly_earnings\",\"lowest_yearly_earnings\",\"lowest_yearly_earnings\",\"lowest_yearly_earnings\",\"lowest_yearly_earnings\",\"lowest_yearly_earnings\",\"lowest_yearly_earnings\",\"lowest_yearly_earnings\",\"lowest_yearly_earnings\",\"lowest_yearly_earnings\",\"lowest_yearly_earnings\",\"lowest_yearly_earnings\",\"lowest_yearly_earnings\",\"lowest_yearly_earnings\",\"lowest_yearly_earnings\",\"lowest_yearly_earnings\",\"lowest_yearly_earnings\",\"lowest_yearly_earnings\",\"lowest_yearly_earnings\",\"lowest_yearly_earnings\",\"lowest_yearly_earnings\",\"lowest_yearly_earnings\",\"lowest_yearly_earnings\",\"lowest_yearly_earnings\",\"lowest_yearly_earnings\",\"lowest_yearly_earnings\",\"lowest_yearly_earnings\",\"lowest_yearly_earnings\",\"lowest_yearly_earnings\",\"lowest_yearly_earnings\",\"lowest_yearly_earnings\",\"lowest_yearly_earnings\",\"lowest_yearly_earnings\",\"lowest_yearly_earnings\",\"lowest_yearly_earnings\",\"lowest_yearly_earnings\",\"lowest_yearly_earnings\",\"lowest_yearly_earnings\",\"lowest_yearly_earnings\",\"lowest_yearly_earnings\",\"lowest_yearly_earnings\",\"lowest_yearly_earnings\",\"lowest_yearly_earnings\",\"lowest_yearly_earnings\",\"lowest_yearly_earnings\",\"lowest_yearly_earnings\",\"lowest_yearly_earnings\",\"lowest_yearly_earnings\",\"lowest_yearly_earnings\",\"lowest_yearly_earnings\",\"lowest_yearly_earnings\",\"lowest_yearly_earnings\",\"lowest_yearly_earnings\",\"lowest_yearly_earnings\",\"lowest_yearly_earnings\",\"lowest_yearly_earnings\",\"lowest_yearly_earnings\",\"lowest_yearly_earnings\",\"lowest_yearly_earnings\",\"lowest_yearly_earnings\",\"lowest_yearly_earnings\",\"lowest_yearly_earnings\",\"lowest_yearly_earnings\",\"lowest_yearly_earnings\",\"lowest_yearly_earnings\",\"lowest_yearly_earnings\",\"lowest_yearly_earnings\",\"lowest_yearly_earnings\",\"lowest_yearly_earnings\",\"lowest_yearly_earnings\",\"lowest_yearly_earnings\",\"lowest_yearly_earnings\",\"lowest_yearly_earnings\",\"lowest_yearly_earnings\",\"lowest_yearly_earnings\",\"lowest_yearly_earnings\",\"lowest_yearly_earnings\",\"lowest_yearly_earnings\",\"lowest_yearly_earnings\",\"lowest_yearly_earnings\",\"lowest_yearly_earnings\",\"lowest_yearly_earnings\",\"lowest_yearly_earnings\",\"lowest_yearly_earnings\",\"lowest_yearly_earnings\",\"lowest_yearly_earnings\",\"lowest_yearly_earnings\",\"lowest_yearly_earnings\",\"lowest_yearly_earnings\",\"lowest_yearly_earnings\",\"lowest_yearly_earnings\",\"lowest_yearly_earnings\",\"lowest_yearly_earnings\",\"lowest_yearly_earnings\",\"lowest_yearly_earnings\",\"lowest_yearly_earnings\",\"lowest_yearly_earnings\",\"lowest_yearly_earnings\",\"lowest_yearly_earnings\",\"lowest_yearly_earnings\",\"lowest_yearly_earnings\",\"lowest_yearly_earnings\",\"lowest_yearly_earnings\",\"lowest_yearly_earnings\",\"lowest_yearly_earnings\",\"lowest_yearly_earnings\",\"lowest_yearly_earnings\",\"lowest_yearly_earnings\",\"lowest_yearly_earnings\",\"lowest_yearly_earnings\",\"lowest_yearly_earnings\",\"lowest_yearly_earnings\",\"lowest_yearly_earnings\",\"lowest_yearly_earnings\",\"lowest_yearly_earnings\",\"lowest_yearly_earnings\",\"lowest_yearly_earnings\",\"lowest_yearly_earnings\",\"lowest_yearly_earnings\",\"lowest_yearly_earnings\",\"lowest_yearly_earnings\",\"lowest_yearly_earnings\",\"lowest_yearly_earnings\",\"lowest_yearly_earnings\",\"lowest_yearly_earnings\",\"lowest_yearly_earnings\",\"lowest_yearly_earnings\",\"lowest_yearly_earnings\",\"lowest_yearly_earnings\",\"highest_yearly_earnings\",\"highest_yearly_earnings\",\"highest_yearly_earnings\",\"highest_yearly_earnings\",\"highest_yearly_earnings\",\"highest_yearly_earnings\",\"highest_yearly_earnings\",\"highest_yearly_earnings\",\"highest_yearly_earnings\",\"highest_yearly_earnings\",\"highest_yearly_earnings\",\"highest_yearly_earnings\",\"highest_yearly_earnings\",\"highest_yearly_earnings\",\"highest_yearly_earnings\",\"highest_yearly_earnings\",\"highest_yearly_earnings\",\"highest_yearly_earnings\",\"highest_yearly_earnings\",\"highest_yearly_earnings\",\"highest_yearly_earnings\",\"highest_yearly_earnings\",\"highest_yearly_earnings\",\"highest_yearly_earnings\",\"highest_yearly_earnings\",\"highest_yearly_earnings\",\"highest_yearly_earnings\",\"highest_yearly_earnings\",\"highest_yearly_earnings\",\"highest_yearly_earnings\",\"highest_yearly_earnings\",\"highest_yearly_earnings\",\"highest_yearly_earnings\",\"highest_yearly_earnings\",\"highest_yearly_earnings\",\"highest_yearly_earnings\",\"highest_yearly_earnings\",\"highest_yearly_earnings\",\"highest_yearly_earnings\",\"highest_yearly_earnings\",\"highest_yearly_earnings\",\"highest_yearly_earnings\",\"highest_yearly_earnings\",\"highest_yearly_earnings\",\"highest_yearly_earnings\",\"highest_yearly_earnings\",\"highest_yearly_earnings\",\"highest_yearly_earnings\",\"highest_yearly_earnings\",\"highest_yearly_earnings\",\"highest_yearly_earnings\",\"highest_yearly_earnings\",\"highest_yearly_earnings\",\"highest_yearly_earnings\",\"highest_yearly_earnings\",\"highest_yearly_earnings\",\"highest_yearly_earnings\",\"highest_yearly_earnings\",\"highest_yearly_earnings\",\"highest_yearly_earnings\",\"highest_yearly_earnings\",\"highest_yearly_earnings\",\"highest_yearly_earnings\",\"highest_yearly_earnings\",\"highest_yearly_earnings\",\"highest_yearly_earnings\",\"highest_yearly_earnings\",\"highest_yearly_earnings\",\"highest_yearly_earnings\",\"highest_yearly_earnings\",\"highest_yearly_earnings\",\"highest_yearly_earnings\",\"highest_yearly_earnings\",\"highest_yearly_earnings\",\"highest_yearly_earnings\",\"highest_yearly_earnings\",\"highest_yearly_earnings\",\"highest_yearly_earnings\",\"highest_yearly_earnings\",\"highest_yearly_earnings\",\"highest_yearly_earnings\",\"highest_yearly_earnings\",\"highest_yearly_earnings\",\"highest_yearly_earnings\",\"highest_yearly_earnings\",\"highest_yearly_earnings\",\"highest_yearly_earnings\",\"highest_yearly_earnings\",\"highest_yearly_earnings\",\"highest_yearly_earnings\",\"highest_yearly_earnings\",\"highest_yearly_earnings\",\"highest_yearly_earnings\",\"highest_yearly_earnings\",\"highest_yearly_earnings\",\"highest_yearly_earnings\",\"highest_yearly_earnings\",\"highest_yearly_earnings\",\"highest_yearly_earnings\",\"highest_yearly_earnings\",\"highest_yearly_earnings\",\"highest_yearly_earnings\",\"highest_yearly_earnings\",\"highest_yearly_earnings\",\"highest_yearly_earnings\",\"highest_yearly_earnings\",\"highest_yearly_earnings\",\"highest_yearly_earnings\",\"highest_yearly_earnings\",\"highest_yearly_earnings\",\"highest_yearly_earnings\",\"highest_yearly_earnings\",\"highest_yearly_earnings\",\"highest_yearly_earnings\",\"highest_yearly_earnings\",\"highest_yearly_earnings\",\"highest_yearly_earnings\",\"highest_yearly_earnings\",\"highest_yearly_earnings\",\"highest_yearly_earnings\",\"highest_yearly_earnings\",\"highest_yearly_earnings\",\"highest_yearly_earnings\",\"highest_yearly_earnings\",\"highest_yearly_earnings\",\"highest_yearly_earnings\",\"highest_yearly_earnings\",\"highest_yearly_earnings\",\"highest_yearly_earnings\",\"highest_yearly_earnings\",\"highest_yearly_earnings\",\"highest_yearly_earnings\",\"highest_yearly_earnings\",\"highest_yearly_earnings\",\"highest_yearly_earnings\",\"highest_yearly_earnings\",\"highest_yearly_earnings\",\"highest_yearly_earnings\",\"highest_yearly_earnings\",\"highest_yearly_earnings\",\"highest_yearly_earnings\",\"highest_yearly_earnings\",\"highest_yearly_earnings\",\"highest_yearly_earnings\",\"highest_yearly_earnings\",\"highest_yearly_earnings\",\"highest_yearly_earnings\",\"highest_yearly_earnings\",\"highest_yearly_earnings\",\"highest_yearly_earnings\",\"highest_yearly_earnings\",\"highest_yearly_earnings\",\"highest_yearly_earnings\",\"highest_yearly_earnings\",\"highest_yearly_earnings\",\"highest_yearly_earnings\",\"highest_yearly_earnings\",\"highest_yearly_earnings\",\"highest_yearly_earnings\",\"highest_yearly_earnings\",\"highest_yearly_earnings\",\"highest_yearly_earnings\",\"highest_yearly_earnings\",\"highest_yearly_earnings\",\"highest_yearly_earnings\",\"highest_yearly_earnings\",\"highest_yearly_earnings\",\"highest_yearly_earnings\",\"highest_yearly_earnings\",\"highest_yearly_earnings\",\"highest_yearly_earnings\",\"highest_yearly_earnings\",\"highest_yearly_earnings\",\"highest_yearly_earnings\",\"highest_yearly_earnings\",\"highest_yearly_earnings\",\"highest_yearly_earnings\",\"highest_yearly_earnings\",\"highest_yearly_earnings\",\"highest_yearly_earnings\",\"highest_yearly_earnings\",\"highest_yearly_earnings\",\"highest_yearly_earnings\",\"highest_yearly_earnings\",\"highest_yearly_earnings\",\"highest_yearly_earnings\",\"highest_yearly_earnings\",\"highest_yearly_earnings\",\"highest_yearly_earnings\",\"highest_yearly_earnings\",\"highest_yearly_earnings\",\"highest_yearly_earnings\",\"highest_yearly_earnings\",\"highest_yearly_earnings\",\"highest_yearly_earnings\",\"highest_yearly_earnings\",\"highest_yearly_earnings\",\"highest_yearly_earnings\",\"highest_yearly_earnings\",\"highest_yearly_earnings\",\"highest_yearly_earnings\",\"highest_yearly_earnings\",\"highest_yearly_earnings\",\"highest_yearly_earnings\",\"highest_yearly_earnings\",\"highest_yearly_earnings\",\"highest_yearly_earnings\",\"highest_yearly_earnings\",\"highest_yearly_earnings\",\"highest_yearly_earnings\",\"highest_yearly_earnings\",\"highest_yearly_earnings\",\"highest_yearly_earnings\",\"highest_yearly_earnings\",\"highest_yearly_earnings\",\"highest_yearly_earnings\",\"highest_yearly_earnings\",\"highest_yearly_earnings\",\"highest_yearly_earnings\",\"highest_yearly_earnings\",\"highest_yearly_earnings\",\"highest_yearly_earnings\",\"highest_yearly_earnings\",\"highest_yearly_earnings\",\"highest_yearly_earnings\",\"highest_yearly_earnings\",\"highest_yearly_earnings\",\"highest_yearly_earnings\",\"highest_yearly_earnings\",\"highest_yearly_earnings\",\"highest_yearly_earnings\",\"highest_yearly_earnings\",\"highest_yearly_earnings\",\"highest_yearly_earnings\",\"highest_yearly_earnings\",\"highest_yearly_earnings\",\"highest_yearly_earnings\",\"highest_yearly_earnings\",\"highest_yearly_earnings\",\"highest_yearly_earnings\",\"highest_yearly_earnings\",\"highest_yearly_earnings\",\"highest_yearly_earnings\",\"highest_yearly_earnings\",\"highest_yearly_earnings\",\"highest_yearly_earnings\",\"highest_yearly_earnings\",\"highest_yearly_earnings\",\"highest_yearly_earnings\",\"highest_yearly_earnings\",\"highest_yearly_earnings\",\"highest_yearly_earnings\",\"highest_yearly_earnings\",\"highest_yearly_earnings\",\"highest_yearly_earnings\",\"highest_yearly_earnings\",\"highest_yearly_earnings\",\"highest_yearly_earnings\",\"highest_yearly_earnings\",\"highest_yearly_earnings\",\"highest_yearly_earnings\",\"highest_yearly_earnings\",\"highest_yearly_earnings\",\"highest_yearly_earnings\",\"highest_yearly_earnings\",\"highest_yearly_earnings\",\"highest_yearly_earnings\",\"highest_yearly_earnings\",\"highest_yearly_earnings\",\"highest_yearly_earnings\",\"highest_yearly_earnings\",\"highest_yearly_earnings\",\"highest_yearly_earnings\",\"highest_yearly_earnings\",\"highest_yearly_earnings\",\"highest_yearly_earnings\",\"highest_yearly_earnings\",\"highest_yearly_earnings\",\"highest_yearly_earnings\",\"highest_yearly_earnings\",\"highest_yearly_earnings\",\"highest_yearly_earnings\",\"highest_yearly_earnings\",\"highest_yearly_earnings\",\"highest_yearly_earnings\",\"highest_yearly_earnings\",\"highest_yearly_earnings\",\"highest_yearly_earnings\",\"highest_yearly_earnings\",\"highest_yearly_earnings\",\"highest_yearly_earnings\",\"highest_yearly_earnings\",\"highest_yearly_earnings\",\"highest_yearly_earnings\",\"highest_yearly_earnings\",\"highest_yearly_earnings\",\"highest_yearly_earnings\",\"highest_yearly_earnings\",\"highest_yearly_earnings\",\"highest_yearly_earnings\",\"highest_yearly_earnings\",\"highest_yearly_earnings\",\"highest_yearly_earnings\",\"highest_yearly_earnings\",\"highest_yearly_earnings\",\"highest_yearly_earnings\",\"highest_yearly_earnings\",\"highest_yearly_earnings\",\"highest_yearly_earnings\",\"highest_yearly_earnings\",\"highest_yearly_earnings\",\"highest_yearly_earnings\",\"highest_yearly_earnings\",\"highest_yearly_earnings\",\"highest_yearly_earnings\",\"highest_yearly_earnings\",\"highest_yearly_earnings\",\"highest_yearly_earnings\",\"highest_yearly_earnings\",\"highest_yearly_earnings\",\"highest_yearly_earnings\",\"highest_yearly_earnings\",\"highest_yearly_earnings\",\"highest_yearly_earnings\",\"highest_yearly_earnings\",\"highest_yearly_earnings\",\"highest_yearly_earnings\",\"highest_yearly_earnings\",\"highest_yearly_earnings\",\"highest_yearly_earnings\",\"highest_yearly_earnings\",\"highest_yearly_earnings\",\"highest_yearly_earnings\",\"highest_yearly_earnings\",\"highest_yearly_earnings\",\"highest_yearly_earnings\",\"highest_yearly_earnings\",\"highest_yearly_earnings\",\"highest_yearly_earnings\",\"highest_yearly_earnings\",\"highest_yearly_earnings\",\"highest_yearly_earnings\",\"highest_yearly_earnings\",\"highest_yearly_earnings\",\"highest_yearly_earnings\",\"highest_yearly_earnings\",\"highest_yearly_earnings\",\"highest_yearly_earnings\",\"highest_yearly_earnings\",\"highest_yearly_earnings\",\"highest_yearly_earnings\",\"highest_yearly_earnings\",\"highest_yearly_earnings\",\"highest_yearly_earnings\",\"highest_yearly_earnings\",\"highest_yearly_earnings\",\"highest_yearly_earnings\",\"highest_yearly_earnings\",\"highest_yearly_earnings\",\"highest_yearly_earnings\",\"highest_yearly_earnings\",\"highest_yearly_earnings\",\"highest_yearly_earnings\",\"highest_yearly_earnings\",\"highest_yearly_earnings\",\"highest_yearly_earnings\",\"highest_yearly_earnings\",\"highest_yearly_earnings\",\"highest_yearly_earnings\",\"highest_yearly_earnings\",\"highest_yearly_earnings\",\"highest_yearly_earnings\",\"highest_yearly_earnings\",\"highest_yearly_earnings\",\"highest_yearly_earnings\",\"highest_yearly_earnings\",\"highest_yearly_earnings\",\"highest_yearly_earnings\",\"highest_yearly_earnings\",\"highest_yearly_earnings\",\"highest_yearly_earnings\",\"highest_yearly_earnings\",\"highest_yearly_earnings\",\"highest_yearly_earnings\",\"highest_yearly_earnings\",\"highest_yearly_earnings\",\"highest_yearly_earnings\",\"highest_yearly_earnings\",\"highest_yearly_earnings\",\"highest_yearly_earnings\",\"highest_yearly_earnings\",\"highest_yearly_earnings\",\"highest_yearly_earnings\",\"highest_yearly_earnings\",\"highest_yearly_earnings\",\"highest_yearly_earnings\",\"highest_yearly_earnings\",\"highest_yearly_earnings\",\"highest_yearly_earnings\",\"highest_yearly_earnings\",\"highest_yearly_earnings\",\"highest_yearly_earnings\",\"highest_yearly_earnings\",\"highest_yearly_earnings\",\"highest_yearly_earnings\",\"highest_yearly_earnings\",\"highest_yearly_earnings\",\"highest_yearly_earnings\",\"highest_yearly_earnings\",\"highest_yearly_earnings\",\"highest_yearly_earnings\",\"highest_yearly_earnings\",\"highest_yearly_earnings\",\"highest_yearly_earnings\",\"highest_yearly_earnings\",\"highest_yearly_earnings\",\"highest_yearly_earnings\",\"highest_yearly_earnings\",\"highest_yearly_earnings\",\"highest_yearly_earnings\",\"highest_yearly_earnings\",\"highest_yearly_earnings\",\"highest_yearly_earnings\",\"highest_yearly_earnings\",\"highest_yearly_earnings\",\"highest_yearly_earnings\",\"highest_yearly_earnings\",\"highest_yearly_earnings\",\"highest_yearly_earnings\",\"highest_yearly_earnings\",\"highest_yearly_earnings\",\"highest_yearly_earnings\",\"highest_yearly_earnings\",\"highest_yearly_earnings\",\"highest_yearly_earnings\",\"highest_yearly_earnings\",\"highest_yearly_earnings\",\"highest_yearly_earnings\",\"highest_yearly_earnings\",\"highest_yearly_earnings\",\"highest_yearly_earnings\",\"highest_yearly_earnings\",\"highest_yearly_earnings\",\"highest_yearly_earnings\",\"highest_yearly_earnings\",\"highest_yearly_earnings\",\"highest_yearly_earnings\",\"highest_yearly_earnings\",\"highest_yearly_earnings\",\"highest_yearly_earnings\",\"highest_yearly_earnings\",\"highest_yearly_earnings\",\"highest_yearly_earnings\",\"highest_yearly_earnings\",\"highest_yearly_earnings\",\"highest_yearly_earnings\",\"highest_yearly_earnings\",\"highest_yearly_earnings\",\"highest_yearly_earnings\",\"highest_yearly_earnings\",\"highest_yearly_earnings\",\"highest_yearly_earnings\",\"highest_yearly_earnings\",\"highest_yearly_earnings\",\"highest_yearly_earnings\",\"highest_yearly_earnings\",\"highest_yearly_earnings\",\"highest_yearly_earnings\",\"highest_yearly_earnings\",\"highest_yearly_earnings\",\"highest_yearly_earnings\",\"highest_yearly_earnings\",\"highest_yearly_earnings\",\"highest_yearly_earnings\",\"highest_yearly_earnings\",\"highest_yearly_earnings\",\"highest_yearly_earnings\",\"highest_yearly_earnings\",\"highest_yearly_earnings\",\"highest_yearly_earnings\",\"highest_yearly_earnings\",\"highest_yearly_earnings\",\"highest_yearly_earnings\",\"highest_yearly_earnings\",\"highest_yearly_earnings\",\"highest_yearly_earnings\",\"highest_yearly_earnings\",\"highest_yearly_earnings\",\"highest_yearly_earnings\",\"highest_yearly_earnings\",\"highest_yearly_earnings\",\"highest_yearly_earnings\",\"highest_yearly_earnings\",\"highest_yearly_earnings\",\"highest_yearly_earnings\",\"highest_yearly_earnings\",\"highest_yearly_earnings\",\"highest_yearly_earnings\",\"highest_yearly_earnings\",\"highest_yearly_earnings\",\"highest_yearly_earnings\",\"highest_yearly_earnings\",\"highest_yearly_earnings\",\"highest_yearly_earnings\",\"highest_yearly_earnings\",\"highest_yearly_earnings\",\"highest_yearly_earnings\",\"highest_yearly_earnings\",\"highest_yearly_earnings\",\"highest_yearly_earnings\",\"highest_yearly_earnings\",\"highest_yearly_earnings\",\"highest_yearly_earnings\",\"highest_yearly_earnings\",\"highest_yearly_earnings\",\"highest_yearly_earnings\",\"highest_yearly_earnings\",\"highest_yearly_earnings\",\"highest_yearly_earnings\",\"highest_yearly_earnings\",\"highest_yearly_earnings\",\"highest_yearly_earnings\",\"highest_yearly_earnings\",\"highest_yearly_earnings\",\"highest_yearly_earnings\",\"highest_yearly_earnings\",\"highest_yearly_earnings\",\"highest_yearly_earnings\",\"highest_yearly_earnings\",\"highest_yearly_earnings\",\"highest_yearly_earnings\",\"highest_yearly_earnings\",\"highest_yearly_earnings\",\"highest_yearly_earnings\",\"highest_yearly_earnings\",\"highest_yearly_earnings\",\"highest_yearly_earnings\",\"highest_yearly_earnings\",\"highest_yearly_earnings\",\"highest_yearly_earnings\",\"highest_yearly_earnings\",\"highest_yearly_earnings\",\"highest_yearly_earnings\",\"highest_yearly_earnings\",\"highest_yearly_earnings\",\"highest_yearly_earnings\",\"highest_yearly_earnings\",\"highest_yearly_earnings\",\"highest_yearly_earnings\",\"highest_yearly_earnings\",\"highest_yearly_earnings\",\"highest_yearly_earnings\",\"highest_yearly_earnings\",\"highest_yearly_earnings\"],\"x0\":\" \",\"xaxis\":\"x\",\"y\":[564600.0,337000.0,493800.0,455900.0,12200.0,145100.0,200900.0,178700.0,124700.0,414300.0,42100.0,44100.0,149500.0,426800.0,118300.0,105100.0,63700.0,296900.0,35300.0,28700.0,105700.0,153000.0,58000.0,115300.0,64800.0,65000.0,28000.0,128000.0,50700.0,204000.0,132100.0,40100.0,66700.0,16600.0,36700.0,76600.0,58200.0,78600.0,0.02,8500.0,58500.0,32600.0,12000.0,334300.0,33600.0,44200.0,88400.0,75900.0,287300.0,39900.0,167600.0,45700.0,45200.0,34200.0,24700.0,61900.0,19700.0,14600.0,140200.0,66000.0,32600.0,408700.0,11400.0,397.0,203700.0,2.0,104000.0,51400.0,80300.0,35200.0,12500.0,66800.0,62900.0,43800.0,0.0,5300.0,75500.0,133400.0,72700.0,82900.0,31800.0,59700.0,83800.0,25300.0,32200.0,136800.0,45000.0,100900.0,52700.0,28900.0,68100.0,0.0,6200.0,34000.0,39300.0,31900.0,5100.0,82500.0,93500.0,116400.0,14100.0,416800.0,199600.0,27300.0,28200.0,38300.0,6800.0,78000.0,61200.0,0.9,0.0,47700.0,47200.0,8000.0,115400.0,39500.0,34300.0,29100.0,25000.0,6500.0,0.0,75800.0,27500.0,56800.0,72000.0,171200.0,46200.0,39600.0,43500.0,22600.0,76900.0,44000.0,19700.0,10600.0,25600.0,107400.0,36100.0,20700.0,69000.0,29600.0,40800.0,24900.0,261500.0,306400.0,180500.0,17000.0,57500.0,41100.0,25900.0,79600.0,48900.0,14600.0,203800.0,49700.0,35100.0,68500.0,30800.0,71000.0,83000.0,33600.0,34900.0,22200.0,22200.0,42500.0,23700.0,8400.0,100400.0,106200.0,190400.0,37900.0,14500.0,44400.0,24500.0,30700.0,188800.0,11700.0,11100.0,13400.0,91800.0,31000.0,0.0,35800.0,13200.0,3300.0,76000.0,32100.0,189200.0,8900.0,23300.0,0.0,42300.0,34200.0,38800.0,245600.0,99800.0,20400.0,18500.0,293500.0,12200.0,43800.0,0.18,33000.0,34800.0,27900.0,177800.0,46200.0,58600.0,171800.0,49500.0,11500.0,32000.0,48300.0,48700.0,28400.0,0.01,40200.0,40100.0,25800.0,182400.0,17100.0,59100.0,140300.0,35600.0,6700.0,29600.0,20000.0,7100.0,13100.0,0.0,95900.0,7300.0,218700.0,138100.0,0.02,48300.0,39600.0,48800.0,9900.0,3700.0,226900.0,10300.0,21600.0,28200.0,66000.0,3900.0,28400.0,311200.0,113100.0,16100.0,55400.0,3700.0,69200.0,26400.0,0.02,9800.0,0.0,53700.0,1500.0,13500.0,68600.0,27700.0,576000.0,0.0,8000.0,595.0,68200.0,14700.0,7200.0,5400.0,30800.0,26400.0,19200.0,25600.0,7500.0,19500.0,24400.0,17000.0,27300.0,0.03,25600.0,42100.0,10800.0,0.0,9600.0,12200.0,49300.0,13500.0,32000.0,35100.0,124300.0,12000.0,45100.0,13700.0,97800.0,64400.0,2200.0,12900.0,6900.0,21100.0,112000.0,25700.0,107800.0,5.0,86700.0,12000.0,92700.0,29400.0,160000.0,6900.0,5600.0,25100.0,98500.0,27500.0,110000.0,59000.0,11600.0,83000.0,13100.0,20900.0,9300.0,11500.0,23400.0,1900.0,18200.0,9100.0,68800.0,37400.0,10700.0,11000.0,26300.0,11400.0,14800.0,38500.0,22300.0,154300.0,49800.0,5500.0,28200.0,32800.0,33300.0,21900.0,45300.0,10700.0,37900.0,4500.0,8300.0,7000.0,64200.0,56200.0,29300.0,9.0,100000.0,0.2,66800.0,28100.0,16000.0,34100.0,41200.0,15000.0,6000.0,46500.0,18000.0,6400.0,35500.0,21600.0,83800.0,22100.0,14100.0,22500.0,22700.0,42000.0,33800.0,34800.0,8200.0,7000.0,20000.0,13800.0,41900.0,20700.0,9200.0,21200.0,118900.0,90400.0,16300.0,24600.0,14500.0,52700.0,26500.0,46800.0,12400.0,4300.0,10900.0,11500.0,23900.0,128100.0,45400.0,178400.0,21200.0,62700.0,28400.0,8500.0,10400.0,7400.0,25600.0,60500.0,78200.0,28300.0,70600.0,32700.0,30000.0,10900.0,14100.0,3500.0,12400.0,9900.0,0.62,9.0,57.0,18600.0,9100.0,19900.0,86900.0,46400.0,10200.0,4100.0,23100.0,37900.0,27500.0,12700.0,34800.0,16600.0,12100.0,11400.0,104600.0,342.0,3500.0,889.0,17600.0,53200.0,37400.0,103.0,0.03,13600.0,11100.0,35400.0,92000.0,15000.0,6400.0,0.04,88300.0,44000.0,33900.0,3100.0,6700.0,37600.0,50400.0,340900.0,33400.0,17000.0,26700.0,21900.0,8400.0,24300.0,11000.0,24900.0,21000.0,13800.0,6600.0,25000.0,19700.0,54300.0,22000.0,9400.0,94800.0,5600.0,6000.0,11900.0,7700.0,3800.0,2700.0,11100.0,0.4,8800.0,18800.0,44800.0,123900.0,27500.0,334.0,57200.0,28900.0,99400.0,0.0,10900.0,11300.0,22600.0,40500.0,47200.0,4400.0,17700.0,1300.0,79900.0,2200.0,16100.0,13000.0,29800.0,4600.0,0.06,8600.0,11000.0,6800.0,15200.0,15700.0,0.09,7500.0,0.0,7600.0,270300.0,92100.0,7900.0,3000.0,7300.0,22800.0,20100.0,18900.0,17800.0,13500.0,57200.0,53400.0,19400.0,118.0,42500.0,11000.0,81900.0,14700.0,1500.0,28300.0,27800.0,14600.0,29000.0,58900.0,87500.0,45000.0,53400.0,225900.0,6000.0,20700.0,23800.0,7700.0,44400.0,12400.0,138100.0,16200.0,968.0,6000.0,9000000.0,5400000.0,7900000.0,7300000.0,195800.0,2300000.0,3200000.0,2900000.0,2000000.0,6600000.0,673200.0,705300.0,2400000.0,6800000.0,1900000.0,1700000.0,1000000.0,4800000.0,564800.0,458700.0,1700000.0,2400000.0,928100.0,1800000.0,1000000.0,1000000.0,448400.0,2000000.0,810900.0,3300000.0,2100000.0,640900.0,1100000.0,265600.0,587400.0,1200000.0,931000.0,1300000.0,0.38,135400.0,936000.0,521400.0,192100.0,5300000.0,537000.0,706500.0,1400000.0,1200000.0,4600000.0,639000.0,2700000.0,731700.0,723800.0,547000.0,395100.0,990900.0,314800.0,233400.0,2200000.0,1100000.0,521800.0,6500000.0,182600.0,6400.0,3300000.0,25.0,1700000.0,822400.0,1300000.0,563000.0,199400.0,1100000.0,1000000.0,701000.0,0.0,84400.0,1200000.0,2100000.0,1200000.0,1300000.0,509300.0,954500.0,1300000.0,405400.0,514800.0,2200000.0,719600.0,1600000.0,843800.0,463200.0,1100000.0,0.0,98900.0,544300.0,628400.0,510000.0,81100.0,1300000.0,1500000.0,1900000.0,226100.0,6700000.0,3200000.0,436500.0,450600.0,613100.0,108100.0,1200000.0,979700.0,14.0,0.0,762700.0,755300.0,127300.0,1800000.0,631600.0,548400.0,465700.0,400200.0,104700.0,0.0,1200000.0,439300.0,909400.0,1200000.0,2700000.0,739900.0,634400.0,695300.0,361800.0,1200000.0,703400.0,314700.0,170200.0,408900.0,1700000.0,577800.0,331600.0,1100000.0,472900.0,652500.0,398700.0,4200000.0,4900000.0,2900000.0,272600.0,920700.0,656900.0,414500.0,1300000.0,782000.0,233900.0,3300000.0,795500.0,561300.0,1100000.0,492800.0,1100000.0,1300000.0,537600.0,557800.0,355800.0,354500.0,679500.0,379400.0,134400.0,1600000.0,1700000.0,3000000.0,606800.0,232500.0,711100.0,392200.0,491700.0,3000000.0,187400.0,178200.0,214400.0,1500000.0,496700.0,0.0,572700.0,210700.0,53000.0,1200000.0,513800.0,3000000.0,142200.0,372700.0,0.0,676200.0,547300.0,620900.0,3900000.0,1600000.0,326600.0,295300.0,4700000.0,195000.0,700400.0,3.0,528400.0,557300.0,446000.0,2800000.0,739800.0,936900.0,2700000.0,791800.0,183200.0,512200.0,772700.0,778400.0,454200.0,0.2,642800.0,640900.0,412700.0,2900000.0,273400.0,945200.0,2200000.0,569300.0,107900.0,473600.0,320200.0,114400.0,209300.0,0.0,1500000.0,117100.0,3500000.0,2200000.0,0.34,772700.0,634200.0,780800.0,158000.0,58600.0,3600000.0,165200.0,345800.0,451100.0,1100000.0,62200.0,453700.0,5000000.0,1800000.0,258000.0,886800.0,59400.0,1100000.0,423100.0,0.25,156900.0,0.0,859200.0,24500.0,216800.0,1100000.0,443200.0,9200000.0,0.0,128400.0,9500.0,1100000.0,235500.0,114700.0,86300.0,493400.0,422800.0,307600.0,409600.0,119500.0,312600.0,391000.0,272000.0,436100.0,0.41,409700.0,674400.0,172000.0,0.0,153100.0,195800.0,789500.0,216500.0,511900.0,561000.0,2000000.0,192400.0,721600.0,219100.0,1600000.0,1000000.0,34600.0,206700.0,110200.0,337900.0,1800000.0,410500.0,1700000.0,83.0,1400000.0,192700.0,1500000.0,470900.0,2600000.0,109800.0,89400.0,400900.0,1600000.0,439400.0,1800000.0,944000.0,185900.0,1300000.0,209300.0,334800.0,148700.0,183200.0,375100.0,30500.0,291600.0,145400.0,1100000.0,598200.0,171300.0,176500.0,420500.0,182800.0,236800.0,616200.0,356000.0,2500000.0,796100.0,87800.0,451900.0,524800.0,532800.0,351000.0,725500.0,170800.0,605900.0,71800.0,132100.0,111200.0,1000000.0,899000.0,468800.0,152.0,1600000.0,3.0,1100000.0,449600.0,256300.0,545600.0,659600.0,239600.0,96200.0,743900.0,287500.0,103000.0,567400.0,345800.0,1300000.0,352900.0,224900.0,360000.0,363700.0,671600.0,540100.0,556500.0,131700.0,111900.0,320700.0,221500.0,670800.0,331200.0,147200.0,339500.0,1900000.0,1400000.0,261500.0,393300.0,231200.0,843600.0,423900.0,748000.0,198600.0,68900.0,173600.0,184200.0,382400.0,2000000.0,726600.0,2900000.0,339000.0,1000000.0,454300.0,135500.0,167200.0,118900.0,409400.0,968700.0,1300000.0,452300.0,1100000.0,522900.0,479200.0,174300.0,225400.0,55400.0,198200.0,159100.0,10.0,152.0,906.0,297900.0,145400.0,317600.0,1400000.0,742800.0,163900.0,65600.0,370400.0,606800.0,439500.0,202700.0,556500.0,265100.0,193800.0,182500.0,1700000.0,5500.0,55600.0,14200.0,281600.0,850600.0,599200.0,1700.0,0.42,217200.0,178300.0,566800.0,1500000.0,239700.0,102400.0,0.59,1400000.0,704200.0,542300.0,50000.0,107100.0,602300.0,806600.0,5500000.0,534300.0,272200.0,426900.0,350600.0,133900.0,389100.0,176600.0,398600.0,335800.0,220500.0,106100.0,400200.0,314600.0,868400.0,351200.0,150600.0,1500000.0,88900.0,95600.0,189700.0,122700.0,61100.0,43100.0,177700.0,6.0,141200.0,300600.0,716900.0,2000000.0,439300.0,5300.0,915600.0,461800.0,1600000.0,0.01,174700.0,180400.0,361000.0,647600.0,755800.0,69900.0,282800.0,21500.0,1300000.0,35100.0,258100.0,207300.0,477600.0,74100.0,0.99,137800.0,176000.0,109400.0,242600.0,251600.0,2.0,119500.0,0.0,121900.0,4300000.0,1500000.0,127200.0,48000.0,117500.0,365000.0,320900.0,303100.0,284500.0,216000.0,915800.0,855000.0,309900.0,1900.0,679900.0,175500.0,1300000.0,235400.0,23800.0,452500.0,445000.0,234100.0,463500.0,942900.0,1400000.0,720100.0,854800.0,3600000.0,96100.0,330600.0,380700.0,123900.0,710400.0,197600.0,2200000.0,258900.0,15500.0,96000.0,6800000.0,4000000.0,5900000.0,5500000.0,146800.0,1700000.0,2400000.0,2100000.0,1500000.0,5000000.0,504900.0,529000.0,1800000.0,5100000.0,1400000.0,1300000.0,764900.0,3600000.0,423600.0,344000.0,1300000.0,1800000.0,696100.0,1400000.0,777900.0,780600.0,336300.0,1500000.0,608200.0,2400000.0,1600000.0,480600.0,800200.0,199200.0,440600.0,919600.0,698200.0,943500.0,0.28,101500.0,702000.0,391100.0,144100.0,4000000.0,402700.0,529900.0,1100000.0,911300.0,3400000.0,479300.0,2000000.0,548800.0,542800.0,410200.0,296300.0,743200.0,236100.0,175100.0,1700000.0,792300.0,391400.0,4900000.0,136900.0,4800.0,2400000.0,19.0,1200000.0,616800.0,963100.0,422300.0,149600.0,801200.0,754300.0,525700.0,0.0,63300.0,906200.0,1600000.0,872500.0,994400.0,382000.0,715800.0,1000000.0,304100.0,386100.0,1600000.0,539700.0,1200000.0,632900.0,347400.0,816800.0,0.0,74200.0,408300.0,471300.0,382500.0,60800.0,989600.0,1100000.0,1400000.0,169600.0,5000000.0,2400000.0,327400.0,337900.0,459800.0,81100.0,936300.0,734800.0,11.0,0.0,572000.0,566500.0,95500.0,1400000.0,473700.0,411300.0,349300.0,300100.0,78500.0,0.0,909300.0,329500.0,682100.0,864300.0,2100000.0,554900.0,475800.0,521500.0,271300.0,922900.0,527500.0,236000.0,127600.0,306700.0,1300000.0,433400.0,248700.0,828600.0,354700.0,489400.0,299000.0,3100000.0,3700000.0,2200000.0,204500.0,690500.0,492600.0,310900.0,955800.0,586500.0,175500.0,2400000.0,596600.0,421000.0,821800.0,369600.0,852400.0,995700.0,403200.0,418300.0,266800.0,265900.0,509600.0,284600.0,100800.0,1200000.0,1300000.0,2300000.0,455100.0,174400.0,533300.0,294200.0,368700.0,2300000.0,140600.0,133600.0,160800.0,1100000.0,372600.0,0.0,429500.0,158000.0,39700.0,912100.0,385300.0,2300000.0,106600.0,279500.0,0.0,507200.0,410500.0,465600.0,2900000.0,1200000.0,245000.0,221500.0,3500000.0,146200.0,525300.0,2.0,396300.0,418000.0,334500.0,2100000.0,554800.0,702700.0,2100000.0,593900.0,137400.0,384100.0,579500.0,583800.0,340600.0,0.15,482100.0,480700.0,309500.0,2200000.0,205100.0,708900.0,1700000.0,427000.0,80900.0,355200.0,240200.0,85800.0,157000.0,0.0,1200000.0,87800.0,2600000.0,1700000.0,0.26,579500.0,475600.0,585600.0,118500.0,43900.0,2700000.0,123900.0,259400.0,338300.0,791600.0,46700.0,340300.0,3700000.0,1400000.0,193500.0,665100.0,44600.0,830300.0,317400.0,0.19,117700.0,0.0,644400.0,18400.0,162600.0,822600.0,332400.0,6900000.0,0.0,96300.0,7100.0,818800.0,176600.0,86000.0,64800.0,370000.0,317100.0,230700.0,307200.0,89600.0,234500.0,293300.0,204000.0,327100.0,0.31,307300.0,505800.0,129000.0,0.0,114800.0,146800.0,592100.0,162400.0,383900.0,420800.0,1500000.0,144300.0,541200.0,164300.0,1200000.0,772800.0,26000.0,155100.0,82600.0,253400.0,1300000.0,307900.0,1300000.0,62.0,1000000.0,144500.0,1100000.0,353200.0,1900000.0,82300.0,67100.0,300600.0,1200000.0,329500.0,1300000.0,708000.0,139500.0,995800.0,157000.0,251100.0,111500.0,137400.0,281300.0,22900.0,218700.0,109100.0,825800.0,448600.0,128500.0,132400.0,315300.0,137100.0,177600.0,462100.0,267000.0,1900000.0,597100.0,65900.0,339000.0,393600.0,399600.0,263300.0,544100.0,128100.0,454400.0,53800.0,99000.0,83400.0,770200.0,674300.0,351600.0,114.0,1200000.0,2.0,801400.0,337200.0,192300.0,409200.0,494700.0,179700.0,72200.0,557900.0,215600.0,77200.0,425500.0,259300.0,1000000.0,264700.0,168700.0,270000.0,272700.0,503700.0,405100.0,417400.0,98700.0,83900.0,240500.0,166100.0,503100.0,248400.0,110400.0,254600.0,1400000.0,1100000.0,196100.0,295000.0,173400.0,632700.0,317900.0,561000.0,149000.0,51700.0,130200.0,138200.0,286800.0,1500000.0,544900.0,2100000.0,254300.0,753000.0,340700.0,101600.0,125400.0,89200.0,307100.0,726600.0,938600.0,339200.0,847100.0,392200.0,359400.0,130700.0,169100.0,41600.0,148700.0,119300.0,7.0,114.0,679.0,223400.0,109000.0,238200.0,1000000.0,557100.0,122900.0,49200.0,277800.0,455100.0,329600.0,152000.0,417300.0,198800.0,145300.0,136900.0,1300000.0,4100.0,41700.0,10700.0,211200.0,637900.0,449400.0,1200.0,0.32,162900.0,133700.0,425100.0,1100000.0,179800.0,76800.0,0.44,1100000.0,528200.0,406700.0,37500.0,80300.0,451700.0,605000.0,4100000.0,400800.0,204200.0,320200.0,262900.0,100500.0,291900.0,132400.0,299000.0,251800.0,165400.0,79600.0,300200.0,236000.0,651300.0,263400.0,112900.0,1100000.0,66700.0,71700.0,142300.0,92000.0,45800.0,32300.0,133200.0,5.0,105900.0,225500.0,537700.0,1500000.0,329400.0,4000.0,686700.0,346400.0,1200000.0,0.01,131000.0,135300.0,270700.0,485700.0,566800.0,52400.0,212100.0,16200.0,958900.0,26300.0,193600.0,155500.0,358200.0,55600.0,0.74,103300.0,132000.0,82000.0,182000.0,188700.0,1.0,89600.0,0.0,91400.0,3200000.0,1100000.0,95400.0,36000.0,88100.0,273700.0,240700.0,227300.0,213400.0,162000.0,686900.0,641200.0,232400.0,1400.0,509900.0,131600.0,982800.0,176500.0,17900.0,339400.0,333800.0,175600.0,347600.0,707100.0,1000000.0,540100.0,641100.0,2700000.0,72100.0,247900.0,285500.0,92900.0,532800.0,148200.0,1700000.0,194200.0,11600.0,72000.0,108400000.0,64700000.0,94800000.0,87500000.0,2300000.0,27900000.0,38600000.0,34300000.0,23900000.0,79600000.0,8100000.0,8500000.0,28700000.0,81900000.0,22700000.0,20200000.0,12200000.0,57000000.0,6800000.0,5500000.0,20300000.0,29400000.0,11100000.0,22100000.0,12400000.0,12500000.0,5400000.0,24600000.0,9700000.0,39200000.0,25400000.0,7700000.0,12800000.0,3200000.0,7000000.0,14700000.0,11200000.0,15100000.0,5.0,1600000.0,11200000.0,6300000.0,2300000.0,64200000.0,6400000.0,8500000.0,17000000.0,14600000.0,55200000.0,7700000.0,32200000.0,8800000.0,8700000.0,6600000.0,4700000.0,11900000.0,3800000.0,2800000.0,26900000.0,12700000.0,6300000.0,78500000.0,2200000.0,76300.0,39100000.0,305.0,20000000.0,9900000.0,15400000.0,6800000.0,2400000.0,12800000.0,12100000.0,8400000.0,0.0,1000000.0,14500000.0,25600000.0,14000000.0,15900000.0,6100000.0,11500000.0,16100000.0,4900000.0,6200000.0,26300000.0,8600000.0,19400000.0,10100000.0,5600000.0,13100000.0,0.0,1200000.0,6500000.0,7500000.0,6100000.0,972600.0,15800000.0,17900000.0,22400000.0,2700000.0,80000000.0,38300000.0,5200000.0,5400000.0,7400000.0,1300000.0,15000000.0,11800000.0,172.0,0.0,9200000.0,9100000.0,1500000.0,22200000.0,7600000.0,6600000.0,5600000.0,4800000.0,1300000.0,0.0,14500000.0,5300000.0,10900000.0,13800000.0,32900000.0,8900000.0,7600000.0,8300000.0,4300000.0,14800000.0,8400000.0,3800000.0,2000000.0,4900000.0,20600000.0,6900000.0,4000000.0,13300000.0,5700000.0,7800000.0,4800000.0,50200000.0,58800000.0,34600000.0,3300000.0,11000000.0,7900000.0,5000000.0,15300000.0,9400000.0,2800000.0,39100000.0,9500000.0,6700000.0,13100000.0,5900000.0,13600000.0,15900000.0,6500000.0,6700000.0,4300000.0,4300000.0,8200000.0,4600000.0,1600000.0,19300000.0,20400000.0,36500000.0,7300000.0,2800000.0,8500000.0,4700000.0,5900000.0,36200000.0,2200000.0,2100000.0,2600000.0,17600000.0,6000000.0,0.0,6900000.0,2500000.0,635800.0,14600000.0,6200000.0,36300000.0,1700000.0,4500000.0,0.0,8100000.0,6600000.0,7500000.0,47100000.0,19200000.0,3900000.0,3500000.0,56300000.0,2300000.0,8400000.0,35.0,6300000.0,6700000.0,5400000.0,34100000.0,8900000.0,11200000.0,33000000.0,9500000.0,2200000.0,6100000.0,9300000.0,9300000.0,5400000.0,2.0,7700000.0,7700000.0,5000000.0,35000000.0,3300000.0,11300000.0,26900000.0,6800000.0,1300000.0,5700000.0,3800000.0,1400000.0,2500000.0,0.0,18400000.0,1400000.0,42000000.0,26500000.0,4.0,9300000.0,7600000.0,9400000.0,1900000.0,703000.0,43600000.0,2000000.0,4100000.0,5400000.0,12700000.0,746700.0,5400000.0,59800000.0,21700000.0,3100000.0,10600000.0,713400.0,13300000.0,5100000.0,3.0,1900000.0,0.0,10300000.0,294600.0,2600000.0,13200000.0,5300000.0,110600000.0,0.0,1500000.0,114300.0,13100000.0,2800000.0,1400000.0,1000000.0,5900000.0,5100000.0,3700000.0,4900000.0,1400000.0,3800000.0,4700000.0,3300000.0,5200000.0,5.0,4900000.0,8100000.0,2100000.0,0.0,1800000.0,2300000.0,9500000.0,2600000.0,6100000.0,6700000.0,23900000.0,2300000.0,8700000.0,2600000.0,18800000.0,12400000.0,415200.0,2500000.0,1300000.0,4100000.0,21500000.0,4900000.0,20700000.0,994.0,16600000.0,2300000.0,17800000.0,5700000.0,30700000.0,1300000.0,1100000.0,4800000.0,18900000.0,5300000.0,21100000.0,11300000.0,2200000.0,15900000.0,2500000.0,4000000.0,1800000.0,2200000.0,4500000.0,366100.0,3500000.0,1700000.0,13200000.0,7200000.0,2100000.0,2100000.0,5000000.0,2200000.0,2800000.0,7400000.0,4300000.0,29600000.0,9600000.0,1100000.0,5400000.0,6300000.0,6400000.0,4200000.0,8700000.0,2000000.0,7300000.0,861300.0,1600000.0,1300000.0,12300000.0,10800000.0,5600000.0,1800.0,19200000.0,37.0,12800000.0,5400000.0,3100000.0,6500000.0,7900000.0,2900000.0,1200000.0,8900000.0,3400000.0,1200000.0,6800000.0,4100000.0,16100000.0,4200000.0,2700000.0,4300000.0,4400000.0,8100000.0,6500000.0,6700000.0,1600000.0,1300000.0,3800000.0,2700000.0,8000000.0,4000000.0,1800000.0,4100000.0,22800000.0,17400000.0,3100000.0,4700000.0,2800000.0,10100000.0,5100000.0,9000000.0,2400000.0,827100.0,2100000.0,2200000.0,4600000.0,24600000.0,8700000.0,34200000.0,4100000.0,12000000.0,5500000.0,1600000.0,2000000.0,1400000.0,4900000.0,11600000.0,15000000.0,5400000.0,13600000.0,6300000.0,5800000.0,2100000.0,2700000.0,665200.0,2400000.0,1900000.0,119.0,1800.0,10900.0,3600000.0,1700000.0,3800000.0,16700000.0,8900000.0,2000000.0,787600.0,4400000.0,7300000.0,5300000.0,2400000.0,6700000.0,3200000.0,2300000.0,2200000.0,20100000.0,65700.0,666800.0,170700.0,3400000.0,10200000.0,7200000.0,19900.0,5.0,2600000.0,2100000.0,6800000.0,17700000.0,2900000.0,1200000.0,7.0,17000000.0,8500000.0,6500000.0,600100.0,1300000.0,7200000.0,9700000.0,65500000.0,6400000.0,3300000.0,5100000.0,4200000.0,1600000.0,4700000.0,2100000.0,4800000.0,4000000.0,2600000.0,1300000.0,4800000.0,3800000.0,10400000.0,4200000.0,1800000.0,18200000.0,1100000.0,1100000.0,2300000.0,1500000.0,733300.0,516700.0,2100000.0,78.0,1700000.0,3600000.0,8600000.0,23800000.0,5300000.0,64100.0,11000000.0,5500000.0,19100000.0,0.14,2100000.0,2200000.0,4300000.0,7800000.0,9100000.0,838500.0,3400000.0,258600.0,15300000.0,420900.0,3100000.0,2500000.0,5700000.0,888900.0,12.0,1700000.0,2100000.0,1300000.0,2900000.0,3000000.0,18.0,1400000.0,0.0,1500000.0,51900000.0,17700000.0,1500000.0,575700.0,1400000.0,4400000.0,3900000.0,3600000.0,3400000.0,2600000.0,11000000.0,10300000.0,3700000.0,22700.0,8200000.0,2100000.0,15700000.0,2800000.0,285700.0,5400000.0,5300000.0,2800000.0,5600000.0,11300000.0,16800000.0,8600000.0,10300000.0,43400000.0,1200000.0,4000000.0,4600000.0,1500000.0,8500000.0,2400000.0,26500000.0,3100000.0,185800.0,1200000.0],\"y0\":\" \",\"yaxis\":\"y\",\"type\":\"box\"}],                        {\"template\":{\"data\":{\"histogram2dcontour\":[{\"type\":\"histogram2dcontour\",\"colorbar\":{\"outlinewidth\":0,\"ticks\":\"\"},\"colorscale\":[[0.0,\"#0d0887\"],[0.1111111111111111,\"#46039f\"],[0.2222222222222222,\"#7201a8\"],[0.3333333333333333,\"#9c179e\"],[0.4444444444444444,\"#bd3786\"],[0.5555555555555556,\"#d8576b\"],[0.6666666666666666,\"#ed7953\"],[0.7777777777777778,\"#fb9f3a\"],[0.8888888888888888,\"#fdca26\"],[1.0,\"#f0f921\"]]}],\"choropleth\":[{\"type\":\"choropleth\",\"colorbar\":{\"outlinewidth\":0,\"ticks\":\"\"}}],\"histogram2d\":[{\"type\":\"histogram2d\",\"colorbar\":{\"outlinewidth\":0,\"ticks\":\"\"},\"colorscale\":[[0.0,\"#0d0887\"],[0.1111111111111111,\"#46039f\"],[0.2222222222222222,\"#7201a8\"],[0.3333333333333333,\"#9c179e\"],[0.4444444444444444,\"#bd3786\"],[0.5555555555555556,\"#d8576b\"],[0.6666666666666666,\"#ed7953\"],[0.7777777777777778,\"#fb9f3a\"],[0.8888888888888888,\"#fdca26\"],[1.0,\"#f0f921\"]]}],\"heatmap\":[{\"type\":\"heatmap\",\"colorbar\":{\"outlinewidth\":0,\"ticks\":\"\"},\"colorscale\":[[0.0,\"#0d0887\"],[0.1111111111111111,\"#46039f\"],[0.2222222222222222,\"#7201a8\"],[0.3333333333333333,\"#9c179e\"],[0.4444444444444444,\"#bd3786\"],[0.5555555555555556,\"#d8576b\"],[0.6666666666666666,\"#ed7953\"],[0.7777777777777778,\"#fb9f3a\"],[0.8888888888888888,\"#fdca26\"],[1.0,\"#f0f921\"]]}],\"heatmapgl\":[{\"type\":\"heatmapgl\",\"colorbar\":{\"outlinewidth\":0,\"ticks\":\"\"},\"colorscale\":[[0.0,\"#0d0887\"],[0.1111111111111111,\"#46039f\"],[0.2222222222222222,\"#7201a8\"],[0.3333333333333333,\"#9c179e\"],[0.4444444444444444,\"#bd3786\"],[0.5555555555555556,\"#d8576b\"],[0.6666666666666666,\"#ed7953\"],[0.7777777777777778,\"#fb9f3a\"],[0.8888888888888888,\"#fdca26\"],[1.0,\"#f0f921\"]]}],\"contourcarpet\":[{\"type\":\"contourcarpet\",\"colorbar\":{\"outlinewidth\":0,\"ticks\":\"\"}}],\"contour\":[{\"type\":\"contour\",\"colorbar\":{\"outlinewidth\":0,\"ticks\":\"\"},\"colorscale\":[[0.0,\"#0d0887\"],[0.1111111111111111,\"#46039f\"],[0.2222222222222222,\"#7201a8\"],[0.3333333333333333,\"#9c179e\"],[0.4444444444444444,\"#bd3786\"],[0.5555555555555556,\"#d8576b\"],[0.6666666666666666,\"#ed7953\"],[0.7777777777777778,\"#fb9f3a\"],[0.8888888888888888,\"#fdca26\"],[1.0,\"#f0f921\"]]}],\"surface\":[{\"type\":\"surface\",\"colorbar\":{\"outlinewidth\":0,\"ticks\":\"\"},\"colorscale\":[[0.0,\"#0d0887\"],[0.1111111111111111,\"#46039f\"],[0.2222222222222222,\"#7201a8\"],[0.3333333333333333,\"#9c179e\"],[0.4444444444444444,\"#bd3786\"],[0.5555555555555556,\"#d8576b\"],[0.6666666666666666,\"#ed7953\"],[0.7777777777777778,\"#fb9f3a\"],[0.8888888888888888,\"#fdca26\"],[1.0,\"#f0f921\"]]}],\"mesh3d\":[{\"type\":\"mesh3d\",\"colorbar\":{\"outlinewidth\":0,\"ticks\":\"\"}}],\"scatter\":[{\"fillpattern\":{\"fillmode\":\"overlay\",\"size\":10,\"solidity\":0.2},\"type\":\"scatter\"}],\"parcoords\":[{\"type\":\"parcoords\",\"line\":{\"colorbar\":{\"outlinewidth\":0,\"ticks\":\"\"}}}],\"scatterpolargl\":[{\"type\":\"scatterpolargl\",\"marker\":{\"colorbar\":{\"outlinewidth\":0,\"ticks\":\"\"}}}],\"bar\":[{\"error_x\":{\"color\":\"#2a3f5f\"},\"error_y\":{\"color\":\"#2a3f5f\"},\"marker\":{\"line\":{\"color\":\"#E5ECF6\",\"width\":0.5},\"pattern\":{\"fillmode\":\"overlay\",\"size\":10,\"solidity\":0.2}},\"type\":\"bar\"}],\"scattergeo\":[{\"type\":\"scattergeo\",\"marker\":{\"colorbar\":{\"outlinewidth\":0,\"ticks\":\"\"}}}],\"scatterpolar\":[{\"type\":\"scatterpolar\",\"marker\":{\"colorbar\":{\"outlinewidth\":0,\"ticks\":\"\"}}}],\"histogram\":[{\"marker\":{\"pattern\":{\"fillmode\":\"overlay\",\"size\":10,\"solidity\":0.2}},\"type\":\"histogram\"}],\"scattergl\":[{\"type\":\"scattergl\",\"marker\":{\"colorbar\":{\"outlinewidth\":0,\"ticks\":\"\"}}}],\"scatter3d\":[{\"type\":\"scatter3d\",\"line\":{\"colorbar\":{\"outlinewidth\":0,\"ticks\":\"\"}},\"marker\":{\"colorbar\":{\"outlinewidth\":0,\"ticks\":\"\"}}}],\"scattermapbox\":[{\"type\":\"scattermapbox\",\"marker\":{\"colorbar\":{\"outlinewidth\":0,\"ticks\":\"\"}}}],\"scatterternary\":[{\"type\":\"scatterternary\",\"marker\":{\"colorbar\":{\"outlinewidth\":0,\"ticks\":\"\"}}}],\"scattercarpet\":[{\"type\":\"scattercarpet\",\"marker\":{\"colorbar\":{\"outlinewidth\":0,\"ticks\":\"\"}}}],\"carpet\":[{\"aaxis\":{\"endlinecolor\":\"#2a3f5f\",\"gridcolor\":\"white\",\"linecolor\":\"white\",\"minorgridcolor\":\"white\",\"startlinecolor\":\"#2a3f5f\"},\"baxis\":{\"endlinecolor\":\"#2a3f5f\",\"gridcolor\":\"white\",\"linecolor\":\"white\",\"minorgridcolor\":\"white\",\"startlinecolor\":\"#2a3f5f\"},\"type\":\"carpet\"}],\"table\":[{\"cells\":{\"fill\":{\"color\":\"#EBF0F8\"},\"line\":{\"color\":\"white\"}},\"header\":{\"fill\":{\"color\":\"#C8D4E3\"},\"line\":{\"color\":\"white\"}},\"type\":\"table\"}],\"barpolar\":[{\"marker\":{\"line\":{\"color\":\"#E5ECF6\",\"width\":0.5},\"pattern\":{\"fillmode\":\"overlay\",\"size\":10,\"solidity\":0.2}},\"type\":\"barpolar\"}],\"pie\":[{\"automargin\":true,\"type\":\"pie\"}]},\"layout\":{\"autotypenumbers\":\"strict\",\"colorway\":[\"#636efa\",\"#EF553B\",\"#00cc96\",\"#ab63fa\",\"#FFA15A\",\"#19d3f3\",\"#FF6692\",\"#B6E880\",\"#FF97FF\",\"#FECB52\"],\"font\":{\"color\":\"#2a3f5f\"},\"hovermode\":\"closest\",\"hoverlabel\":{\"align\":\"left\"},\"paper_bgcolor\":\"white\",\"plot_bgcolor\":\"#E5ECF6\",\"polar\":{\"bgcolor\":\"#E5ECF6\",\"angularaxis\":{\"gridcolor\":\"white\",\"linecolor\":\"white\",\"ticks\":\"\"},\"radialaxis\":{\"gridcolor\":\"white\",\"linecolor\":\"white\",\"ticks\":\"\"}},\"ternary\":{\"bgcolor\":\"#E5ECF6\",\"aaxis\":{\"gridcolor\":\"white\",\"linecolor\":\"white\",\"ticks\":\"\"},\"baxis\":{\"gridcolor\":\"white\",\"linecolor\":\"white\",\"ticks\":\"\"},\"caxis\":{\"gridcolor\":\"white\",\"linecolor\":\"white\",\"ticks\":\"\"}},\"coloraxis\":{\"colorbar\":{\"outlinewidth\":0,\"ticks\":\"\"}},\"colorscale\":{\"sequential\":[[0.0,\"#0d0887\"],[0.1111111111111111,\"#46039f\"],[0.2222222222222222,\"#7201a8\"],[0.3333333333333333,\"#9c179e\"],[0.4444444444444444,\"#bd3786\"],[0.5555555555555556,\"#d8576b\"],[0.6666666666666666,\"#ed7953\"],[0.7777777777777778,\"#fb9f3a\"],[0.8888888888888888,\"#fdca26\"],[1.0,\"#f0f921\"]],\"sequentialminus\":[[0.0,\"#0d0887\"],[0.1111111111111111,\"#46039f\"],[0.2222222222222222,\"#7201a8\"],[0.3333333333333333,\"#9c179e\"],[0.4444444444444444,\"#bd3786\"],[0.5555555555555556,\"#d8576b\"],[0.6666666666666666,\"#ed7953\"],[0.7777777777777778,\"#fb9f3a\"],[0.8888888888888888,\"#fdca26\"],[1.0,\"#f0f921\"]],\"diverging\":[[0,\"#8e0152\"],[0.1,\"#c51b7d\"],[0.2,\"#de77ae\"],[0.3,\"#f1b6da\"],[0.4,\"#fde0ef\"],[0.5,\"#f7f7f7\"],[0.6,\"#e6f5d0\"],[0.7,\"#b8e186\"],[0.8,\"#7fbc41\"],[0.9,\"#4d9221\"],[1,\"#276419\"]]},\"xaxis\":{\"gridcolor\":\"white\",\"linecolor\":\"white\",\"ticks\":\"\",\"title\":{\"standoff\":15},\"zerolinecolor\":\"white\",\"automargin\":true,\"zerolinewidth\":2},\"yaxis\":{\"gridcolor\":\"white\",\"linecolor\":\"white\",\"ticks\":\"\",\"title\":{\"standoff\":15},\"zerolinecolor\":\"white\",\"automargin\":true,\"zerolinewidth\":2},\"scene\":{\"xaxis\":{\"backgroundcolor\":\"#E5ECF6\",\"gridcolor\":\"white\",\"linecolor\":\"white\",\"showbackground\":true,\"ticks\":\"\",\"zerolinecolor\":\"white\",\"gridwidth\":2},\"yaxis\":{\"backgroundcolor\":\"#E5ECF6\",\"gridcolor\":\"white\",\"linecolor\":\"white\",\"showbackground\":true,\"ticks\":\"\",\"zerolinecolor\":\"white\",\"gridwidth\":2},\"zaxis\":{\"backgroundcolor\":\"#E5ECF6\",\"gridcolor\":\"white\",\"linecolor\":\"white\",\"showbackground\":true,\"ticks\":\"\",\"zerolinecolor\":\"white\",\"gridwidth\":2}},\"shapedefaults\":{\"line\":{\"color\":\"#2a3f5f\"}},\"annotationdefaults\":{\"arrowcolor\":\"#2a3f5f\",\"arrowhead\":0,\"arrowwidth\":1},\"geo\":{\"bgcolor\":\"white\",\"landcolor\":\"#E5ECF6\",\"subunitcolor\":\"white\",\"showland\":true,\"showlakes\":true,\"lakecolor\":\"white\"},\"title\":{\"x\":0.05},\"mapbox\":{\"style\":\"light\"}}},\"xaxis\":{\"anchor\":\"y\",\"domain\":[0.0,1.0],\"title\":{\"text\":\"variable\"}},\"yaxis\":{\"anchor\":\"x\",\"domain\":[0.0,1.0],\"title\":{\"text\":\"value\"}},\"legend\":{\"tracegroupgap\":0},\"title\":{\"text\":\"Distribution of Earnings (in USD)\"},\"boxmode\":\"group\"},                        {\"responsive\": true}                    ).then(function(){\n",
       "                            \n",
       "var gd = document.getElementById('443df8f2-a873-42fa-a73f-bf39978a7bb5');\n",
       "var x = new MutationObserver(function (mutations, observer) {{\n",
       "        var display = window.getComputedStyle(gd).display;\n",
       "        if (!display || display === 'none') {{\n",
       "            console.log([gd, 'removed!']);\n",
       "            Plotly.purge(gd);\n",
       "            observer.disconnect();\n",
       "        }}\n",
       "}});\n",
       "\n",
       "// Listen for the removal of the full notebook cells\n",
       "var notebookContainer = gd.closest('#notebook-container');\n",
       "if (notebookContainer) {{\n",
       "    x.observe(notebookContainer, {childList: true});\n",
       "}}\n",
       "\n",
       "// Listen for the clearing of the current output cell\n",
       "var outputEl = gd.closest('.output');\n",
       "if (outputEl) {{\n",
       "    x.observe(outputEl, {childList: true});\n",
       "}}\n",
       "\n",
       "                        })                };                });            </script>        </div>"
      ]
     },
     "metadata": {},
     "output_type": "display_data"
    }
   ],
   "source": [
    "fig4 = px.box(earning_df, title='Distribution of Earnings (in USD)')\n",
    "fig4.show()"
   ]
  },
  {
   "cell_type": "code",
   "execution_count": 31,
   "id": "f7aaa55f",
   "metadata": {},
   "outputs": [
    {
     "data": {
      "image/png": "[encoded data removed]",
      "text/plain": [
       "<Figure size 640x480 with 1 Axes>"
      ]
     },
     "metadata": {},
     "output_type": "display_data"
    }
   ],
   "source": [
    "#avg subscriber by channel type\n",
    "\n",
    "df_cleaned.groupby('channel_type')['subscribers'].mean().sort_values(ascending=False).plot(kind='bar')\n",
    "plt.title('Avg subscribers by Channel Type')\n",
    "plt.ylabel('Avg subscribers')\n",
    "plt.xlabel('Channel Type')\n",
    "plt.show()"
   ]
  },
  {
   "cell_type": "code",
   "execution_count": 35,
   "id": "f2a2204b",
   "metadata": {},
   "outputs": [
    {
     "data": {
      "image/png": "[encoded data removed]",
      "text/plain": [
       "<Figure size 1000x600 with 1 Axes>"
      ]
     },
     "metadata": {},
     "output_type": "display_data"
    }
   ],
   "source": [
    "#Subs vs Highest yearly Earnings\n",
    "\n",
    "plt.figure(figsize=(10,6))\n",
    "sns.scatterplot(data=df_cleaned,\n",
    "               x='subscribers',\n",
    "               y = 'highest_yearly_earnings',\n",
    "               hue='category',\n",
    "               alpha = 0.7)\n",
    "\n",
    "plt.xscale('log')\n",
    "plt.yscale('log')\n",
    "plt.title('Subs vs Highest Yearly Earnings')\n",
    "plt.xlabel('Subscribers (log scale)')\n",
    "plt.ylabel('Highest Yearly Earnings (log scale)')\n",
    "plt.legend(bbox_to_anchor=(1.05,1), loc = 'upper left')\n",
    "plt.tight_layout()\n",
    "plt.show()"
   ]
  },
  {
   "cell_type": "code",
   "execution_count": 41,
   "id": "d71fe457",
   "metadata": {
    "scrolled": true
   },
   "outputs": [
    {
     "data": {
      "image/png": "[encoded data removed]",
      "text/plain": [
       "<Figure size 1200x400 with 1 Axes>"
      ]
     },
     "metadata": {},
     "output_type": "display_data"
    }
   ],
   "source": [
    "plt.figure(figsize = (12,4))\n",
    "sns.histplot(df_cleaned['subscribers_for_last_30_days'], bins=30, kde=True)\n",
    "plt.xlim(0,4000000)\n",
    "plt.xlabel('Distribution of Subscribers Gained in last 30 days')\n",
    "plt.ylabel('Frequency')\n",
    "plt.tight_layout()\n",
    "plt.show()"
   ]
  },
  {
   "cell_type": "code",
   "execution_count": null,
   "id": "117c0497",
   "metadata": {},
   "outputs": [],
   "source": []
  }
 ],
 "metadata": {
  "kernelspec": {
   "display_name": "Python 3 (ipykernel)",
   "language": "python",
   "name": "python3"
  },
  "language_info": {
   "codemirror_mode": {
    "name": "ipython",
    "version": 3
   },
   "file_extension": ".py",
   "mimetype": "text/x-python",
   "name": "python",
   "nbconvert_exporter": "python",
   "pygments_lexer": "ipython3",
   "version": "3.11.5"
  }
 },
 "nbformat": 4,
 "nbformat_minor": 5
}
